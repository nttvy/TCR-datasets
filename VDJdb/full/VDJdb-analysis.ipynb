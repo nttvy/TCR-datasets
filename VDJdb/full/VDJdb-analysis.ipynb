{
 "cells": [
  {
   "cell_type": "code",
   "execution_count": 1,
   "id": "4e41cb66",
   "metadata": {
    "scrolled": true
   },
   "outputs": [
    {
     "name": "stderr",
     "output_type": "stream",
     "text": [
      "Loading required package: ggplot2\n",
      "\n"
     ]
    },
    {
     "name": "stdout",
     "output_type": "stream",
     "text": [
      "|Function                      |Shortcut         |\n",
      "|:-----------------------------|:----------------|\n",
      "|alignAssign                   |Ctrl+Q           |\n",
      "|alignCursor                   |Ctrl+Shift+Q     |\n",
      "|toggle_subsection             |Ctrl+Y           |\n",
      "|toggle_subsubsection          |Ctrl+Shift+Y     |\n",
      "|insertFormals                 |Ctrl+Shift+Alt+I |\n",
      "|assignFormals                 |Ctrl+Shift+Alt+O |\n",
      "|fixCommas                     |Ctrl+Alt+Z       |\n",
      "|exposeAsArgument              |Ctrl+Alt+C       |\n",
      "|toggle_mclapply               |Ctrl+Shift+G     |\n",
      "|insert_debugonce              |Ctrl+Shift+Alt+G |\n",
      "|transform_subsection          |Ctrl+J           |\n",
      "|initiate_or_delete_subsection |Ctrl+Shift+J     |\n",
      "|renumber_sections             |Ctrl+Shift+R     |\n",
      "|insert_loopdebugger           |Ctrl+Shift+I     |\n",
      "|toggle_blabla                 |Ctrl+Alt+O       |\n",
      "|extract_importFrom            |Ctrl+Alt+I       |\n",
      "|refactor_functionCall         |Ctrl+Alt+U       |\n",
      "|insertHistory                 |Ctrl+Alt+H       |\n",
      "|insertDput                    |Ctrl+Shift+Alt+H |\n",
      "|clipr::clipr_result           |Ctrl+Shift+Alt+E |\n",
      "|asSnippet                     |Ctrl+Shift+Alt+S |\n",
      "|duplicateArgumments           |Ctrl+O           |\n",
      "|------------------------------|-----------------|\n",
      "|                        Lvl=22|           Lvl=22|\n",
      "Error in getSnippetPath() : Snippet file cannot be found\n"
     ]
    },
    {
     "name": "stderr",
     "output_type": "stream",
     "text": [
      "Loading required package: grid\n",
      "\n",
      "Loading required package: futile.logger\n",
      "\n"
     ]
    }
   ],
   "source": [
    "library(data.table)\n",
    "library(conveniencefunctions)\n",
    "library(VennDiagram)"
   ]
  },
  {
   "cell_type": "markdown",
   "id": "da0a7562",
   "metadata": {},
   "source": [
    "# Load data and check for exceptions"
   ]
  },
  {
   "cell_type": "code",
   "execution_count": 2,
   "id": "87b98e52",
   "metadata": {},
   "outputs": [
    {
     "data": {
      "text/html": [
       "<style>\n",
       ".list-inline {list-style: none; margin:0; padding: 0}\n",
       ".list-inline>li {display: inline-block}\n",
       ".list-inline>li:not(:last-child)::after {content: \"\\00b7\"; padding: 0 .5ex}\n",
       "</style>\n",
       "<ol class=list-inline><li>73911</li><li>17</li></ol>\n"
      ],
      "text/latex": [
       "\\begin{enumerate*}\n",
       "\\item 73911\n",
       "\\item 17\n",
       "\\end{enumerate*}\n"
      ],
      "text/markdown": [
       "1. 73911\n",
       "2. 17\n",
       "\n",
       "\n"
      ],
      "text/plain": [
       "[1] 73911    17"
      ]
     },
     "metadata": {},
     "output_type": "display_data"
    },
    {
     "data": {
      "text/html": [
       "<table class=\"dataframe\">\n",
       "<caption>A data.frame: 6 × 17</caption>\n",
       "<thead>\n",
       "\t<tr><th></th><th scope=col>complex.id</th><th scope=col>Gene</th><th scope=col>CDR3</th><th scope=col>V</th><th scope=col>J</th><th scope=col>Species</th><th scope=col>MHC A</th><th scope=col>MHC B</th><th scope=col>MHC class</th><th scope=col>Epitope</th><th scope=col>Epitope gene</th><th scope=col>Epitope species</th><th scope=col>Reference</th><th scope=col>Method</th><th scope=col>Meta</th><th scope=col>CDR3fix</th><th scope=col>Score</th></tr>\n",
       "\t<tr><th></th><th scope=col>&lt;int&gt;</th><th scope=col>&lt;chr&gt;</th><th scope=col>&lt;chr&gt;</th><th scope=col>&lt;chr&gt;</th><th scope=col>&lt;chr&gt;</th><th scope=col>&lt;chr&gt;</th><th scope=col>&lt;chr&gt;</th><th scope=col>&lt;chr&gt;</th><th scope=col>&lt;chr&gt;</th><th scope=col>&lt;chr&gt;</th><th scope=col>&lt;chr&gt;</th><th scope=col>&lt;chr&gt;</th><th scope=col>&lt;chr&gt;</th><th scope=col>&lt;chr&gt;</th><th scope=col>&lt;chr&gt;</th><th scope=col>&lt;chr&gt;</th><th scope=col>&lt;int&gt;</th></tr>\n",
       "</thead>\n",
       "<tbody>\n",
       "\t<tr><th scope=row>1</th><td>1</td><td>TRB</td><td>CASSYLPGQGDHYSNQPQHF</td><td>TRBV13*01</td><td>TRBJ1-5*01</td><td>HomoSapiens</td><td>HLA-B*08</td><td>B2M</td><td>MHCI</td><td>FLKEKGGL</td><td>Nef</td><td>HIV-1</td><td>PMID:15596521</td><td>{\"frequency\": \"\", \"identification\": \"tetramer-sort\", \"sequencing\": \"sanger\", \"singlecell\": \"\", \"verification\": \"antigen-loaded-targets\"}</td><td>{\"cell.subset\": \"CD8+\", \"clone.id\": \"\", \"donor.MHC\": \"HLA-A*02:01,HLA-A*24:02;HLA-B*08:01,HLA-B*5701;HLA-Cw*06:02,HLA-Cw*07:01;HLA-DRB*07:01,HLA-DRB*13:01\", \"donor.MHC.method\": \"\", \"epitope.id\": \"\", \"replica.id\": \"\", \"samples.found\": 1, \"structure.id\": \"\", \"studies.found\": 1, \"study.id\": \"\", \"subject.cohort\": \"HIV+\", \"subject.id\": \"005\", \"tissue\": \"PBMC\"}       </td><td>{\"cdr3\": \"CASSYLPGQGDHYSNQPQHF\", \"cdr3_old\": \"CASSYLPGQGDHYSNQPQH\", \"fixNeeded\": true, \"good\": true, \"jCanonical\": true, \"jFixType\": \"Realign\", \"jId\": \"TRBJ1-5*01\", \"jStart\": 13, \"oldJFixType\": \"FixAdd\", \"oldJStart\": 14, \"vCanonical\": true, \"vEnd\": 4, \"vFixType\": \"NoFixNeeded\", \"vId\": \"TRBV13*01\"}</td><td>2</td></tr>\n",
       "\t<tr><th scope=row>2</th><td>0</td><td>TRB</td><td>CASSFEAGQGFFSNQPQHF </td><td>TRBV13*01</td><td>TRBJ1-5*01</td><td>HomoSapiens</td><td>HLA-B*08</td><td>B2M</td><td>MHCI</td><td>FLKEKGGL</td><td>Nef</td><td>HIV-1</td><td>PMID:15596521</td><td>{\"frequency\": \"\", \"identification\": \"tetramer-sort\", \"sequencing\": \"sanger\", \"singlecell\": \"\", \"verification\": \"antigen-loaded-targets\"}</td><td>{\"cell.subset\": \"CD8+\", \"clone.id\": \"\", \"donor.MHC\": \"HLA-A*01:01,HLA-A*02:01;HLA-B*08:01,HLA-B*57:01;HLA-Cw*06:02,HLA-Cw*07:01;HLA-DRB*08:03:2,HLA-DRB*15:01:1\", \"donor.MHC.method\": \"\", \"epitope.id\": \"\", \"replica.id\": \"\", \"samples.found\": 1, \"structure.id\": \"\", \"studies.found\": 1, \"study.id\": \"\", \"subject.cohort\": \"HIV+\", \"subject.id\": \"065\", \"tissue\": \"PBMC\"}  </td><td>{\"cdr3\": \"CASSFEAGQGFFSNQPQHF\", \"cdr3_old\": \"CASSFEAGQGFFSNQPQH\", \"fixNeeded\": true, \"good\": true, \"jCanonical\": true, \"jFixType\": \"Realign\", \"jId\": \"TRBJ1-5*01\", \"jStart\": 12, \"oldJFixType\": \"FixAdd\", \"oldJStart\": 13, \"vCanonical\": true, \"vEnd\": 4, \"vFixType\": \"NoFixNeeded\", \"vId\": \"TRBV13*01\"}  </td><td>2</td></tr>\n",
       "\t<tr><th scope=row>3</th><td>2</td><td>TRB</td><td>CASSFEPGQGFYSNQPQHF </td><td>TRBV13*01</td><td>TRBJ1-5*01</td><td>HomoSapiens</td><td>HLA-B*08</td><td>B2M</td><td>MHCI</td><td>FLKEKGGL</td><td>Nef</td><td>HIV-1</td><td>PMID:15596521</td><td>{\"frequency\": \"\", \"identification\": \"tetramer-sort\", \"sequencing\": \"sanger\", \"singlecell\": \"\", \"verification\": \"antigen-loaded-targets\"}</td><td>{\"cell.subset\": \"CD8+\", \"clone.id\": \"\", \"donor.MHC\": \"HLA-A*02,HLA-A*24:02;HLA-B*08:01,HLA-B*15;HLA-Cw*07,HLA-Cw*12;HLA-DRB*13:01,HLA-DRB*03:01\", \"donor.MHC.method\": \"\", \"epitope.id\": \"\", \"replica.id\": \"\", \"samples.found\": 1, \"structure.id\": \"\", \"studies.found\": 1, \"study.id\": \"\", \"subject.cohort\": \"HIV+\", \"subject.id\": \"200\", \"tissue\": \"PBMC\"}                  </td><td>{\"cdr3\": \"CASSFEPGQGFYSNQPQHF\", \"cdr3_old\": \"CASSFEPGQGFYSNQPQH\", \"fixNeeded\": true, \"good\": true, \"jCanonical\": true, \"jFixType\": \"Realign\", \"jId\": \"TRBJ1-5*01\", \"jStart\": 12, \"oldJFixType\": \"FixAdd\", \"oldJStart\": 13, \"vCanonical\": true, \"vEnd\": 4, \"vFixType\": \"NoFixNeeded\", \"vId\": \"TRBV13*01\"}  </td><td>2</td></tr>\n",
       "\t<tr><th scope=row>4</th><td>3</td><td>TRB</td><td>CASSYEPGQVSHYSNQPQHF</td><td>TRBV13*01</td><td>TRBJ1-5*01</td><td>HomoSapiens</td><td>HLA-B*08</td><td>B2M</td><td>MHCI</td><td>FLKEKGGL</td><td>Nef</td><td>HIV-1</td><td>PMID:15596521</td><td>{\"frequency\": \"\", \"identification\": \"tetramer-sort\", \"sequencing\": \"sanger\", \"singlecell\": \"\", \"verification\": \"antigen-loaded-targets\"}</td><td>{\"cell.subset\": \"CD8+\", \"clone.id\": \"\", \"donor.MHC\": \"HLA-A*01:01,HLA-A*02:01;HLA-B*08:01,HLA-B*57:01;HLA-Cw*06:02,HLA-Cw*07:01;HLA-DRB*08:03:2,HLA-DRB*15:01:1\", \"donor.MHC.method\": \"\", \"epitope.id\": \"\", \"replica.id\": \"\", \"samples.found\": 1, \"structure.id\": \"\", \"studies.found\": 1, \"study.id\": \"\", \"subject.cohort\": \"HIV+\", \"subject.id\": \"046\", \"tissue\": \"PBMC\"}  </td><td>{\"cdr3\": \"CASSYEPGQVSHYSNQPQHF\", \"cdr3_old\": \"CASSYEPGQVSHYSNQPQH\", \"fixNeeded\": true, \"good\": true, \"jCanonical\": true, \"jFixType\": \"Realign\", \"jId\": \"TRBJ1-5*01\", \"jStart\": 13, \"oldJFixType\": \"FixAdd\", \"oldJStart\": 14, \"vCanonical\": true, \"vEnd\": 4, \"vFixType\": \"NoFixNeeded\", \"vId\": \"TRBV13*01\"}</td><td>2</td></tr>\n",
       "\t<tr><th scope=row>5</th><td>4</td><td>TRB</td><td>CASSALASLNEQFF      </td><td>TRBV14*01</td><td>TRBJ2-1*01</td><td>HomoSapiens</td><td>HLA-B*08</td><td>B2M</td><td>MHCI</td><td>FLKEKGGL</td><td>Nef</td><td>HIV-1</td><td>PMID:15596521</td><td>{\"frequency\": \"\", \"identification\": \"tetramer-sort\", \"sequencing\": \"sanger\", \"singlecell\": \"\", \"verification\": \"antigen-loaded-targets\"}</td><td>{\"cell.subset\": \"CD8+\", \"clone.id\": \"\", \"donor.MHC\": \"HLA-A*01:01,HLA-A*02:01;HLA-B*08:01,HLA-B*57:01;HLA-Cw*06:02,HLA-Cw*07:01;HLA-DRB*08:03:2,HLA-DRB*15:01:1\", \"donor.MHC.method\": \"\", \"epitope.id\": \"\", \"replica.id\": \"\", \"samples.found\": 1, \"structure.id\": \"\", \"studies.found\": 1, \"study.id\": \"\", \"subject.cohort\": \"HIV+\", \"subject.id\": \"046\", \"tissue\": \"PBMC\"}  </td><td>{\"cdr3\": \"CASSALASLNEQFF\", \"cdr3_old\": \"CASSALASLNEQF\", \"fixNeeded\": true, \"good\": true, \"jCanonical\": true, \"jFixType\": \"Realign\", \"jId\": \"TRBJ2-1*01\", \"jStart\": 9, \"oldJFixType\": \"FixAdd\", \"oldJStart\": 10, \"vCanonical\": true, \"vEnd\": 4, \"vFixType\": \"NoFixNeeded\", \"vId\": \"TRBV14*01\"}             </td><td>2</td></tr>\n",
       "\t<tr><th scope=row>6</th><td>5</td><td>TRB</td><td>CASSYLPGQGDHYSNQPQHF</td><td>TRBV13*01</td><td>TRBJ1-5*01</td><td>HomoSapiens</td><td>HLA-B*08</td><td>B2M</td><td>MHCI</td><td>FLKEQGGL</td><td>Nef</td><td>HIV-1</td><td>PMID:15596521</td><td>{\"frequency\": \"\", \"identification\": \"tetramer-sort\", \"sequencing\": \"sanger\", \"singlecell\": \"\", \"verification\": \"antigen-loaded-targets\"}</td><td>{\"cell.subset\": \"CD8+\", \"clone.id\": \"\", \"donor.MHC\": \"HLA-A*02:01,HLA-A*24:02;HLA-B*08:01,HLA-B*5701;HLA-Cw*06:02,HLA-Cw*07:01;HLA-DRB*07:01,HLA-DRB*13:01\", \"donor.MHC.method\": \"\", \"epitope.id\": \"\", \"replica.id\": \"\", \"samples.found\": 1, \"structure.id\": \"\", \"studies.found\": 1, \"study.id\": \"\", \"subject.cohort\": \"HIV+\", \"subject.id\": \"005\", \"tissue\": \"TCL culture\"}</td><td>{\"cdr3\": \"CASSYLPGQGDHYSNQPQHF\", \"cdr3_old\": \"CASSYLPGQGDHYSNQPQH\", \"fixNeeded\": true, \"good\": true, \"jCanonical\": true, \"jFixType\": \"Realign\", \"jId\": \"TRBJ1-5*01\", \"jStart\": 13, \"oldJFixType\": \"FixAdd\", \"oldJStart\": 14, \"vCanonical\": true, \"vEnd\": 4, \"vFixType\": \"NoFixNeeded\", \"vId\": \"TRBV13*01\"}</td><td>2</td></tr>\n",
       "</tbody>\n",
       "</table>\n"
      ],
      "text/latex": [
       "A data.frame: 6 × 17\n",
       "\\begin{tabular}{r|lllllllllllllllll}\n",
       "  & complex.id & Gene & CDR3 & V & J & Species & MHC A & MHC B & MHC class & Epitope & Epitope gene & Epitope species & Reference & Method & Meta & CDR3fix & Score\\\\\n",
       "  & <int> & <chr> & <chr> & <chr> & <chr> & <chr> & <chr> & <chr> & <chr> & <chr> & <chr> & <chr> & <chr> & <chr> & <chr> & <chr> & <int>\\\\\n",
       "\\hline\n",
       "\t1 & 1 & TRB & CASSYLPGQGDHYSNQPQHF & TRBV13*01 & TRBJ1-5*01 & HomoSapiens & HLA-B*08 & B2M & MHCI & FLKEKGGL & Nef & HIV-1 & PMID:15596521 & \\{\"frequency\": \"\", \"identification\": \"tetramer-sort\", \"sequencing\": \"sanger\", \"singlecell\": \"\", \"verification\": \"antigen-loaded-targets\"\\} & \\{\"cell.subset\": \"CD8+\", \"clone.id\": \"\", \"donor.MHC\": \"HLA-A*02:01,HLA-A*24:02;HLA-B*08:01,HLA-B*5701;HLA-Cw*06:02,HLA-Cw*07:01;HLA-DRB*07:01,HLA-DRB*13:01\", \"donor.MHC.method\": \"\", \"epitope.id\": \"\", \"replica.id\": \"\", \"samples.found\": 1, \"structure.id\": \"\", \"studies.found\": 1, \"study.id\": \"\", \"subject.cohort\": \"HIV+\", \"subject.id\": \"005\", \"tissue\": \"PBMC\"\\}        & \\{\"cdr3\": \"CASSYLPGQGDHYSNQPQHF\", \"cdr3\\_old\": \"CASSYLPGQGDHYSNQPQH\", \"fixNeeded\": true, \"good\": true, \"jCanonical\": true, \"jFixType\": \"Realign\", \"jId\": \"TRBJ1-5*01\", \"jStart\": 13, \"oldJFixType\": \"FixAdd\", \"oldJStart\": 14, \"vCanonical\": true, \"vEnd\": 4, \"vFixType\": \"NoFixNeeded\", \"vId\": \"TRBV13*01\"\\} & 2\\\\\n",
       "\t2 & 0 & TRB & CASSFEAGQGFFSNQPQHF  & TRBV13*01 & TRBJ1-5*01 & HomoSapiens & HLA-B*08 & B2M & MHCI & FLKEKGGL & Nef & HIV-1 & PMID:15596521 & \\{\"frequency\": \"\", \"identification\": \"tetramer-sort\", \"sequencing\": \"sanger\", \"singlecell\": \"\", \"verification\": \"antigen-loaded-targets\"\\} & \\{\"cell.subset\": \"CD8+\", \"clone.id\": \"\", \"donor.MHC\": \"HLA-A*01:01,HLA-A*02:01;HLA-B*08:01,HLA-B*57:01;HLA-Cw*06:02,HLA-Cw*07:01;HLA-DRB*08:03:2,HLA-DRB*15:01:1\", \"donor.MHC.method\": \"\", \"epitope.id\": \"\", \"replica.id\": \"\", \"samples.found\": 1, \"structure.id\": \"\", \"studies.found\": 1, \"study.id\": \"\", \"subject.cohort\": \"HIV+\", \"subject.id\": \"065\", \"tissue\": \"PBMC\"\\}   & \\{\"cdr3\": \"CASSFEAGQGFFSNQPQHF\", \"cdr3\\_old\": \"CASSFEAGQGFFSNQPQH\", \"fixNeeded\": true, \"good\": true, \"jCanonical\": true, \"jFixType\": \"Realign\", \"jId\": \"TRBJ1-5*01\", \"jStart\": 12, \"oldJFixType\": \"FixAdd\", \"oldJStart\": 13, \"vCanonical\": true, \"vEnd\": 4, \"vFixType\": \"NoFixNeeded\", \"vId\": \"TRBV13*01\"\\}   & 2\\\\\n",
       "\t3 & 2 & TRB & CASSFEPGQGFYSNQPQHF  & TRBV13*01 & TRBJ1-5*01 & HomoSapiens & HLA-B*08 & B2M & MHCI & FLKEKGGL & Nef & HIV-1 & PMID:15596521 & \\{\"frequency\": \"\", \"identification\": \"tetramer-sort\", \"sequencing\": \"sanger\", \"singlecell\": \"\", \"verification\": \"antigen-loaded-targets\"\\} & \\{\"cell.subset\": \"CD8+\", \"clone.id\": \"\", \"donor.MHC\": \"HLA-A*02,HLA-A*24:02;HLA-B*08:01,HLA-B*15;HLA-Cw*07,HLA-Cw*12;HLA-DRB*13:01,HLA-DRB*03:01\", \"donor.MHC.method\": \"\", \"epitope.id\": \"\", \"replica.id\": \"\", \"samples.found\": 1, \"structure.id\": \"\", \"studies.found\": 1, \"study.id\": \"\", \"subject.cohort\": \"HIV+\", \"subject.id\": \"200\", \"tissue\": \"PBMC\"\\}                   & \\{\"cdr3\": \"CASSFEPGQGFYSNQPQHF\", \"cdr3\\_old\": \"CASSFEPGQGFYSNQPQH\", \"fixNeeded\": true, \"good\": true, \"jCanonical\": true, \"jFixType\": \"Realign\", \"jId\": \"TRBJ1-5*01\", \"jStart\": 12, \"oldJFixType\": \"FixAdd\", \"oldJStart\": 13, \"vCanonical\": true, \"vEnd\": 4, \"vFixType\": \"NoFixNeeded\", \"vId\": \"TRBV13*01\"\\}   & 2\\\\\n",
       "\t4 & 3 & TRB & CASSYEPGQVSHYSNQPQHF & TRBV13*01 & TRBJ1-5*01 & HomoSapiens & HLA-B*08 & B2M & MHCI & FLKEKGGL & Nef & HIV-1 & PMID:15596521 & \\{\"frequency\": \"\", \"identification\": \"tetramer-sort\", \"sequencing\": \"sanger\", \"singlecell\": \"\", \"verification\": \"antigen-loaded-targets\"\\} & \\{\"cell.subset\": \"CD8+\", \"clone.id\": \"\", \"donor.MHC\": \"HLA-A*01:01,HLA-A*02:01;HLA-B*08:01,HLA-B*57:01;HLA-Cw*06:02,HLA-Cw*07:01;HLA-DRB*08:03:2,HLA-DRB*15:01:1\", \"donor.MHC.method\": \"\", \"epitope.id\": \"\", \"replica.id\": \"\", \"samples.found\": 1, \"structure.id\": \"\", \"studies.found\": 1, \"study.id\": \"\", \"subject.cohort\": \"HIV+\", \"subject.id\": \"046\", \"tissue\": \"PBMC\"\\}   & \\{\"cdr3\": \"CASSYEPGQVSHYSNQPQHF\", \"cdr3\\_old\": \"CASSYEPGQVSHYSNQPQH\", \"fixNeeded\": true, \"good\": true, \"jCanonical\": true, \"jFixType\": \"Realign\", \"jId\": \"TRBJ1-5*01\", \"jStart\": 13, \"oldJFixType\": \"FixAdd\", \"oldJStart\": 14, \"vCanonical\": true, \"vEnd\": 4, \"vFixType\": \"NoFixNeeded\", \"vId\": \"TRBV13*01\"\\} & 2\\\\\n",
       "\t5 & 4 & TRB & CASSALASLNEQFF       & TRBV14*01 & TRBJ2-1*01 & HomoSapiens & HLA-B*08 & B2M & MHCI & FLKEKGGL & Nef & HIV-1 & PMID:15596521 & \\{\"frequency\": \"\", \"identification\": \"tetramer-sort\", \"sequencing\": \"sanger\", \"singlecell\": \"\", \"verification\": \"antigen-loaded-targets\"\\} & \\{\"cell.subset\": \"CD8+\", \"clone.id\": \"\", \"donor.MHC\": \"HLA-A*01:01,HLA-A*02:01;HLA-B*08:01,HLA-B*57:01;HLA-Cw*06:02,HLA-Cw*07:01;HLA-DRB*08:03:2,HLA-DRB*15:01:1\", \"donor.MHC.method\": \"\", \"epitope.id\": \"\", \"replica.id\": \"\", \"samples.found\": 1, \"structure.id\": \"\", \"studies.found\": 1, \"study.id\": \"\", \"subject.cohort\": \"HIV+\", \"subject.id\": \"046\", \"tissue\": \"PBMC\"\\}   & \\{\"cdr3\": \"CASSALASLNEQFF\", \"cdr3\\_old\": \"CASSALASLNEQF\", \"fixNeeded\": true, \"good\": true, \"jCanonical\": true, \"jFixType\": \"Realign\", \"jId\": \"TRBJ2-1*01\", \"jStart\": 9, \"oldJFixType\": \"FixAdd\", \"oldJStart\": 10, \"vCanonical\": true, \"vEnd\": 4, \"vFixType\": \"NoFixNeeded\", \"vId\": \"TRBV14*01\"\\}              & 2\\\\\n",
       "\t6 & 5 & TRB & CASSYLPGQGDHYSNQPQHF & TRBV13*01 & TRBJ1-5*01 & HomoSapiens & HLA-B*08 & B2M & MHCI & FLKEQGGL & Nef & HIV-1 & PMID:15596521 & \\{\"frequency\": \"\", \"identification\": \"tetramer-sort\", \"sequencing\": \"sanger\", \"singlecell\": \"\", \"verification\": \"antigen-loaded-targets\"\\} & \\{\"cell.subset\": \"CD8+\", \"clone.id\": \"\", \"donor.MHC\": \"HLA-A*02:01,HLA-A*24:02;HLA-B*08:01,HLA-B*5701;HLA-Cw*06:02,HLA-Cw*07:01;HLA-DRB*07:01,HLA-DRB*13:01\", \"donor.MHC.method\": \"\", \"epitope.id\": \"\", \"replica.id\": \"\", \"samples.found\": 1, \"structure.id\": \"\", \"studies.found\": 1, \"study.id\": \"\", \"subject.cohort\": \"HIV+\", \"subject.id\": \"005\", \"tissue\": \"TCL culture\"\\} & \\{\"cdr3\": \"CASSYLPGQGDHYSNQPQHF\", \"cdr3\\_old\": \"CASSYLPGQGDHYSNQPQH\", \"fixNeeded\": true, \"good\": true, \"jCanonical\": true, \"jFixType\": \"Realign\", \"jId\": \"TRBJ1-5*01\", \"jStart\": 13, \"oldJFixType\": \"FixAdd\", \"oldJStart\": 14, \"vCanonical\": true, \"vEnd\": 4, \"vFixType\": \"NoFixNeeded\", \"vId\": \"TRBV13*01\"\\} & 2\\\\\n",
       "\\end{tabular}\n"
      ],
      "text/markdown": [
       "\n",
       "A data.frame: 6 × 17\n",
       "\n",
       "| <!--/--> | complex.id &lt;int&gt; | Gene &lt;chr&gt; | CDR3 &lt;chr&gt; | V &lt;chr&gt; | J &lt;chr&gt; | Species &lt;chr&gt; | MHC A &lt;chr&gt; | MHC B &lt;chr&gt; | MHC class &lt;chr&gt; | Epitope &lt;chr&gt; | Epitope gene &lt;chr&gt; | Epitope species &lt;chr&gt; | Reference &lt;chr&gt; | Method &lt;chr&gt; | Meta &lt;chr&gt; | CDR3fix &lt;chr&gt; | Score &lt;int&gt; |\n",
       "|---|---|---|---|---|---|---|---|---|---|---|---|---|---|---|---|---|---|\n",
       "| 1 | 1 | TRB | CASSYLPGQGDHYSNQPQHF | TRBV13*01 | TRBJ1-5*01 | HomoSapiens | HLA-B*08 | B2M | MHCI | FLKEKGGL | Nef | HIV-1 | PMID:15596521 | {\"frequency\": \"\", \"identification\": \"tetramer-sort\", \"sequencing\": \"sanger\", \"singlecell\": \"\", \"verification\": \"antigen-loaded-targets\"} | {\"cell.subset\": \"CD8+\", \"clone.id\": \"\", \"donor.MHC\": \"HLA-A*02:01,HLA-A*24:02;HLA-B*08:01,HLA-B*5701;HLA-Cw*06:02,HLA-Cw*07:01;HLA-DRB*07:01,HLA-DRB*13:01\", \"donor.MHC.method\": \"\", \"epitope.id\": \"\", \"replica.id\": \"\", \"samples.found\": 1, \"structure.id\": \"\", \"studies.found\": 1, \"study.id\": \"\", \"subject.cohort\": \"HIV+\", \"subject.id\": \"005\", \"tissue\": \"PBMC\"}        | {\"cdr3\": \"CASSYLPGQGDHYSNQPQHF\", \"cdr3_old\": \"CASSYLPGQGDHYSNQPQH\", \"fixNeeded\": true, \"good\": true, \"jCanonical\": true, \"jFixType\": \"Realign\", \"jId\": \"TRBJ1-5*01\", \"jStart\": 13, \"oldJFixType\": \"FixAdd\", \"oldJStart\": 14, \"vCanonical\": true, \"vEnd\": 4, \"vFixType\": \"NoFixNeeded\", \"vId\": \"TRBV13*01\"} | 2 |\n",
       "| 2 | 0 | TRB | CASSFEAGQGFFSNQPQHF  | TRBV13*01 | TRBJ1-5*01 | HomoSapiens | HLA-B*08 | B2M | MHCI | FLKEKGGL | Nef | HIV-1 | PMID:15596521 | {\"frequency\": \"\", \"identification\": \"tetramer-sort\", \"sequencing\": \"sanger\", \"singlecell\": \"\", \"verification\": \"antigen-loaded-targets\"} | {\"cell.subset\": \"CD8+\", \"clone.id\": \"\", \"donor.MHC\": \"HLA-A*01:01,HLA-A*02:01;HLA-B*08:01,HLA-B*57:01;HLA-Cw*06:02,HLA-Cw*07:01;HLA-DRB*08:03:2,HLA-DRB*15:01:1\", \"donor.MHC.method\": \"\", \"epitope.id\": \"\", \"replica.id\": \"\", \"samples.found\": 1, \"structure.id\": \"\", \"studies.found\": 1, \"study.id\": \"\", \"subject.cohort\": \"HIV+\", \"subject.id\": \"065\", \"tissue\": \"PBMC\"}   | {\"cdr3\": \"CASSFEAGQGFFSNQPQHF\", \"cdr3_old\": \"CASSFEAGQGFFSNQPQH\", \"fixNeeded\": true, \"good\": true, \"jCanonical\": true, \"jFixType\": \"Realign\", \"jId\": \"TRBJ1-5*01\", \"jStart\": 12, \"oldJFixType\": \"FixAdd\", \"oldJStart\": 13, \"vCanonical\": true, \"vEnd\": 4, \"vFixType\": \"NoFixNeeded\", \"vId\": \"TRBV13*01\"}   | 2 |\n",
       "| 3 | 2 | TRB | CASSFEPGQGFYSNQPQHF  | TRBV13*01 | TRBJ1-5*01 | HomoSapiens | HLA-B*08 | B2M | MHCI | FLKEKGGL | Nef | HIV-1 | PMID:15596521 | {\"frequency\": \"\", \"identification\": \"tetramer-sort\", \"sequencing\": \"sanger\", \"singlecell\": \"\", \"verification\": \"antigen-loaded-targets\"} | {\"cell.subset\": \"CD8+\", \"clone.id\": \"\", \"donor.MHC\": \"HLA-A*02,HLA-A*24:02;HLA-B*08:01,HLA-B*15;HLA-Cw*07,HLA-Cw*12;HLA-DRB*13:01,HLA-DRB*03:01\", \"donor.MHC.method\": \"\", \"epitope.id\": \"\", \"replica.id\": \"\", \"samples.found\": 1, \"structure.id\": \"\", \"studies.found\": 1, \"study.id\": \"\", \"subject.cohort\": \"HIV+\", \"subject.id\": \"200\", \"tissue\": \"PBMC\"}                   | {\"cdr3\": \"CASSFEPGQGFYSNQPQHF\", \"cdr3_old\": \"CASSFEPGQGFYSNQPQH\", \"fixNeeded\": true, \"good\": true, \"jCanonical\": true, \"jFixType\": \"Realign\", \"jId\": \"TRBJ1-5*01\", \"jStart\": 12, \"oldJFixType\": \"FixAdd\", \"oldJStart\": 13, \"vCanonical\": true, \"vEnd\": 4, \"vFixType\": \"NoFixNeeded\", \"vId\": \"TRBV13*01\"}   | 2 |\n",
       "| 4 | 3 | TRB | CASSYEPGQVSHYSNQPQHF | TRBV13*01 | TRBJ1-5*01 | HomoSapiens | HLA-B*08 | B2M | MHCI | FLKEKGGL | Nef | HIV-1 | PMID:15596521 | {\"frequency\": \"\", \"identification\": \"tetramer-sort\", \"sequencing\": \"sanger\", \"singlecell\": \"\", \"verification\": \"antigen-loaded-targets\"} | {\"cell.subset\": \"CD8+\", \"clone.id\": \"\", \"donor.MHC\": \"HLA-A*01:01,HLA-A*02:01;HLA-B*08:01,HLA-B*57:01;HLA-Cw*06:02,HLA-Cw*07:01;HLA-DRB*08:03:2,HLA-DRB*15:01:1\", \"donor.MHC.method\": \"\", \"epitope.id\": \"\", \"replica.id\": \"\", \"samples.found\": 1, \"structure.id\": \"\", \"studies.found\": 1, \"study.id\": \"\", \"subject.cohort\": \"HIV+\", \"subject.id\": \"046\", \"tissue\": \"PBMC\"}   | {\"cdr3\": \"CASSYEPGQVSHYSNQPQHF\", \"cdr3_old\": \"CASSYEPGQVSHYSNQPQH\", \"fixNeeded\": true, \"good\": true, \"jCanonical\": true, \"jFixType\": \"Realign\", \"jId\": \"TRBJ1-5*01\", \"jStart\": 13, \"oldJFixType\": \"FixAdd\", \"oldJStart\": 14, \"vCanonical\": true, \"vEnd\": 4, \"vFixType\": \"NoFixNeeded\", \"vId\": \"TRBV13*01\"} | 2 |\n",
       "| 5 | 4 | TRB | CASSALASLNEQFF       | TRBV14*01 | TRBJ2-1*01 | HomoSapiens | HLA-B*08 | B2M | MHCI | FLKEKGGL | Nef | HIV-1 | PMID:15596521 | {\"frequency\": \"\", \"identification\": \"tetramer-sort\", \"sequencing\": \"sanger\", \"singlecell\": \"\", \"verification\": \"antigen-loaded-targets\"} | {\"cell.subset\": \"CD8+\", \"clone.id\": \"\", \"donor.MHC\": \"HLA-A*01:01,HLA-A*02:01;HLA-B*08:01,HLA-B*57:01;HLA-Cw*06:02,HLA-Cw*07:01;HLA-DRB*08:03:2,HLA-DRB*15:01:1\", \"donor.MHC.method\": \"\", \"epitope.id\": \"\", \"replica.id\": \"\", \"samples.found\": 1, \"structure.id\": \"\", \"studies.found\": 1, \"study.id\": \"\", \"subject.cohort\": \"HIV+\", \"subject.id\": \"046\", \"tissue\": \"PBMC\"}   | {\"cdr3\": \"CASSALASLNEQFF\", \"cdr3_old\": \"CASSALASLNEQF\", \"fixNeeded\": true, \"good\": true, \"jCanonical\": true, \"jFixType\": \"Realign\", \"jId\": \"TRBJ2-1*01\", \"jStart\": 9, \"oldJFixType\": \"FixAdd\", \"oldJStart\": 10, \"vCanonical\": true, \"vEnd\": 4, \"vFixType\": \"NoFixNeeded\", \"vId\": \"TRBV14*01\"}              | 2 |\n",
       "| 6 | 5 | TRB | CASSYLPGQGDHYSNQPQHF | TRBV13*01 | TRBJ1-5*01 | HomoSapiens | HLA-B*08 | B2M | MHCI | FLKEQGGL | Nef | HIV-1 | PMID:15596521 | {\"frequency\": \"\", \"identification\": \"tetramer-sort\", \"sequencing\": \"sanger\", \"singlecell\": \"\", \"verification\": \"antigen-loaded-targets\"} | {\"cell.subset\": \"CD8+\", \"clone.id\": \"\", \"donor.MHC\": \"HLA-A*02:01,HLA-A*24:02;HLA-B*08:01,HLA-B*5701;HLA-Cw*06:02,HLA-Cw*07:01;HLA-DRB*07:01,HLA-DRB*13:01\", \"donor.MHC.method\": \"\", \"epitope.id\": \"\", \"replica.id\": \"\", \"samples.found\": 1, \"structure.id\": \"\", \"studies.found\": 1, \"study.id\": \"\", \"subject.cohort\": \"HIV+\", \"subject.id\": \"005\", \"tissue\": \"TCL culture\"} | {\"cdr3\": \"CASSYLPGQGDHYSNQPQHF\", \"cdr3_old\": \"CASSYLPGQGDHYSNQPQH\", \"fixNeeded\": true, \"good\": true, \"jCanonical\": true, \"jFixType\": \"Realign\", \"jId\": \"TRBJ1-5*01\", \"jStart\": 13, \"oldJFixType\": \"FixAdd\", \"oldJStart\": 14, \"vCanonical\": true, \"vEnd\": 4, \"vFixType\": \"NoFixNeeded\", \"vId\": \"TRBV13*01\"} | 2 |\n",
       "\n"
      ],
      "text/plain": [
       "  complex.id Gene CDR3                 V         J          Species    \n",
       "1 1          TRB  CASSYLPGQGDHYSNQPQHF TRBV13*01 TRBJ1-5*01 HomoSapiens\n",
       "2 0          TRB  CASSFEAGQGFFSNQPQHF  TRBV13*01 TRBJ1-5*01 HomoSapiens\n",
       "3 2          TRB  CASSFEPGQGFYSNQPQHF  TRBV13*01 TRBJ1-5*01 HomoSapiens\n",
       "4 3          TRB  CASSYEPGQVSHYSNQPQHF TRBV13*01 TRBJ1-5*01 HomoSapiens\n",
       "5 4          TRB  CASSALASLNEQFF       TRBV14*01 TRBJ2-1*01 HomoSapiens\n",
       "6 5          TRB  CASSYLPGQGDHYSNQPQHF TRBV13*01 TRBJ1-5*01 HomoSapiens\n",
       "  MHC A    MHC B MHC class Epitope  Epitope gene Epitope species Reference    \n",
       "1 HLA-B*08 B2M   MHCI      FLKEKGGL Nef          HIV-1           PMID:15596521\n",
       "2 HLA-B*08 B2M   MHCI      FLKEKGGL Nef          HIV-1           PMID:15596521\n",
       "3 HLA-B*08 B2M   MHCI      FLKEKGGL Nef          HIV-1           PMID:15596521\n",
       "4 HLA-B*08 B2M   MHCI      FLKEKGGL Nef          HIV-1           PMID:15596521\n",
       "5 HLA-B*08 B2M   MHCI      FLKEKGGL Nef          HIV-1           PMID:15596521\n",
       "6 HLA-B*08 B2M   MHCI      FLKEQGGL Nef          HIV-1           PMID:15596521\n",
       "  Method                                                                                                                                  \n",
       "1 {\"frequency\": \"\", \"identification\": \"tetramer-sort\", \"sequencing\": \"sanger\", \"singlecell\": \"\", \"verification\": \"antigen-loaded-targets\"}\n",
       "2 {\"frequency\": \"\", \"identification\": \"tetramer-sort\", \"sequencing\": \"sanger\", \"singlecell\": \"\", \"verification\": \"antigen-loaded-targets\"}\n",
       "3 {\"frequency\": \"\", \"identification\": \"tetramer-sort\", \"sequencing\": \"sanger\", \"singlecell\": \"\", \"verification\": \"antigen-loaded-targets\"}\n",
       "4 {\"frequency\": \"\", \"identification\": \"tetramer-sort\", \"sequencing\": \"sanger\", \"singlecell\": \"\", \"verification\": \"antigen-loaded-targets\"}\n",
       "5 {\"frequency\": \"\", \"identification\": \"tetramer-sort\", \"sequencing\": \"sanger\", \"singlecell\": \"\", \"verification\": \"antigen-loaded-targets\"}\n",
       "6 {\"frequency\": \"\", \"identification\": \"tetramer-sort\", \"sequencing\": \"sanger\", \"singlecell\": \"\", \"verification\": \"antigen-loaded-targets\"}\n",
       "  Meta                                                                                                                                                                                                                                                                                                                                                                        \n",
       "1 {\"cell.subset\": \"CD8+\", \"clone.id\": \"\", \"donor.MHC\": \"HLA-A*02:01,HLA-A*24:02;HLA-B*08:01,HLA-B*5701;HLA-Cw*06:02,HLA-Cw*07:01;HLA-DRB*07:01,HLA-DRB*13:01\", \"donor.MHC.method\": \"\", \"epitope.id\": \"\", \"replica.id\": \"\", \"samples.found\": 1, \"structure.id\": \"\", \"studies.found\": 1, \"study.id\": \"\", \"subject.cohort\": \"HIV+\", \"subject.id\": \"005\", \"tissue\": \"PBMC\"}       \n",
       "2 {\"cell.subset\": \"CD8+\", \"clone.id\": \"\", \"donor.MHC\": \"HLA-A*01:01,HLA-A*02:01;HLA-B*08:01,HLA-B*57:01;HLA-Cw*06:02,HLA-Cw*07:01;HLA-DRB*08:03:2,HLA-DRB*15:01:1\", \"donor.MHC.method\": \"\", \"epitope.id\": \"\", \"replica.id\": \"\", \"samples.found\": 1, \"structure.id\": \"\", \"studies.found\": 1, \"study.id\": \"\", \"subject.cohort\": \"HIV+\", \"subject.id\": \"065\", \"tissue\": \"PBMC\"}  \n",
       "3 {\"cell.subset\": \"CD8+\", \"clone.id\": \"\", \"donor.MHC\": \"HLA-A*02,HLA-A*24:02;HLA-B*08:01,HLA-B*15;HLA-Cw*07,HLA-Cw*12;HLA-DRB*13:01,HLA-DRB*03:01\", \"donor.MHC.method\": \"\", \"epitope.id\": \"\", \"replica.id\": \"\", \"samples.found\": 1, \"structure.id\": \"\", \"studies.found\": 1, \"study.id\": \"\", \"subject.cohort\": \"HIV+\", \"subject.id\": \"200\", \"tissue\": \"PBMC\"}                  \n",
       "4 {\"cell.subset\": \"CD8+\", \"clone.id\": \"\", \"donor.MHC\": \"HLA-A*01:01,HLA-A*02:01;HLA-B*08:01,HLA-B*57:01;HLA-Cw*06:02,HLA-Cw*07:01;HLA-DRB*08:03:2,HLA-DRB*15:01:1\", \"donor.MHC.method\": \"\", \"epitope.id\": \"\", \"replica.id\": \"\", \"samples.found\": 1, \"structure.id\": \"\", \"studies.found\": 1, \"study.id\": \"\", \"subject.cohort\": \"HIV+\", \"subject.id\": \"046\", \"tissue\": \"PBMC\"}  \n",
       "5 {\"cell.subset\": \"CD8+\", \"clone.id\": \"\", \"donor.MHC\": \"HLA-A*01:01,HLA-A*02:01;HLA-B*08:01,HLA-B*57:01;HLA-Cw*06:02,HLA-Cw*07:01;HLA-DRB*08:03:2,HLA-DRB*15:01:1\", \"donor.MHC.method\": \"\", \"epitope.id\": \"\", \"replica.id\": \"\", \"samples.found\": 1, \"structure.id\": \"\", \"studies.found\": 1, \"study.id\": \"\", \"subject.cohort\": \"HIV+\", \"subject.id\": \"046\", \"tissue\": \"PBMC\"}  \n",
       "6 {\"cell.subset\": \"CD8+\", \"clone.id\": \"\", \"donor.MHC\": \"HLA-A*02:01,HLA-A*24:02;HLA-B*08:01,HLA-B*5701;HLA-Cw*06:02,HLA-Cw*07:01;HLA-DRB*07:01,HLA-DRB*13:01\", \"donor.MHC.method\": \"\", \"epitope.id\": \"\", \"replica.id\": \"\", \"samples.found\": 1, \"structure.id\": \"\", \"studies.found\": 1, \"study.id\": \"\", \"subject.cohort\": \"HIV+\", \"subject.id\": \"005\", \"tissue\": \"TCL culture\"}\n",
       "  CDR3fix                                                                                                                                                                                                                                                                                                   \n",
       "1 {\"cdr3\": \"CASSYLPGQGDHYSNQPQHF\", \"cdr3_old\": \"CASSYLPGQGDHYSNQPQH\", \"fixNeeded\": true, \"good\": true, \"jCanonical\": true, \"jFixType\": \"Realign\", \"jId\": \"TRBJ1-5*01\", \"jStart\": 13, \"oldJFixType\": \"FixAdd\", \"oldJStart\": 14, \"vCanonical\": true, \"vEnd\": 4, \"vFixType\": \"NoFixNeeded\", \"vId\": \"TRBV13*01\"}\n",
       "2 {\"cdr3\": \"CASSFEAGQGFFSNQPQHF\", \"cdr3_old\": \"CASSFEAGQGFFSNQPQH\", \"fixNeeded\": true, \"good\": true, \"jCanonical\": true, \"jFixType\": \"Realign\", \"jId\": \"TRBJ1-5*01\", \"jStart\": 12, \"oldJFixType\": \"FixAdd\", \"oldJStart\": 13, \"vCanonical\": true, \"vEnd\": 4, \"vFixType\": \"NoFixNeeded\", \"vId\": \"TRBV13*01\"}  \n",
       "3 {\"cdr3\": \"CASSFEPGQGFYSNQPQHF\", \"cdr3_old\": \"CASSFEPGQGFYSNQPQH\", \"fixNeeded\": true, \"good\": true, \"jCanonical\": true, \"jFixType\": \"Realign\", \"jId\": \"TRBJ1-5*01\", \"jStart\": 12, \"oldJFixType\": \"FixAdd\", \"oldJStart\": 13, \"vCanonical\": true, \"vEnd\": 4, \"vFixType\": \"NoFixNeeded\", \"vId\": \"TRBV13*01\"}  \n",
       "4 {\"cdr3\": \"CASSYEPGQVSHYSNQPQHF\", \"cdr3_old\": \"CASSYEPGQVSHYSNQPQH\", \"fixNeeded\": true, \"good\": true, \"jCanonical\": true, \"jFixType\": \"Realign\", \"jId\": \"TRBJ1-5*01\", \"jStart\": 13, \"oldJFixType\": \"FixAdd\", \"oldJStart\": 14, \"vCanonical\": true, \"vEnd\": 4, \"vFixType\": \"NoFixNeeded\", \"vId\": \"TRBV13*01\"}\n",
       "5 {\"cdr3\": \"CASSALASLNEQFF\", \"cdr3_old\": \"CASSALASLNEQF\", \"fixNeeded\": true, \"good\": true, \"jCanonical\": true, \"jFixType\": \"Realign\", \"jId\": \"TRBJ2-1*01\", \"jStart\": 9, \"oldJFixType\": \"FixAdd\", \"oldJStart\": 10, \"vCanonical\": true, \"vEnd\": 4, \"vFixType\": \"NoFixNeeded\", \"vId\": \"TRBV14*01\"}             \n",
       "6 {\"cdr3\": \"CASSYLPGQGDHYSNQPQHF\", \"cdr3_old\": \"CASSYLPGQGDHYSNQPQH\", \"fixNeeded\": true, \"good\": true, \"jCanonical\": true, \"jFixType\": \"Realign\", \"jId\": \"TRBJ1-5*01\", \"jStart\": 13, \"oldJFixType\": \"FixAdd\", \"oldJStart\": 14, \"vCanonical\": true, \"vEnd\": 4, \"vFixType\": \"NoFixNeeded\", \"vId\": \"TRBV13*01\"}\n",
       "  Score\n",
       "1 2    \n",
       "2 2    \n",
       "3 2    \n",
       "4 2    \n",
       "5 2    \n",
       "6 2    "
      ]
     },
     "metadata": {},
     "output_type": "display_data"
    }
   ],
   "source": [
    "dat <- fread('VDJdb-160622.tsv', data.table = F)\n",
    "dim(dat)\n",
    "head(dat)"
   ]
  },
  {
   "cell_type": "code",
   "execution_count": 3,
   "id": "1f920867",
   "metadata": {},
   "outputs": [
    {
     "data": {
      "text/html": [
       "FALSE"
      ],
      "text/latex": [
       "FALSE"
      ],
      "text/markdown": [
       "FALSE"
      ],
      "text/plain": [
       "[1] FALSE"
      ]
     },
     "metadata": {},
     "output_type": "display_data"
    }
   ],
   "source": [
    "any(is.na(dat))"
   ]
  },
  {
   "cell_type": "code",
   "execution_count": 4,
   "id": "f0f4e972",
   "metadata": {},
   "outputs": [],
   "source": [
    "dat$CDR3 <- gsub('^C', '', dat$CDR3)\n",
    "dat$CDR3 <- gsub('F$', '', dat$CDR3)"
   ]
  },
  {
   "cell_type": "code",
   "execution_count": 5,
   "id": "48dcbd8c",
   "metadata": {},
   "outputs": [
    {
     "data": {
      "text/html": [
       "<style>\n",
       ".list-inline {list-style: none; margin:0; padding: 0}\n",
       ".list-inline>li {display: inline-block}\n",
       ".list-inline>li:not(:last-child)::after {content: \"\\00b7\"; padding: 0 .5ex}\n",
       "</style>\n",
       "<ol class=list-inline><li>'TRB'</li><li>'TRA'</li></ol>\n"
      ],
      "text/latex": [
       "\\begin{enumerate*}\n",
       "\\item 'TRB'\n",
       "\\item 'TRA'\n",
       "\\end{enumerate*}\n"
      ],
      "text/markdown": [
       "1. 'TRB'\n",
       "2. 'TRA'\n",
       "\n",
       "\n"
      ],
      "text/plain": [
       "[1] \"TRB\" \"TRA\""
      ]
     },
     "metadata": {},
     "output_type": "display_data"
    }
   ],
   "source": [
    "unique(dat$Gene)"
   ]
  },
  {
   "cell_type": "code",
   "execution_count": 6,
   "id": "76b7bdd1",
   "metadata": {
    "scrolled": true
   },
   "outputs": [
    {
     "data": {
      "text/html": [
       "FALSE"
      ],
      "text/latex": [
       "FALSE"
      ],
      "text/markdown": [
       "FALSE"
      ],
      "text/plain": [
       "[1] FALSE"
      ]
     },
     "metadata": {},
     "output_type": "display_data"
    },
    {
     "data": {
      "text/html": [
       "FALSE"
      ],
      "text/latex": [
       "FALSE"
      ],
      "text/markdown": [
       "FALSE"
      ],
      "text/plain": [
       "[1] FALSE"
      ]
     },
     "metadata": {},
     "output_type": "display_data"
    }
   ],
   "source": [
    "# check for special characters in CDR3 and epitope sequences\n",
    "any(grepl(\"[[:punct:]]\", dat$CDR3))\n",
    "any(grepl(\"[[:punct:]]\", dat$Epitope))"
   ]
  },
  {
   "cell_type": "code",
   "execution_count": 7,
   "id": "43dc46d8",
   "metadata": {
    "scrolled": true
   },
   "outputs": [
    {
     "data": {
      "text/html": [
       "<style>\n",
       ".list-inline {list-style: none; margin:0; padding: 0}\n",
       ".list-inline>li {display: inline-block}\n",
       ".list-inline>li:not(:last-child)::after {content: \"\\00b7\"; padding: 0 .5ex}\n",
       "</style>\n",
       "<ol class=list-inline><li>39638</li><li>6</li></ol>\n"
      ],
      "text/latex": [
       "\\begin{enumerate*}\n",
       "\\item 39638\n",
       "\\item 6\n",
       "\\end{enumerate*}\n"
      ],
      "text/markdown": [
       "1. 39638\n",
       "2. 6\n",
       "\n",
       "\n"
      ],
      "text/plain": [
       "[1] 39638     6"
      ]
     },
     "metadata": {},
     "output_type": "display_data"
    }
   ],
   "source": [
    "dat <- unique(dat[dat$Gene == 'TRB', c('CDR3', 'Species', 'MHC A', 'Epitope', 'Epitope species', 'Epitope gene')])\n",
    "dim(dat)"
   ]
  },
  {
   "cell_type": "code",
   "execution_count": 8,
   "id": "22dd4d3e",
   "metadata": {},
   "outputs": [],
   "source": [
    "# write loaded data\n",
    "write.table(dat, 'VDJdb-loaded.csv', quote = F, row.names = F, sep = ',', append = F)"
   ]
  },
  {
   "cell_type": "markdown",
   "id": "d50e94dc",
   "metadata": {},
   "source": [
    "# Analysis"
   ]
  },
  {
   "cell_type": "code",
   "execution_count": 9,
   "id": "05c8942d",
   "metadata": {},
   "outputs": [
    {
     "data": {
      "text/html": [
       "<table class=\"dataframe\">\n",
       "<caption>A data.frame: 6 × 6</caption>\n",
       "<thead>\n",
       "\t<tr><th></th><th scope=col>CDR3</th><th scope=col>Species</th><th scope=col>MHC A</th><th scope=col>Epitope</th><th scope=col>Epitope species</th><th scope=col>Epitope gene</th></tr>\n",
       "\t<tr><th></th><th scope=col>&lt;chr&gt;</th><th scope=col>&lt;chr&gt;</th><th scope=col>&lt;chr&gt;</th><th scope=col>&lt;chr&gt;</th><th scope=col>&lt;chr&gt;</th><th scope=col>&lt;chr&gt;</th></tr>\n",
       "</thead>\n",
       "<tbody>\n",
       "\t<tr><th scope=row>1</th><td>ASSYLPGQGDHYSNQPQH</td><td>HomoSapiens</td><td>HLA-B*08</td><td>FLKEKGGL</td><td>HIV-1</td><td>Nef</td></tr>\n",
       "\t<tr><th scope=row>2</th><td>ASSFEAGQGFFSNQPQH </td><td>HomoSapiens</td><td>HLA-B*08</td><td>FLKEKGGL</td><td>HIV-1</td><td>Nef</td></tr>\n",
       "\t<tr><th scope=row>3</th><td>ASSFEPGQGFYSNQPQH </td><td>HomoSapiens</td><td>HLA-B*08</td><td>FLKEKGGL</td><td>HIV-1</td><td>Nef</td></tr>\n",
       "\t<tr><th scope=row>4</th><td>ASSYEPGQVSHYSNQPQH</td><td>HomoSapiens</td><td>HLA-B*08</td><td>FLKEKGGL</td><td>HIV-1</td><td>Nef</td></tr>\n",
       "\t<tr><th scope=row>5</th><td>ASSALASLNEQF      </td><td>HomoSapiens</td><td>HLA-B*08</td><td>FLKEKGGL</td><td>HIV-1</td><td>Nef</td></tr>\n",
       "\t<tr><th scope=row>6</th><td>ASSYLPGQGDHYSNQPQH</td><td>HomoSapiens</td><td>HLA-B*08</td><td>FLKEQGGL</td><td>HIV-1</td><td>Nef</td></tr>\n",
       "</tbody>\n",
       "</table>\n"
      ],
      "text/latex": [
       "A data.frame: 6 × 6\n",
       "\\begin{tabular}{r|llllll}\n",
       "  & CDR3 & Species & MHC A & Epitope & Epitope species & Epitope gene\\\\\n",
       "  & <chr> & <chr> & <chr> & <chr> & <chr> & <chr>\\\\\n",
       "\\hline\n",
       "\t1 & ASSYLPGQGDHYSNQPQH & HomoSapiens & HLA-B*08 & FLKEKGGL & HIV-1 & Nef\\\\\n",
       "\t2 & ASSFEAGQGFFSNQPQH  & HomoSapiens & HLA-B*08 & FLKEKGGL & HIV-1 & Nef\\\\\n",
       "\t3 & ASSFEPGQGFYSNQPQH  & HomoSapiens & HLA-B*08 & FLKEKGGL & HIV-1 & Nef\\\\\n",
       "\t4 & ASSYEPGQVSHYSNQPQH & HomoSapiens & HLA-B*08 & FLKEKGGL & HIV-1 & Nef\\\\\n",
       "\t5 & ASSALASLNEQF       & HomoSapiens & HLA-B*08 & FLKEKGGL & HIV-1 & Nef\\\\\n",
       "\t6 & ASSYLPGQGDHYSNQPQH & HomoSapiens & HLA-B*08 & FLKEQGGL & HIV-1 & Nef\\\\\n",
       "\\end{tabular}\n"
      ],
      "text/markdown": [
       "\n",
       "A data.frame: 6 × 6\n",
       "\n",
       "| <!--/--> | CDR3 &lt;chr&gt; | Species &lt;chr&gt; | MHC A &lt;chr&gt; | Epitope &lt;chr&gt; | Epitope species &lt;chr&gt; | Epitope gene &lt;chr&gt; |\n",
       "|---|---|---|---|---|---|---|\n",
       "| 1 | ASSYLPGQGDHYSNQPQH | HomoSapiens | HLA-B*08 | FLKEKGGL | HIV-1 | Nef |\n",
       "| 2 | ASSFEAGQGFFSNQPQH  | HomoSapiens | HLA-B*08 | FLKEKGGL | HIV-1 | Nef |\n",
       "| 3 | ASSFEPGQGFYSNQPQH  | HomoSapiens | HLA-B*08 | FLKEKGGL | HIV-1 | Nef |\n",
       "| 4 | ASSYEPGQVSHYSNQPQH | HomoSapiens | HLA-B*08 | FLKEKGGL | HIV-1 | Nef |\n",
       "| 5 | ASSALASLNEQF       | HomoSapiens | HLA-B*08 | FLKEKGGL | HIV-1 | Nef |\n",
       "| 6 | ASSYLPGQGDHYSNQPQH | HomoSapiens | HLA-B*08 | FLKEQGGL | HIV-1 | Nef |\n",
       "\n"
      ],
      "text/plain": [
       "  CDR3               Species     MHC A    Epitope  Epitope species Epitope gene\n",
       "1 ASSYLPGQGDHYSNQPQH HomoSapiens HLA-B*08 FLKEKGGL HIV-1           Nef         \n",
       "2 ASSFEAGQGFFSNQPQH  HomoSapiens HLA-B*08 FLKEKGGL HIV-1           Nef         \n",
       "3 ASSFEPGQGFYSNQPQH  HomoSapiens HLA-B*08 FLKEKGGL HIV-1           Nef         \n",
       "4 ASSYEPGQVSHYSNQPQH HomoSapiens HLA-B*08 FLKEKGGL HIV-1           Nef         \n",
       "5 ASSALASLNEQF       HomoSapiens HLA-B*08 FLKEKGGL HIV-1           Nef         \n",
       "6 ASSYLPGQGDHYSNQPQH HomoSapiens HLA-B*08 FLKEQGGL HIV-1           Nef         "
      ]
     },
     "metadata": {},
     "output_type": "display_data"
    }
   ],
   "source": [
    "dat <- fread('VDJdb-loaded.csv', data.table = F)\n",
    "head(dat)"
   ]
  },
  {
   "cell_type": "code",
   "execution_count": 10,
   "id": "46d2ba49",
   "metadata": {},
   "outputs": [
    {
     "data": {
      "text/html": [
       "<style>\n",
       ".list-inline {list-style: none; margin:0; padding: 0}\n",
       ".list-inline>li {display: inline-block}\n",
       ".list-inline>li:not(:last-child)::after {content: \"\\00b7\"; padding: 0 .5ex}\n",
       "</style>\n",
       "<ol class=list-inline><li>'Nef'</li><li>'Gliadin'</li><li>'pp65'</li><li>'Nucleocapsid'</li><li>'ORF3'</li><li>'ORF1ab'</li><li>'Spike'</li><li>'NDC1'</li><li>'TKT'</li><li>'SEC24A'</li><li>'AKAP13'</li><li>'EXOC8'</li><li>'PABPC1'</li><li>'MLANA'</li><li>'BRLF1'</li><li>'Gag'</li><li>'CFP10'</li><li>'Rv1195'</li><li>'Rv3804c'</li><li>'Rv0288'</li><li>'Rv3874'</li><li>'PPE33'</li><li>'Rv3616c'</li><li>'Rv1388'</li><li>'IE1'</li><li>'EBNA1'</li><li>'BZLF1'</li><li>'Tax'</li><li>'HA'</li><li>'EBNA3A'</li><li>'M'</li><li>'MBP'</li><li>'NY-ESO-1'</li><li>'UL40'</li><li>'TPI1'</li><li>'EBNA6'</li><li>'Tel1'</li><li>'ABCD3'</li><li>'BMLF1'</li><li>'ELAVL4'</li><li>'INS'</li><li>''</li><li>'Pol'</li><li>'TERT'</li><li>'NS3'</li><li>'EMC'</li><li>'Der'</li><li>'Mimotope'</li><li>'TRM3'</li><li>'MIM2'</li><li>'MAGE-A3'</li><li>'TITIN'</li><li>'synthetic'</li><li>'M1-F5L'</li><li>'M1-G4E'</li><li>'DQ8-GLIA-ALPHA1'</li><li>'DQ8.5-GLIA-GAMMA1'</li><li>'GAG'</li><li>'Leader peptide'</li><li>'RT'</li><li>'P24'</li><li>'NP338'</li><li>'GLUT-L1'</li><li>'ANKRD30A'</li><li>'MAGE-A4'</li><li>'MEROPS'</li><li>'OPT'</li><li>'PMEL'</li><li>'P53'</li><li>'Synthetic'</li><li>'ENR'</li><li>'TP53'</li><li>'PIK3CA'</li><li>'DQ2-GLIA-OMEGA1'</li><li>'NS4B'</li><li>'BST2'</li><li>'IE2'</li><li>'UL49'</li><li>'NSP3'</li><li>'INS-DRiP'</li><li>'PTPRN'</li><li>'EBNA4'</li><li>'EBNA3B'</li><li>'pp50'</li><li>'NP'</li><li>'LMP2A'</li><li>'T-Ag'</li><li>'5T4'</li><li>'BCR-ABL'</li><li>'GANAB'</li><li>'GNL3L'</li><li>'PGM5'</li><li>'SNX24'</li><li>'FNDC3B'</li><li>'SMARCD3'</li><li>'CDK4'</li><li>'NY-ESO-2'</li><li>'NY-ESO-3'</li><li>'NY-ESO-4'</li><li>'NY-ESO-5'</li><li>'NY-ESO-6'</li><li>'NS5B'</li><li>'CORE'</li><li>'E2'</li><li>'SLC30A8'</li><li>'KRAS'</li><li>'MAGEA6'</li><li>'PDS5A'</li><li>'MED13'</li><li>'RFC5'</li><li>'BRAP'</li><li>'GINS1'</li><li>'DPY19L4'</li><li>'RNF19B'</li><li>'ASTN1'</li><li>'MLL2'</li><li>'WT1'</li><li>'BCL2L1'</li><li>'PLA2G6'</li><li>'E7'</li><li>'LMP1'</li><li>'MAGEA1'</li><li>'TYR'</li><li>'KanJ'</li><li>'MAGEA3'</li><li>'KLK3'</li><li>'PLCD3'</li><li>'PPM1'</li><li>'SRPX'</li><li>'AHNAK'</li><li>'AFMID'</li><li>'HELZ2'</li><li>'CENPL'</li><li>'TPX2'</li><li>'WDR46'</li><li>'HIVEP2'</li><li>'AMPH'</li><li>'Vpr'</li><li>'Vif'</li><li>'Matrix'</li><li>'RNP'</li><li>'NSP12'</li><li>'TXNDC11'</li><li>'U2AF2'</li><li>'GEMIN'</li><li>'CD74'</li><li>'PDE4A'</li><li>'WDR87'</li><li>'FANCI'</li><li>'CRISPLD1'</li><li>'KLHL7'</li><li>'ARMT1'</li><li>'gp100'</li><li>'SSX2'</li><li>'MAGE-A1'</li><li>'ABCB5'</li><li>'MART1'</li><li>'Tyrosinase'</li><li>'NY-ESO'</li><li>'PORCN'</li><li>'AKAP9'</li><li>'ZDBF2'</li><li>'GCN1L1'</li><li>'CDKN2A'</li><li>'PDE7B'</li><li>'POGK'</li><li>'MPV17'</li><li>'M1'</li><li>'PB1'</li><li>'IE-1'</li><li>'UL29/28'</li><li>'ARHGAP35'</li><li>'p53'</li><li>'ERBB2IP'</li><li>'COL18A1'</li><li>'KIF16B'</li><li>'KIAA1279'</li><li>'XPNPEP1'</li><li>'UGGT2'</li><li>'PHKA1'</li><li>'GNB5'</li><li>'FBXO21'</li><li>'RECQL5'</li><li>'KIAA1967'</li><li>'SLC3A2'</li><li>'KIAA0368'</li><li>'CADPS2'</li><li>'CTSB'</li><li>'HER2'</li><li>'CTBP1'</li><li>'NUP98'</li><li>'KARS'</li><li>'GPD2'</li><li>'TUBGCP2'</li><li>'RNF213'</li><li>'SKIV2L'</li><li>'H3F3B'</li><li>'API5'</li><li>'RNF10'</li><li>'PHLPP1'</li><li>'ZFYVE27'</li><li>'NBAS'</li><li>'BRAF'</li><li>'CCND1'</li><li>'HSD17B12'</li><li>'LGSN'</li><li>'MAGE-A2'</li><li>'MUC5AC'</li><li>'RSV-GP'</li><li>'TT'</li><li>'PPM1F'</li><li>'ACTN4'</li><li>'ME1'</li><li>'SF3B1'</li><li>'NRAS'</li><li>'ERBB2'</li><li>'IGF2BP2'</li><li>'ORF10'</li><li>'ORF14'</li><li>'ORF6'</li><li>'ORF7a'</li><li>'ORF7b'</li><li>'ORF8'</li><li>'ORF9b'</li><li>'Envelope'</li></ol>\n"
      ],
      "text/latex": [
       "\\begin{enumerate*}\n",
       "\\item 'Nef'\n",
       "\\item 'Gliadin'\n",
       "\\item 'pp65'\n",
       "\\item 'Nucleocapsid'\n",
       "\\item 'ORF3'\n",
       "\\item 'ORF1ab'\n",
       "\\item 'Spike'\n",
       "\\item 'NDC1'\n",
       "\\item 'TKT'\n",
       "\\item 'SEC24A'\n",
       "\\item 'AKAP13'\n",
       "\\item 'EXOC8'\n",
       "\\item 'PABPC1'\n",
       "\\item 'MLANA'\n",
       "\\item 'BRLF1'\n",
       "\\item 'Gag'\n",
       "\\item 'CFP10'\n",
       "\\item 'Rv1195'\n",
       "\\item 'Rv3804c'\n",
       "\\item 'Rv0288'\n",
       "\\item 'Rv3874'\n",
       "\\item 'PPE33'\n",
       "\\item 'Rv3616c'\n",
       "\\item 'Rv1388'\n",
       "\\item 'IE1'\n",
       "\\item 'EBNA1'\n",
       "\\item 'BZLF1'\n",
       "\\item 'Tax'\n",
       "\\item 'HA'\n",
       "\\item 'EBNA3A'\n",
       "\\item 'M'\n",
       "\\item 'MBP'\n",
       "\\item 'NY-ESO-1'\n",
       "\\item 'UL40'\n",
       "\\item 'TPI1'\n",
       "\\item 'EBNA6'\n",
       "\\item 'Tel1'\n",
       "\\item 'ABCD3'\n",
       "\\item 'BMLF1'\n",
       "\\item 'ELAVL4'\n",
       "\\item 'INS'\n",
       "\\item ''\n",
       "\\item 'Pol'\n",
       "\\item 'TERT'\n",
       "\\item 'NS3'\n",
       "\\item 'EMC'\n",
       "\\item 'Der'\n",
       "\\item 'Mimotope'\n",
       "\\item 'TRM3'\n",
       "\\item 'MIM2'\n",
       "\\item 'MAGE-A3'\n",
       "\\item 'TITIN'\n",
       "\\item 'synthetic'\n",
       "\\item 'M1-F5L'\n",
       "\\item 'M1-G4E'\n",
       "\\item 'DQ8-GLIA-ALPHA1'\n",
       "\\item 'DQ8.5-GLIA-GAMMA1'\n",
       "\\item 'GAG'\n",
       "\\item 'Leader peptide'\n",
       "\\item 'RT'\n",
       "\\item 'P24'\n",
       "\\item 'NP338'\n",
       "\\item 'GLUT-L1'\n",
       "\\item 'ANKRD30A'\n",
       "\\item 'MAGE-A4'\n",
       "\\item 'MEROPS'\n",
       "\\item 'OPT'\n",
       "\\item 'PMEL'\n",
       "\\item 'P53'\n",
       "\\item 'Synthetic'\n",
       "\\item 'ENR'\n",
       "\\item 'TP53'\n",
       "\\item 'PIK3CA'\n",
       "\\item 'DQ2-GLIA-OMEGA1'\n",
       "\\item 'NS4B'\n",
       "\\item 'BST2'\n",
       "\\item 'IE2'\n",
       "\\item 'UL49'\n",
       "\\item 'NSP3'\n",
       "\\item 'INS-DRiP'\n",
       "\\item 'PTPRN'\n",
       "\\item 'EBNA4'\n",
       "\\item 'EBNA3B'\n",
       "\\item 'pp50'\n",
       "\\item 'NP'\n",
       "\\item 'LMP2A'\n",
       "\\item 'T-Ag'\n",
       "\\item '5T4'\n",
       "\\item 'BCR-ABL'\n",
       "\\item 'GANAB'\n",
       "\\item 'GNL3L'\n",
       "\\item 'PGM5'\n",
       "\\item 'SNX24'\n",
       "\\item 'FNDC3B'\n",
       "\\item 'SMARCD3'\n",
       "\\item 'CDK4'\n",
       "\\item 'NY-ESO-2'\n",
       "\\item 'NY-ESO-3'\n",
       "\\item 'NY-ESO-4'\n",
       "\\item 'NY-ESO-5'\n",
       "\\item 'NY-ESO-6'\n",
       "\\item 'NS5B'\n",
       "\\item 'CORE'\n",
       "\\item 'E2'\n",
       "\\item 'SLC30A8'\n",
       "\\item 'KRAS'\n",
       "\\item 'MAGEA6'\n",
       "\\item 'PDS5A'\n",
       "\\item 'MED13'\n",
       "\\item 'RFC5'\n",
       "\\item 'BRAP'\n",
       "\\item 'GINS1'\n",
       "\\item 'DPY19L4'\n",
       "\\item 'RNF19B'\n",
       "\\item 'ASTN1'\n",
       "\\item 'MLL2'\n",
       "\\item 'WT1'\n",
       "\\item 'BCL2L1'\n",
       "\\item 'PLA2G6'\n",
       "\\item 'E7'\n",
       "\\item 'LMP1'\n",
       "\\item 'MAGEA1'\n",
       "\\item 'TYR'\n",
       "\\item 'KanJ'\n",
       "\\item 'MAGEA3'\n",
       "\\item 'KLK3'\n",
       "\\item 'PLCD3'\n",
       "\\item 'PPM1'\n",
       "\\item 'SRPX'\n",
       "\\item 'AHNAK'\n",
       "\\item 'AFMID'\n",
       "\\item 'HELZ2'\n",
       "\\item 'CENPL'\n",
       "\\item 'TPX2'\n",
       "\\item 'WDR46'\n",
       "\\item 'HIVEP2'\n",
       "\\item 'AMPH'\n",
       "\\item 'Vpr'\n",
       "\\item 'Vif'\n",
       "\\item 'Matrix'\n",
       "\\item 'RNP'\n",
       "\\item 'NSP12'\n",
       "\\item 'TXNDC11'\n",
       "\\item 'U2AF2'\n",
       "\\item 'GEMIN'\n",
       "\\item 'CD74'\n",
       "\\item 'PDE4A'\n",
       "\\item 'WDR87'\n",
       "\\item 'FANCI'\n",
       "\\item 'CRISPLD1'\n",
       "\\item 'KLHL7'\n",
       "\\item 'ARMT1'\n",
       "\\item 'gp100'\n",
       "\\item 'SSX2'\n",
       "\\item 'MAGE-A1'\n",
       "\\item 'ABCB5'\n",
       "\\item 'MART1'\n",
       "\\item 'Tyrosinase'\n",
       "\\item 'NY-ESO'\n",
       "\\item 'PORCN'\n",
       "\\item 'AKAP9'\n",
       "\\item 'ZDBF2'\n",
       "\\item 'GCN1L1'\n",
       "\\item 'CDKN2A'\n",
       "\\item 'PDE7B'\n",
       "\\item 'POGK'\n",
       "\\item 'MPV17'\n",
       "\\item 'M1'\n",
       "\\item 'PB1'\n",
       "\\item 'IE-1'\n",
       "\\item 'UL29/28'\n",
       "\\item 'ARHGAP35'\n",
       "\\item 'p53'\n",
       "\\item 'ERBB2IP'\n",
       "\\item 'COL18A1'\n",
       "\\item 'KIF16B'\n",
       "\\item 'KIAA1279'\n",
       "\\item 'XPNPEP1'\n",
       "\\item 'UGGT2'\n",
       "\\item 'PHKA1'\n",
       "\\item 'GNB5'\n",
       "\\item 'FBXO21'\n",
       "\\item 'RECQL5'\n",
       "\\item 'KIAA1967'\n",
       "\\item 'SLC3A2'\n",
       "\\item 'KIAA0368'\n",
       "\\item 'CADPS2'\n",
       "\\item 'CTSB'\n",
       "\\item 'HER2'\n",
       "\\item 'CTBP1'\n",
       "\\item 'NUP98'\n",
       "\\item 'KARS'\n",
       "\\item 'GPD2'\n",
       "\\item 'TUBGCP2'\n",
       "\\item 'RNF213'\n",
       "\\item 'SKIV2L'\n",
       "\\item 'H3F3B'\n",
       "\\item 'API5'\n",
       "\\item 'RNF10'\n",
       "\\item 'PHLPP1'\n",
       "\\item 'ZFYVE27'\n",
       "\\item 'NBAS'\n",
       "\\item 'BRAF'\n",
       "\\item 'CCND1'\n",
       "\\item 'HSD17B12'\n",
       "\\item 'LGSN'\n",
       "\\item 'MAGE-A2'\n",
       "\\item 'MUC5AC'\n",
       "\\item 'RSV-GP'\n",
       "\\item 'TT'\n",
       "\\item 'PPM1F'\n",
       "\\item 'ACTN4'\n",
       "\\item 'ME1'\n",
       "\\item 'SF3B1'\n",
       "\\item 'NRAS'\n",
       "\\item 'ERBB2'\n",
       "\\item 'IGF2BP2'\n",
       "\\item 'ORF10'\n",
       "\\item 'ORF14'\n",
       "\\item 'ORF6'\n",
       "\\item 'ORF7a'\n",
       "\\item 'ORF7b'\n",
       "\\item 'ORF8'\n",
       "\\item 'ORF9b'\n",
       "\\item 'Envelope'\n",
       "\\end{enumerate*}\n"
      ],
      "text/markdown": [
       "1. 'Nef'\n",
       "2. 'Gliadin'\n",
       "3. 'pp65'\n",
       "4. 'Nucleocapsid'\n",
       "5. 'ORF3'\n",
       "6. 'ORF1ab'\n",
       "7. 'Spike'\n",
       "8. 'NDC1'\n",
       "9. 'TKT'\n",
       "10. 'SEC24A'\n",
       "11. 'AKAP13'\n",
       "12. 'EXOC8'\n",
       "13. 'PABPC1'\n",
       "14. 'MLANA'\n",
       "15. 'BRLF1'\n",
       "16. 'Gag'\n",
       "17. 'CFP10'\n",
       "18. 'Rv1195'\n",
       "19. 'Rv3804c'\n",
       "20. 'Rv0288'\n",
       "21. 'Rv3874'\n",
       "22. 'PPE33'\n",
       "23. 'Rv3616c'\n",
       "24. 'Rv1388'\n",
       "25. 'IE1'\n",
       "26. 'EBNA1'\n",
       "27. 'BZLF1'\n",
       "28. 'Tax'\n",
       "29. 'HA'\n",
       "30. 'EBNA3A'\n",
       "31. 'M'\n",
       "32. 'MBP'\n",
       "33. 'NY-ESO-1'\n",
       "34. 'UL40'\n",
       "35. 'TPI1'\n",
       "36. 'EBNA6'\n",
       "37. 'Tel1'\n",
       "38. 'ABCD3'\n",
       "39. 'BMLF1'\n",
       "40. 'ELAVL4'\n",
       "41. 'INS'\n",
       "42. ''\n",
       "43. 'Pol'\n",
       "44. 'TERT'\n",
       "45. 'NS3'\n",
       "46. 'EMC'\n",
       "47. 'Der'\n",
       "48. 'Mimotope'\n",
       "49. 'TRM3'\n",
       "50. 'MIM2'\n",
       "51. 'MAGE-A3'\n",
       "52. 'TITIN'\n",
       "53. 'synthetic'\n",
       "54. 'M1-F5L'\n",
       "55. 'M1-G4E'\n",
       "56. 'DQ8-GLIA-ALPHA1'\n",
       "57. 'DQ8.5-GLIA-GAMMA1'\n",
       "58. 'GAG'\n",
       "59. 'Leader peptide'\n",
       "60. 'RT'\n",
       "61. 'P24'\n",
       "62. 'NP338'\n",
       "63. 'GLUT-L1'\n",
       "64. 'ANKRD30A'\n",
       "65. 'MAGE-A4'\n",
       "66. 'MEROPS'\n",
       "67. 'OPT'\n",
       "68. 'PMEL'\n",
       "69. 'P53'\n",
       "70. 'Synthetic'\n",
       "71. 'ENR'\n",
       "72. 'TP53'\n",
       "73. 'PIK3CA'\n",
       "74. 'DQ2-GLIA-OMEGA1'\n",
       "75. 'NS4B'\n",
       "76. 'BST2'\n",
       "77. 'IE2'\n",
       "78. 'UL49'\n",
       "79. 'NSP3'\n",
       "80. 'INS-DRiP'\n",
       "81. 'PTPRN'\n",
       "82. 'EBNA4'\n",
       "83. 'EBNA3B'\n",
       "84. 'pp50'\n",
       "85. 'NP'\n",
       "86. 'LMP2A'\n",
       "87. 'T-Ag'\n",
       "88. '5T4'\n",
       "89. 'BCR-ABL'\n",
       "90. 'GANAB'\n",
       "91. 'GNL3L'\n",
       "92. 'PGM5'\n",
       "93. 'SNX24'\n",
       "94. 'FNDC3B'\n",
       "95. 'SMARCD3'\n",
       "96. 'CDK4'\n",
       "97. 'NY-ESO-2'\n",
       "98. 'NY-ESO-3'\n",
       "99. 'NY-ESO-4'\n",
       "100. 'NY-ESO-5'\n",
       "101. 'NY-ESO-6'\n",
       "102. 'NS5B'\n",
       "103. 'CORE'\n",
       "104. 'E2'\n",
       "105. 'SLC30A8'\n",
       "106. 'KRAS'\n",
       "107. 'MAGEA6'\n",
       "108. 'PDS5A'\n",
       "109. 'MED13'\n",
       "110. 'RFC5'\n",
       "111. 'BRAP'\n",
       "112. 'GINS1'\n",
       "113. 'DPY19L4'\n",
       "114. 'RNF19B'\n",
       "115. 'ASTN1'\n",
       "116. 'MLL2'\n",
       "117. 'WT1'\n",
       "118. 'BCL2L1'\n",
       "119. 'PLA2G6'\n",
       "120. 'E7'\n",
       "121. 'LMP1'\n",
       "122. 'MAGEA1'\n",
       "123. 'TYR'\n",
       "124. 'KanJ'\n",
       "125. 'MAGEA3'\n",
       "126. 'KLK3'\n",
       "127. 'PLCD3'\n",
       "128. 'PPM1'\n",
       "129. 'SRPX'\n",
       "130. 'AHNAK'\n",
       "131. 'AFMID'\n",
       "132. 'HELZ2'\n",
       "133. 'CENPL'\n",
       "134. 'TPX2'\n",
       "135. 'WDR46'\n",
       "136. 'HIVEP2'\n",
       "137. 'AMPH'\n",
       "138. 'Vpr'\n",
       "139. 'Vif'\n",
       "140. 'Matrix'\n",
       "141. 'RNP'\n",
       "142. 'NSP12'\n",
       "143. 'TXNDC11'\n",
       "144. 'U2AF2'\n",
       "145. 'GEMIN'\n",
       "146. 'CD74'\n",
       "147. 'PDE4A'\n",
       "148. 'WDR87'\n",
       "149. 'FANCI'\n",
       "150. 'CRISPLD1'\n",
       "151. 'KLHL7'\n",
       "152. 'ARMT1'\n",
       "153. 'gp100'\n",
       "154. 'SSX2'\n",
       "155. 'MAGE-A1'\n",
       "156. 'ABCB5'\n",
       "157. 'MART1'\n",
       "158. 'Tyrosinase'\n",
       "159. 'NY-ESO'\n",
       "160. 'PORCN'\n",
       "161. 'AKAP9'\n",
       "162. 'ZDBF2'\n",
       "163. 'GCN1L1'\n",
       "164. 'CDKN2A'\n",
       "165. 'PDE7B'\n",
       "166. 'POGK'\n",
       "167. 'MPV17'\n",
       "168. 'M1'\n",
       "169. 'PB1'\n",
       "170. 'IE-1'\n",
       "171. 'UL29/28'\n",
       "172. 'ARHGAP35'\n",
       "173. 'p53'\n",
       "174. 'ERBB2IP'\n",
       "175. 'COL18A1'\n",
       "176. 'KIF16B'\n",
       "177. 'KIAA1279'\n",
       "178. 'XPNPEP1'\n",
       "179. 'UGGT2'\n",
       "180. 'PHKA1'\n",
       "181. 'GNB5'\n",
       "182. 'FBXO21'\n",
       "183. 'RECQL5'\n",
       "184. 'KIAA1967'\n",
       "185. 'SLC3A2'\n",
       "186. 'KIAA0368'\n",
       "187. 'CADPS2'\n",
       "188. 'CTSB'\n",
       "189. 'HER2'\n",
       "190. 'CTBP1'\n",
       "191. 'NUP98'\n",
       "192. 'KARS'\n",
       "193. 'GPD2'\n",
       "194. 'TUBGCP2'\n",
       "195. 'RNF213'\n",
       "196. 'SKIV2L'\n",
       "197. 'H3F3B'\n",
       "198. 'API5'\n",
       "199. 'RNF10'\n",
       "200. 'PHLPP1'\n",
       "201. 'ZFYVE27'\n",
       "202. 'NBAS'\n",
       "203. 'BRAF'\n",
       "204. 'CCND1'\n",
       "205. 'HSD17B12'\n",
       "206. 'LGSN'\n",
       "207. 'MAGE-A2'\n",
       "208. 'MUC5AC'\n",
       "209. 'RSV-GP'\n",
       "210. 'TT'\n",
       "211. 'PPM1F'\n",
       "212. 'ACTN4'\n",
       "213. 'ME1'\n",
       "214. 'SF3B1'\n",
       "215. 'NRAS'\n",
       "216. 'ERBB2'\n",
       "217. 'IGF2BP2'\n",
       "218. 'ORF10'\n",
       "219. 'ORF14'\n",
       "220. 'ORF6'\n",
       "221. 'ORF7a'\n",
       "222. 'ORF7b'\n",
       "223. 'ORF8'\n",
       "224. 'ORF9b'\n",
       "225. 'Envelope'\n",
       "\n",
       "\n"
      ],
      "text/plain": [
       "  [1] \"Nef\"               \"Gliadin\"           \"pp65\"             \n",
       "  [4] \"Nucleocapsid\"      \"ORF3\"              \"ORF1ab\"           \n",
       "  [7] \"Spike\"             \"NDC1\"              \"TKT\"              \n",
       " [10] \"SEC24A\"            \"AKAP13\"            \"EXOC8\"            \n",
       " [13] \"PABPC1\"            \"MLANA\"             \"BRLF1\"            \n",
       " [16] \"Gag\"               \"CFP10\"             \"Rv1195\"           \n",
       " [19] \"Rv3804c\"           \"Rv0288\"            \"Rv3874\"           \n",
       " [22] \"PPE33\"             \"Rv3616c\"           \"Rv1388\"           \n",
       " [25] \"IE1\"               \"EBNA1\"             \"BZLF1\"            \n",
       " [28] \"Tax\"               \"HA\"                \"EBNA3A\"           \n",
       " [31] \"M\"                 \"MBP\"               \"NY-ESO-1\"         \n",
       " [34] \"UL40\"              \"TPI1\"              \"EBNA6\"            \n",
       " [37] \"Tel1\"              \"ABCD3\"             \"BMLF1\"            \n",
       " [40] \"ELAVL4\"            \"INS\"               \"\"                 \n",
       " [43] \"Pol\"               \"TERT\"              \"NS3\"              \n",
       " [46] \"EMC\"               \"Der\"               \"Mimotope\"         \n",
       " [49] \"TRM3\"              \"MIM2\"              \"MAGE-A3\"          \n",
       " [52] \"TITIN\"             \"synthetic\"         \"M1-F5L\"           \n",
       " [55] \"M1-G4E\"            \"DQ8-GLIA-ALPHA1\"   \"DQ8.5-GLIA-GAMMA1\"\n",
       " [58] \"GAG\"               \"Leader peptide\"    \"RT\"               \n",
       " [61] \"P24\"               \"NP338\"             \"GLUT-L1\"          \n",
       " [64] \"ANKRD30A\"          \"MAGE-A4\"           \"MEROPS\"           \n",
       " [67] \"OPT\"               \"PMEL\"              \"P53\"              \n",
       " [70] \"Synthetic\"         \"ENR\"               \"TP53\"             \n",
       " [73] \"PIK3CA\"            \"DQ2-GLIA-OMEGA1\"   \"NS4B\"             \n",
       " [76] \"BST2\"              \"IE2\"               \"UL49\"             \n",
       " [79] \"NSP3\"              \"INS-DRiP\"          \"PTPRN\"            \n",
       " [82] \"EBNA4\"             \"EBNA3B\"            \"pp50\"             \n",
       " [85] \"NP\"                \"LMP2A\"             \"T-Ag\"             \n",
       " [88] \"5T4\"               \"BCR-ABL\"           \"GANAB\"            \n",
       " [91] \"GNL3L\"             \"PGM5\"              \"SNX24\"            \n",
       " [94] \"FNDC3B\"            \"SMARCD3\"           \"CDK4\"             \n",
       " [97] \"NY-ESO-2\"          \"NY-ESO-3\"          \"NY-ESO-4\"         \n",
       "[100] \"NY-ESO-5\"          \"NY-ESO-6\"          \"NS5B\"             \n",
       "[103] \"CORE\"              \"E2\"                \"SLC30A8\"          \n",
       "[106] \"KRAS\"              \"MAGEA6\"            \"PDS5A\"            \n",
       "[109] \"MED13\"             \"RFC5\"              \"BRAP\"             \n",
       "[112] \"GINS1\"             \"DPY19L4\"           \"RNF19B\"           \n",
       "[115] \"ASTN1\"             \"MLL2\"              \"WT1\"              \n",
       "[118] \"BCL2L1\"            \"PLA2G6\"            \"E7\"               \n",
       "[121] \"LMP1\"              \"MAGEA1\"            \"TYR\"              \n",
       "[124] \"KanJ\"              \"MAGEA3\"            \"KLK3\"             \n",
       "[127] \"PLCD3\"             \"PPM1\"              \"SRPX\"             \n",
       "[130] \"AHNAK\"             \"AFMID\"             \"HELZ2\"            \n",
       "[133] \"CENPL\"             \"TPX2\"              \"WDR46\"            \n",
       "[136] \"HIVEP2\"            \"AMPH\"              \"Vpr\"              \n",
       "[139] \"Vif\"               \"Matrix\"            \"RNP\"              \n",
       "[142] \"NSP12\"             \"TXNDC11\"           \"U2AF2\"            \n",
       "[145] \"GEMIN\"             \"CD74\"              \"PDE4A\"            \n",
       "[148] \"WDR87\"             \"FANCI\"             \"CRISPLD1\"         \n",
       "[151] \"KLHL7\"             \"ARMT1\"             \"gp100\"            \n",
       "[154] \"SSX2\"              \"MAGE-A1\"           \"ABCB5\"            \n",
       "[157] \"MART1\"             \"Tyrosinase\"        \"NY-ESO\"           \n",
       "[160] \"PORCN\"             \"AKAP9\"             \"ZDBF2\"            \n",
       "[163] \"GCN1L1\"            \"CDKN2A\"            \"PDE7B\"            \n",
       "[166] \"POGK\"              \"MPV17\"             \"M1\"               \n",
       "[169] \"PB1\"               \"IE-1\"              \"UL29/28\"          \n",
       "[172] \"ARHGAP35\"          \"p53\"               \"ERBB2IP\"          \n",
       "[175] \"COL18A1\"           \"KIF16B\"            \"KIAA1279\"         \n",
       "[178] \"XPNPEP1\"           \"UGGT2\"             \"PHKA1\"            \n",
       "[181] \"GNB5\"              \"FBXO21\"            \"RECQL5\"           \n",
       "[184] \"KIAA1967\"          \"SLC3A2\"            \"KIAA0368\"         \n",
       "[187] \"CADPS2\"            \"CTSB\"              \"HER2\"             \n",
       "[190] \"CTBP1\"             \"NUP98\"             \"KARS\"             \n",
       "[193] \"GPD2\"              \"TUBGCP2\"           \"RNF213\"           \n",
       "[196] \"SKIV2L\"            \"H3F3B\"             \"API5\"             \n",
       "[199] \"RNF10\"             \"PHLPP1\"            \"ZFYVE27\"          \n",
       "[202] \"NBAS\"              \"BRAF\"              \"CCND1\"            \n",
       "[205] \"HSD17B12\"          \"LGSN\"              \"MAGE-A2\"          \n",
       "[208] \"MUC5AC\"            \"RSV-GP\"            \"TT\"               \n",
       "[211] \"PPM1F\"             \"ACTN4\"             \"ME1\"              \n",
       "[214] \"SF3B1\"             \"NRAS\"              \"ERBB2\"            \n",
       "[217] \"IGF2BP2\"           \"ORF10\"             \"ORF14\"            \n",
       "[220] \"ORF6\"              \"ORF7a\"             \"ORF7b\"            \n",
       "[223] \"ORF8\"              \"ORF9b\"             \"Envelope\"         "
      ]
     },
     "metadata": {},
     "output_type": "display_data"
    }
   ],
   "source": [
    "unique(dat$`Epitope gene`)"
   ]
  },
  {
   "cell_type": "code",
   "execution_count": 11,
   "id": "887e02fd",
   "metadata": {},
   "outputs": [
    {
     "data": {
      "text/html": [
       "'HomoSapiens'"
      ],
      "text/latex": [
       "'HomoSapiens'"
      ],
      "text/markdown": [
       "'HomoSapiens'"
      ],
      "text/plain": [
       "[1] \"HomoSapiens\""
      ]
     },
     "metadata": {},
     "output_type": "display_data"
    }
   ],
   "source": [
    "# check categories\n",
    "unique(dat$Species)"
   ]
  },
  {
   "cell_type": "code",
   "execution_count": 12,
   "id": "9c205259",
   "metadata": {},
   "outputs": [
    {
     "data": {
      "text/html": [
       "<style>\n",
       ".list-inline {list-style: none; margin:0; padding: 0}\n",
       ".list-inline>li {display: inline-block}\n",
       ".list-inline>li:not(:last-child)::after {content: \"\\00b7\"; padding: 0 .5ex}\n",
       "</style>\n",
       "<ol class=list-inline><li>'HIV-1'</li><li>'TriticumAestivum'</li><li>'CMV'</li><li>'SARS-CoV-2'</li><li>'HomoSapiens'</li><li>'EBV'</li><li>'M.tuberculosis'</li><li>'HTLV-1'</li><li>'InfluenzaA'</li><li>'SaccharomycesCerevisiae'</li><li>'HCV'</li><li>'E.Coli'</li><li>'HHV'</li><li>'synthetic'</li><li>'DENV1'</li><li>'DENV3/4'</li><li>'SelaginellaMoellendorffii'</li><li>'PseudomonasFluorescens'</li><li>'PseudomonasAeruginosa'</li><li>'HIV1'</li><li>'Homo sapiens'</li><li>'YFV'</li><li>'HSV-2'</li><li>'DENV2'</li><li>'MCPyV'</li><li>'HPV'</li><li>'StreptomycesKanamyceticus'</li><li>'HIV'</li><li>'HCoV-HKU1'</li></ol>\n"
      ],
      "text/latex": [
       "\\begin{enumerate*}\n",
       "\\item 'HIV-1'\n",
       "\\item 'TriticumAestivum'\n",
       "\\item 'CMV'\n",
       "\\item 'SARS-CoV-2'\n",
       "\\item 'HomoSapiens'\n",
       "\\item 'EBV'\n",
       "\\item 'M.tuberculosis'\n",
       "\\item 'HTLV-1'\n",
       "\\item 'InfluenzaA'\n",
       "\\item 'SaccharomycesCerevisiae'\n",
       "\\item 'HCV'\n",
       "\\item 'E.Coli'\n",
       "\\item 'HHV'\n",
       "\\item 'synthetic'\n",
       "\\item 'DENV1'\n",
       "\\item 'DENV3/4'\n",
       "\\item 'SelaginellaMoellendorffii'\n",
       "\\item 'PseudomonasFluorescens'\n",
       "\\item 'PseudomonasAeruginosa'\n",
       "\\item 'HIV1'\n",
       "\\item 'Homo sapiens'\n",
       "\\item 'YFV'\n",
       "\\item 'HSV-2'\n",
       "\\item 'DENV2'\n",
       "\\item 'MCPyV'\n",
       "\\item 'HPV'\n",
       "\\item 'StreptomycesKanamyceticus'\n",
       "\\item 'HIV'\n",
       "\\item 'HCoV-HKU1'\n",
       "\\end{enumerate*}\n"
      ],
      "text/markdown": [
       "1. 'HIV-1'\n",
       "2. 'TriticumAestivum'\n",
       "3. 'CMV'\n",
       "4. 'SARS-CoV-2'\n",
       "5. 'HomoSapiens'\n",
       "6. 'EBV'\n",
       "7. 'M.tuberculosis'\n",
       "8. 'HTLV-1'\n",
       "9. 'InfluenzaA'\n",
       "10. 'SaccharomycesCerevisiae'\n",
       "11. 'HCV'\n",
       "12. 'E.Coli'\n",
       "13. 'HHV'\n",
       "14. 'synthetic'\n",
       "15. 'DENV1'\n",
       "16. 'DENV3/4'\n",
       "17. 'SelaginellaMoellendorffii'\n",
       "18. 'PseudomonasFluorescens'\n",
       "19. 'PseudomonasAeruginosa'\n",
       "20. 'HIV1'\n",
       "21. 'Homo sapiens'\n",
       "22. 'YFV'\n",
       "23. 'HSV-2'\n",
       "24. 'DENV2'\n",
       "25. 'MCPyV'\n",
       "26. 'HPV'\n",
       "27. 'StreptomycesKanamyceticus'\n",
       "28. 'HIV'\n",
       "29. 'HCoV-HKU1'\n",
       "\n",
       "\n"
      ],
      "text/plain": [
       " [1] \"HIV-1\"                     \"TriticumAestivum\"         \n",
       " [3] \"CMV\"                       \"SARS-CoV-2\"               \n",
       " [5] \"HomoSapiens\"               \"EBV\"                      \n",
       " [7] \"M.tuberculosis\"            \"HTLV-1\"                   \n",
       " [9] \"InfluenzaA\"                \"SaccharomycesCerevisiae\"  \n",
       "[11] \"HCV\"                       \"E.Coli\"                   \n",
       "[13] \"HHV\"                       \"synthetic\"                \n",
       "[15] \"DENV1\"                     \"DENV3/4\"                  \n",
       "[17] \"SelaginellaMoellendorffii\" \"PseudomonasFluorescens\"   \n",
       "[19] \"PseudomonasAeruginosa\"     \"HIV1\"                     \n",
       "[21] \"Homo sapiens\"              \"YFV\"                      \n",
       "[23] \"HSV-2\"                     \"DENV2\"                    \n",
       "[25] \"MCPyV\"                     \"HPV\"                      \n",
       "[27] \"StreptomycesKanamyceticus\" \"HIV\"                      \n",
       "[29] \"HCoV-HKU1\"                "
      ]
     },
     "metadata": {},
     "output_type": "display_data"
    }
   ],
   "source": [
    "unique(dat$`Epitope species`) # Homo sapiens are for cancer"
   ]
  },
  {
   "cell_type": "code",
   "execution_count": 13,
   "id": "783dc88b",
   "metadata": {
    "scrolled": true
   },
   "outputs": [
    {
     "data": {
      "text/html": [
       "<table class=\"dataframe\">\n",
       "<caption>A data.frame: 6 × 6</caption>\n",
       "<thead>\n",
       "\t<tr><th></th><th scope=col>CDR3</th><th scope=col>Species</th><th scope=col>MHC A</th><th scope=col>Epitope</th><th scope=col>Epitope species</th><th scope=col>Epitope gene</th></tr>\n",
       "\t<tr><th></th><th scope=col>&lt;chr&gt;</th><th scope=col>&lt;chr&gt;</th><th scope=col>&lt;chr&gt;</th><th scope=col>&lt;chr&gt;</th><th scope=col>&lt;chr&gt;</th><th scope=col>&lt;chr&gt;</th></tr>\n",
       "</thead>\n",
       "<tbody>\n",
       "\t<tr><th scope=row>1</th><td>ASSYLPGQGDHYSNQPQH</td><td>HomoSapiens</td><td>HLA-B*08</td><td>FLKEKGGL</td><td>HIV-1</td><td>Nef</td></tr>\n",
       "\t<tr><th scope=row>2</th><td>ASSFEAGQGFFSNQPQH </td><td>HomoSapiens</td><td>HLA-B*08</td><td>FLKEKGGL</td><td>HIV-1</td><td>Nef</td></tr>\n",
       "\t<tr><th scope=row>3</th><td>ASSFEPGQGFYSNQPQH </td><td>HomoSapiens</td><td>HLA-B*08</td><td>FLKEKGGL</td><td>HIV-1</td><td>Nef</td></tr>\n",
       "\t<tr><th scope=row>4</th><td>ASSYEPGQVSHYSNQPQH</td><td>HomoSapiens</td><td>HLA-B*08</td><td>FLKEKGGL</td><td>HIV-1</td><td>Nef</td></tr>\n",
       "\t<tr><th scope=row>5</th><td>ASSALASLNEQF      </td><td>HomoSapiens</td><td>HLA-B*08</td><td>FLKEKGGL</td><td>HIV-1</td><td>Nef</td></tr>\n",
       "\t<tr><th scope=row>6</th><td>ASSYLPGQGDHYSNQPQH</td><td>HomoSapiens</td><td>HLA-B*08</td><td>FLKEQGGL</td><td>HIV-1</td><td>Nef</td></tr>\n",
       "</tbody>\n",
       "</table>\n"
      ],
      "text/latex": [
       "A data.frame: 6 × 6\n",
       "\\begin{tabular}{r|llllll}\n",
       "  & CDR3 & Species & MHC A & Epitope & Epitope species & Epitope gene\\\\\n",
       "  & <chr> & <chr> & <chr> & <chr> & <chr> & <chr>\\\\\n",
       "\\hline\n",
       "\t1 & ASSYLPGQGDHYSNQPQH & HomoSapiens & HLA-B*08 & FLKEKGGL & HIV-1 & Nef\\\\\n",
       "\t2 & ASSFEAGQGFFSNQPQH  & HomoSapiens & HLA-B*08 & FLKEKGGL & HIV-1 & Nef\\\\\n",
       "\t3 & ASSFEPGQGFYSNQPQH  & HomoSapiens & HLA-B*08 & FLKEKGGL & HIV-1 & Nef\\\\\n",
       "\t4 & ASSYEPGQVSHYSNQPQH & HomoSapiens & HLA-B*08 & FLKEKGGL & HIV-1 & Nef\\\\\n",
       "\t5 & ASSALASLNEQF       & HomoSapiens & HLA-B*08 & FLKEKGGL & HIV-1 & Nef\\\\\n",
       "\t6 & ASSYLPGQGDHYSNQPQH & HomoSapiens & HLA-B*08 & FLKEQGGL & HIV-1 & Nef\\\\\n",
       "\\end{tabular}\n"
      ],
      "text/markdown": [
       "\n",
       "A data.frame: 6 × 6\n",
       "\n",
       "| <!--/--> | CDR3 &lt;chr&gt; | Species &lt;chr&gt; | MHC A &lt;chr&gt; | Epitope &lt;chr&gt; | Epitope species &lt;chr&gt; | Epitope gene &lt;chr&gt; |\n",
       "|---|---|---|---|---|---|---|\n",
       "| 1 | ASSYLPGQGDHYSNQPQH | HomoSapiens | HLA-B*08 | FLKEKGGL | HIV-1 | Nef |\n",
       "| 2 | ASSFEAGQGFFSNQPQH  | HomoSapiens | HLA-B*08 | FLKEKGGL | HIV-1 | Nef |\n",
       "| 3 | ASSFEPGQGFYSNQPQH  | HomoSapiens | HLA-B*08 | FLKEKGGL | HIV-1 | Nef |\n",
       "| 4 | ASSYEPGQVSHYSNQPQH | HomoSapiens | HLA-B*08 | FLKEKGGL | HIV-1 | Nef |\n",
       "| 5 | ASSALASLNEQF       | HomoSapiens | HLA-B*08 | FLKEKGGL | HIV-1 | Nef |\n",
       "| 6 | ASSYLPGQGDHYSNQPQH | HomoSapiens | HLA-B*08 | FLKEQGGL | HIV-1 | Nef |\n",
       "\n"
      ],
      "text/plain": [
       "  CDR3               Species     MHC A    Epitope  Epitope species Epitope gene\n",
       "1 ASSYLPGQGDHYSNQPQH HomoSapiens HLA-B*08 FLKEKGGL HIV-1           Nef         \n",
       "2 ASSFEAGQGFFSNQPQH  HomoSapiens HLA-B*08 FLKEKGGL HIV-1           Nef         \n",
       "3 ASSFEPGQGFYSNQPQH  HomoSapiens HLA-B*08 FLKEKGGL HIV-1           Nef         \n",
       "4 ASSYEPGQVSHYSNQPQH HomoSapiens HLA-B*08 FLKEKGGL HIV-1           Nef         \n",
       "5 ASSALASLNEQF       HomoSapiens HLA-B*08 FLKEKGGL HIV-1           Nef         \n",
       "6 ASSYLPGQGDHYSNQPQH HomoSapiens HLA-B*08 FLKEQGGL HIV-1           Nef         "
      ]
     },
     "metadata": {},
     "output_type": "display_data"
    }
   ],
   "source": [
    "head(dat)"
   ]
  },
  {
   "cell_type": "code",
   "execution_count": 14,
   "id": "e1af6e72",
   "metadata": {},
   "outputs": [
    {
     "data": {
      "text/html": [
       "<style>\n",
       ".list-inline {list-style: none; margin:0; padding: 0}\n",
       ".list-inline>li {display: inline-block}\n",
       ".list-inline>li:not(:last-child)::after {content: \"\\00b7\"; padding: 0 .5ex}\n",
       "</style>\n",
       "<ol class=list-inline><li>39635</li><li>5</li></ol>\n"
      ],
      "text/latex": [
       "\\begin{enumerate*}\n",
       "\\item 39635\n",
       "\\item 5\n",
       "\\end{enumerate*}\n"
      ],
      "text/markdown": [
       "1. 39635\n",
       "2. 5\n",
       "\n",
       "\n"
      ],
      "text/plain": [
       "[1] 39635     5"
      ]
     },
     "metadata": {},
     "output_type": "display_data"
    }
   ],
   "source": [
    "dat <- unique(dat[, c('CDR3', 'Species', 'MHC A', 'Epitope', 'Epitope species')])\n",
    "dim(dat)"
   ]
  },
  {
   "cell_type": "code",
   "execution_count": 15,
   "id": "34b569fa",
   "metadata": {},
   "outputs": [
    {
     "data": {
      "text/html": [
       "<style>\n",
       ".list-inline {list-style: none; margin:0; padding: 0}\n",
       ".list-inline>li {display: inline-block}\n",
       ".list-inline>li:not(:last-child)::after {content: \"\\00b7\"; padding: 0 .5ex}\n",
       "</style>\n",
       "<ol class=list-inline><li>39239</li><li>2</li></ol>\n"
      ],
      "text/latex": [
       "\\begin{enumerate*}\n",
       "\\item 39239\n",
       "\\item 2\n",
       "\\end{enumerate*}\n"
      ],
      "text/markdown": [
       "1. 39239\n",
       "2. 2\n",
       "\n",
       "\n"
      ],
      "text/plain": [
       "[1] 39239     2"
      ]
     },
     "metadata": {},
     "output_type": "display_data"
    }
   ],
   "source": [
    "dat_wohla <- dat[, c('CDR3', 'Epitope')]\n",
    "dat_wohla <- unique(dat_wohla)\n",
    "dim(dat_wohla)"
   ]
  },
  {
   "cell_type": "code",
   "execution_count": 16,
   "id": "8f231ee9",
   "metadata": {},
   "outputs": [],
   "source": [
    "write.table(dat_wohla, 'VDJdb-without-HLA.csv', append = F, quote = F, row.names = F, sep = ',')"
   ]
  },
  {
   "cell_type": "code",
   "execution_count": 17,
   "id": "0ea9b5c6",
   "metadata": {
    "scrolled": true
   },
   "outputs": [
    {
     "data": {
      "text/html": [
       "105"
      ],
      "text/latex": [
       "105"
      ],
      "text/markdown": [
       "105"
      ],
      "text/plain": [
       "[1] 105"
      ]
     },
     "metadata": {},
     "output_type": "display_data"
    },
    {
     "data": {
      "text/html": [
       "<style>\n",
       ".list-inline {list-style: none; margin:0; padding: 0}\n",
       ".list-inline>li {display: inline-block}\n",
       ".list-inline>li:not(:last-child)::after {content: \"\\00b7\"; padding: 0 .5ex}\n",
       "</style>\n",
       "<ol class=list-inline><li>'HLA-A*01'</li><li>'HLA-A*01:01'</li><li>'HLA-A*01:01:73'</li><li>'HLA-A*02'</li><li>'HLA-A*02:01'</li><li>'HLA-A*02:01:110'</li><li>'HLA-A*02:01:48'</li><li>'HLA-A*02:01:59'</li><li>'HLA-A*02:01:98'</li><li>'HLA-A*02:06:01:03'</li><li>'HLA-A*02:256'</li><li>'HLA-A*02:266'</li><li>'HLA-A*03'</li><li>'HLA-A*03:01'</li><li>'HLA-A*08:01'</li><li>'HLA-A*11'</li><li>'HLA-A*11:01'</li><li>'HLA-A*11:01:18'</li><li>'HLA-A*24:01'</li><li>'HLA-A*24:02'</li><li>'HLA-A*24:02:33'</li><li>'HLA-A*24:02:84'</li><li>'HLA-A*25:01'</li><li>'HLA-A*29:02'</li><li>'HLA-A*30:02'</li><li>'HLA-A*32:01'</li><li>'HLA-A*68:01'</li><li>'HLA-B*07'</li><li>'HLA-B*07:02'</li><li>'HLA-B*07:02:48'</li><li>'HLA-B*08'</li><li>'HLA-B*08:01'</li><li>'HLA-B*08:01:29'</li><li>'HLA-B*12'</li><li>'HLA-B*14:02'</li><li>'HLA-B*15'</li><li>'HLA-B*15:01'</li><li>'HLA-B*18'</li><li>'HLA-B*18:01'</li><li>'HLA-B*27'</li><li>'HLA-B*27:05'</li><li>'HLA-B*27:05:31'</li><li>'HLA-B*35'</li><li>'HLA-B*35:01'</li><li>'HLA-B*35:01:45'</li><li>'HLA-B*35:08'</li><li>'HLA-B*35:08:01'</li><li>'HLA-B*35:42:01'</li><li>'HLA-B*35:42:02'</li><li>'HLA-B*37:01:10'</li><li>'HLA-B*38:01'</li><li>'HLA-B*40:01'</li><li>'HLA-B*42'</li><li>'HLA-B*42:01'</li><li>'HLA-B*44'</li><li>'HLA-B*44:02'</li><li>'HLA-B*44:03'</li><li>'HLA-B*44:03:08'</li><li>'HLA-B*44:05'</li><li>'HLA-B*44:05:01'</li><li>'HLA-B*51:01'</li><li>'HLA-B*51:193'</li><li>'HLA-B*52:01'</li><li>'HLA-B*53'</li><li>'HLA-B*57'</li><li>'HLA-B*57:01'</li><li>'HLA-B*57:06'</li><li>'HLA-B*58'</li><li>'HLA-B*81:01'</li><li>'HLA-C*01:02'</li><li>'HLA-C*03:03'</li><li>'HLA-C*03:04'</li><li>'HLA-C*04:01'</li><li>'HLA-C*05:01'</li><li>'HLA-C*06:02'</li><li>'HLA-C*07:01'</li><li>'HLA-C*07:02'</li><li>'HLA-C*08:02'</li><li>'HLA-C*08:02:12'</li><li>'HLA-C*14:02'</li><li>'HLA-DPA1*01:03'</li><li>'HLA-DPA1*01:03:05'</li><li>'HLA-DPA1*01:04'</li><li>'HLA-DPA1*02:01'</li><li>'HLA-DQA*01'</li><li>'HLA-DQA1*01:02'</li><li>'HLA-DQA1*01:02:04'</li><li>'HLA-DQA1*01:03'</li><li>'HLA-DQA1*01:11'</li><li>'HLA-DQA1*02:01'</li><li>'HLA-DQA1*03:01'</li><li>'HLA-DQA1*03:01:01'</li><li>'HLA-DQA1*05'</li><li>'HLA-DQA1*05:01'</li><li>'HLA-DQA1*05:01:01:02'</li><li>'HLA-DQA1*05:05'</li><li>'HLA-DQA1*05:09'</li><li>'HLA-DRA*01'</li><li>'HLA-DRA*01:01'</li><li>'HLA-DRA*01:01:02'</li><li>'HLA-DRA*01:02:03'</li><li>'HLA-DRA1*01'</li><li>'HLA-DRB1*07:01'</li><li>'HLA-E*01:01:01:03'</li><li>'HLA-E*01:03'</li></ol>\n"
      ],
      "text/latex": [
       "\\begin{enumerate*}\n",
       "\\item 'HLA-A*01'\n",
       "\\item 'HLA-A*01:01'\n",
       "\\item 'HLA-A*01:01:73'\n",
       "\\item 'HLA-A*02'\n",
       "\\item 'HLA-A*02:01'\n",
       "\\item 'HLA-A*02:01:110'\n",
       "\\item 'HLA-A*02:01:48'\n",
       "\\item 'HLA-A*02:01:59'\n",
       "\\item 'HLA-A*02:01:98'\n",
       "\\item 'HLA-A*02:06:01:03'\n",
       "\\item 'HLA-A*02:256'\n",
       "\\item 'HLA-A*02:266'\n",
       "\\item 'HLA-A*03'\n",
       "\\item 'HLA-A*03:01'\n",
       "\\item 'HLA-A*08:01'\n",
       "\\item 'HLA-A*11'\n",
       "\\item 'HLA-A*11:01'\n",
       "\\item 'HLA-A*11:01:18'\n",
       "\\item 'HLA-A*24:01'\n",
       "\\item 'HLA-A*24:02'\n",
       "\\item 'HLA-A*24:02:33'\n",
       "\\item 'HLA-A*24:02:84'\n",
       "\\item 'HLA-A*25:01'\n",
       "\\item 'HLA-A*29:02'\n",
       "\\item 'HLA-A*30:02'\n",
       "\\item 'HLA-A*32:01'\n",
       "\\item 'HLA-A*68:01'\n",
       "\\item 'HLA-B*07'\n",
       "\\item 'HLA-B*07:02'\n",
       "\\item 'HLA-B*07:02:48'\n",
       "\\item 'HLA-B*08'\n",
       "\\item 'HLA-B*08:01'\n",
       "\\item 'HLA-B*08:01:29'\n",
       "\\item 'HLA-B*12'\n",
       "\\item 'HLA-B*14:02'\n",
       "\\item 'HLA-B*15'\n",
       "\\item 'HLA-B*15:01'\n",
       "\\item 'HLA-B*18'\n",
       "\\item 'HLA-B*18:01'\n",
       "\\item 'HLA-B*27'\n",
       "\\item 'HLA-B*27:05'\n",
       "\\item 'HLA-B*27:05:31'\n",
       "\\item 'HLA-B*35'\n",
       "\\item 'HLA-B*35:01'\n",
       "\\item 'HLA-B*35:01:45'\n",
       "\\item 'HLA-B*35:08'\n",
       "\\item 'HLA-B*35:08:01'\n",
       "\\item 'HLA-B*35:42:01'\n",
       "\\item 'HLA-B*35:42:02'\n",
       "\\item 'HLA-B*37:01:10'\n",
       "\\item 'HLA-B*38:01'\n",
       "\\item 'HLA-B*40:01'\n",
       "\\item 'HLA-B*42'\n",
       "\\item 'HLA-B*42:01'\n",
       "\\item 'HLA-B*44'\n",
       "\\item 'HLA-B*44:02'\n",
       "\\item 'HLA-B*44:03'\n",
       "\\item 'HLA-B*44:03:08'\n",
       "\\item 'HLA-B*44:05'\n",
       "\\item 'HLA-B*44:05:01'\n",
       "\\item 'HLA-B*51:01'\n",
       "\\item 'HLA-B*51:193'\n",
       "\\item 'HLA-B*52:01'\n",
       "\\item 'HLA-B*53'\n",
       "\\item 'HLA-B*57'\n",
       "\\item 'HLA-B*57:01'\n",
       "\\item 'HLA-B*57:06'\n",
       "\\item 'HLA-B*58'\n",
       "\\item 'HLA-B*81:01'\n",
       "\\item 'HLA-C*01:02'\n",
       "\\item 'HLA-C*03:03'\n",
       "\\item 'HLA-C*03:04'\n",
       "\\item 'HLA-C*04:01'\n",
       "\\item 'HLA-C*05:01'\n",
       "\\item 'HLA-C*06:02'\n",
       "\\item 'HLA-C*07:01'\n",
       "\\item 'HLA-C*07:02'\n",
       "\\item 'HLA-C*08:02'\n",
       "\\item 'HLA-C*08:02:12'\n",
       "\\item 'HLA-C*14:02'\n",
       "\\item 'HLA-DPA1*01:03'\n",
       "\\item 'HLA-DPA1*01:03:05'\n",
       "\\item 'HLA-DPA1*01:04'\n",
       "\\item 'HLA-DPA1*02:01'\n",
       "\\item 'HLA-DQA*01'\n",
       "\\item 'HLA-DQA1*01:02'\n",
       "\\item 'HLA-DQA1*01:02:04'\n",
       "\\item 'HLA-DQA1*01:03'\n",
       "\\item 'HLA-DQA1*01:11'\n",
       "\\item 'HLA-DQA1*02:01'\n",
       "\\item 'HLA-DQA1*03:01'\n",
       "\\item 'HLA-DQA1*03:01:01'\n",
       "\\item 'HLA-DQA1*05'\n",
       "\\item 'HLA-DQA1*05:01'\n",
       "\\item 'HLA-DQA1*05:01:01:02'\n",
       "\\item 'HLA-DQA1*05:05'\n",
       "\\item 'HLA-DQA1*05:09'\n",
       "\\item 'HLA-DRA*01'\n",
       "\\item 'HLA-DRA*01:01'\n",
       "\\item 'HLA-DRA*01:01:02'\n",
       "\\item 'HLA-DRA*01:02:03'\n",
       "\\item 'HLA-DRA1*01'\n",
       "\\item 'HLA-DRB1*07:01'\n",
       "\\item 'HLA-E*01:01:01:03'\n",
       "\\item 'HLA-E*01:03'\n",
       "\\end{enumerate*}\n"
      ],
      "text/markdown": [
       "1. 'HLA-A*01'\n",
       "2. 'HLA-A*01:01'\n",
       "3. 'HLA-A*01:01:73'\n",
       "4. 'HLA-A*02'\n",
       "5. 'HLA-A*02:01'\n",
       "6. 'HLA-A*02:01:110'\n",
       "7. 'HLA-A*02:01:48'\n",
       "8. 'HLA-A*02:01:59'\n",
       "9. 'HLA-A*02:01:98'\n",
       "10. 'HLA-A*02:06:01:03'\n",
       "11. 'HLA-A*02:256'\n",
       "12. 'HLA-A*02:266'\n",
       "13. 'HLA-A*03'\n",
       "14. 'HLA-A*03:01'\n",
       "15. 'HLA-A*08:01'\n",
       "16. 'HLA-A*11'\n",
       "17. 'HLA-A*11:01'\n",
       "18. 'HLA-A*11:01:18'\n",
       "19. 'HLA-A*24:01'\n",
       "20. 'HLA-A*24:02'\n",
       "21. 'HLA-A*24:02:33'\n",
       "22. 'HLA-A*24:02:84'\n",
       "23. 'HLA-A*25:01'\n",
       "24. 'HLA-A*29:02'\n",
       "25. 'HLA-A*30:02'\n",
       "26. 'HLA-A*32:01'\n",
       "27. 'HLA-A*68:01'\n",
       "28. 'HLA-B*07'\n",
       "29. 'HLA-B*07:02'\n",
       "30. 'HLA-B*07:02:48'\n",
       "31. 'HLA-B*08'\n",
       "32. 'HLA-B*08:01'\n",
       "33. 'HLA-B*08:01:29'\n",
       "34. 'HLA-B*12'\n",
       "35. 'HLA-B*14:02'\n",
       "36. 'HLA-B*15'\n",
       "37. 'HLA-B*15:01'\n",
       "38. 'HLA-B*18'\n",
       "39. 'HLA-B*18:01'\n",
       "40. 'HLA-B*27'\n",
       "41. 'HLA-B*27:05'\n",
       "42. 'HLA-B*27:05:31'\n",
       "43. 'HLA-B*35'\n",
       "44. 'HLA-B*35:01'\n",
       "45. 'HLA-B*35:01:45'\n",
       "46. 'HLA-B*35:08'\n",
       "47. 'HLA-B*35:08:01'\n",
       "48. 'HLA-B*35:42:01'\n",
       "49. 'HLA-B*35:42:02'\n",
       "50. 'HLA-B*37:01:10'\n",
       "51. 'HLA-B*38:01'\n",
       "52. 'HLA-B*40:01'\n",
       "53. 'HLA-B*42'\n",
       "54. 'HLA-B*42:01'\n",
       "55. 'HLA-B*44'\n",
       "56. 'HLA-B*44:02'\n",
       "57. 'HLA-B*44:03'\n",
       "58. 'HLA-B*44:03:08'\n",
       "59. 'HLA-B*44:05'\n",
       "60. 'HLA-B*44:05:01'\n",
       "61. 'HLA-B*51:01'\n",
       "62. 'HLA-B*51:193'\n",
       "63. 'HLA-B*52:01'\n",
       "64. 'HLA-B*53'\n",
       "65. 'HLA-B*57'\n",
       "66. 'HLA-B*57:01'\n",
       "67. 'HLA-B*57:06'\n",
       "68. 'HLA-B*58'\n",
       "69. 'HLA-B*81:01'\n",
       "70. 'HLA-C*01:02'\n",
       "71. 'HLA-C*03:03'\n",
       "72. 'HLA-C*03:04'\n",
       "73. 'HLA-C*04:01'\n",
       "74. 'HLA-C*05:01'\n",
       "75. 'HLA-C*06:02'\n",
       "76. 'HLA-C*07:01'\n",
       "77. 'HLA-C*07:02'\n",
       "78. 'HLA-C*08:02'\n",
       "79. 'HLA-C*08:02:12'\n",
       "80. 'HLA-C*14:02'\n",
       "81. 'HLA-DPA1*01:03'\n",
       "82. 'HLA-DPA1*01:03:05'\n",
       "83. 'HLA-DPA1*01:04'\n",
       "84. 'HLA-DPA1*02:01'\n",
       "85. 'HLA-DQA*01'\n",
       "86. 'HLA-DQA1*01:02'\n",
       "87. 'HLA-DQA1*01:02:04'\n",
       "88. 'HLA-DQA1*01:03'\n",
       "89. 'HLA-DQA1*01:11'\n",
       "90. 'HLA-DQA1*02:01'\n",
       "91. 'HLA-DQA1*03:01'\n",
       "92. 'HLA-DQA1*03:01:01'\n",
       "93. 'HLA-DQA1*05'\n",
       "94. 'HLA-DQA1*05:01'\n",
       "95. 'HLA-DQA1*05:01:01:02'\n",
       "96. 'HLA-DQA1*05:05'\n",
       "97. 'HLA-DQA1*05:09'\n",
       "98. 'HLA-DRA*01'\n",
       "99. 'HLA-DRA*01:01'\n",
       "100. 'HLA-DRA*01:01:02'\n",
       "101. 'HLA-DRA*01:02:03'\n",
       "102. 'HLA-DRA1*01'\n",
       "103. 'HLA-DRB1*07:01'\n",
       "104. 'HLA-E*01:01:01:03'\n",
       "105. 'HLA-E*01:03'\n",
       "\n",
       "\n"
      ],
      "text/plain": [
       "  [1] \"HLA-A*01\"             \"HLA-A*01:01\"          \"HLA-A*01:01:73\"      \n",
       "  [4] \"HLA-A*02\"             \"HLA-A*02:01\"          \"HLA-A*02:01:110\"     \n",
       "  [7] \"HLA-A*02:01:48\"       \"HLA-A*02:01:59\"       \"HLA-A*02:01:98\"      \n",
       " [10] \"HLA-A*02:06:01:03\"    \"HLA-A*02:256\"         \"HLA-A*02:266\"        \n",
       " [13] \"HLA-A*03\"             \"HLA-A*03:01\"          \"HLA-A*08:01\"         \n",
       " [16] \"HLA-A*11\"             \"HLA-A*11:01\"          \"HLA-A*11:01:18\"      \n",
       " [19] \"HLA-A*24:01\"          \"HLA-A*24:02\"          \"HLA-A*24:02:33\"      \n",
       " [22] \"HLA-A*24:02:84\"       \"HLA-A*25:01\"          \"HLA-A*29:02\"         \n",
       " [25] \"HLA-A*30:02\"          \"HLA-A*32:01\"          \"HLA-A*68:01\"         \n",
       " [28] \"HLA-B*07\"             \"HLA-B*07:02\"          \"HLA-B*07:02:48\"      \n",
       " [31] \"HLA-B*08\"             \"HLA-B*08:01\"          \"HLA-B*08:01:29\"      \n",
       " [34] \"HLA-B*12\"             \"HLA-B*14:02\"          \"HLA-B*15\"            \n",
       " [37] \"HLA-B*15:01\"          \"HLA-B*18\"             \"HLA-B*18:01\"         \n",
       " [40] \"HLA-B*27\"             \"HLA-B*27:05\"          \"HLA-B*27:05:31\"      \n",
       " [43] \"HLA-B*35\"             \"HLA-B*35:01\"          \"HLA-B*35:01:45\"      \n",
       " [46] \"HLA-B*35:08\"          \"HLA-B*35:08:01\"       \"HLA-B*35:42:01\"      \n",
       " [49] \"HLA-B*35:42:02\"       \"HLA-B*37:01:10\"       \"HLA-B*38:01\"         \n",
       " [52] \"HLA-B*40:01\"          \"HLA-B*42\"             \"HLA-B*42:01\"         \n",
       " [55] \"HLA-B*44\"             \"HLA-B*44:02\"          \"HLA-B*44:03\"         \n",
       " [58] \"HLA-B*44:03:08\"       \"HLA-B*44:05\"          \"HLA-B*44:05:01\"      \n",
       " [61] \"HLA-B*51:01\"          \"HLA-B*51:193\"         \"HLA-B*52:01\"         \n",
       " [64] \"HLA-B*53\"             \"HLA-B*57\"             \"HLA-B*57:01\"         \n",
       " [67] \"HLA-B*57:06\"          \"HLA-B*58\"             \"HLA-B*81:01\"         \n",
       " [70] \"HLA-C*01:02\"          \"HLA-C*03:03\"          \"HLA-C*03:04\"         \n",
       " [73] \"HLA-C*04:01\"          \"HLA-C*05:01\"          \"HLA-C*06:02\"         \n",
       " [76] \"HLA-C*07:01\"          \"HLA-C*07:02\"          \"HLA-C*08:02\"         \n",
       " [79] \"HLA-C*08:02:12\"       \"HLA-C*14:02\"          \"HLA-DPA1*01:03\"      \n",
       " [82] \"HLA-DPA1*01:03:05\"    \"HLA-DPA1*01:04\"       \"HLA-DPA1*02:01\"      \n",
       " [85] \"HLA-DQA*01\"           \"HLA-DQA1*01:02\"       \"HLA-DQA1*01:02:04\"   \n",
       " [88] \"HLA-DQA1*01:03\"       \"HLA-DQA1*01:11\"       \"HLA-DQA1*02:01\"      \n",
       " [91] \"HLA-DQA1*03:01\"       \"HLA-DQA1*03:01:01\"    \"HLA-DQA1*05\"         \n",
       " [94] \"HLA-DQA1*05:01\"       \"HLA-DQA1*05:01:01:02\" \"HLA-DQA1*05:05\"      \n",
       " [97] \"HLA-DQA1*05:09\"       \"HLA-DRA*01\"           \"HLA-DRA*01:01\"       \n",
       "[100] \"HLA-DRA*01:01:02\"     \"HLA-DRA*01:02:03\"     \"HLA-DRA1*01\"         \n",
       "[103] \"HLA-DRB1*07:01\"       \"HLA-E*01:01:01:03\"    \"HLA-E*01:03\"         "
      ]
     },
     "metadata": {},
     "output_type": "display_data"
    }
   ],
   "source": [
    "length(unique(dat$`MHC A`))\n",
    "sort(unique(dat$`MHC A`))"
   ]
  },
  {
   "cell_type": "code",
   "execution_count": 18,
   "id": "f18a14c6",
   "metadata": {},
   "outputs": [],
   "source": [
    "# from https://www.ncbi.nlm.nih.gov/pmc/articles/PMC7204072/, filtering alleles having AF < 10\n",
    "viet_alleles <- c(\"HLA-A*02:03\", \"HLA-A*02:07\", \"HLA-A*11:01\", \"HLA-A*24:02\", \"HLA-A*29:01\", \"HLA-A*33:03\",\n",
    "                  \"HLA-B*07:05\", \"HLA-B*15:02\", \"HLA-B*15:25\", \"HLA-B*38:02\", \"HLA-B*40:01:02\", \"HLA-B*46:01\", \"HLA-B*58:01\",\n",
    "                  \"HLA-C*01:02\", \"HLA-C*03:02:02\", \"HLA-C*03:04\", \"HLA-C*04:01\", \"HLA-C*04:03\", \"HLA-C*07:02\", \"HLA-C*08:01\", \"HLA-C*15:05:02\",\n",
    "                  \"HLA-DRB1*03:01\", \"HLA-DRB1*04:05\", \"HLA-DRB1*08:03\", \"HLA-DRB1*09:01:02\", \"HLA-DRB1*10:01\", \"HLA-DRB1*12:02\", \"HLA-DRB1*15:02\",\n",
    "                  \"HLA-DQB1*02:01\", \"HLA-DQB1*03:01\", \"HLA-DQB1*03:03\", \"HLA-DQB1*04:01\", \"HLA-DQB1*05:01\", \"HLA-DQB1*05:02\", \"HLA-DQB1*06:01\"\n",
    "                 )"
   ]
  },
  {
   "cell_type": "code",
   "execution_count": 19,
   "id": "efaf271d",
   "metadata": {},
   "outputs": [],
   "source": [
    "dat_alleles <- unique(dat$`MHC A`)"
   ]
  },
  {
   "cell_type": "code",
   "execution_count": 20,
   "id": "bafd7b0e",
   "metadata": {},
   "outputs": [
    {
     "data": {
      "text/html": [
       "<style>\n",
       ".list-inline {list-style: none; margin:0; padding: 0}\n",
       ".list-inline>li {display: inline-block}\n",
       ".list-inline>li:not(:last-child)::after {content: \"\\00b7\"; padding: 0 .5ex}\n",
       "</style>\n",
       "<ol class=list-inline><li>'HLA-A*11:01'</li><li>'HLA-A*24:02'</li><li>'HLA-C*01:02'</li><li>'HLA-C*03:04'</li><li>'HLA-C*04:01'</li><li>'HLA-C*07:02'</li></ol>\n"
      ],
      "text/latex": [
       "\\begin{enumerate*}\n",
       "\\item 'HLA-A*11:01'\n",
       "\\item 'HLA-A*24:02'\n",
       "\\item 'HLA-C*01:02'\n",
       "\\item 'HLA-C*03:04'\n",
       "\\item 'HLA-C*04:01'\n",
       "\\item 'HLA-C*07:02'\n",
       "\\end{enumerate*}\n"
      ],
      "text/markdown": [
       "1. 'HLA-A*11:01'\n",
       "2. 'HLA-A*24:02'\n",
       "3. 'HLA-C*01:02'\n",
       "4. 'HLA-C*03:04'\n",
       "5. 'HLA-C*04:01'\n",
       "6. 'HLA-C*07:02'\n",
       "\n",
       "\n"
      ],
      "text/plain": [
       "[1] \"HLA-A*11:01\" \"HLA-A*24:02\" \"HLA-C*01:02\" \"HLA-C*03:04\" \"HLA-C*04:01\"\n",
       "[6] \"HLA-C*07:02\""
      ]
     },
     "metadata": {},
     "output_type": "display_data"
    },
    {
     "data": {
      "text/plain": [
       "\n",
       "HLA-A*11:01 HLA-A*24:02 HLA-C*01:02 HLA-C*03:04 HLA-C*04:01 HLA-C*07:02 \n",
       "       2564         458           2           1           1          41 "
      ]
     },
     "metadata": {},
     "output_type": "display_data"
    }
   ],
   "source": [
    "intersect(viet_alleles, dat_alleles)\n",
    "table(dat[dat$`MHC A` %in% intersect(viet_alleles, dat_alleles), 'MHC A'])"
   ]
  },
  {
   "cell_type": "code",
   "execution_count": 21,
   "id": "68b1d89f",
   "metadata": {},
   "outputs": [
    {
     "name": "stderr",
     "output_type": "stream",
     "text": [
      "Remember to cat() to see result with single escapes.\n",
      "\n"
     ]
    },
    {
     "data": {
      "text/html": [
       "<style>\n",
       ".list-inline {list-style: none; margin:0; padding: 0}\n",
       ".list-inline>li {display: inline-block}\n",
       ".list-inline>li:not(:last-child)::after {content: \"\\00b7\"; padding: 0 .5ex}\n",
       "</style>\n",
       "<ol class=list-inline><li>'HLA-A*02:03'</li><li>'HLA-A*02:07'</li><li>'HLA-B*07:05'</li><li>'HLA-B*15:02'</li><li>'HLA-B*15:25'</li><li>'HLA-B*40:01:02'</li><li>'HLA-B*58:01'</li></ol>\n"
      ],
      "text/latex": [
       "\\begin{enumerate*}\n",
       "\\item 'HLA-A*02:03'\n",
       "\\item 'HLA-A*02:07'\n",
       "\\item 'HLA-B*07:05'\n",
       "\\item 'HLA-B*15:02'\n",
       "\\item 'HLA-B*15:25'\n",
       "\\item 'HLA-B*40:01:02'\n",
       "\\item 'HLA-B*58:01'\n",
       "\\end{enumerate*}\n"
      ],
      "text/markdown": [
       "1. 'HLA-A*02:03'\n",
       "2. 'HLA-A*02:07'\n",
       "3. 'HLA-B*07:05'\n",
       "4. 'HLA-B*15:02'\n",
       "5. 'HLA-B*15:25'\n",
       "6. 'HLA-B*40:01:02'\n",
       "7. 'HLA-B*58:01'\n",
       "\n",
       "\n"
      ],
      "text/plain": [
       "[1] \"HLA-A*02:03\"    \"HLA-A*02:07\"    \"HLA-B*07:05\"    \"HLA-B*15:02\"   \n",
       "[5] \"HLA-B*15:25\"    \"HLA-B*40:01:02\" \"HLA-B*58:01\"   "
      ]
     },
     "metadata": {},
     "output_type": "display_data"
    },
    {
     "data": {
      "text/plain": [
       "\n",
       "   HLA-A*02    HLA-B*07    HLA-B*15 HLA-B*40:01    HLA-B*58 \n",
       "       8494          22          30           2           2 "
      ]
     },
     "metadata": {},
     "output_type": "display_data"
    },
    {
     "data": {
      "text/plain": [
       "             Epitope species\n",
       "MHC A          CMV  EBV  HCV HIV-1 Homo sapiens HomoSapiens InfluenzaA\n",
       "  HLA-A*02    4046  229  124    38            1        1329       2096\n",
       "  HLA-B*07      22    0    0     0            0           0          0\n",
       "  HLA-B*15       0    0    0    30            0           0          0\n",
       "  HLA-B*40:01    0    0    0     0            0           2          0\n",
       "  HLA-B*58       0    0    0     2            0           0          0\n",
       "             Epitope species\n",
       "MHC A         SARS-CoV-2  YFV\n",
       "  HLA-A*02           493  138\n",
       "  HLA-B*07             0    0\n",
       "  HLA-B*15             0    0\n",
       "  HLA-B*40:01          0    0\n",
       "  HLA-B*58             0    0"
      ]
     },
     "metadata": {},
     "output_type": "display_data"
    }
   ],
   "source": [
    "viet_over_dat_alleles <- viet_alleles[grepl(paste(str_escape(dat_alleles), collapse = \"|\"), viet_alleles) & !viet_alleles %in% dat_alleles]\n",
    "viet_over_dat_alleles\n",
    "table(dat[dat$`MHC A` %in% gsub('[:]..$', '', viet_over_dat_alleles), 'MHC A'])\n",
    "table(dat[dat$`MHC A` %in% gsub('[:]..$', '', viet_over_dat_alleles), c('MHC A', 'Epitope species')])"
   ]
  },
  {
   "cell_type": "code",
   "execution_count": 22,
   "id": "1a38c05e",
   "metadata": {},
   "outputs": [
    {
     "name": "stderr",
     "output_type": "stream",
     "text": [
      "Remember to cat() to see result with single escapes.\n",
      "\n"
     ]
    },
    {
     "data": {
      "text/html": [
       "<style>\n",
       ".list-inline {list-style: none; margin:0; padding: 0}\n",
       ".list-inline>li {display: inline-block}\n",
       ".list-inline>li:not(:last-child)::after {content: \"\\00b7\"; padding: 0 .5ex}\n",
       "</style>\n",
       "<ol class=list-inline><li>'HLA-A*24:02:84'</li><li>'HLA-A*24:02:33'</li><li>'HLA-A*11:01:18'</li></ol>\n"
      ],
      "text/latex": [
       "\\begin{enumerate*}\n",
       "\\item 'HLA-A*24:02:84'\n",
       "\\item 'HLA-A*24:02:33'\n",
       "\\item 'HLA-A*11:01:18'\n",
       "\\end{enumerate*}\n"
      ],
      "text/markdown": [
       "1. 'HLA-A*24:02:84'\n",
       "2. 'HLA-A*24:02:33'\n",
       "3. 'HLA-A*11:01:18'\n",
       "\n",
       "\n"
      ],
      "text/plain": [
       "[1] \"HLA-A*24:02:84\" \"HLA-A*24:02:33\" \"HLA-A*11:01:18\""
      ]
     },
     "metadata": {},
     "output_type": "display_data"
    },
    {
     "data": {
      "text/plain": [
       "\n",
       "HLA-A*11:01 HLA-A*24:02 \n",
       "       2564         458 "
      ]
     },
     "metadata": {},
     "output_type": "display_data"
    },
    {
     "data": {
      "text/plain": [
       "             Epitope species\n",
       "MHC A          CMV DENV1 DENV2 DENV3/4  EBV HTLV-1 HomoSapiens SARS-CoV-2\n",
       "  HLA-A*11:01    0   165    60     158 2176      0           3          2\n",
       "  HLA-A*24:02   77     0     0       0    9    132          26        214"
      ]
     },
     "metadata": {},
     "output_type": "display_data"
    }
   ],
   "source": [
    "dat_over_viet_alleles <- dat_alleles[grepl(paste(str_escape(viet_alleles), collapse = \"|\"), dat_alleles) & !dat_alleles %in% viet_alleles]\n",
    "dat_over_viet_alleles\n",
    "table(dat[dat$`MHC A` %in% gsub('[:]..$', '', dat_over_viet_alleles), 'MHC A'])\n",
    "table(dat[dat$`MHC A` %in% gsub('[:]..$', '', dat_over_viet_alleles), c('MHC A', 'Epitope species')])"
   ]
  },
  {
   "cell_type": "code",
   "execution_count": 23,
   "id": "553359ce",
   "metadata": {},
   "outputs": [
    {
     "data": {
      "text/html": [
       "<table class=\"dataframe\">\n",
       "<caption>A data.frame: 6 × 3</caption>\n",
       "<thead>\n",
       "\t<tr><th></th><th scope=col>CDR3</th><th scope=col>MHC A</th><th scope=col>Epitope</th></tr>\n",
       "\t<tr><th></th><th scope=col>&lt;chr&gt;</th><th scope=col>&lt;chr&gt;</th><th scope=col>&lt;chr&gt;</th></tr>\n",
       "</thead>\n",
       "<tbody>\n",
       "\t<tr><th scope=row>1</th><td>ASSYLPGQGDHYSNQPQH</td><td>HLA-B*08</td><td>FLKEKGGL</td></tr>\n",
       "\t<tr><th scope=row>2</th><td>ASSFEAGQGFFSNQPQH </td><td>HLA-B*08</td><td>FLKEKGGL</td></tr>\n",
       "\t<tr><th scope=row>3</th><td>ASSFEPGQGFYSNQPQH </td><td>HLA-B*08</td><td>FLKEKGGL</td></tr>\n",
       "\t<tr><th scope=row>4</th><td>ASSYEPGQVSHYSNQPQH</td><td>HLA-B*08</td><td>FLKEKGGL</td></tr>\n",
       "\t<tr><th scope=row>5</th><td>ASSALASLNEQF      </td><td>HLA-B*08</td><td>FLKEKGGL</td></tr>\n",
       "\t<tr><th scope=row>6</th><td>ASSYLPGQGDHYSNQPQH</td><td>HLA-B*08</td><td>FLKEQGGL</td></tr>\n",
       "</tbody>\n",
       "</table>\n"
      ],
      "text/latex": [
       "A data.frame: 6 × 3\n",
       "\\begin{tabular}{r|lll}\n",
       "  & CDR3 & MHC A & Epitope\\\\\n",
       "  & <chr> & <chr> & <chr>\\\\\n",
       "\\hline\n",
       "\t1 & ASSYLPGQGDHYSNQPQH & HLA-B*08 & FLKEKGGL\\\\\n",
       "\t2 & ASSFEAGQGFFSNQPQH  & HLA-B*08 & FLKEKGGL\\\\\n",
       "\t3 & ASSFEPGQGFYSNQPQH  & HLA-B*08 & FLKEKGGL\\\\\n",
       "\t4 & ASSYEPGQVSHYSNQPQH & HLA-B*08 & FLKEKGGL\\\\\n",
       "\t5 & ASSALASLNEQF       & HLA-B*08 & FLKEKGGL\\\\\n",
       "\t6 & ASSYLPGQGDHYSNQPQH & HLA-B*08 & FLKEQGGL\\\\\n",
       "\\end{tabular}\n"
      ],
      "text/markdown": [
       "\n",
       "A data.frame: 6 × 3\n",
       "\n",
       "| <!--/--> | CDR3 &lt;chr&gt; | MHC A &lt;chr&gt; | Epitope &lt;chr&gt; |\n",
       "|---|---|---|---|\n",
       "| 1 | ASSYLPGQGDHYSNQPQH | HLA-B*08 | FLKEKGGL |\n",
       "| 2 | ASSFEAGQGFFSNQPQH  | HLA-B*08 | FLKEKGGL |\n",
       "| 3 | ASSFEPGQGFYSNQPQH  | HLA-B*08 | FLKEKGGL |\n",
       "| 4 | ASSYEPGQVSHYSNQPQH | HLA-B*08 | FLKEKGGL |\n",
       "| 5 | ASSALASLNEQF       | HLA-B*08 | FLKEKGGL |\n",
       "| 6 | ASSYLPGQGDHYSNQPQH | HLA-B*08 | FLKEQGGL |\n",
       "\n"
      ],
      "text/plain": [
       "  CDR3               MHC A    Epitope \n",
       "1 ASSYLPGQGDHYSNQPQH HLA-B*08 FLKEKGGL\n",
       "2 ASSFEAGQGFFSNQPQH  HLA-B*08 FLKEKGGL\n",
       "3 ASSFEPGQGFYSNQPQH  HLA-B*08 FLKEKGGL\n",
       "4 ASSYEPGQVSHYSNQPQH HLA-B*08 FLKEKGGL\n",
       "5 ASSALASLNEQF       HLA-B*08 FLKEKGGL\n",
       "6 ASSYLPGQGDHYSNQPQH HLA-B*08 FLKEQGGL"
      ]
     },
     "metadata": {},
     "output_type": "display_data"
    }
   ],
   "source": [
    "dat <- unique(dat[, c('CDR3', 'MHC A', 'Epitope')])\n",
    "head(dat)"
   ]
  },
  {
   "cell_type": "code",
   "execution_count": 24,
   "id": "73886c4e",
   "metadata": {},
   "outputs": [],
   "source": [
    "write.table(dat, 'VDJdb-analyzed.csv', quote = F, append = F, row.names = F, sep = ',')"
   ]
  }
 ],
 "metadata": {
  "kernelspec": {
   "display_name": "R",
   "language": "R",
   "name": "ir"
  },
  "language_info": {
   "codemirror_mode": "r",
   "file_extension": ".r",
   "mimetype": "text/x-r-source",
   "name": "R",
   "pygments_lexer": "r",
   "version": "4.2.0"
  }
 },
 "nbformat": 4,
 "nbformat_minor": 5
}
