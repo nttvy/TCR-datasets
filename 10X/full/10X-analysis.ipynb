{
 "cells": [
  {
   "cell_type": "code",
   "execution_count": 1,
   "id": "e905544a",
   "metadata": {
    "scrolled": false
   },
   "outputs": [
    {
     "name": "stderr",
     "output_type": "stream",
     "text": [
      "── \u001b[1mAttaching packages\u001b[22m ─────────────────────────────────────── tidyverse 1.3.1 ──\n",
      "\n",
      "\u001b[32m✔\u001b[39m \u001b[34mggplot2\u001b[39m 3.3.6     \u001b[32m✔\u001b[39m \u001b[34mpurrr  \u001b[39m 0.3.4\n",
      "\u001b[32m✔\u001b[39m \u001b[34mtibble \u001b[39m 3.1.7     \u001b[32m✔\u001b[39m \u001b[34mdplyr  \u001b[39m 1.0.9\n",
      "\u001b[32m✔\u001b[39m \u001b[34mtidyr  \u001b[39m 1.2.0     \u001b[32m✔\u001b[39m \u001b[34mstringr\u001b[39m 1.4.0\n",
      "\u001b[32m✔\u001b[39m \u001b[34mreadr  \u001b[39m 2.1.2     \u001b[32m✔\u001b[39m \u001b[34mforcats\u001b[39m 0.5.1\n",
      "\n",
      "── \u001b[1mConflicts\u001b[22m ────────────────────────────────────────── tidyverse_conflicts() ──\n",
      "\u001b[31m✖\u001b[39m \u001b[34mdplyr\u001b[39m::\u001b[32mbetween()\u001b[39m   masks \u001b[34mdata.table\u001b[39m::between()\n",
      "\u001b[31m✖\u001b[39m \u001b[34mdplyr\u001b[39m::\u001b[32mfilter()\u001b[39m    masks \u001b[34mstats\u001b[39m::filter()\n",
      "\u001b[31m✖\u001b[39m \u001b[34mdplyr\u001b[39m::\u001b[32mfirst()\u001b[39m     masks \u001b[34mdata.table\u001b[39m::first()\n",
      "\u001b[31m✖\u001b[39m \u001b[34mdplyr\u001b[39m::\u001b[32mlag()\u001b[39m       masks \u001b[34mstats\u001b[39m::lag()\n",
      "\u001b[31m✖\u001b[39m \u001b[34mdplyr\u001b[39m::\u001b[32mlast()\u001b[39m      masks \u001b[34mdata.table\u001b[39m::last()\n",
      "\u001b[31m✖\u001b[39m \u001b[34mpurrr\u001b[39m::\u001b[32mtranspose()\u001b[39m masks \u001b[34mdata.table\u001b[39m::transpose()\n",
      "\n"
     ]
    },
    {
     "name": "stdout",
     "output_type": "stream",
     "text": [
      "|Function                      |Shortcut         |\n",
      "|:-----------------------------|:----------------|\n",
      "|alignAssign                   |Ctrl+Q           |\n",
      "|alignCursor                   |Ctrl+Shift+Q     |\n",
      "|toggle_subsection             |Ctrl+Y           |\n",
      "|toggle_subsubsection          |Ctrl+Shift+Y     |\n",
      "|insertFormals                 |Ctrl+Shift+Alt+I |\n",
      "|assignFormals                 |Ctrl+Shift+Alt+O |\n",
      "|fixCommas                     |Ctrl+Alt+Z       |\n",
      "|exposeAsArgument              |Ctrl+Alt+C       |\n",
      "|toggle_mclapply               |Ctrl+Shift+G     |\n",
      "|insert_debugonce              |Ctrl+Shift+Alt+G |\n",
      "|transform_subsection          |Ctrl+J           |\n",
      "|initiate_or_delete_subsection |Ctrl+Shift+J     |\n",
      "|renumber_sections             |Ctrl+Shift+R     |\n",
      "|insert_loopdebugger           |Ctrl+Shift+I     |\n",
      "|toggle_blabla                 |Ctrl+Alt+O       |\n",
      "|extract_importFrom            |Ctrl+Alt+I       |\n",
      "|refactor_functionCall         |Ctrl+Alt+U       |\n",
      "|insertHistory                 |Ctrl+Alt+H       |\n",
      "|insertDput                    |Ctrl+Shift+Alt+H |\n",
      "|clipr::clipr_result           |Ctrl+Shift+Alt+E |\n",
      "|asSnippet                     |Ctrl+Shift+Alt+S |\n",
      "|duplicateArgumments           |Ctrl+O           |\n",
      "|------------------------------|-----------------|\n",
      "|                        Lvl=22|           Lvl=22|\n",
      "Error in getSnippetPath() : Snippet file cannot be found\n"
     ]
    }
   ],
   "source": [
    "library(data.table)\n",
    "library(tidyverse)\n",
    "library(conveniencefunctions)"
   ]
  },
  {
   "cell_type": "code",
   "execution_count": 2,
   "id": "b35e25b4",
   "metadata": {},
   "outputs": [],
   "source": [
    "## general functions to process data from all donors\n",
    "preprocessing <- function(file) {\n",
    "    donor <- gsub('../vdj_v1_hs_aggregated_', '', file)\n",
    "    donor <- gsub('_binarized_matrix.csv', '', donor)\n",
    "    cat('Preprocessing', donor, '...')\n",
    "    \n",
    "    dat <- fread(file, data.table = F)\n",
    "    #dat <- dat[, -c(1:2, 4:18)]\n",
    "    keep_col <- colnames(dat)[grepl('_binder', colnames(dat))]\n",
    "    dat <- dat[, c('cell_clono_cdr3_aa', keep_col)]\n",
    "    \n",
    "    dat <- melt(dat, id.vars = c('cell_clono_cdr3_aa'), variable.name = 'complex')\n",
    "    dat$cell_clono_cdr3_aa <- gsub('TRA:[A-Z]*.?(;|$)', '', dat$cell_clono_cdr3_aa)\n",
    "    dat <- dat[dat$cell_clono_cdr3_aa != '',]\n",
    "    \n",
    "    # remove observations with ambiguous CDR3B\n",
    "    dat <- dat[!grepl('TRB.*TRB.*', dat$cell_clono_cdr3_aa),]\n",
    "    dat$cell_clono_cdr3_aa <- gsub('TRB:', '', dat$cell_clono_cdr3_aa)\n",
    "    dat$cell_clono_cdr3_aa <- gsub('^C', '', dat$cell_clono_cdr3_aa)\n",
    "    dat$cell_clono_cdr3_aa <- gsub('F$', '', dat$cell_clono_cdr3_aa)\n",
    "    \n",
    "    dat$complex <- as.character(dat$complex)\n",
    "    dat$complex <- gsub('_binder', '', dat$complex)\n",
    "\n",
    "    dat$HLA <- unlist(lapply(dat$complex, function(x) {unlist(strsplit(as.character(x), split = '_'))[1]}))\n",
    "    dat$HLA <- gsub('[(NR)]', '', dat$HLA)\n",
    "    dat$Epitope <- unlist(lapply(dat$complex, function(x) {unlist(strsplit(as.character(x), split = '_'))[2]}))\n",
    "    dat$Antigen <- unlist(lapply(dat$complex, function(x) {unlist(strsplit(as.character(x), split = '_'))[3]}))\n",
    "    dat$Source <- unlist(lapply(dat$complex, function(x) {unlist(strsplit(as.character(x), split = '_'))[4]}))\n",
    "\n",
    "    dat <- unique(dat)\n",
    "    dat <- dat %>%\n",
    "     group_by(cell_clono_cdr3_aa, complex, HLA, Epitope, Antigen, Source) %>% \n",
    "     filter(n_distinct(value) == 1) %>%\n",
    "     ungroup\n",
    "\n",
    "    dat$complex <- NULL\n",
    "    dat.pos <- dat[dat$value,]\n",
    "    dat.pos$value <- NULL\n",
    "    dat.neg <- dat[!dat$value,]\n",
    "    dat.neg$value <- NULL\n",
    "    \n",
    "    write.table(dat, paste0('10X-', donor, '-loaded.csv'), quote = F, append = F, row.names = F, sep = ',')\n",
    "    write.table(dat.pos, paste0('10X-', donor, '-pos-loaded.csv'), quote = F, append = F, row.names = F, sep = ',')\n",
    "    write.table(dat.neg, paste0('10X-', donor, '-neg-loaded.csv'), quote = F, append = F, row.names = F, sep = ',')\n",
    "    return_val <- list('sample' = dat, 'sample_pos' = dat.pos, 'sample_neg' = dat.neg)\n",
    "    return(return_val)\n",
    "}"
   ]
  },
  {
   "cell_type": "code",
   "execution_count": 3,
   "id": "3e2c06df",
   "metadata": {},
   "outputs": [
    {
     "data": {
      "text/html": [
       "<style>\n",
       ".list-inline {list-style: none; margin:0; padding: 0}\n",
       ".list-inline>li {display: inline-block}\n",
       ".list-inline>li:not(:last-child)::after {content: \"\\00b7\"; padding: 0 .5ex}\n",
       "</style>\n",
       "<ol class=list-inline><li>'../vdj_v1_hs_aggregated_donor1_binarized_matrix.csv'</li><li>'../vdj_v1_hs_aggregated_donor2_binarized_matrix.csv'</li><li>'../vdj_v1_hs_aggregated_donor3_binarized_matrix.csv'</li><li>'../vdj_v1_hs_aggregated_donor4_binarized_matrix.csv'</li></ol>\n"
      ],
      "text/latex": [
       "\\begin{enumerate*}\n",
       "\\item '../vdj\\_v1\\_hs\\_aggregated\\_donor1\\_binarized\\_matrix.csv'\n",
       "\\item '../vdj\\_v1\\_hs\\_aggregated\\_donor2\\_binarized\\_matrix.csv'\n",
       "\\item '../vdj\\_v1\\_hs\\_aggregated\\_donor3\\_binarized\\_matrix.csv'\n",
       "\\item '../vdj\\_v1\\_hs\\_aggregated\\_donor4\\_binarized\\_matrix.csv'\n",
       "\\end{enumerate*}\n"
      ],
      "text/markdown": [
       "1. '../vdj_v1_hs_aggregated_donor1_binarized_matrix.csv'\n",
       "2. '../vdj_v1_hs_aggregated_donor2_binarized_matrix.csv'\n",
       "3. '../vdj_v1_hs_aggregated_donor3_binarized_matrix.csv'\n",
       "4. '../vdj_v1_hs_aggregated_donor4_binarized_matrix.csv'\n",
       "\n",
       "\n"
      ],
      "text/plain": [
       "[1] \"../vdj_v1_hs_aggregated_donor1_binarized_matrix.csv\"\n",
       "[2] \"../vdj_v1_hs_aggregated_donor2_binarized_matrix.csv\"\n",
       "[3] \"../vdj_v1_hs_aggregated_donor3_binarized_matrix.csv\"\n",
       "[4] \"../vdj_v1_hs_aggregated_donor4_binarized_matrix.csv\""
      ]
     },
     "metadata": {},
     "output_type": "display_data"
    }
   ],
   "source": [
    "files <- list.files('..', pattern = 'vdj_v1_hs_aggregated_', full.names = TRUE)\n",
    "files"
   ]
  },
  {
   "cell_type": "code",
   "execution_count": 4,
   "id": "eee08d9a",
   "metadata": {
    "scrolled": true
   },
   "outputs": [
    {
     "name": "stdout",
     "output_type": "stream",
     "text": [
      "Preprocessing donor1 ..."
     ]
    },
    {
     "name": "stderr",
     "output_type": "stream",
     "text": [
      "Warning message in melt(dat, id.vars = c(\"cell_clono_cdr3_aa\"), variable.name = \"complex\"):\n",
      "“The melt generic in data.table has been passed a data.frame and will attempt to redirect to the relevant reshape2 method; please note that reshape2 is deprecated, and this redirection is now deprecated as well. To continue using melt methods from reshape2 while both libraries are attached, e.g. melt.list, you can prepend the namespace like reshape2::melt(dat). In the next version, this warning will become an error.”\n"
     ]
    },
    {
     "name": "stdout",
     "output_type": "stream",
     "text": [
      "Preprocessing donor2 ..."
     ]
    },
    {
     "name": "stderr",
     "output_type": "stream",
     "text": [
      "Warning message in melt(dat, id.vars = c(\"cell_clono_cdr3_aa\"), variable.name = \"complex\"):\n",
      "“The melt generic in data.table has been passed a data.frame and will attempt to redirect to the relevant reshape2 method; please note that reshape2 is deprecated, and this redirection is now deprecated as well. To continue using melt methods from reshape2 while both libraries are attached, e.g. melt.list, you can prepend the namespace like reshape2::melt(dat). In the next version, this warning will become an error.”\n"
     ]
    },
    {
     "name": "stdout",
     "output_type": "stream",
     "text": [
      "Preprocessing donor3 ..."
     ]
    },
    {
     "name": "stderr",
     "output_type": "stream",
     "text": [
      "Warning message in melt(dat, id.vars = c(\"cell_clono_cdr3_aa\"), variable.name = \"complex\"):\n",
      "“The melt generic in data.table has been passed a data.frame and will attempt to redirect to the relevant reshape2 method; please note that reshape2 is deprecated, and this redirection is now deprecated as well. To continue using melt methods from reshape2 while both libraries are attached, e.g. melt.list, you can prepend the namespace like reshape2::melt(dat). In the next version, this warning will become an error.”\n"
     ]
    },
    {
     "name": "stdout",
     "output_type": "stream",
     "text": [
      "Preprocessing donor4 ..."
     ]
    },
    {
     "name": "stderr",
     "output_type": "stream",
     "text": [
      "Warning message in melt(dat, id.vars = c(\"cell_clono_cdr3_aa\"), variable.name = \"complex\"):\n",
      "“The melt generic in data.table has been passed a data.frame and will attempt to redirect to the relevant reshape2 method; please note that reshape2 is deprecated, and this redirection is now deprecated as well. To continue using melt methods from reshape2 while both libraries are attached, e.g. melt.list, you can prepend the namespace like reshape2::melt(dat). In the next version, this warning will become an error.”\n"
     ]
    }
   ],
   "source": [
    "output <- lapply(files, preprocessing)"
   ]
  },
  {
   "cell_type": "code",
   "execution_count": 5,
   "id": "7f796163",
   "metadata": {
    "scrolled": true
   },
   "outputs": [
    {
     "data": {
      "text/html": [
       "<style>\n",
       ".list-inline {list-style: none; margin:0; padding: 0}\n",
       ".list-inline>li {display: inline-block}\n",
       ".list-inline>li:not(:last-child)::after {content: \"\\00b7\"; padding: 0 .5ex}\n",
       "</style>\n",
       "<ol class=list-inline><li>1256516</li><li>6</li></ol>\n"
      ],
      "text/latex": [
       "\\begin{enumerate*}\n",
       "\\item 1256516\n",
       "\\item 6\n",
       "\\end{enumerate*}\n"
      ],
      "text/markdown": [
       "1. 1256516\n",
       "2. 6\n",
       "\n",
       "\n"
      ],
      "text/plain": [
       "[1] 1256516       6"
      ]
     },
     "metadata": {},
     "output_type": "display_data"
    },
    {
     "data": {
      "text/html": [
       "<style>\n",
       ".list-inline {list-style: none; margin:0; padding: 0}\n",
       ".list-inline>li {display: inline-block}\n",
       ".list-inline>li:not(:last-child)::after {content: \"\\00b7\"; padding: 0 .5ex}\n",
       "</style>\n",
       "<ol class=list-inline><li>582849</li><li>6</li></ol>\n"
      ],
      "text/latex": [
       "\\begin{enumerate*}\n",
       "\\item 582849\n",
       "\\item 6\n",
       "\\end{enumerate*}\n"
      ],
      "text/markdown": [
       "1. 582849\n",
       "2. 6\n",
       "\n",
       "\n"
      ],
      "text/plain": [
       "[1] 582849      6"
      ]
     },
     "metadata": {},
     "output_type": "display_data"
    },
    {
     "data": {
      "text/html": [
       "<style>\n",
       ".list-inline {list-style: none; margin:0; padding: 0}\n",
       ".list-inline>li {display: inline-block}\n",
       ".list-inline>li:not(:last-child)::after {content: \"\\00b7\"; padding: 0 .5ex}\n",
       "</style>\n",
       "<ol class=list-inline><li>721618</li><li>6</li></ol>\n"
      ],
      "text/latex": [
       "\\begin{enumerate*}\n",
       "\\item 721618\n",
       "\\item 6\n",
       "\\end{enumerate*}\n"
      ],
      "text/markdown": [
       "1. 721618\n",
       "2. 6\n",
       "\n",
       "\n"
      ],
      "text/plain": [
       "[1] 721618      6"
      ]
     },
     "metadata": {},
     "output_type": "display_data"
    },
    {
     "data": {
      "text/html": [
       "<style>\n",
       ".list-inline {list-style: none; margin:0; padding: 0}\n",
       ".list-inline>li {display: inline-block}\n",
       ".list-inline>li:not(:last-child)::after {content: \"\\00b7\"; padding: 0 .5ex}\n",
       "</style>\n",
       "<ol class=list-inline><li>679549</li><li>6</li></ol>\n"
      ],
      "text/latex": [
       "\\begin{enumerate*}\n",
       "\\item 679549\n",
       "\\item 6\n",
       "\\end{enumerate*}\n"
      ],
      "text/markdown": [
       "1. 679549\n",
       "2. 6\n",
       "\n",
       "\n"
      ],
      "text/plain": [
       "[1] 679549      6"
      ]
     },
     "metadata": {},
     "output_type": "display_data"
    },
    {
     "data": {
      "text/html": [
       "<style>\n",
       ".list-inline {list-style: none; margin:0; padding: 0}\n",
       ".list-inline>li {display: inline-block}\n",
       ".list-inline>li:not(:last-child)::after {content: \"\\00b7\"; padding: 0 .5ex}\n",
       "</style>\n",
       "<ol class=list-inline><li>3173776</li><li>6</li></ol>\n"
      ],
      "text/latex": [
       "\\begin{enumerate*}\n",
       "\\item 3173776\n",
       "\\item 6\n",
       "\\end{enumerate*}\n"
      ],
      "text/markdown": [
       "1. 3173776\n",
       "2. 6\n",
       "\n",
       "\n"
      ],
      "text/plain": [
       "[1] 3173776       6"
      ]
     },
     "metadata": {},
     "output_type": "display_data"
    }
   ],
   "source": [
    "all <- merge(merge(output[[1]]$sample, output[[2]]$sample, by = colnames(output[[1]]$sample), all = TRUE), \n",
    "             merge(output[[3]]$sample, output[[4]]$sample, by = colnames(output[[3]]$sample), all = TRUE), \n",
    "             all = TRUE)\n",
    "dim(output[[1]]$sample)\n",
    "dim(output[[2]]$sample)\n",
    "dim(output[[3]]$sample)\n",
    "dim(output[[4]]$sample)\n",
    "dim(all)"
   ]
  },
  {
   "cell_type": "code",
   "execution_count": 6,
   "id": "92a1717a",
   "metadata": {},
   "outputs": [
    {
     "data": {
      "text/html": [
       "<table class=\"dataframe\">\n",
       "<caption>A data.frame: 6 × 6</caption>\n",
       "<thead>\n",
       "\t<tr><th></th><th scope=col>cell_clono_cdr3_aa</th><th scope=col>value</th><th scope=col>HLA</th><th scope=col>Epitope</th><th scope=col>Antigen</th><th scope=col>Source</th></tr>\n",
       "\t<tr><th></th><th scope=col>&lt;chr&gt;</th><th scope=col>&lt;lgl&gt;</th><th scope=col>&lt;chr&gt;</th><th scope=col>&lt;chr&gt;</th><th scope=col>&lt;chr&gt;</th><th scope=col>&lt;chr&gt;</th></tr>\n",
       "</thead>\n",
       "<tbody>\n",
       "\t<tr><th scope=row>1</th><td>AAAETGSAGELF</td><td>FALSE</td><td>A0101</td><td>SLEGGGLGY </td><td>NC                     </td><td>NA </td></tr>\n",
       "\t<tr><th scope=row>2</th><td>AAAETGSAGELF</td><td>FALSE</td><td>A0101</td><td>STEGGGLAY </td><td>NC                     </td><td>NA </td></tr>\n",
       "\t<tr><th scope=row>3</th><td>AAAETGSAGELF</td><td>FALSE</td><td>A0101</td><td>VTEHDTLLY </td><td>IE-1                   </td><td>CMV</td></tr>\n",
       "\t<tr><th scope=row>4</th><td>AAAETGSAGELF</td><td>FALSE</td><td>A0201</td><td>ALIAPVHAV </td><td>NC                     </td><td>NA </td></tr>\n",
       "\t<tr><th scope=row>5</th><td>AAAETGSAGELF</td><td>FALSE</td><td>A0201</td><td>CLGGLLTMV </td><td>LMP-2A                 </td><td>EBV</td></tr>\n",
       "\t<tr><th scope=row>6</th><td>AAAETGSAGELF</td><td>FALSE</td><td>A0201</td><td>CLLGTYTQDV</td><td>Kanamycin-B-dioxygenase</td><td>NA </td></tr>\n",
       "</tbody>\n",
       "</table>\n"
      ],
      "text/latex": [
       "A data.frame: 6 × 6\n",
       "\\begin{tabular}{r|llllll}\n",
       "  & cell\\_clono\\_cdr3\\_aa & value & HLA & Epitope & Antigen & Source\\\\\n",
       "  & <chr> & <lgl> & <chr> & <chr> & <chr> & <chr>\\\\\n",
       "\\hline\n",
       "\t1 & AAAETGSAGELF & FALSE & A0101 & SLEGGGLGY  & NC                      & NA \\\\\n",
       "\t2 & AAAETGSAGELF & FALSE & A0101 & STEGGGLAY  & NC                      & NA \\\\\n",
       "\t3 & AAAETGSAGELF & FALSE & A0101 & VTEHDTLLY  & IE-1                    & CMV\\\\\n",
       "\t4 & AAAETGSAGELF & FALSE & A0201 & ALIAPVHAV  & NC                      & NA \\\\\n",
       "\t5 & AAAETGSAGELF & FALSE & A0201 & CLGGLLTMV  & LMP-2A                  & EBV\\\\\n",
       "\t6 & AAAETGSAGELF & FALSE & A0201 & CLLGTYTQDV & Kanamycin-B-dioxygenase & NA \\\\\n",
       "\\end{tabular}\n"
      ],
      "text/markdown": [
       "\n",
       "A data.frame: 6 × 6\n",
       "\n",
       "| <!--/--> | cell_clono_cdr3_aa &lt;chr&gt; | value &lt;lgl&gt; | HLA &lt;chr&gt; | Epitope &lt;chr&gt; | Antigen &lt;chr&gt; | Source &lt;chr&gt; |\n",
       "|---|---|---|---|---|---|---|\n",
       "| 1 | AAAETGSAGELF | FALSE | A0101 | SLEGGGLGY  | NC                      | NA  |\n",
       "| 2 | AAAETGSAGELF | FALSE | A0101 | STEGGGLAY  | NC                      | NA  |\n",
       "| 3 | AAAETGSAGELF | FALSE | A0101 | VTEHDTLLY  | IE-1                    | CMV |\n",
       "| 4 | AAAETGSAGELF | FALSE | A0201 | ALIAPVHAV  | NC                      | NA  |\n",
       "| 5 | AAAETGSAGELF | FALSE | A0201 | CLGGLLTMV  | LMP-2A                  | EBV |\n",
       "| 6 | AAAETGSAGELF | FALSE | A0201 | CLLGTYTQDV | Kanamycin-B-dioxygenase | NA  |\n",
       "\n"
      ],
      "text/plain": [
       "  cell_clono_cdr3_aa value HLA   Epitope    Antigen                 Source\n",
       "1 AAAETGSAGELF       FALSE A0101 SLEGGGLGY  NC                      NA    \n",
       "2 AAAETGSAGELF       FALSE A0101 STEGGGLAY  NC                      NA    \n",
       "3 AAAETGSAGELF       FALSE A0101 VTEHDTLLY  IE-1                    CMV   \n",
       "4 AAAETGSAGELF       FALSE A0201 ALIAPVHAV  NC                      NA    \n",
       "5 AAAETGSAGELF       FALSE A0201 CLGGLLTMV  LMP-2A                  EBV   \n",
       "6 AAAETGSAGELF       FALSE A0201 CLLGTYTQDV Kanamycin-B-dioxygenase NA    "
      ]
     },
     "metadata": {},
     "output_type": "display_data"
    }
   ],
   "source": [
    "head(all)"
   ]
  },
  {
   "cell_type": "code",
   "execution_count": 7,
   "id": "595856e7",
   "metadata": {},
   "outputs": [
    {
     "data": {
      "text/html": [
       "<style>\n",
       ".list-inline {list-style: none; margin:0; padding: 0}\n",
       ".list-inline>li {display: inline-block}\n",
       ".list-inline>li:not(:last-child)::after {content: \"\\00b7\"; padding: 0 .5ex}\n",
       "</style>\n",
       "<ol class=list-inline><li>3173004</li><li>6</li></ol>\n"
      ],
      "text/latex": [
       "\\begin{enumerate*}\n",
       "\\item 3173004\n",
       "\\item 6\n",
       "\\end{enumerate*}\n"
      ],
      "text/markdown": [
       "1. 3173004\n",
       "2. 6\n",
       "\n",
       "\n"
      ],
      "text/plain": [
       "[1] 3173004       6"
      ]
     },
     "metadata": {},
     "output_type": "display_data"
    }
   ],
   "source": [
    "# filter conflict label across donors\n",
    "all <- all %>%\n",
    "     group_by(cell_clono_cdr3_aa, HLA, Epitope, Antigen, Source) %>% \n",
    "     filter(n_distinct(value) == 1) %>%\n",
    "     ungroup\n",
    "dim(all)"
   ]
  },
  {
   "cell_type": "code",
   "execution_count": 8,
   "id": "f7c74f49",
   "metadata": {},
   "outputs": [
    {
     "data": {
      "text/html": [
       "<style>\n",
       ".list-inline {list-style: none; margin:0; padding: 0}\n",
       ".list-inline>li {display: inline-block}\n",
       ".list-inline>li:not(:last-child)::after {content: \"\\00b7\"; padding: 0 .5ex}\n",
       "</style>\n",
       "<ol class=list-inline><li>12649</li><li>6</li></ol>\n"
      ],
      "text/latex": [
       "\\begin{enumerate*}\n",
       "\\item 12649\n",
       "\\item 6\n",
       "\\end{enumerate*}\n"
      ],
      "text/markdown": [
       "1. 12649\n",
       "2. 6\n",
       "\n",
       "\n"
      ],
      "text/plain": [
       "[1] 12649     6"
      ]
     },
     "metadata": {},
     "output_type": "display_data"
    },
    {
     "data": {
      "text/html": [
       "<style>\n",
       ".list-inline {list-style: none; margin:0; padding: 0}\n",
       ".list-inline>li {display: inline-block}\n",
       ".list-inline>li:not(:last-child)::after {content: \"\\00b7\"; padding: 0 .5ex}\n",
       "</style>\n",
       "<ol class=list-inline><li>3160355</li><li>6</li></ol>\n"
      ],
      "text/latex": [
       "\\begin{enumerate*}\n",
       "\\item 3160355\n",
       "\\item 6\n",
       "\\end{enumerate*}\n"
      ],
      "text/markdown": [
       "1. 3160355\n",
       "2. 6\n",
       "\n",
       "\n"
      ],
      "text/plain": [
       "[1] 3160355       6"
      ]
     },
     "metadata": {},
     "output_type": "display_data"
    }
   ],
   "source": [
    "all.pos <- all[all$value,]\n",
    "dim(all.pos)\n",
    "all.neg <- all[!all$value,]\n",
    "dim(all.neg)"
   ]
  },
  {
   "cell_type": "code",
   "execution_count": 9,
   "id": "fe1d10d0",
   "metadata": {},
   "outputs": [],
   "source": [
    "write.table(all, paste0('10X-all-loaded.csv'), quote = F, append = F, row.names = F, sep = ',')\n",
    "write.table(all.pos, paste0('10X-all-pos-loaded.csv'), quote = F, append = F, row.names = F, sep = ',')\n",
    "write.table(all.neg, paste0('10X-all-neg-loaded.csv'), quote = F, append = F, row.names = F, sep = ',')"
   ]
  },
  {
   "cell_type": "code",
   "execution_count": 10,
   "id": "7847ee30",
   "metadata": {},
   "outputs": [
    {
     "data": {
      "text/html": [
       "<style>\n",
       ".list-inline {list-style: none; margin:0; padding: 0}\n",
       ".list-inline>li {display: inline-block}\n",
       ".list-inline>li:not(:last-child)::after {content: \"\\00b7\"; padding: 0 .5ex}\n",
       "</style>\n",
       "<ol class=list-inline><li>3173004</li><li>3</li></ol>\n"
      ],
      "text/latex": [
       "\\begin{enumerate*}\n",
       "\\item 3173004\n",
       "\\item 3\n",
       "\\end{enumerate*}\n"
      ],
      "text/markdown": [
       "1. 3173004\n",
       "2. 3\n",
       "\n",
       "\n"
      ],
      "text/plain": [
       "[1] 3173004       3"
      ]
     },
     "metadata": {},
     "output_type": "display_data"
    },
    {
     "data": {
      "text/html": [
       "<style>\n",
       ".list-inline {list-style: none; margin:0; padding: 0}\n",
       ".list-inline>li {display: inline-block}\n",
       ".list-inline>li:not(:last-child)::after {content: \"\\00b7\"; padding: 0 .5ex}\n",
       "</style>\n",
       "<ol class=list-inline><li>3173004</li><li>3</li></ol>\n"
      ],
      "text/latex": [
       "\\begin{enumerate*}\n",
       "\\item 3173004\n",
       "\\item 3\n",
       "\\end{enumerate*}\n"
      ],
      "text/markdown": [
       "1. 3173004\n",
       "2. 3\n",
       "\n",
       "\n"
      ],
      "text/plain": [
       "[1] 3173004       3"
      ]
     },
     "metadata": {},
     "output_type": "display_data"
    }
   ],
   "source": [
    "# ignore HLA\n",
    "all_wohla <- all[, c('cell_clono_cdr3_aa', 'Epitope', 'value')]\n",
    "dim(all_wohla)\n",
    "all_wohla <- unique(all_wohla)\n",
    "dim(all_wohla)"
   ]
  },
  {
   "cell_type": "code",
   "execution_count": 11,
   "id": "2e90d460",
   "metadata": {},
   "outputs": [
    {
     "data": {
      "text/html": [
       "<style>\n",
       ".list-inline {list-style: none; margin:0; padding: 0}\n",
       ".list-inline>li {display: inline-block}\n",
       ".list-inline>li:not(:last-child)::after {content: \"\\00b7\"; padding: 0 .5ex}\n",
       "</style>\n",
       "<ol class=list-inline><li>3173004</li><li>3</li></ol>\n"
      ],
      "text/latex": [
       "\\begin{enumerate*}\n",
       "\\item 3173004\n",
       "\\item 3\n",
       "\\end{enumerate*}\n"
      ],
      "text/markdown": [
       "1. 3173004\n",
       "2. 3\n",
       "\n",
       "\n"
      ],
      "text/plain": [
       "[1] 3173004       3"
      ]
     },
     "metadata": {},
     "output_type": "display_data"
    }
   ],
   "source": [
    "# check again, but the dimensions should stay the same\n",
    "all_wohla <- all_wohla %>%\n",
    "     group_by(cell_clono_cdr3_aa, Epitope) %>% \n",
    "     filter(n_distinct(value) == 1) %>%\n",
    "     ungroup\n",
    "dim(all_wohla)"
   ]
  },
  {
   "cell_type": "code",
   "execution_count": 12,
   "id": "f36555e3",
   "metadata": {},
   "outputs": [],
   "source": [
    "write.table(all_wohla, paste0('10X-all-without-HLA.csv'), quote = F, append = F, row.names = F, sep = ',')"
   ]
  },
  {
   "cell_type": "code",
   "execution_count": 13,
   "id": "5f589566",
   "metadata": {},
   "outputs": [
    {
     "data": {
      "text/html": [
       "<style>\n",
       ".list-inline {list-style: none; margin:0; padding: 0}\n",
       ".list-inline>li {display: inline-block}\n",
       ".list-inline>li:not(:last-child)::after {content: \"\\00b7\"; padding: 0 .5ex}\n",
       "</style>\n",
       "<ol class=list-inline><li>12649</li><li>2</li></ol>\n"
      ],
      "text/latex": [
       "\\begin{enumerate*}\n",
       "\\item 12649\n",
       "\\item 2\n",
       "\\end{enumerate*}\n"
      ],
      "text/markdown": [
       "1. 12649\n",
       "2. 2\n",
       "\n",
       "\n"
      ],
      "text/plain": [
       "[1] 12649     2"
      ]
     },
     "metadata": {},
     "output_type": "display_data"
    },
    {
     "data": {
      "text/html": [
       "<style>\n",
       ".list-inline {list-style: none; margin:0; padding: 0}\n",
       ".list-inline>li {display: inline-block}\n",
       ".list-inline>li:not(:last-child)::after {content: \"\\00b7\"; padding: 0 .5ex}\n",
       "</style>\n",
       "<ol class=list-inline><li>3160355</li><li>2</li></ol>\n"
      ],
      "text/latex": [
       "\\begin{enumerate*}\n",
       "\\item 3160355\n",
       "\\item 2\n",
       "\\end{enumerate*}\n"
      ],
      "text/markdown": [
       "1. 3160355\n",
       "2. 2\n",
       "\n",
       "\n"
      ],
      "text/plain": [
       "[1] 3160355       2"
      ]
     },
     "metadata": {},
     "output_type": "display_data"
    }
   ],
   "source": [
    "all_wohla.pos <- all_wohla[all_wohla$value,]\n",
    "all_wohla.neg <- all_wohla[!all_wohla$value,]\n",
    "all_wohla.pos$value <- all_wohla.neg$value <- NULL\n",
    "dim(all_wohla.pos)\n",
    "dim(all_wohla.neg)"
   ]
  },
  {
   "cell_type": "code",
   "execution_count": 14,
   "id": "eede9d34",
   "metadata": {},
   "outputs": [],
   "source": [
    "write.table(all_wohla.pos, paste0('10X-pos-without-HLA.csv'), quote = F, append = F, row.names = F, sep = ',')\n",
    "write.table(all_wohla.neg, paste0('10X-neg-without-HLA.csv'), quote = F, append = F, row.names = F, sep = ',')"
   ]
  },
  {
   "cell_type": "code",
   "execution_count": 15,
   "id": "d74e6f0b",
   "metadata": {},
   "outputs": [
    {
     "data": {
      "text/html": [
       "<table class=\"dataframe\">\n",
       "<caption>A tibble: 6 × 2</caption>\n",
       "<thead>\n",
       "\t<tr><th scope=col>cell_clono_cdr3_aa</th><th scope=col>Epitope</th></tr>\n",
       "\t<tr><th scope=col>&lt;chr&gt;</th><th scope=col>&lt;chr&gt;</th></tr>\n",
       "</thead>\n",
       "<tbody>\n",
       "\t<tr><td>AAAETGSAGELF </td><td>KLGGALQAK </td></tr>\n",
       "\t<tr><td>AAGEMFGLGETQY</td><td>AVFDRKSDAK</td></tr>\n",
       "\t<tr><td>AAGGASYNEQF  </td><td>KLGGALQAK </td></tr>\n",
       "\t<tr><td>AAGGGSEMNTEAF</td><td>KLGGALQAK </td></tr>\n",
       "\t<tr><td>AAGLASNEQF   </td><td>KLGGALQAK </td></tr>\n",
       "\t<tr><td>AAGSSGNQPQH  </td><td>RAKFKQLL  </td></tr>\n",
       "</tbody>\n",
       "</table>\n"
      ],
      "text/latex": [
       "A tibble: 6 × 2\n",
       "\\begin{tabular}{ll}\n",
       " cell\\_clono\\_cdr3\\_aa & Epitope\\\\\n",
       " <chr> & <chr>\\\\\n",
       "\\hline\n",
       "\t AAAETGSAGELF  & KLGGALQAK \\\\\n",
       "\t AAGEMFGLGETQY & AVFDRKSDAK\\\\\n",
       "\t AAGGASYNEQF   & KLGGALQAK \\\\\n",
       "\t AAGGGSEMNTEAF & KLGGALQAK \\\\\n",
       "\t AAGLASNEQF    & KLGGALQAK \\\\\n",
       "\t AAGSSGNQPQH   & RAKFKQLL  \\\\\n",
       "\\end{tabular}\n"
      ],
      "text/markdown": [
       "\n",
       "A tibble: 6 × 2\n",
       "\n",
       "| cell_clono_cdr3_aa &lt;chr&gt; | Epitope &lt;chr&gt; |\n",
       "|---|---|\n",
       "| AAAETGSAGELF  | KLGGALQAK  |\n",
       "| AAGEMFGLGETQY | AVFDRKSDAK |\n",
       "| AAGGASYNEQF   | KLGGALQAK  |\n",
       "| AAGGGSEMNTEAF | KLGGALQAK  |\n",
       "| AAGLASNEQF    | KLGGALQAK  |\n",
       "| AAGSSGNQPQH   | RAKFKQLL   |\n",
       "\n"
      ],
      "text/plain": [
       "  cell_clono_cdr3_aa Epitope   \n",
       "1 AAAETGSAGELF       KLGGALQAK \n",
       "2 AAGEMFGLGETQY      AVFDRKSDAK\n",
       "3 AAGGASYNEQF        KLGGALQAK \n",
       "4 AAGGGSEMNTEAF      KLGGALQAK \n",
       "5 AAGLASNEQF         KLGGALQAK \n",
       "6 AAGSSGNQPQH        RAKFKQLL  "
      ]
     },
     "metadata": {},
     "output_type": "display_data"
    }
   ],
   "source": [
    "head(all_wohla.pos)"
   ]
  },
  {
   "cell_type": "code",
   "execution_count": 16,
   "id": "56f851ec",
   "metadata": {},
   "outputs": [
    {
     "data": {
      "text/html": [
       "<style>\n",
       ".list-inline {list-style: none; margin:0; padding: 0}\n",
       ".list-inline>li {display: inline-block}\n",
       ".list-inline>li:not(:last-child)::after {content: \"\\00b7\"; padding: 0 .5ex}\n",
       "</style>\n",
       "<ol class=list-inline><li>'A0101'</li><li>'A0201'</li><li>'A0301'</li><li>'A1101'</li><li>'A2402'</li><li>'B0702'</li><li>'B0801'</li><li>'B3501'</li></ol>\n"
      ],
      "text/latex": [
       "\\begin{enumerate*}\n",
       "\\item 'A0101'\n",
       "\\item 'A0201'\n",
       "\\item 'A0301'\n",
       "\\item 'A1101'\n",
       "\\item 'A2402'\n",
       "\\item 'B0702'\n",
       "\\item 'B0801'\n",
       "\\item 'B3501'\n",
       "\\end{enumerate*}\n"
      ],
      "text/markdown": [
       "1. 'A0101'\n",
       "2. 'A0201'\n",
       "3. 'A0301'\n",
       "4. 'A1101'\n",
       "5. 'A2402'\n",
       "6. 'B0702'\n",
       "7. 'B0801'\n",
       "8. 'B3501'\n",
       "\n",
       "\n"
      ],
      "text/plain": [
       "[1] \"A0101\" \"A0201\" \"A0301\" \"A1101\" \"A2402\" \"B0702\" \"B0801\" \"B3501\""
      ]
     },
     "metadata": {},
     "output_type": "display_data"
    }
   ],
   "source": [
    "unique(all$HLA)"
   ]
  },
  {
   "cell_type": "code",
   "execution_count": 17,
   "id": "bca6a70f",
   "metadata": {},
   "outputs": [],
   "source": [
    "all$HLA <- gsub('A', 'A*', all$HLA)\n",
    "all$HLA <- gsub('B', 'B*', all$HLA)\n",
    "all$HLA <- gsub('^(.{4})([0-9]+)$', '\\\\1:\\\\2', all$HLA)\n",
    "all$HLA <- paste0('HLA-', all$HLA)"
   ]
  },
  {
   "cell_type": "code",
   "execution_count": 18,
   "id": "8e193af5",
   "metadata": {},
   "outputs": [],
   "source": [
    "# from https://www.ncbi.nlm.nih.gov/pmc/articles/PMC7204072/, filtering alleles having AF < 10\n",
    "viet_alleles <- c(\"HLA-A*02:03\", \"HLA-A*02:07\", \"HLA-A*11:01\", \"HLA-A*24:02\", \"HLA-A*29:01\", \"HLA-A*33:03\",\n",
    "                  \"HLA-B*07:05\", \"HLA-B*15:02\", \"HLA-B*15:25\", \"HLA-B*38:02\", \"HLA-B*40:01:02\", \"HLA-B*46:01\", \"HLA-B*58:01\",\n",
    "                  \"HLA-C*01:02\", \"HLA-C*03:02:02\", \"HLA-C*03:04\", \"HLA-C*04:01\", \"HLA-C*04:03\", \"HLA-C*07:02\", \"HLA-C*08:01\", \"HLA-C*15:05:02\",\n",
    "                  \"HLA-DRB1*03:01\", \"HLA-DRB1*04:05\", \"HLA-DRB1*08:03\", \"HLA-DRB1*09:01:02\", \"HLA-DRB1*10:01\", \"HLA-DRB1*12:02\", \"HLA-DRB1*15:02\",\n",
    "                  \"HLA-DQB1*02:01\", \"HLA-DQB1*03:01\", \"HLA-DQB1*03:03\", \"HLA-DQB1*04:01\", \"HLA-DQB1*05:01\", \"HLA-DQB1*05:02\", \"HLA-DQB1*06:01\"\n",
    "                 )"
   ]
  },
  {
   "cell_type": "code",
   "execution_count": 19,
   "id": "c3213967",
   "metadata": {},
   "outputs": [
    {
     "data": {
      "text/html": [
       "<style>\n",
       ".list-inline {list-style: none; margin:0; padding: 0}\n",
       ".list-inline>li {display: inline-block}\n",
       ".list-inline>li:not(:last-child)::after {content: \"\\00b7\"; padding: 0 .5ex}\n",
       "</style>\n",
       "<ol class=list-inline><li>'HLA-A*01:01'</li><li>'HLA-A*02:01'</li><li>'HLA-A*03:01'</li><li>'HLA-A*11:01'</li><li>'HLA-A*24:02'</li><li>'HLA-B*07:02'</li><li>'HLA-B*08:01'</li><li>'HLA-B*35:01'</li></ol>\n"
      ],
      "text/latex": [
       "\\begin{enumerate*}\n",
       "\\item 'HLA-A*01:01'\n",
       "\\item 'HLA-A*02:01'\n",
       "\\item 'HLA-A*03:01'\n",
       "\\item 'HLA-A*11:01'\n",
       "\\item 'HLA-A*24:02'\n",
       "\\item 'HLA-B*07:02'\n",
       "\\item 'HLA-B*08:01'\n",
       "\\item 'HLA-B*35:01'\n",
       "\\end{enumerate*}\n"
      ],
      "text/markdown": [
       "1. 'HLA-A*01:01'\n",
       "2. 'HLA-A*02:01'\n",
       "3. 'HLA-A*03:01'\n",
       "4. 'HLA-A*11:01'\n",
       "5. 'HLA-A*24:02'\n",
       "6. 'HLA-B*07:02'\n",
       "7. 'HLA-B*08:01'\n",
       "8. 'HLA-B*35:01'\n",
       "\n",
       "\n"
      ],
      "text/plain": [
       "[1] \"HLA-A*01:01\" \"HLA-A*02:01\" \"HLA-A*03:01\" \"HLA-A*11:01\" \"HLA-A*24:02\"\n",
       "[6] \"HLA-B*07:02\" \"HLA-B*08:01\" \"HLA-B*35:01\""
      ]
     },
     "metadata": {},
     "output_type": "display_data"
    }
   ],
   "source": [
    "dat_alleles <- unique(all$HLA)\n",
    "dat_alleles"
   ]
  },
  {
   "cell_type": "code",
   "execution_count": 20,
   "id": "d117560c",
   "metadata": {},
   "outputs": [
    {
     "data": {
      "text/html": [
       "<style>\n",
       ".list-inline {list-style: none; margin:0; padding: 0}\n",
       ".list-inline>li {display: inline-block}\n",
       ".list-inline>li:not(:last-child)::after {content: \"\\00b7\"; padding: 0 .5ex}\n",
       "</style>\n",
       "<ol class=list-inline><li>'HLA-A*11:01'</li><li>'HLA-A*24:02'</li></ol>\n"
      ],
      "text/latex": [
       "\\begin{enumerate*}\n",
       "\\item 'HLA-A*11:01'\n",
       "\\item 'HLA-A*24:02'\n",
       "\\end{enumerate*}\n"
      ],
      "text/markdown": [
       "1. 'HLA-A*11:01'\n",
       "2. 'HLA-A*24:02'\n",
       "\n",
       "\n"
      ],
      "text/plain": [
       "[1] \"HLA-A*11:01\" \"HLA-A*24:02\""
      ]
     },
     "metadata": {},
     "output_type": "display_data"
    },
    {
     "data": {
      "text/plain": [
       "             value\n",
       "HLA            FALSE   TRUE\n",
       "  HLA-A*11:01 125270    942\n",
       "  HLA-A*24:02 254101     40"
      ]
     },
     "metadata": {},
     "output_type": "display_data"
    }
   ],
   "source": [
    "intersect(viet_alleles, dat_alleles)\n",
    "table(all[all$HLA %in% intersect(viet_alleles, dat_alleles), c('HLA', 'value')])"
   ]
  },
  {
   "cell_type": "code",
   "execution_count": 21,
   "id": "2ba975fb",
   "metadata": {},
   "outputs": [
    {
     "name": "stderr",
     "output_type": "stream",
     "text": [
      "Remember to cat() to see result with single escapes.\n",
      "\n"
     ]
    },
    {
     "data": {
      "text/html": [],
      "text/latex": [],
      "text/markdown": [],
      "text/plain": [
       "character(0)"
      ]
     },
     "metadata": {},
     "output_type": "display_data"
    },
    {
     "data": {
      "text/plain": [
       "NULL"
      ]
     },
     "metadata": {},
     "output_type": "display_data"
    },
    {
     "data": {
      "text/plain": [
       "< table of extent 0 >"
      ]
     },
     "metadata": {},
     "output_type": "display_data"
    },
    {
     "data": {
      "text/plain": [
       "< table of extent 0 x 0 >"
      ]
     },
     "metadata": {},
     "output_type": "display_data"
    }
   ],
   "source": [
    "viet_over_dat_alleles <- viet_alleles[grepl(paste(str_escape(dat_alleles), collapse = \"|\"), viet_alleles) & !viet_alleles %in% dat_alleles]\n",
    "viet_over_dat_alleles\n",
    "dat_alleles_short <- unlist(lapply(dat_alleles, function(x) if(any(suppressMessages(grepl(str_escape(x), viet_over_dat_alleles)))) {x} else {}))\n",
    "dat_alleles_short\n",
    "table(all[all$HLA %in% dat_alleles_short, 'HLA'])\n",
    "table(all[all$HLA %in% dat_alleles_short, c('HLA', 'value')])"
   ]
  },
  {
   "cell_type": "code",
   "execution_count": 22,
   "id": "3cf1e6cf",
   "metadata": {},
   "outputs": [
    {
     "name": "stderr",
     "output_type": "stream",
     "text": [
      "Remember to cat() to see result with single escapes.\n",
      "\n"
     ]
    },
    {
     "data": {
      "text/html": [],
      "text/latex": [],
      "text/markdown": [],
      "text/plain": [
       "character(0)"
      ]
     },
     "metadata": {},
     "output_type": "display_data"
    },
    {
     "data": {
      "text/plain": [
       "< table of extent 0 >"
      ]
     },
     "metadata": {},
     "output_type": "display_data"
    },
    {
     "data": {
      "text/plain": [
       "< table of extent 0 x 0 >"
      ]
     },
     "metadata": {},
     "output_type": "display_data"
    }
   ],
   "source": [
    "dat_over_viet_alleles <- dat_alleles[grepl(paste(str_escape(viet_alleles), collapse = \"|\"), dat_alleles) & !dat_alleles %in% viet_alleles]\n",
    "dat_over_viet_alleles\n",
    "table(all[all$HLA %in% dat_over_viet_alleles, 'HLA'])\n",
    "table(all[all$HLA %in% dat_over_viet_alleles, c('HLA', 'value')])"
   ]
  },
  {
   "cell_type": "code",
   "execution_count": 23,
   "id": "0481722c",
   "metadata": {},
   "outputs": [
    {
     "data": {
      "text/html": [
       "<style>\n",
       ".list-inline {list-style: none; margin:0; padding: 0}\n",
       ".list-inline>li {display: inline-block}\n",
       ".list-inline>li:not(:last-child)::after {content: \"\\00b7\"; padding: 0 .5ex}\n",
       "</style>\n",
       "<ol class=list-inline><li>3173004</li><li>4</li></ol>\n"
      ],
      "text/latex": [
       "\\begin{enumerate*}\n",
       "\\item 3173004\n",
       "\\item 4\n",
       "\\end{enumerate*}\n"
      ],
      "text/markdown": [
       "1. 3173004\n",
       "2. 4\n",
       "\n",
       "\n"
      ],
      "text/plain": [
       "[1] 3173004       4"
      ]
     },
     "metadata": {},
     "output_type": "display_data"
    }
   ],
   "source": [
    "all <- unique(all[, c('cell_clono_cdr3_aa', 'HLA', 'Epitope', 'value')])\n",
    "dim(all)"
   ]
  },
  {
   "cell_type": "code",
   "execution_count": 24,
   "id": "4c763688",
   "metadata": {},
   "outputs": [
    {
     "data": {
      "text/html": [
       "<table class=\"dataframe\">\n",
       "<caption>A tibble: 6 × 4</caption>\n",
       "<thead>\n",
       "\t<tr><th scope=col>cell_clono_cdr3_aa</th><th scope=col>HLA</th><th scope=col>Epitope</th><th scope=col>value</th></tr>\n",
       "\t<tr><th scope=col>&lt;chr&gt;</th><th scope=col>&lt;chr&gt;</th><th scope=col>&lt;chr&gt;</th><th scope=col>&lt;lgl&gt;</th></tr>\n",
       "</thead>\n",
       "<tbody>\n",
       "\t<tr><td>AAAETGSAGELF</td><td>HLA-A*01:01</td><td>SLEGGGLGY </td><td>FALSE</td></tr>\n",
       "\t<tr><td>AAAETGSAGELF</td><td>HLA-A*01:01</td><td>STEGGGLAY </td><td>FALSE</td></tr>\n",
       "\t<tr><td>AAAETGSAGELF</td><td>HLA-A*01:01</td><td>VTEHDTLLY </td><td>FALSE</td></tr>\n",
       "\t<tr><td>AAAETGSAGELF</td><td>HLA-A*02:01</td><td>ALIAPVHAV </td><td>FALSE</td></tr>\n",
       "\t<tr><td>AAAETGSAGELF</td><td>HLA-A*02:01</td><td>CLGGLLTMV </td><td>FALSE</td></tr>\n",
       "\t<tr><td>AAAETGSAGELF</td><td>HLA-A*02:01</td><td>CLLGTYTQDV</td><td>FALSE</td></tr>\n",
       "</tbody>\n",
       "</table>\n"
      ],
      "text/latex": [
       "A tibble: 6 × 4\n",
       "\\begin{tabular}{llll}\n",
       " cell\\_clono\\_cdr3\\_aa & HLA & Epitope & value\\\\\n",
       " <chr> & <chr> & <chr> & <lgl>\\\\\n",
       "\\hline\n",
       "\t AAAETGSAGELF & HLA-A*01:01 & SLEGGGLGY  & FALSE\\\\\n",
       "\t AAAETGSAGELF & HLA-A*01:01 & STEGGGLAY  & FALSE\\\\\n",
       "\t AAAETGSAGELF & HLA-A*01:01 & VTEHDTLLY  & FALSE\\\\\n",
       "\t AAAETGSAGELF & HLA-A*02:01 & ALIAPVHAV  & FALSE\\\\\n",
       "\t AAAETGSAGELF & HLA-A*02:01 & CLGGLLTMV  & FALSE\\\\\n",
       "\t AAAETGSAGELF & HLA-A*02:01 & CLLGTYTQDV & FALSE\\\\\n",
       "\\end{tabular}\n"
      ],
      "text/markdown": [
       "\n",
       "A tibble: 6 × 4\n",
       "\n",
       "| cell_clono_cdr3_aa &lt;chr&gt; | HLA &lt;chr&gt; | Epitope &lt;chr&gt; | value &lt;lgl&gt; |\n",
       "|---|---|---|---|\n",
       "| AAAETGSAGELF | HLA-A*01:01 | SLEGGGLGY  | FALSE |\n",
       "| AAAETGSAGELF | HLA-A*01:01 | STEGGGLAY  | FALSE |\n",
       "| AAAETGSAGELF | HLA-A*01:01 | VTEHDTLLY  | FALSE |\n",
       "| AAAETGSAGELF | HLA-A*02:01 | ALIAPVHAV  | FALSE |\n",
       "| AAAETGSAGELF | HLA-A*02:01 | CLGGLLTMV  | FALSE |\n",
       "| AAAETGSAGELF | HLA-A*02:01 | CLLGTYTQDV | FALSE |\n",
       "\n"
      ],
      "text/plain": [
       "  cell_clono_cdr3_aa HLA         Epitope    value\n",
       "1 AAAETGSAGELF       HLA-A*01:01 SLEGGGLGY  FALSE\n",
       "2 AAAETGSAGELF       HLA-A*01:01 STEGGGLAY  FALSE\n",
       "3 AAAETGSAGELF       HLA-A*01:01 VTEHDTLLY  FALSE\n",
       "4 AAAETGSAGELF       HLA-A*02:01 ALIAPVHAV  FALSE\n",
       "5 AAAETGSAGELF       HLA-A*02:01 CLGGLLTMV  FALSE\n",
       "6 AAAETGSAGELF       HLA-A*02:01 CLLGTYTQDV FALSE"
      ]
     },
     "metadata": {},
     "output_type": "display_data"
    }
   ],
   "source": [
    "head(all)"
   ]
  },
  {
   "cell_type": "code",
   "execution_count": 25,
   "id": "64e68f7a",
   "metadata": {},
   "outputs": [
    {
     "data": {
      "text/html": [
       "<style>\n",
       ".list-inline {list-style: none; margin:0; padding: 0}\n",
       ".list-inline>li {display: inline-block}\n",
       ".list-inline>li:not(:last-child)::after {content: \"\\00b7\"; padding: 0 .5ex}\n",
       "</style>\n",
       "<ol class=list-inline><li>12649</li><li>3</li></ol>\n"
      ],
      "text/latex": [
       "\\begin{enumerate*}\n",
       "\\item 12649\n",
       "\\item 3\n",
       "\\end{enumerate*}\n"
      ],
      "text/markdown": [
       "1. 12649\n",
       "2. 3\n",
       "\n",
       "\n"
      ],
      "text/plain": [
       "[1] 12649     3"
      ]
     },
     "metadata": {},
     "output_type": "display_data"
    },
    {
     "data": {
      "text/html": [
       "<style>\n",
       ".list-inline {list-style: none; margin:0; padding: 0}\n",
       ".list-inline>li {display: inline-block}\n",
       ".list-inline>li:not(:last-child)::after {content: \"\\00b7\"; padding: 0 .5ex}\n",
       "</style>\n",
       "<ol class=list-inline><li>3160355</li><li>3</li></ol>\n"
      ],
      "text/latex": [
       "\\begin{enumerate*}\n",
       "\\item 3160355\n",
       "\\item 3\n",
       "\\end{enumerate*}\n"
      ],
      "text/markdown": [
       "1. 3160355\n",
       "2. 3\n",
       "\n",
       "\n"
      ],
      "text/plain": [
       "[1] 3160355       3"
      ]
     },
     "metadata": {},
     "output_type": "display_data"
    }
   ],
   "source": [
    "all.pos <- all[all$value, -4]\n",
    "all.neg <- all[!all$value, -4]\n",
    "dim(all.pos)\n",
    "dim(all.neg)"
   ]
  },
  {
   "cell_type": "code",
   "execution_count": 26,
   "id": "16e98689",
   "metadata": {},
   "outputs": [],
   "source": [
    "write.table(all.pos, '10X-pos-analyzed.csv', quote = F, append = F, row.names = F, sep = ',')\n",
    "write.table(all.neg, '10X-neg-analyzed.csv', quote = F, append = F, row.names = F, sep = ',')"
   ]
  },
  {
   "cell_type": "markdown",
   "id": "5f5e0a29",
   "metadata": {},
   "source": [
    "# Preprocessing on donor 1"
   ]
  },
  {
   "cell_type": "code",
   "execution_count": 27,
   "id": "6f59d6fe",
   "metadata": {},
   "outputs": [
    {
     "data": {
      "text/html": [
       "<table class=\"dataframe\">\n",
       "<caption>A data.frame: 6 × 118</caption>\n",
       "<thead>\n",
       "\t<tr><th></th><th scope=col>barcode</th><th scope=col>donor</th><th scope=col>cell_clono_cdr3_aa</th><th scope=col>cell_clono_cdr3_nt</th><th scope=col>CD3</th><th scope=col>CD19</th><th scope=col>CD45RA</th><th scope=col>CD4</th><th scope=col>CD8a</th><th scope=col>CD14</th><th scope=col>⋯</th><th scope=col>B0702_RPHERNGFTVL_pp65_CMV_binder</th><th scope=col>B0801_RAKFKQLL_BZLF1_EBV_binder</th><th scope=col>B0801_ELRRKMMYM_IE-1_CMV_binder</th><th scope=col>B0801_FLRGRAYGL_EBNA-3A_EBV_binder</th><th scope=col>A0101_SLEGGGLGY_NC_binder</th><th scope=col>A0101_STEGGGLAY_NC_binder</th><th scope=col>A0201_ALIAPVHAV_NC_binder</th><th scope=col>A2402_AYSSAGASI_NC_binder</th><th scope=col>B0702_GPAESAAGL_NC_binder</th><th scope=col>NR(B0801)_AAKGRGAAL_NC_binder</th></tr>\n",
       "\t<tr><th></th><th scope=col>&lt;chr&gt;</th><th scope=col>&lt;chr&gt;</th><th scope=col>&lt;chr&gt;</th><th scope=col>&lt;chr&gt;</th><th scope=col>&lt;dbl&gt;</th><th scope=col>&lt;dbl&gt;</th><th scope=col>&lt;dbl&gt;</th><th scope=col>&lt;dbl&gt;</th><th scope=col>&lt;dbl&gt;</th><th scope=col>&lt;dbl&gt;</th><th scope=col>⋯</th><th scope=col>&lt;lgl&gt;</th><th scope=col>&lt;lgl&gt;</th><th scope=col>&lt;lgl&gt;</th><th scope=col>&lt;lgl&gt;</th><th scope=col>&lt;lgl&gt;</th><th scope=col>&lt;lgl&gt;</th><th scope=col>&lt;lgl&gt;</th><th scope=col>&lt;lgl&gt;</th><th scope=col>&lt;lgl&gt;</th><th scope=col>&lt;lgl&gt;</th></tr>\n",
       "</thead>\n",
       "<tbody>\n",
       "\t<tr><th scope=row>1</th><td>AAACCTGAGACAAAGG-4 </td><td>donor1</td><td>TRA:CAASVSIWTGTASKLTF;TRA:CAAWDMEYGNKLVF;TRB:CAISDPGLAGGGGEQFF</td><td>TRA:TGTGCAGCAAGCGTTAGTATTTGGACCGGCACTGCCAGTAAACTCACCTTT;TRA:TGTGCCGCCTGGGACATGGAATATGGAAACAAGCTGGTCTTT;TRB:TGTGCCATCAGTGACCCCGGACTAGCGGGAGGCGGGGGGGAGCAGTTCTTC</td><td>2125</td><td>0</td><td> 912</td><td>  1</td><td>2223</td><td>4</td><td>⋯</td><td>FALSE</td><td>FALSE</td><td>FALSE</td><td>FALSE</td><td>FALSE</td><td>FALSE</td><td>FALSE</td><td>FALSE</td><td>FALSE</td><td>FALSE</td></tr>\n",
       "\t<tr><th scope=row>2</th><td>AAACCTGAGACTGTAA-34</td><td>donor1</td><td>TRB:CASDTPVGQFF                                               </td><td>TRB:TGTGCCAGCGATACCCCGGTTGGGCAGTTCTTC                                                                                                                         </td><td>1023</td><td>0</td><td>2028</td><td>  2</td><td>3485</td><td>1</td><td>⋯</td><td>FALSE</td><td>FALSE</td><td>FALSE</td><td>FALSE</td><td>FALSE</td><td>FALSE</td><td>FALSE</td><td>FALSE</td><td>FALSE</td><td>FALSE</td></tr>\n",
       "\t<tr><th scope=row>3</th><td>AAACCTGAGAGCCCAA-5 </td><td>donor1</td><td>TRA:CASYTDKLIF;TRB:CASSGGSISTDTQYF                            </td><td>TRA:TGTGCTTCCTACACCGACAAGCTCATCTTT;TRB:TGCGCCAGCAGTGGCGGGAGTATTAGCACAGATACGCAGTATTTT                                                                          </td><td>1598</td><td>3</td><td>3454</td><td>  4</td><td>3383</td><td>1</td><td>⋯</td><td>FALSE</td><td>FALSE</td><td>FALSE</td><td>FALSE</td><td>FALSE</td><td>FALSE</td><td>FALSE</td><td>FALSE</td><td>FALSE</td><td>FALSE</td></tr>\n",
       "\t<tr><th scope=row>4</th><td>AAACCTGAGAGCTGCA-24</td><td>donor1</td><td>TRB:CASSGGQSSYEQYF                                            </td><td>TRB:TGCGCCAGCAGTGGCGGACAGAGCTCCTACGAGCAGTACTTC                                                                                                                </td><td> 298</td><td>1</td><td> 880</td><td>  1</td><td>2389</td><td>1</td><td>⋯</td><td>FALSE</td><td>FALSE</td><td>FALSE</td><td>FALSE</td><td>FALSE</td><td>FALSE</td><td>FALSE</td><td>FALSE</td><td>FALSE</td><td>FALSE</td></tr>\n",
       "\t<tr><th scope=row>5</th><td>AAACCTGAGAGGGATA-8 </td><td>donor1</td><td>TRA:CAASGYGNTGRRALTF;TRB:CASSQDPAGGYNEQFF                     </td><td>TRA:TGTGCAGCAAGCGGGTATGGAAACACGGGCAGGAGAGCACTTACTTTT;TRB:TGCGCCAGCAGCCAAGACCCAGCGGGGGGGTACAATGAGCAGTTCTTC                                                     </td><td>1036</td><td>0</td><td>2457</td><td>  2</td><td>3427</td><td>3</td><td>⋯</td><td>FALSE</td><td>FALSE</td><td>FALSE</td><td>FALSE</td><td>FALSE</td><td>FALSE</td><td>FALSE</td><td>FALSE</td><td>FALSE</td><td>FALSE</td></tr>\n",
       "\t<tr><th scope=row>6</th><td>AAACCTGAGAGTGAGA-23</td><td>donor1</td><td>TRA:CAAHLSNFGNEKLTF;TRB:CATSRDRGHGDTIYF                       </td><td>TRA:TGTGCAGCACACTTATCTAACTTTGGAAATGAGAAATTAACCTTT;TRB:TGTGCCACCAGCAGAGATCGGGGCCATGGGGACACCATATATTTT                                                           </td><td>1729</td><td>1</td><td>  39</td><td>160</td><td>5671</td><td>5</td><td>⋯</td><td>FALSE</td><td>FALSE</td><td>FALSE</td><td>FALSE</td><td>FALSE</td><td>FALSE</td><td>FALSE</td><td>FALSE</td><td>FALSE</td><td>FALSE</td></tr>\n",
       "</tbody>\n",
       "</table>\n"
      ],
      "text/latex": [
       "A data.frame: 6 × 118\n",
       "\\begin{tabular}{r|lllllllllllllllllllll}\n",
       "  & barcode & donor & cell\\_clono\\_cdr3\\_aa & cell\\_clono\\_cdr3\\_nt & CD3 & CD19 & CD45RA & CD4 & CD8a & CD14 & ⋯ & B0702\\_RPHERNGFTVL\\_pp65\\_CMV\\_binder & B0801\\_RAKFKQLL\\_BZLF1\\_EBV\\_binder & B0801\\_ELRRKMMYM\\_IE-1\\_CMV\\_binder & B0801\\_FLRGRAYGL\\_EBNA-3A\\_EBV\\_binder & A0101\\_SLEGGGLGY\\_NC\\_binder & A0101\\_STEGGGLAY\\_NC\\_binder & A0201\\_ALIAPVHAV\\_NC\\_binder & A2402\\_AYSSAGASI\\_NC\\_binder & B0702\\_GPAESAAGL\\_NC\\_binder & NR(B0801)\\_AAKGRGAAL\\_NC\\_binder\\\\\n",
       "  & <chr> & <chr> & <chr> & <chr> & <dbl> & <dbl> & <dbl> & <dbl> & <dbl> & <dbl> & ⋯ & <lgl> & <lgl> & <lgl> & <lgl> & <lgl> & <lgl> & <lgl> & <lgl> & <lgl> & <lgl>\\\\\n",
       "\\hline\n",
       "\t1 & AAACCTGAGACAAAGG-4  & donor1 & TRA:CAASVSIWTGTASKLTF;TRA:CAAWDMEYGNKLVF;TRB:CAISDPGLAGGGGEQFF & TRA:TGTGCAGCAAGCGTTAGTATTTGGACCGGCACTGCCAGTAAACTCACCTTT;TRA:TGTGCCGCCTGGGACATGGAATATGGAAACAAGCTGGTCTTT;TRB:TGTGCCATCAGTGACCCCGGACTAGCGGGAGGCGGGGGGGAGCAGTTCTTC & 2125 & 0 &  912 &   1 & 2223 & 4 & ⋯ & FALSE & FALSE & FALSE & FALSE & FALSE & FALSE & FALSE & FALSE & FALSE & FALSE\\\\\n",
       "\t2 & AAACCTGAGACTGTAA-34 & donor1 & TRB:CASDTPVGQFF                                                & TRB:TGTGCCAGCGATACCCCGGTTGGGCAGTTCTTC                                                                                                                          & 1023 & 0 & 2028 &   2 & 3485 & 1 & ⋯ & FALSE & FALSE & FALSE & FALSE & FALSE & FALSE & FALSE & FALSE & FALSE & FALSE\\\\\n",
       "\t3 & AAACCTGAGAGCCCAA-5  & donor1 & TRA:CASYTDKLIF;TRB:CASSGGSISTDTQYF                             & TRA:TGTGCTTCCTACACCGACAAGCTCATCTTT;TRB:TGCGCCAGCAGTGGCGGGAGTATTAGCACAGATACGCAGTATTTT                                                                           & 1598 & 3 & 3454 &   4 & 3383 & 1 & ⋯ & FALSE & FALSE & FALSE & FALSE & FALSE & FALSE & FALSE & FALSE & FALSE & FALSE\\\\\n",
       "\t4 & AAACCTGAGAGCTGCA-24 & donor1 & TRB:CASSGGQSSYEQYF                                             & TRB:TGCGCCAGCAGTGGCGGACAGAGCTCCTACGAGCAGTACTTC                                                                                                                 &  298 & 1 &  880 &   1 & 2389 & 1 & ⋯ & FALSE & FALSE & FALSE & FALSE & FALSE & FALSE & FALSE & FALSE & FALSE & FALSE\\\\\n",
       "\t5 & AAACCTGAGAGGGATA-8  & donor1 & TRA:CAASGYGNTGRRALTF;TRB:CASSQDPAGGYNEQFF                      & TRA:TGTGCAGCAAGCGGGTATGGAAACACGGGCAGGAGAGCACTTACTTTT;TRB:TGCGCCAGCAGCCAAGACCCAGCGGGGGGGTACAATGAGCAGTTCTTC                                                      & 1036 & 0 & 2457 &   2 & 3427 & 3 & ⋯ & FALSE & FALSE & FALSE & FALSE & FALSE & FALSE & FALSE & FALSE & FALSE & FALSE\\\\\n",
       "\t6 & AAACCTGAGAGTGAGA-23 & donor1 & TRA:CAAHLSNFGNEKLTF;TRB:CATSRDRGHGDTIYF                        & TRA:TGTGCAGCACACTTATCTAACTTTGGAAATGAGAAATTAACCTTT;TRB:TGTGCCACCAGCAGAGATCGGGGCCATGGGGACACCATATATTTT                                                            & 1729 & 1 &   39 & 160 & 5671 & 5 & ⋯ & FALSE & FALSE & FALSE & FALSE & FALSE & FALSE & FALSE & FALSE & FALSE & FALSE\\\\\n",
       "\\end{tabular}\n"
      ],
      "text/markdown": [
       "\n",
       "A data.frame: 6 × 118\n",
       "\n",
       "| <!--/--> | barcode &lt;chr&gt; | donor &lt;chr&gt; | cell_clono_cdr3_aa &lt;chr&gt; | cell_clono_cdr3_nt &lt;chr&gt; | CD3 &lt;dbl&gt; | CD19 &lt;dbl&gt; | CD45RA &lt;dbl&gt; | CD4 &lt;dbl&gt; | CD8a &lt;dbl&gt; | CD14 &lt;dbl&gt; | ⋯ ⋯ | B0702_RPHERNGFTVL_pp65_CMV_binder &lt;lgl&gt; | B0801_RAKFKQLL_BZLF1_EBV_binder &lt;lgl&gt; | B0801_ELRRKMMYM_IE-1_CMV_binder &lt;lgl&gt; | B0801_FLRGRAYGL_EBNA-3A_EBV_binder &lt;lgl&gt; | A0101_SLEGGGLGY_NC_binder &lt;lgl&gt; | A0101_STEGGGLAY_NC_binder &lt;lgl&gt; | A0201_ALIAPVHAV_NC_binder &lt;lgl&gt; | A2402_AYSSAGASI_NC_binder &lt;lgl&gt; | B0702_GPAESAAGL_NC_binder &lt;lgl&gt; | NR(B0801)_AAKGRGAAL_NC_binder &lt;lgl&gt; |\n",
       "|---|---|---|---|---|---|---|---|---|---|---|---|---|---|---|---|---|---|---|---|---|---|\n",
       "| 1 | AAACCTGAGACAAAGG-4  | donor1 | TRA:CAASVSIWTGTASKLTF;TRA:CAAWDMEYGNKLVF;TRB:CAISDPGLAGGGGEQFF | TRA:TGTGCAGCAAGCGTTAGTATTTGGACCGGCACTGCCAGTAAACTCACCTTT;TRA:TGTGCCGCCTGGGACATGGAATATGGAAACAAGCTGGTCTTT;TRB:TGTGCCATCAGTGACCCCGGACTAGCGGGAGGCGGGGGGGAGCAGTTCTTC | 2125 | 0 |  912 |   1 | 2223 | 4 | ⋯ | FALSE | FALSE | FALSE | FALSE | FALSE | FALSE | FALSE | FALSE | FALSE | FALSE |\n",
       "| 2 | AAACCTGAGACTGTAA-34 | donor1 | TRB:CASDTPVGQFF                                                | TRB:TGTGCCAGCGATACCCCGGTTGGGCAGTTCTTC                                                                                                                          | 1023 | 0 | 2028 |   2 | 3485 | 1 | ⋯ | FALSE | FALSE | FALSE | FALSE | FALSE | FALSE | FALSE | FALSE | FALSE | FALSE |\n",
       "| 3 | AAACCTGAGAGCCCAA-5  | donor1 | TRA:CASYTDKLIF;TRB:CASSGGSISTDTQYF                             | TRA:TGTGCTTCCTACACCGACAAGCTCATCTTT;TRB:TGCGCCAGCAGTGGCGGGAGTATTAGCACAGATACGCAGTATTTT                                                                           | 1598 | 3 | 3454 |   4 | 3383 | 1 | ⋯ | FALSE | FALSE | FALSE | FALSE | FALSE | FALSE | FALSE | FALSE | FALSE | FALSE |\n",
       "| 4 | AAACCTGAGAGCTGCA-24 | donor1 | TRB:CASSGGQSSYEQYF                                             | TRB:TGCGCCAGCAGTGGCGGACAGAGCTCCTACGAGCAGTACTTC                                                                                                                 |  298 | 1 |  880 |   1 | 2389 | 1 | ⋯ | FALSE | FALSE | FALSE | FALSE | FALSE | FALSE | FALSE | FALSE | FALSE | FALSE |\n",
       "| 5 | AAACCTGAGAGGGATA-8  | donor1 | TRA:CAASGYGNTGRRALTF;TRB:CASSQDPAGGYNEQFF                      | TRA:TGTGCAGCAAGCGGGTATGGAAACACGGGCAGGAGAGCACTTACTTTT;TRB:TGCGCCAGCAGCCAAGACCCAGCGGGGGGGTACAATGAGCAGTTCTTC                                                      | 1036 | 0 | 2457 |   2 | 3427 | 3 | ⋯ | FALSE | FALSE | FALSE | FALSE | FALSE | FALSE | FALSE | FALSE | FALSE | FALSE |\n",
       "| 6 | AAACCTGAGAGTGAGA-23 | donor1 | TRA:CAAHLSNFGNEKLTF;TRB:CATSRDRGHGDTIYF                        | TRA:TGTGCAGCACACTTATCTAACTTTGGAAATGAGAAATTAACCTTT;TRB:TGTGCCACCAGCAGAGATCGGGGCCATGGGGACACCATATATTTT                                                            | 1729 | 1 |   39 | 160 | 5671 | 5 | ⋯ | FALSE | FALSE | FALSE | FALSE | FALSE | FALSE | FALSE | FALSE | FALSE | FALSE |\n",
       "\n"
      ],
      "text/plain": [
       "  barcode             donor \n",
       "1 AAACCTGAGACAAAGG-4  donor1\n",
       "2 AAACCTGAGACTGTAA-34 donor1\n",
       "3 AAACCTGAGAGCCCAA-5  donor1\n",
       "4 AAACCTGAGAGCTGCA-24 donor1\n",
       "5 AAACCTGAGAGGGATA-8  donor1\n",
       "6 AAACCTGAGAGTGAGA-23 donor1\n",
       "  cell_clono_cdr3_aa                                            \n",
       "1 TRA:CAASVSIWTGTASKLTF;TRA:CAAWDMEYGNKLVF;TRB:CAISDPGLAGGGGEQFF\n",
       "2 TRB:CASDTPVGQFF                                               \n",
       "3 TRA:CASYTDKLIF;TRB:CASSGGSISTDTQYF                            \n",
       "4 TRB:CASSGGQSSYEQYF                                            \n",
       "5 TRA:CAASGYGNTGRRALTF;TRB:CASSQDPAGGYNEQFF                     \n",
       "6 TRA:CAAHLSNFGNEKLTF;TRB:CATSRDRGHGDTIYF                       \n",
       "  cell_clono_cdr3_nt                                                                                                                                            \n",
       "1 TRA:TGTGCAGCAAGCGTTAGTATTTGGACCGGCACTGCCAGTAAACTCACCTTT;TRA:TGTGCCGCCTGGGACATGGAATATGGAAACAAGCTGGTCTTT;TRB:TGTGCCATCAGTGACCCCGGACTAGCGGGAGGCGGGGGGGAGCAGTTCTTC\n",
       "2 TRB:TGTGCCAGCGATACCCCGGTTGGGCAGTTCTTC                                                                                                                         \n",
       "3 TRA:TGTGCTTCCTACACCGACAAGCTCATCTTT;TRB:TGCGCCAGCAGTGGCGGGAGTATTAGCACAGATACGCAGTATTTT                                                                          \n",
       "4 TRB:TGCGCCAGCAGTGGCGGACAGAGCTCCTACGAGCAGTACTTC                                                                                                                \n",
       "5 TRA:TGTGCAGCAAGCGGGTATGGAAACACGGGCAGGAGAGCACTTACTTTT;TRB:TGCGCCAGCAGCCAAGACCCAGCGGGGGGGTACAATGAGCAGTTCTTC                                                     \n",
       "6 TRA:TGTGCAGCACACTTATCTAACTTTGGAAATGAGAAATTAACCTTT;TRB:TGTGCCACCAGCAGAGATCGGGGCCATGGGGACACCATATATTTT                                                           \n",
       "  CD3  CD19 CD45RA CD4 CD8a CD14 ⋯ B0702_RPHERNGFTVL_pp65_CMV_binder\n",
       "1 2125 0     912     1 2223 4    ⋯ FALSE                            \n",
       "2 1023 0    2028     2 3485 1    ⋯ FALSE                            \n",
       "3 1598 3    3454     4 3383 1    ⋯ FALSE                            \n",
       "4  298 1     880     1 2389 1    ⋯ FALSE                            \n",
       "5 1036 0    2457     2 3427 3    ⋯ FALSE                            \n",
       "6 1729 1      39   160 5671 5    ⋯ FALSE                            \n",
       "  B0801_RAKFKQLL_BZLF1_EBV_binder B0801_ELRRKMMYM_IE-1_CMV_binder\n",
       "1 FALSE                           FALSE                          \n",
       "2 FALSE                           FALSE                          \n",
       "3 FALSE                           FALSE                          \n",
       "4 FALSE                           FALSE                          \n",
       "5 FALSE                           FALSE                          \n",
       "6 FALSE                           FALSE                          \n",
       "  B0801_FLRGRAYGL_EBNA-3A_EBV_binder A0101_SLEGGGLGY_NC_binder\n",
       "1 FALSE                              FALSE                    \n",
       "2 FALSE                              FALSE                    \n",
       "3 FALSE                              FALSE                    \n",
       "4 FALSE                              FALSE                    \n",
       "5 FALSE                              FALSE                    \n",
       "6 FALSE                              FALSE                    \n",
       "  A0101_STEGGGLAY_NC_binder A0201_ALIAPVHAV_NC_binder A2402_AYSSAGASI_NC_binder\n",
       "1 FALSE                     FALSE                     FALSE                    \n",
       "2 FALSE                     FALSE                     FALSE                    \n",
       "3 FALSE                     FALSE                     FALSE                    \n",
       "4 FALSE                     FALSE                     FALSE                    \n",
       "5 FALSE                     FALSE                     FALSE                    \n",
       "6 FALSE                     FALSE                     FALSE                    \n",
       "  B0702_GPAESAAGL_NC_binder NR(B0801)_AAKGRGAAL_NC_binder\n",
       "1 FALSE                     FALSE                        \n",
       "2 FALSE                     FALSE                        \n",
       "3 FALSE                     FALSE                        \n",
       "4 FALSE                     FALSE                        \n",
       "5 FALSE                     FALSE                        \n",
       "6 FALSE                     FALSE                        "
      ]
     },
     "metadata": {},
     "output_type": "display_data"
    }
   ],
   "source": [
    "donor1 <- fread('../vdj_v1_hs_aggregated_donor1_binarized_matrix.csv', data.table = F)\n",
    "head(donor1)"
   ]
  },
  {
   "cell_type": "code",
   "execution_count": 28,
   "id": "a0eb8407",
   "metadata": {},
   "outputs": [
    {
     "data": {
      "text/html": [
       "<table class=\"dataframe\">\n",
       "<caption>A data.frame: 6 × 101</caption>\n",
       "<thead>\n",
       "\t<tr><th></th><th scope=col>cell_clono_cdr3_aa</th><th scope=col>A0101_VTEHDTLLY_IE-1_CMV</th><th scope=col>A0201_KTWGQYWQV_gp100_Cancer</th><th scope=col>A0201_ELAGIGILTV_MART-1_Cancer</th><th scope=col>A0201_CLLWSFQTSA_Tyrosinase_Cancer</th><th scope=col>A0201_IMDQVPFSV_gp100_Cancer</th><th scope=col>A0201_SLLMWITQV_NY-ESO-1_Cancer</th><th scope=col>A0201_KVAELVHFL_MAGE-A3_Cancer</th><th scope=col>A0201_KVLEYVIKV_MAGE-A1_Cancer</th><th scope=col>A0201_CLLGTYTQDV_Kanamycin-B-dioxygenase</th><th scope=col>⋯</th><th scope=col>B0702_RPHERNGFTVL_pp65_CMV_binder</th><th scope=col>B0801_RAKFKQLL_BZLF1_EBV_binder</th><th scope=col>B0801_ELRRKMMYM_IE-1_CMV_binder</th><th scope=col>B0801_FLRGRAYGL_EBNA-3A_EBV_binder</th><th scope=col>A0101_SLEGGGLGY_NC_binder</th><th scope=col>A0101_STEGGGLAY_NC_binder</th><th scope=col>A0201_ALIAPVHAV_NC_binder</th><th scope=col>A2402_AYSSAGASI_NC_binder</th><th scope=col>B0702_GPAESAAGL_NC_binder</th><th scope=col>NR(B0801)_AAKGRGAAL_NC_binder</th></tr>\n",
       "\t<tr><th></th><th scope=col>&lt;chr&gt;</th><th scope=col>&lt;dbl&gt;</th><th scope=col>&lt;dbl&gt;</th><th scope=col>&lt;dbl&gt;</th><th scope=col>&lt;dbl&gt;</th><th scope=col>&lt;dbl&gt;</th><th scope=col>&lt;dbl&gt;</th><th scope=col>&lt;dbl&gt;</th><th scope=col>&lt;dbl&gt;</th><th scope=col>&lt;dbl&gt;</th><th scope=col>⋯</th><th scope=col>&lt;lgl&gt;</th><th scope=col>&lt;lgl&gt;</th><th scope=col>&lt;lgl&gt;</th><th scope=col>&lt;lgl&gt;</th><th scope=col>&lt;lgl&gt;</th><th scope=col>&lt;lgl&gt;</th><th scope=col>&lt;lgl&gt;</th><th scope=col>&lt;lgl&gt;</th><th scope=col>&lt;lgl&gt;</th><th scope=col>&lt;lgl&gt;</th></tr>\n",
       "</thead>\n",
       "<tbody>\n",
       "\t<tr><th scope=row>1</th><td>TRA:CAASVSIWTGTASKLTF;TRA:CAAWDMEYGNKLVF;TRB:CAISDPGLAGGGGEQFF</td><td>0</td><td>0</td><td>0</td><td>0</td><td>0</td><td>0</td><td>0</td><td>0</td><td>0</td><td>⋯</td><td>FALSE</td><td>FALSE</td><td>FALSE</td><td>FALSE</td><td>FALSE</td><td>FALSE</td><td>FALSE</td><td>FALSE</td><td>FALSE</td><td>FALSE</td></tr>\n",
       "\t<tr><th scope=row>2</th><td>TRB:CASDTPVGQFF                                               </td><td>0</td><td>0</td><td>0</td><td>0</td><td>0</td><td>0</td><td>0</td><td>0</td><td>0</td><td>⋯</td><td>FALSE</td><td>FALSE</td><td>FALSE</td><td>FALSE</td><td>FALSE</td><td>FALSE</td><td>FALSE</td><td>FALSE</td><td>FALSE</td><td>FALSE</td></tr>\n",
       "\t<tr><th scope=row>3</th><td>TRA:CASYTDKLIF;TRB:CASSGGSISTDTQYF                            </td><td>0</td><td>0</td><td>0</td><td>0</td><td>0</td><td>0</td><td>0</td><td>0</td><td>1</td><td>⋯</td><td>FALSE</td><td>FALSE</td><td>FALSE</td><td>FALSE</td><td>FALSE</td><td>FALSE</td><td>FALSE</td><td>FALSE</td><td>FALSE</td><td>FALSE</td></tr>\n",
       "\t<tr><th scope=row>4</th><td>TRB:CASSGGQSSYEQYF                                            </td><td>0</td><td>0</td><td>0</td><td>0</td><td>0</td><td>0</td><td>0</td><td>0</td><td>0</td><td>⋯</td><td>FALSE</td><td>FALSE</td><td>FALSE</td><td>FALSE</td><td>FALSE</td><td>FALSE</td><td>FALSE</td><td>FALSE</td><td>FALSE</td><td>FALSE</td></tr>\n",
       "\t<tr><th scope=row>5</th><td>TRA:CAASGYGNTGRRALTF;TRB:CASSQDPAGGYNEQFF                     </td><td>0</td><td>0</td><td>0</td><td>0</td><td>0</td><td>0</td><td>1</td><td>0</td><td>0</td><td>⋯</td><td>FALSE</td><td>FALSE</td><td>FALSE</td><td>FALSE</td><td>FALSE</td><td>FALSE</td><td>FALSE</td><td>FALSE</td><td>FALSE</td><td>FALSE</td></tr>\n",
       "\t<tr><th scope=row>6</th><td>TRA:CAAHLSNFGNEKLTF;TRB:CATSRDRGHGDTIYF                       </td><td>0</td><td>0</td><td>0</td><td>0</td><td>0</td><td>0</td><td>0</td><td>0</td><td>0</td><td>⋯</td><td>FALSE</td><td>FALSE</td><td>FALSE</td><td>FALSE</td><td>FALSE</td><td>FALSE</td><td>FALSE</td><td>FALSE</td><td>FALSE</td><td>FALSE</td></tr>\n",
       "</tbody>\n",
       "</table>\n"
      ],
      "text/latex": [
       "A data.frame: 6 × 101\n",
       "\\begin{tabular}{r|lllllllllllllllllllll}\n",
       "  & cell\\_clono\\_cdr3\\_aa & A0101\\_VTEHDTLLY\\_IE-1\\_CMV & A0201\\_KTWGQYWQV\\_gp100\\_Cancer & A0201\\_ELAGIGILTV\\_MART-1\\_Cancer & A0201\\_CLLWSFQTSA\\_Tyrosinase\\_Cancer & A0201\\_IMDQVPFSV\\_gp100\\_Cancer & A0201\\_SLLMWITQV\\_NY-ESO-1\\_Cancer & A0201\\_KVAELVHFL\\_MAGE-A3\\_Cancer & A0201\\_KVLEYVIKV\\_MAGE-A1\\_Cancer & A0201\\_CLLGTYTQDV\\_Kanamycin-B-dioxygenase & ⋯ & B0702\\_RPHERNGFTVL\\_pp65\\_CMV\\_binder & B0801\\_RAKFKQLL\\_BZLF1\\_EBV\\_binder & B0801\\_ELRRKMMYM\\_IE-1\\_CMV\\_binder & B0801\\_FLRGRAYGL\\_EBNA-3A\\_EBV\\_binder & A0101\\_SLEGGGLGY\\_NC\\_binder & A0101\\_STEGGGLAY\\_NC\\_binder & A0201\\_ALIAPVHAV\\_NC\\_binder & A2402\\_AYSSAGASI\\_NC\\_binder & B0702\\_GPAESAAGL\\_NC\\_binder & NR(B0801)\\_AAKGRGAAL\\_NC\\_binder\\\\\n",
       "  & <chr> & <dbl> & <dbl> & <dbl> & <dbl> & <dbl> & <dbl> & <dbl> & <dbl> & <dbl> & ⋯ & <lgl> & <lgl> & <lgl> & <lgl> & <lgl> & <lgl> & <lgl> & <lgl> & <lgl> & <lgl>\\\\\n",
       "\\hline\n",
       "\t1 & TRA:CAASVSIWTGTASKLTF;TRA:CAAWDMEYGNKLVF;TRB:CAISDPGLAGGGGEQFF & 0 & 0 & 0 & 0 & 0 & 0 & 0 & 0 & 0 & ⋯ & FALSE & FALSE & FALSE & FALSE & FALSE & FALSE & FALSE & FALSE & FALSE & FALSE\\\\\n",
       "\t2 & TRB:CASDTPVGQFF                                                & 0 & 0 & 0 & 0 & 0 & 0 & 0 & 0 & 0 & ⋯ & FALSE & FALSE & FALSE & FALSE & FALSE & FALSE & FALSE & FALSE & FALSE & FALSE\\\\\n",
       "\t3 & TRA:CASYTDKLIF;TRB:CASSGGSISTDTQYF                             & 0 & 0 & 0 & 0 & 0 & 0 & 0 & 0 & 1 & ⋯ & FALSE & FALSE & FALSE & FALSE & FALSE & FALSE & FALSE & FALSE & FALSE & FALSE\\\\\n",
       "\t4 & TRB:CASSGGQSSYEQYF                                             & 0 & 0 & 0 & 0 & 0 & 0 & 0 & 0 & 0 & ⋯ & FALSE & FALSE & FALSE & FALSE & FALSE & FALSE & FALSE & FALSE & FALSE & FALSE\\\\\n",
       "\t5 & TRA:CAASGYGNTGRRALTF;TRB:CASSQDPAGGYNEQFF                      & 0 & 0 & 0 & 0 & 0 & 0 & 1 & 0 & 0 & ⋯ & FALSE & FALSE & FALSE & FALSE & FALSE & FALSE & FALSE & FALSE & FALSE & FALSE\\\\\n",
       "\t6 & TRA:CAAHLSNFGNEKLTF;TRB:CATSRDRGHGDTIYF                        & 0 & 0 & 0 & 0 & 0 & 0 & 0 & 0 & 0 & ⋯ & FALSE & FALSE & FALSE & FALSE & FALSE & FALSE & FALSE & FALSE & FALSE & FALSE\\\\\n",
       "\\end{tabular}\n"
      ],
      "text/markdown": [
       "\n",
       "A data.frame: 6 × 101\n",
       "\n",
       "| <!--/--> | cell_clono_cdr3_aa &lt;chr&gt; | A0101_VTEHDTLLY_IE-1_CMV &lt;dbl&gt; | A0201_KTWGQYWQV_gp100_Cancer &lt;dbl&gt; | A0201_ELAGIGILTV_MART-1_Cancer &lt;dbl&gt; | A0201_CLLWSFQTSA_Tyrosinase_Cancer &lt;dbl&gt; | A0201_IMDQVPFSV_gp100_Cancer &lt;dbl&gt; | A0201_SLLMWITQV_NY-ESO-1_Cancer &lt;dbl&gt; | A0201_KVAELVHFL_MAGE-A3_Cancer &lt;dbl&gt; | A0201_KVLEYVIKV_MAGE-A1_Cancer &lt;dbl&gt; | A0201_CLLGTYTQDV_Kanamycin-B-dioxygenase &lt;dbl&gt; | ⋯ ⋯ | B0702_RPHERNGFTVL_pp65_CMV_binder &lt;lgl&gt; | B0801_RAKFKQLL_BZLF1_EBV_binder &lt;lgl&gt; | B0801_ELRRKMMYM_IE-1_CMV_binder &lt;lgl&gt; | B0801_FLRGRAYGL_EBNA-3A_EBV_binder &lt;lgl&gt; | A0101_SLEGGGLGY_NC_binder &lt;lgl&gt; | A0101_STEGGGLAY_NC_binder &lt;lgl&gt; | A0201_ALIAPVHAV_NC_binder &lt;lgl&gt; | A2402_AYSSAGASI_NC_binder &lt;lgl&gt; | B0702_GPAESAAGL_NC_binder &lt;lgl&gt; | NR(B0801)_AAKGRGAAL_NC_binder &lt;lgl&gt; |\n",
       "|---|---|---|---|---|---|---|---|---|---|---|---|---|---|---|---|---|---|---|---|---|---|\n",
       "| 1 | TRA:CAASVSIWTGTASKLTF;TRA:CAAWDMEYGNKLVF;TRB:CAISDPGLAGGGGEQFF | 0 | 0 | 0 | 0 | 0 | 0 | 0 | 0 | 0 | ⋯ | FALSE | FALSE | FALSE | FALSE | FALSE | FALSE | FALSE | FALSE | FALSE | FALSE |\n",
       "| 2 | TRB:CASDTPVGQFF                                                | 0 | 0 | 0 | 0 | 0 | 0 | 0 | 0 | 0 | ⋯ | FALSE | FALSE | FALSE | FALSE | FALSE | FALSE | FALSE | FALSE | FALSE | FALSE |\n",
       "| 3 | TRA:CASYTDKLIF;TRB:CASSGGSISTDTQYF                             | 0 | 0 | 0 | 0 | 0 | 0 | 0 | 0 | 1 | ⋯ | FALSE | FALSE | FALSE | FALSE | FALSE | FALSE | FALSE | FALSE | FALSE | FALSE |\n",
       "| 4 | TRB:CASSGGQSSYEQYF                                             | 0 | 0 | 0 | 0 | 0 | 0 | 0 | 0 | 0 | ⋯ | FALSE | FALSE | FALSE | FALSE | FALSE | FALSE | FALSE | FALSE | FALSE | FALSE |\n",
       "| 5 | TRA:CAASGYGNTGRRALTF;TRB:CASSQDPAGGYNEQFF                      | 0 | 0 | 0 | 0 | 0 | 0 | 1 | 0 | 0 | ⋯ | FALSE | FALSE | FALSE | FALSE | FALSE | FALSE | FALSE | FALSE | FALSE | FALSE |\n",
       "| 6 | TRA:CAAHLSNFGNEKLTF;TRB:CATSRDRGHGDTIYF                        | 0 | 0 | 0 | 0 | 0 | 0 | 0 | 0 | 0 | ⋯ | FALSE | FALSE | FALSE | FALSE | FALSE | FALSE | FALSE | FALSE | FALSE | FALSE |\n",
       "\n"
      ],
      "text/plain": [
       "  cell_clono_cdr3_aa                                            \n",
       "1 TRA:CAASVSIWTGTASKLTF;TRA:CAAWDMEYGNKLVF;TRB:CAISDPGLAGGGGEQFF\n",
       "2 TRB:CASDTPVGQFF                                               \n",
       "3 TRA:CASYTDKLIF;TRB:CASSGGSISTDTQYF                            \n",
       "4 TRB:CASSGGQSSYEQYF                                            \n",
       "5 TRA:CAASGYGNTGRRALTF;TRB:CASSQDPAGGYNEQFF                     \n",
       "6 TRA:CAAHLSNFGNEKLTF;TRB:CATSRDRGHGDTIYF                       \n",
       "  A0101_VTEHDTLLY_IE-1_CMV A0201_KTWGQYWQV_gp100_Cancer\n",
       "1 0                        0                           \n",
       "2 0                        0                           \n",
       "3 0                        0                           \n",
       "4 0                        0                           \n",
       "5 0                        0                           \n",
       "6 0                        0                           \n",
       "  A0201_ELAGIGILTV_MART-1_Cancer A0201_CLLWSFQTSA_Tyrosinase_Cancer\n",
       "1 0                              0                                 \n",
       "2 0                              0                                 \n",
       "3 0                              0                                 \n",
       "4 0                              0                                 \n",
       "5 0                              0                                 \n",
       "6 0                              0                                 \n",
       "  A0201_IMDQVPFSV_gp100_Cancer A0201_SLLMWITQV_NY-ESO-1_Cancer\n",
       "1 0                            0                              \n",
       "2 0                            0                              \n",
       "3 0                            0                              \n",
       "4 0                            0                              \n",
       "5 0                            0                              \n",
       "6 0                            0                              \n",
       "  A0201_KVAELVHFL_MAGE-A3_Cancer A0201_KVLEYVIKV_MAGE-A1_Cancer\n",
       "1 0                              0                             \n",
       "2 0                              0                             \n",
       "3 0                              0                             \n",
       "4 0                              0                             \n",
       "5 1                              0                             \n",
       "6 0                              0                             \n",
       "  A0201_CLLGTYTQDV_Kanamycin-B-dioxygenase ⋯ B0702_RPHERNGFTVL_pp65_CMV_binder\n",
       "1 0                                        ⋯ FALSE                            \n",
       "2 0                                        ⋯ FALSE                            \n",
       "3 1                                        ⋯ FALSE                            \n",
       "4 0                                        ⋯ FALSE                            \n",
       "5 0                                        ⋯ FALSE                            \n",
       "6 0                                        ⋯ FALSE                            \n",
       "  B0801_RAKFKQLL_BZLF1_EBV_binder B0801_ELRRKMMYM_IE-1_CMV_binder\n",
       "1 FALSE                           FALSE                          \n",
       "2 FALSE                           FALSE                          \n",
       "3 FALSE                           FALSE                          \n",
       "4 FALSE                           FALSE                          \n",
       "5 FALSE                           FALSE                          \n",
       "6 FALSE                           FALSE                          \n",
       "  B0801_FLRGRAYGL_EBNA-3A_EBV_binder A0101_SLEGGGLGY_NC_binder\n",
       "1 FALSE                              FALSE                    \n",
       "2 FALSE                              FALSE                    \n",
       "3 FALSE                              FALSE                    \n",
       "4 FALSE                              FALSE                    \n",
       "5 FALSE                              FALSE                    \n",
       "6 FALSE                              FALSE                    \n",
       "  A0101_STEGGGLAY_NC_binder A0201_ALIAPVHAV_NC_binder A2402_AYSSAGASI_NC_binder\n",
       "1 FALSE                     FALSE                     FALSE                    \n",
       "2 FALSE                     FALSE                     FALSE                    \n",
       "3 FALSE                     FALSE                     FALSE                    \n",
       "4 FALSE                     FALSE                     FALSE                    \n",
       "5 FALSE                     FALSE                     FALSE                    \n",
       "6 FALSE                     FALSE                     FALSE                    \n",
       "  B0702_GPAESAAGL_NC_binder NR(B0801)_AAKGRGAAL_NC_binder\n",
       "1 FALSE                     FALSE                        \n",
       "2 FALSE                     FALSE                        \n",
       "3 FALSE                     FALSE                        \n",
       "4 FALSE                     FALSE                        \n",
       "5 FALSE                     FALSE                        \n",
       "6 FALSE                     FALSE                        "
      ]
     },
     "metadata": {},
     "output_type": "display_data"
    }
   ],
   "source": [
    "donor1 <- donor1[, -c(1:2, 4:18)]\n",
    "head(donor1)"
   ]
  },
  {
   "cell_type": "code",
   "execution_count": 29,
   "id": "22a1124f",
   "metadata": {},
   "outputs": [
    {
     "data": {
      "text/html": [
       "51"
      ],
      "text/latex": [
       "51"
      ],
      "text/markdown": [
       "51"
      ],
      "text/plain": [
       "[1] 51"
      ]
     },
     "metadata": {},
     "output_type": "display_data"
    }
   ],
   "source": [
    "keep_col <- colnames(donor1)[grepl('_binder', colnames(donor1))]\n",
    "donor1 <- donor1[, c('cell_clono_cdr3_aa', keep_col)]\n",
    "ncol(donor1)"
   ]
  },
  {
   "cell_type": "code",
   "execution_count": 30,
   "id": "531eb721",
   "metadata": {},
   "outputs": [
    {
     "name": "stderr",
     "output_type": "stream",
     "text": [
      "Warning message in melt(donor1, id.vars = c(\"cell_clono_cdr3_aa\"), variable.name = \"complex\"):\n",
      "“The melt generic in data.table has been passed a data.frame and will attempt to redirect to the relevant reshape2 method; please note that reshape2 is deprecated, and this redirection is now deprecated as well. To continue using melt methods from reshape2 while both libraries are attached, e.g. melt.list, you can prepend the namespace like reshape2::melt(donor1). In the next version, this warning will become an error.”\n"
     ]
    },
    {
     "data": {
      "text/plain": [
       "\n",
       "  FALSE    TRUE \n",
       "2312027   14273 "
      ]
     },
     "metadata": {},
     "output_type": "display_data"
    },
    {
     "data": {
      "text/html": [
       "<table class=\"dataframe\">\n",
       "<caption>A data.frame: 6 × 3</caption>\n",
       "<thead>\n",
       "\t<tr><th></th><th scope=col>cell_clono_cdr3_aa</th><th scope=col>complex</th><th scope=col>value</th></tr>\n",
       "\t<tr><th></th><th scope=col>&lt;chr&gt;</th><th scope=col>&lt;fct&gt;</th><th scope=col>&lt;lgl&gt;</th></tr>\n",
       "</thead>\n",
       "<tbody>\n",
       "\t<tr><th scope=row>1</th><td>TRA:CAASVSIWTGTASKLTF;TRA:CAAWDMEYGNKLVF;TRB:CAISDPGLAGGGGEQFF</td><td>A0101_VTEHDTLLY_IE-1_CMV_binder</td><td>FALSE</td></tr>\n",
       "\t<tr><th scope=row>2</th><td>TRB:CASDTPVGQFF                                               </td><td>A0101_VTEHDTLLY_IE-1_CMV_binder</td><td>FALSE</td></tr>\n",
       "\t<tr><th scope=row>3</th><td>TRA:CASYTDKLIF;TRB:CASSGGSISTDTQYF                            </td><td>A0101_VTEHDTLLY_IE-1_CMV_binder</td><td>FALSE</td></tr>\n",
       "\t<tr><th scope=row>4</th><td>TRB:CASSGGQSSYEQYF                                            </td><td>A0101_VTEHDTLLY_IE-1_CMV_binder</td><td>FALSE</td></tr>\n",
       "\t<tr><th scope=row>5</th><td>TRA:CAASGYGNTGRRALTF;TRB:CASSQDPAGGYNEQFF                     </td><td>A0101_VTEHDTLLY_IE-1_CMV_binder</td><td>FALSE</td></tr>\n",
       "\t<tr><th scope=row>6</th><td>TRA:CAAHLSNFGNEKLTF;TRB:CATSRDRGHGDTIYF                       </td><td>A0101_VTEHDTLLY_IE-1_CMV_binder</td><td>FALSE</td></tr>\n",
       "</tbody>\n",
       "</table>\n"
      ],
      "text/latex": [
       "A data.frame: 6 × 3\n",
       "\\begin{tabular}{r|lll}\n",
       "  & cell\\_clono\\_cdr3\\_aa & complex & value\\\\\n",
       "  & <chr> & <fct> & <lgl>\\\\\n",
       "\\hline\n",
       "\t1 & TRA:CAASVSIWTGTASKLTF;TRA:CAAWDMEYGNKLVF;TRB:CAISDPGLAGGGGEQFF & A0101\\_VTEHDTLLY\\_IE-1\\_CMV\\_binder & FALSE\\\\\n",
       "\t2 & TRB:CASDTPVGQFF                                                & A0101\\_VTEHDTLLY\\_IE-1\\_CMV\\_binder & FALSE\\\\\n",
       "\t3 & TRA:CASYTDKLIF;TRB:CASSGGSISTDTQYF                             & A0101\\_VTEHDTLLY\\_IE-1\\_CMV\\_binder & FALSE\\\\\n",
       "\t4 & TRB:CASSGGQSSYEQYF                                             & A0101\\_VTEHDTLLY\\_IE-1\\_CMV\\_binder & FALSE\\\\\n",
       "\t5 & TRA:CAASGYGNTGRRALTF;TRB:CASSQDPAGGYNEQFF                      & A0101\\_VTEHDTLLY\\_IE-1\\_CMV\\_binder & FALSE\\\\\n",
       "\t6 & TRA:CAAHLSNFGNEKLTF;TRB:CATSRDRGHGDTIYF                        & A0101\\_VTEHDTLLY\\_IE-1\\_CMV\\_binder & FALSE\\\\\n",
       "\\end{tabular}\n"
      ],
      "text/markdown": [
       "\n",
       "A data.frame: 6 × 3\n",
       "\n",
       "| <!--/--> | cell_clono_cdr3_aa &lt;chr&gt; | complex &lt;fct&gt; | value &lt;lgl&gt; |\n",
       "|---|---|---|---|\n",
       "| 1 | TRA:CAASVSIWTGTASKLTF;TRA:CAAWDMEYGNKLVF;TRB:CAISDPGLAGGGGEQFF | A0101_VTEHDTLLY_IE-1_CMV_binder | FALSE |\n",
       "| 2 | TRB:CASDTPVGQFF                                                | A0101_VTEHDTLLY_IE-1_CMV_binder | FALSE |\n",
       "| 3 | TRA:CASYTDKLIF;TRB:CASSGGSISTDTQYF                             | A0101_VTEHDTLLY_IE-1_CMV_binder | FALSE |\n",
       "| 4 | TRB:CASSGGQSSYEQYF                                             | A0101_VTEHDTLLY_IE-1_CMV_binder | FALSE |\n",
       "| 5 | TRA:CAASGYGNTGRRALTF;TRB:CASSQDPAGGYNEQFF                      | A0101_VTEHDTLLY_IE-1_CMV_binder | FALSE |\n",
       "| 6 | TRA:CAAHLSNFGNEKLTF;TRB:CATSRDRGHGDTIYF                        | A0101_VTEHDTLLY_IE-1_CMV_binder | FALSE |\n",
       "\n"
      ],
      "text/plain": [
       "  cell_clono_cdr3_aa                                            \n",
       "1 TRA:CAASVSIWTGTASKLTF;TRA:CAAWDMEYGNKLVF;TRB:CAISDPGLAGGGGEQFF\n",
       "2 TRB:CASDTPVGQFF                                               \n",
       "3 TRA:CASYTDKLIF;TRB:CASSGGSISTDTQYF                            \n",
       "4 TRB:CASSGGQSSYEQYF                                            \n",
       "5 TRA:CAASGYGNTGRRALTF;TRB:CASSQDPAGGYNEQFF                     \n",
       "6 TRA:CAAHLSNFGNEKLTF;TRB:CATSRDRGHGDTIYF                       \n",
       "  complex                         value\n",
       "1 A0101_VTEHDTLLY_IE-1_CMV_binder FALSE\n",
       "2 A0101_VTEHDTLLY_IE-1_CMV_binder FALSE\n",
       "3 A0101_VTEHDTLLY_IE-1_CMV_binder FALSE\n",
       "4 A0101_VTEHDTLLY_IE-1_CMV_binder FALSE\n",
       "5 A0101_VTEHDTLLY_IE-1_CMV_binder FALSE\n",
       "6 A0101_VTEHDTLLY_IE-1_CMV_binder FALSE"
      ]
     },
     "metadata": {},
     "output_type": "display_data"
    }
   ],
   "source": [
    "# wide to long dataframe\n",
    "donor1 <- melt(donor1, id.vars = c('cell_clono_cdr3_aa'), variable.name = 'complex')\n",
    "table(donor1$value)\n",
    "head(donor1)"
   ]
  },
  {
   "cell_type": "code",
   "execution_count": 31,
   "id": "e7b1b58b",
   "metadata": {},
   "outputs": [
    {
     "data": {
      "text/html": [
       "<style>\n",
       ".list-inline {list-style: none; margin:0; padding: 0}\n",
       ".list-inline>li {display: inline-block}\n",
       ".list-inline>li:not(:last-child)::after {content: \"\\00b7\"; padding: 0 .5ex}\n",
       "</style>\n",
       "<ol class=list-inline><li>2326300</li><li>3</li></ol>\n"
      ],
      "text/latex": [
       "\\begin{enumerate*}\n",
       "\\item 2326300\n",
       "\\item 3\n",
       "\\end{enumerate*}\n"
      ],
      "text/markdown": [
       "1. 2326300\n",
       "2. 3\n",
       "\n",
       "\n"
      ],
      "text/plain": [
       "[1] 2326300       3"
      ]
     },
     "metadata": {},
     "output_type": "display_data"
    },
    {
     "data": {
      "text/html": [
       "106000"
      ],
      "text/latex": [
       "106000"
      ],
      "text/markdown": [
       "106000"
      ],
      "text/plain": [
       "[1] 106000"
      ]
     },
     "metadata": {},
     "output_type": "display_data"
    }
   ],
   "source": [
    "# complex TRB may dampen the training\n",
    "dim(donor1)\n",
    "length(donor1$cell_clono_cdr3_aa[grepl('TRB.*TRB.*', donor1$cell_clono_cdr3_aa)])"
   ]
  },
  {
   "cell_type": "code",
   "execution_count": 32,
   "id": "926e7eba",
   "metadata": {
    "scrolled": true
   },
   "outputs": [
    {
     "data": {
      "text/html": [
       "<style>\n",
       ".list-inline {list-style: none; margin:0; padding: 0}\n",
       ".list-inline>li {display: inline-block}\n",
       ".list-inline>li:not(:last-child)::after {content: \"\\00b7\"; padding: 0 .5ex}\n",
       "</style>\n",
       "<ol class=list-inline><li>2259600</li><li>3</li></ol>\n"
      ],
      "text/latex": [
       "\\begin{enumerate*}\n",
       "\\item 2259600\n",
       "\\item 3\n",
       "\\end{enumerate*}\n"
      ],
      "text/markdown": [
       "1. 2259600\n",
       "2. 3\n",
       "\n",
       "\n"
      ],
      "text/plain": [
       "[1] 2259600       3"
      ]
     },
     "metadata": {},
     "output_type": "display_data"
    }
   ],
   "source": [
    "donor1$cell_clono_cdr3_aa <- gsub('TRA:[A-Z]*.?(;|$)', '', donor1$cell_clono_cdr3_aa)\n",
    "donor1 <- donor1[donor1$cell_clono_cdr3_aa != '',]\n",
    "dim(donor1)"
   ]
  },
  {
   "cell_type": "code",
   "execution_count": 33,
   "id": "5da2dd54",
   "metadata": {},
   "outputs": [],
   "source": [
    "#donor1 <- donor1 %>% \n",
    "#mutate(cell_clono_cdr3_aa = strsplit(cell_clono_cdr3_aa, \";\")) %>% \n",
    "#    unnest(cell_clono_cdr3_aa)\n",
    "#head(donor1)"
   ]
  },
  {
   "cell_type": "code",
   "execution_count": 34,
   "id": "692d441e",
   "metadata": {
    "scrolled": true
   },
   "outputs": [
    {
     "data": {
      "text/html": [
       "<style>\n",
       ".list-inline {list-style: none; margin:0; padding: 0}\n",
       ".list-inline>li {display: inline-block}\n",
       ".list-inline>li:not(:last-child)::after {content: \"\\00b7\"; padding: 0 .5ex}\n",
       "</style>\n",
       "<ol class=list-inline><li>2153600</li><li>3</li></ol>\n"
      ],
      "text/latex": [
       "\\begin{enumerate*}\n",
       "\\item 2153600\n",
       "\\item 3\n",
       "\\end{enumerate*}\n"
      ],
      "text/markdown": [
       "1. 2153600\n",
       "2. 3\n",
       "\n",
       "\n"
      ],
      "text/plain": [
       "[1] 2153600       3"
      ]
     },
     "metadata": {},
     "output_type": "display_data"
    }
   ],
   "source": [
    "# remove observations with ambiguous CDR3B\n",
    "donor1 <- donor1[!grepl('TRB.*TRB.*', donor1$cell_clono_cdr3_aa),]\n",
    "dim(donor1)"
   ]
  },
  {
   "cell_type": "code",
   "execution_count": 35,
   "id": "0e4086d6",
   "metadata": {},
   "outputs": [
    {
     "data": {
      "text/html": [
       "<table class=\"dataframe\">\n",
       "<caption>A data.frame: 6 × 3</caption>\n",
       "<thead>\n",
       "\t<tr><th></th><th scope=col>cell_clono_cdr3_aa</th><th scope=col>complex</th><th scope=col>value</th></tr>\n",
       "\t<tr><th></th><th scope=col>&lt;chr&gt;</th><th scope=col>&lt;fct&gt;</th><th scope=col>&lt;lgl&gt;</th></tr>\n",
       "</thead>\n",
       "<tbody>\n",
       "\t<tr><th scope=row>1</th><td>AISDPGLAGGGGEQF</td><td>A0101_VTEHDTLLY_IE-1_CMV_binder</td><td>FALSE</td></tr>\n",
       "\t<tr><th scope=row>2</th><td>ASDTPVGQF      </td><td>A0101_VTEHDTLLY_IE-1_CMV_binder</td><td>FALSE</td></tr>\n",
       "\t<tr><th scope=row>3</th><td>ASSGGSISTDTQY  </td><td>A0101_VTEHDTLLY_IE-1_CMV_binder</td><td>FALSE</td></tr>\n",
       "\t<tr><th scope=row>4</th><td>ASSGGQSSYEQY   </td><td>A0101_VTEHDTLLY_IE-1_CMV_binder</td><td>FALSE</td></tr>\n",
       "\t<tr><th scope=row>5</th><td>ASSQDPAGGYNEQF </td><td>A0101_VTEHDTLLY_IE-1_CMV_binder</td><td>FALSE</td></tr>\n",
       "\t<tr><th scope=row>6</th><td>ATSRDRGHGDTIY  </td><td>A0101_VTEHDTLLY_IE-1_CMV_binder</td><td>FALSE</td></tr>\n",
       "</tbody>\n",
       "</table>\n"
      ],
      "text/latex": [
       "A data.frame: 6 × 3\n",
       "\\begin{tabular}{r|lll}\n",
       "  & cell\\_clono\\_cdr3\\_aa & complex & value\\\\\n",
       "  & <chr> & <fct> & <lgl>\\\\\n",
       "\\hline\n",
       "\t1 & AISDPGLAGGGGEQF & A0101\\_VTEHDTLLY\\_IE-1\\_CMV\\_binder & FALSE\\\\\n",
       "\t2 & ASDTPVGQF       & A0101\\_VTEHDTLLY\\_IE-1\\_CMV\\_binder & FALSE\\\\\n",
       "\t3 & ASSGGSISTDTQY   & A0101\\_VTEHDTLLY\\_IE-1\\_CMV\\_binder & FALSE\\\\\n",
       "\t4 & ASSGGQSSYEQY    & A0101\\_VTEHDTLLY\\_IE-1\\_CMV\\_binder & FALSE\\\\\n",
       "\t5 & ASSQDPAGGYNEQF  & A0101\\_VTEHDTLLY\\_IE-1\\_CMV\\_binder & FALSE\\\\\n",
       "\t6 & ATSRDRGHGDTIY   & A0101\\_VTEHDTLLY\\_IE-1\\_CMV\\_binder & FALSE\\\\\n",
       "\\end{tabular}\n"
      ],
      "text/markdown": [
       "\n",
       "A data.frame: 6 × 3\n",
       "\n",
       "| <!--/--> | cell_clono_cdr3_aa &lt;chr&gt; | complex &lt;fct&gt; | value &lt;lgl&gt; |\n",
       "|---|---|---|---|\n",
       "| 1 | AISDPGLAGGGGEQF | A0101_VTEHDTLLY_IE-1_CMV_binder | FALSE |\n",
       "| 2 | ASDTPVGQF       | A0101_VTEHDTLLY_IE-1_CMV_binder | FALSE |\n",
       "| 3 | ASSGGSISTDTQY   | A0101_VTEHDTLLY_IE-1_CMV_binder | FALSE |\n",
       "| 4 | ASSGGQSSYEQY    | A0101_VTEHDTLLY_IE-1_CMV_binder | FALSE |\n",
       "| 5 | ASSQDPAGGYNEQF  | A0101_VTEHDTLLY_IE-1_CMV_binder | FALSE |\n",
       "| 6 | ATSRDRGHGDTIY   | A0101_VTEHDTLLY_IE-1_CMV_binder | FALSE |\n",
       "\n"
      ],
      "text/plain": [
       "  cell_clono_cdr3_aa complex                         value\n",
       "1 AISDPGLAGGGGEQF    A0101_VTEHDTLLY_IE-1_CMV_binder FALSE\n",
       "2 ASDTPVGQF          A0101_VTEHDTLLY_IE-1_CMV_binder FALSE\n",
       "3 ASSGGSISTDTQY      A0101_VTEHDTLLY_IE-1_CMV_binder FALSE\n",
       "4 ASSGGQSSYEQY       A0101_VTEHDTLLY_IE-1_CMV_binder FALSE\n",
       "5 ASSQDPAGGYNEQF     A0101_VTEHDTLLY_IE-1_CMV_binder FALSE\n",
       "6 ATSRDRGHGDTIY      A0101_VTEHDTLLY_IE-1_CMV_binder FALSE"
      ]
     },
     "metadata": {},
     "output_type": "display_data"
    }
   ],
   "source": [
    "donor1$cell_clono_cdr3_aa <- gsub('TRB:', '', donor1$cell_clono_cdr3_aa)\n",
    "donor1$cell_clono_cdr3_aa <- gsub('^C', '', donor1$cell_clono_cdr3_aa)\n",
    "donor1$cell_clono_cdr3_aa <- gsub('F$', '', donor1$cell_clono_cdr3_aa)\n",
    "head(donor1)"
   ]
  },
  {
   "cell_type": "code",
   "execution_count": 36,
   "id": "a6efc51b",
   "metadata": {},
   "outputs": [],
   "source": [
    "donor1$complex <- as.character(donor1$complex)\n",
    "#donor1$complex <- gsub('NC_', 'NC_NC_', donor1$complex)"
   ]
  },
  {
   "cell_type": "code",
   "execution_count": 37,
   "id": "cf01a9cc",
   "metadata": {
    "scrolled": true
   },
   "outputs": [
    {
     "data": {
      "text/html": [
       "<table class=\"dataframe\">\n",
       "<caption>A data.frame: 6 × 7</caption>\n",
       "<thead>\n",
       "\t<tr><th></th><th scope=col>cell_clono_cdr3_aa</th><th scope=col>complex</th><th scope=col>value</th><th scope=col>HLA</th><th scope=col>Epitope</th><th scope=col>Antigen</th><th scope=col>Source</th></tr>\n",
       "\t<tr><th></th><th scope=col>&lt;chr&gt;</th><th scope=col>&lt;chr&gt;</th><th scope=col>&lt;lgl&gt;</th><th scope=col>&lt;chr&gt;</th><th scope=col>&lt;chr&gt;</th><th scope=col>&lt;chr&gt;</th><th scope=col>&lt;chr&gt;</th></tr>\n",
       "</thead>\n",
       "<tbody>\n",
       "\t<tr><th scope=row>1</th><td>AISDPGLAGGGGEQF</td><td>A0101_VTEHDTLLY_IE-1_CMV</td><td>FALSE</td><td>A0101</td><td>VTEHDTLLY</td><td>IE-1</td><td>CMV</td></tr>\n",
       "\t<tr><th scope=row>2</th><td>ASDTPVGQF      </td><td>A0101_VTEHDTLLY_IE-1_CMV</td><td>FALSE</td><td>A0101</td><td>VTEHDTLLY</td><td>IE-1</td><td>CMV</td></tr>\n",
       "\t<tr><th scope=row>3</th><td>ASSGGSISTDTQY  </td><td>A0101_VTEHDTLLY_IE-1_CMV</td><td>FALSE</td><td>A0101</td><td>VTEHDTLLY</td><td>IE-1</td><td>CMV</td></tr>\n",
       "\t<tr><th scope=row>4</th><td>ASSGGQSSYEQY   </td><td>A0101_VTEHDTLLY_IE-1_CMV</td><td>FALSE</td><td>A0101</td><td>VTEHDTLLY</td><td>IE-1</td><td>CMV</td></tr>\n",
       "\t<tr><th scope=row>5</th><td>ASSQDPAGGYNEQF </td><td>A0101_VTEHDTLLY_IE-1_CMV</td><td>FALSE</td><td>A0101</td><td>VTEHDTLLY</td><td>IE-1</td><td>CMV</td></tr>\n",
       "\t<tr><th scope=row>6</th><td>ATSRDRGHGDTIY  </td><td>A0101_VTEHDTLLY_IE-1_CMV</td><td>FALSE</td><td>A0101</td><td>VTEHDTLLY</td><td>IE-1</td><td>CMV</td></tr>\n",
       "</tbody>\n",
       "</table>\n"
      ],
      "text/latex": [
       "A data.frame: 6 × 7\n",
       "\\begin{tabular}{r|lllllll}\n",
       "  & cell\\_clono\\_cdr3\\_aa & complex & value & HLA & Epitope & Antigen & Source\\\\\n",
       "  & <chr> & <chr> & <lgl> & <chr> & <chr> & <chr> & <chr>\\\\\n",
       "\\hline\n",
       "\t1 & AISDPGLAGGGGEQF & A0101\\_VTEHDTLLY\\_IE-1\\_CMV & FALSE & A0101 & VTEHDTLLY & IE-1 & CMV\\\\\n",
       "\t2 & ASDTPVGQF       & A0101\\_VTEHDTLLY\\_IE-1\\_CMV & FALSE & A0101 & VTEHDTLLY & IE-1 & CMV\\\\\n",
       "\t3 & ASSGGSISTDTQY   & A0101\\_VTEHDTLLY\\_IE-1\\_CMV & FALSE & A0101 & VTEHDTLLY & IE-1 & CMV\\\\\n",
       "\t4 & ASSGGQSSYEQY    & A0101\\_VTEHDTLLY\\_IE-1\\_CMV & FALSE & A0101 & VTEHDTLLY & IE-1 & CMV\\\\\n",
       "\t5 & ASSQDPAGGYNEQF  & A0101\\_VTEHDTLLY\\_IE-1\\_CMV & FALSE & A0101 & VTEHDTLLY & IE-1 & CMV\\\\\n",
       "\t6 & ATSRDRGHGDTIY   & A0101\\_VTEHDTLLY\\_IE-1\\_CMV & FALSE & A0101 & VTEHDTLLY & IE-1 & CMV\\\\\n",
       "\\end{tabular}\n"
      ],
      "text/markdown": [
       "\n",
       "A data.frame: 6 × 7\n",
       "\n",
       "| <!--/--> | cell_clono_cdr3_aa &lt;chr&gt; | complex &lt;chr&gt; | value &lt;lgl&gt; | HLA &lt;chr&gt; | Epitope &lt;chr&gt; | Antigen &lt;chr&gt; | Source &lt;chr&gt; |\n",
       "|---|---|---|---|---|---|---|---|\n",
       "| 1 | AISDPGLAGGGGEQF | A0101_VTEHDTLLY_IE-1_CMV | FALSE | A0101 | VTEHDTLLY | IE-1 | CMV |\n",
       "| 2 | ASDTPVGQF       | A0101_VTEHDTLLY_IE-1_CMV | FALSE | A0101 | VTEHDTLLY | IE-1 | CMV |\n",
       "| 3 | ASSGGSISTDTQY   | A0101_VTEHDTLLY_IE-1_CMV | FALSE | A0101 | VTEHDTLLY | IE-1 | CMV |\n",
       "| 4 | ASSGGQSSYEQY    | A0101_VTEHDTLLY_IE-1_CMV | FALSE | A0101 | VTEHDTLLY | IE-1 | CMV |\n",
       "| 5 | ASSQDPAGGYNEQF  | A0101_VTEHDTLLY_IE-1_CMV | FALSE | A0101 | VTEHDTLLY | IE-1 | CMV |\n",
       "| 6 | ATSRDRGHGDTIY   | A0101_VTEHDTLLY_IE-1_CMV | FALSE | A0101 | VTEHDTLLY | IE-1 | CMV |\n",
       "\n"
      ],
      "text/plain": [
       "  cell_clono_cdr3_aa complex                  value HLA   Epitope   Antigen\n",
       "1 AISDPGLAGGGGEQF    A0101_VTEHDTLLY_IE-1_CMV FALSE A0101 VTEHDTLLY IE-1   \n",
       "2 ASDTPVGQF          A0101_VTEHDTLLY_IE-1_CMV FALSE A0101 VTEHDTLLY IE-1   \n",
       "3 ASSGGSISTDTQY      A0101_VTEHDTLLY_IE-1_CMV FALSE A0101 VTEHDTLLY IE-1   \n",
       "4 ASSGGQSSYEQY       A0101_VTEHDTLLY_IE-1_CMV FALSE A0101 VTEHDTLLY IE-1   \n",
       "5 ASSQDPAGGYNEQF     A0101_VTEHDTLLY_IE-1_CMV FALSE A0101 VTEHDTLLY IE-1   \n",
       "6 ATSRDRGHGDTIY      A0101_VTEHDTLLY_IE-1_CMV FALSE A0101 VTEHDTLLY IE-1   \n",
       "  Source\n",
       "1 CMV   \n",
       "2 CMV   \n",
       "3 CMV   \n",
       "4 CMV   \n",
       "5 CMV   \n",
       "6 CMV   "
      ]
     },
     "metadata": {},
     "output_type": "display_data"
    }
   ],
   "source": [
    "donor1$complex <- gsub('_binder', '', donor1$complex)\n",
    "donor1$HLA <- unlist(lapply(donor1$complex, function(x) {unlist(strsplit(as.character(x), split = '_'))[1]}))\n",
    "donor1$HLA <- gsub('[(NR)]', '', donor1$HLA)\n",
    "donor1$Epitope <- unlist(lapply(donor1$complex, function(x) {unlist(strsplit(as.character(x), split = '_'))[2]}))\n",
    "donor1$Antigen <- unlist(lapply(donor1$complex, function(x) {unlist(strsplit(as.character(x), split = '_'))[3]}))\n",
    "donor1$Source <- unlist(lapply(donor1$complex, function(x) {unlist(strsplit(as.character(x), split = '_'))[4]}))\n",
    "head(donor1)"
   ]
  },
  {
   "cell_type": "code",
   "execution_count": 38,
   "id": "613cadc3",
   "metadata": {},
   "outputs": [
    {
     "data": {
      "text/html": [
       "<style>\n",
       ".list-inline {list-style: none; margin:0; padding: 0}\n",
       ".list-inline>li {display: inline-block}\n",
       ".list-inline>li:not(:last-child)::after {content: \"\\00b7\"; padding: 0 .5ex}\n",
       "</style>\n",
       "<ol class=list-inline><li>2153600</li><li>7</li></ol>\n"
      ],
      "text/latex": [
       "\\begin{enumerate*}\n",
       "\\item 2153600\n",
       "\\item 7\n",
       "\\end{enumerate*}\n"
      ],
      "text/markdown": [
       "1. 2153600\n",
       "2. 7\n",
       "\n",
       "\n"
      ],
      "text/plain": [
       "[1] 2153600       7"
      ]
     },
     "metadata": {},
     "output_type": "display_data"
    },
    {
     "data": {
      "text/html": [
       "<style>\n",
       ".list-inline {list-style: none; margin:0; padding: 0}\n",
       ".list-inline>li {display: inline-block}\n",
       ".list-inline>li:not(:last-child)::after {content: \"\\00b7\"; padding: 0 .5ex}\n",
       "</style>\n",
       "<ol class=list-inline><li>1258184</li><li>7</li></ol>\n"
      ],
      "text/latex": [
       "\\begin{enumerate*}\n",
       "\\item 1258184\n",
       "\\item 7\n",
       "\\end{enumerate*}\n"
      ],
      "text/markdown": [
       "1. 1258184\n",
       "2. 7\n",
       "\n",
       "\n"
      ],
      "text/plain": [
       "[1] 1258184       7"
      ]
     },
     "metadata": {},
     "output_type": "display_data"
    }
   ],
   "source": [
    "dim(donor1)\n",
    "donor1 <- unique(donor1)\n",
    "dim(donor1)"
   ]
  },
  {
   "cell_type": "code",
   "execution_count": 39,
   "id": "3882945e",
   "metadata": {},
   "outputs": [
    {
     "data": {
      "text/html": [
       "<style>\n",
       ".list-inline {list-style: none; margin:0; padding: 0}\n",
       ".list-inline>li {display: inline-block}\n",
       ".list-inline>li:not(:last-child)::after {content: \"\\00b7\"; padding: 0 .5ex}\n",
       "</style>\n",
       "<ol class=list-inline><li>1256516</li><li>7</li></ol>\n"
      ],
      "text/latex": [
       "\\begin{enumerate*}\n",
       "\\item 1256516\n",
       "\\item 7\n",
       "\\end{enumerate*}\n"
      ],
      "text/markdown": [
       "1. 1256516\n",
       "2. 7\n",
       "\n",
       "\n"
      ],
      "text/plain": [
       "[1] 1256516       7"
      ]
     },
     "metadata": {},
     "output_type": "display_data"
    }
   ],
   "source": [
    "# after removing TRA chain, the resulting TRB-HLA-Epitope can cause conflict labels -> remove contents of both labels\n",
    "donor1 <- donor1 %>%\n",
    "     group_by(cell_clono_cdr3_aa, complex, HLA, Epitope, Antigen, Source) %>% \n",
    "     filter(n_distinct(value) == 1) %>%\n",
    "     ungroup\n",
    "dim(donor1)"
   ]
  },
  {
   "cell_type": "code",
   "execution_count": 40,
   "id": "fa8cb19e",
   "metadata": {
    "scrolled": true
   },
   "outputs": [
    {
     "data": {
      "text/html": [
       "<style>\n",
       ".list-inline {list-style: none; margin:0; padding: 0}\n",
       ".list-inline>li {display: inline-block}\n",
       ".list-inline>li:not(:last-child)::after {content: \"\\00b7\"; padding: 0 .5ex}\n",
       "</style>\n",
       "<ol class=list-inline><li>1256516</li><li>3</li></ol>\n"
      ],
      "text/latex": [
       "\\begin{enumerate*}\n",
       "\\item 1256516\n",
       "\\item 3\n",
       "\\end{enumerate*}\n"
      ],
      "text/markdown": [
       "1. 1256516\n",
       "2. 3\n",
       "\n",
       "\n"
      ],
      "text/plain": [
       "[1] 1256516       3"
      ]
     },
     "metadata": {},
     "output_type": "display_data"
    }
   ],
   "source": [
    "dim(unique(donor1[, c('cell_clono_cdr3_aa', 'HLA', 'Epitope')]))"
   ]
  },
  {
   "cell_type": "code",
   "execution_count": 41,
   "id": "48c178eb",
   "metadata": {},
   "outputs": [
    {
     "data": {
      "text/html": [
       "2053"
      ],
      "text/latex": [
       "2053"
      ],
      "text/markdown": [
       "2053"
      ],
      "text/plain": [
       "[1] 2053"
      ]
     },
     "metadata": {},
     "output_type": "display_data"
    },
    {
     "data": {
      "text/html": [
       "1254463"
      ],
      "text/latex": [
       "1254463"
      ],
      "text/markdown": [
       "1254463"
      ],
      "text/plain": [
       "[1] 1254463"
      ]
     },
     "metadata": {},
     "output_type": "display_data"
    }
   ],
   "source": [
    "donor1$complex <- NULL\n",
    "donor1.pos <- donor1[donor1$value,]\n",
    "donor1.pos$value <- NULL\n",
    "nrow(donor1.pos)\n",
    "donor1.neg <- donor1[!donor1$value,]\n",
    "donor1.neg$value <- NULL\n",
    "nrow(donor1.neg)"
   ]
  },
  {
   "cell_type": "code",
   "execution_count": null,
   "id": "ff63954b",
   "metadata": {},
   "outputs": [],
   "source": []
  }
 ],
 "metadata": {
  "kernelspec": {
   "display_name": "R",
   "language": "R",
   "name": "ir"
  },
  "language_info": {
   "codemirror_mode": "r",
   "file_extension": ".r",
   "mimetype": "text/x-r-source",
   "name": "R",
   "pygments_lexer": "r",
   "version": "4.2.0"
  }
 },
 "nbformat": 4,
 "nbformat_minor": 5
}
