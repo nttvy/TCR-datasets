{
 "cells": [
  {
   "cell_type": "code",
   "execution_count": 1,
   "id": "241132a3",
   "metadata": {
    "scrolled": true
   },
   "outputs": [
    {
     "name": "stderr",
     "output_type": "stream",
     "text": [
      "Loading required package: ggplot2\n",
      "\n"
     ]
    },
    {
     "name": "stdout",
     "output_type": "stream",
     "text": [
      "|Function                      |Shortcut         |\n",
      "|:-----------------------------|:----------------|\n",
      "|alignAssign                   |Ctrl+Q           |\n",
      "|alignCursor                   |Ctrl+Shift+Q     |\n",
      "|toggle_subsection             |Ctrl+Y           |\n",
      "|toggle_subsubsection          |Ctrl+Shift+Y     |\n",
      "|insertFormals                 |Ctrl+Shift+Alt+I |\n",
      "|assignFormals                 |Ctrl+Shift+Alt+O |\n",
      "|fixCommas                     |Ctrl+Alt+Z       |\n",
      "|exposeAsArgument              |Ctrl+Alt+C       |\n",
      "|toggle_mclapply               |Ctrl+Shift+G     |\n",
      "|insert_debugonce              |Ctrl+Shift+Alt+G |\n",
      "|transform_subsection          |Ctrl+J           |\n",
      "|initiate_or_delete_subsection |Ctrl+Shift+J     |\n",
      "|renumber_sections             |Ctrl+Shift+R     |\n",
      "|insert_loopdebugger           |Ctrl+Shift+I     |\n",
      "|toggle_blabla                 |Ctrl+Alt+O       |\n",
      "|extract_importFrom            |Ctrl+Alt+I       |\n",
      "|refactor_functionCall         |Ctrl+Alt+U       |\n",
      "|insertHistory                 |Ctrl+Alt+H       |\n",
      "|insertDput                    |Ctrl+Shift+Alt+H |\n",
      "|clipr::clipr_result           |Ctrl+Shift+Alt+E |\n",
      "|asSnippet                     |Ctrl+Shift+Alt+S |\n",
      "|duplicateArgumments           |Ctrl+O           |\n",
      "|------------------------------|-----------------|\n",
      "|                        Lvl=22|           Lvl=22|\n",
      "Error in getSnippetPath() : Snippet file cannot be found\n"
     ]
    },
    {
     "name": "stderr",
     "output_type": "stream",
     "text": [
      "Loading required package: grid\n",
      "\n",
      "Loading required package: futile.logger\n",
      "\n"
     ]
    }
   ],
   "source": [
    "library(data.table)\n",
    "library(conveniencefunctions)\n",
    "library(VennDiagram)\n",
    "library(readxl)"
   ]
  },
  {
   "cell_type": "markdown",
   "id": "7e61b956",
   "metadata": {},
   "source": [
    "# Load data and check for exceptions"
   ]
  },
  {
   "cell_type": "code",
   "execution_count": 2,
   "id": "a79c25a8",
   "metadata": {
    "scrolled": true
   },
   "outputs": [
    {
     "data": {
      "text/html": [
       "<style>\n",
       ".list-inline {list-style: none; margin:0; padding: 0}\n",
       ".list-inline>li {display: inline-block}\n",
       ".list-inline>li:not(:last-child)::after {content: \"\\00b7\"; padding: 0 .5ex}\n",
       "</style>\n",
       "<ol class=list-inline><li>51139</li><li>30</li></ol>\n"
      ],
      "text/latex": [
       "\\begin{enumerate*}\n",
       "\\item 51139\n",
       "\\item 30\n",
       "\\end{enumerate*}\n"
      ],
      "text/markdown": [
       "1. 51139\n",
       "2. 30\n",
       "\n",
       "\n"
      ],
      "text/plain": [
       "[1] 51139    30"
      ]
     },
     "metadata": {},
     "output_type": "display_data"
    },
    {
     "data": {
      "text/html": [
       "<table class=\"dataframe\">\n",
       "<caption>A tibble: 6 × 30</caption>\n",
       "<thead>\n",
       "\t<tr><th scope=col>ICDname</th><th scope=col>Disease.name</th><th scope=col>Category</th><th scope=col>Antigen</th><th scope=col>Antigen.sequence</th><th scope=col>HLA</th><th scope=col>Locus</th><th scope=col>CDR3.alpha.aa</th><th scope=col>CDR3.beta.aa</th><th scope=col>CDR3.alpha.nt</th><th scope=col>⋯</th><th scope=col>Cell.subtype</th><th scope=col>Prepare.method</th><th scope=col>Evaluate.method</th><th scope=col>Case.num</th><th scope=col>Control.type</th><th scope=col>Control.num</th><th scope=col>Filteration</th><th scope=col>Journal</th><th scope=col>Pubmed.id</th><th scope=col>Grade</th></tr>\n",
       "\t<tr><th scope=col>&lt;chr&gt;</th><th scope=col>&lt;chr&gt;</th><th scope=col>&lt;chr&gt;</th><th scope=col>&lt;chr&gt;</th><th scope=col>&lt;chr&gt;</th><th scope=col>&lt;chr&gt;</th><th scope=col>&lt;chr&gt;</th><th scope=col>&lt;chr&gt;</th><th scope=col>&lt;chr&gt;</th><th scope=col>&lt;chr&gt;</th><th scope=col>⋯</th><th scope=col>&lt;chr&gt;</th><th scope=col>&lt;chr&gt;</th><th scope=col>&lt;chr&gt;</th><th scope=col>&lt;chr&gt;</th><th scope=col>&lt;chr&gt;</th><th scope=col>&lt;chr&gt;</th><th scope=col>&lt;chr&gt;</th><th scope=col>&lt;chr&gt;</th><th scope=col>&lt;dbl&gt;</th><th scope=col>&lt;dbl&gt;</th></tr>\n",
       "</thead>\n",
       "<tbody>\n",
       "\t<tr><td>A15</td><td>Tuberculosis</td><td>Pathogen</td><td>CFP10        </td><td>TAAQAAVVRFQEAAN</td><td>DRB1*15:03</td><td>TRA-TRB</td><td>CIEHTNSGGSNYKLTF</td><td>CASSLEETQYF      </td><td>-</td><td>⋯</td><td>CD4</td><td>Multiple PCR</td><td>Antigen-specific ex vivo proliferation</td><td>22</td><td>-     </td><td>- </td><td>-                               </td><td>Nature      </td><td>28636589</td><td>5</td></tr>\n",
       "\t<tr><td>A15</td><td>Tuberculosis</td><td>Pathogen</td><td>CFP10        </td><td>TAAQAAVVRFQEAAN</td><td>DRB1*15:03</td><td>TRA-TRB</td><td>CIVHTNSGGSNYKLTF</td><td>CASSPEETQYF      </td><td>-</td><td>⋯</td><td>CD4</td><td>Multiple PCR</td><td>Antigen-specific ex vivo proliferation</td><td>22</td><td>-     </td><td>- </td><td>-                               </td><td>Nature      </td><td>28636589</td><td>5</td></tr>\n",
       "\t<tr><td>A15</td><td>Tuberculosis</td><td>Pathogen</td><td>CFP10        </td><td>TAAQAAVVRFQEAAN</td><td>DRB1*15:03</td><td>TRA-TRB</td><td>CIVKTNSGGSNYKLTF</td><td>CASSFEETQYF      </td><td>-</td><td>⋯</td><td>CD4</td><td>Multiple PCR</td><td>Antigen-specific ex vivo proliferation</td><td>22</td><td>-     </td><td>- </td><td>-                               </td><td>Nature      </td><td>28636589</td><td>5</td></tr>\n",
       "\t<tr><td>A15</td><td>Tuberculosis</td><td>Pathogen</td><td>ESAT-6;CFP-10</td><td>-              </td><td>-         </td><td>TRB    </td><td>-               </td><td>CASGRPYEQYF      </td><td>-</td><td>⋯</td><td>T  </td><td>5'RACE      </td><td>Statistical analysis                  </td><td>25</td><td>Health</td><td>15</td><td>Stimulated with ESAT-6 or CFP-10</td><td>Tuberculosis</td><td>23845455</td><td>2</td></tr>\n",
       "\t<tr><td>A15</td><td>Tuberculosis</td><td>Pathogen</td><td>ESAT-6;CFP-10</td><td>-              </td><td>-         </td><td>TRB    </td><td>-               </td><td>CASSFLERGLFFYEQYF</td><td>-</td><td>⋯</td><td>T  </td><td>5'RACE      </td><td>Statistical analysis                  </td><td>25</td><td>-     </td><td>15</td><td>Stimulated with ESAT-6 or CFP-10</td><td>Tuberculosis</td><td>23845455</td><td>2</td></tr>\n",
       "\t<tr><td>A15</td><td>Tuberculosis</td><td>Pathogen</td><td>ESAT-6;CFP-10</td><td>-              </td><td>-         </td><td>TRB    </td><td>-               </td><td>CASSFLLRGAFFYEQYF</td><td>-</td><td>⋯</td><td>T  </td><td>5'RACE      </td><td>Statistical analysis                  </td><td>25</td><td>Health</td><td>15</td><td>Stimulated with ESAT-6 or CFP-10</td><td>Tuberculosis</td><td>23845455</td><td>2</td></tr>\n",
       "</tbody>\n",
       "</table>\n"
      ],
      "text/latex": [
       "A tibble: 6 × 30\n",
       "\\begin{tabular}{lllllllllllllllllllll}\n",
       " ICDname & Disease.name & Category & Antigen & Antigen.sequence & HLA & Locus & CDR3.alpha.aa & CDR3.beta.aa & CDR3.alpha.nt & ⋯ & Cell.subtype & Prepare.method & Evaluate.method & Case.num & Control.type & Control.num & Filteration & Journal & Pubmed.id & Grade\\\\\n",
       " <chr> & <chr> & <chr> & <chr> & <chr> & <chr> & <chr> & <chr> & <chr> & <chr> & ⋯ & <chr> & <chr> & <chr> & <chr> & <chr> & <chr> & <chr> & <chr> & <dbl> & <dbl>\\\\\n",
       "\\hline\n",
       "\t A15 & Tuberculosis & Pathogen & CFP10         & TAAQAAVVRFQEAAN & DRB1*15:03 & TRA-TRB & CIEHTNSGGSNYKLTF & CASSLEETQYF       & - & ⋯ & CD4 & Multiple PCR & Antigen-specific ex vivo proliferation & 22 & -      & -  & -                                & Nature       & 28636589 & 5\\\\\n",
       "\t A15 & Tuberculosis & Pathogen & CFP10         & TAAQAAVVRFQEAAN & DRB1*15:03 & TRA-TRB & CIVHTNSGGSNYKLTF & CASSPEETQYF       & - & ⋯ & CD4 & Multiple PCR & Antigen-specific ex vivo proliferation & 22 & -      & -  & -                                & Nature       & 28636589 & 5\\\\\n",
       "\t A15 & Tuberculosis & Pathogen & CFP10         & TAAQAAVVRFQEAAN & DRB1*15:03 & TRA-TRB & CIVKTNSGGSNYKLTF & CASSFEETQYF       & - & ⋯ & CD4 & Multiple PCR & Antigen-specific ex vivo proliferation & 22 & -      & -  & -                                & Nature       & 28636589 & 5\\\\\n",
       "\t A15 & Tuberculosis & Pathogen & ESAT-6;CFP-10 & -               & -          & TRB     & -                & CASGRPYEQYF       & - & ⋯ & T   & 5'RACE       & Statistical analysis                   & 25 & Health & 15 & Stimulated with ESAT-6 or CFP-10 & Tuberculosis & 23845455 & 2\\\\\n",
       "\t A15 & Tuberculosis & Pathogen & ESAT-6;CFP-10 & -               & -          & TRB     & -                & CASSFLERGLFFYEQYF & - & ⋯ & T   & 5'RACE       & Statistical analysis                   & 25 & -      & 15 & Stimulated with ESAT-6 or CFP-10 & Tuberculosis & 23845455 & 2\\\\\n",
       "\t A15 & Tuberculosis & Pathogen & ESAT-6;CFP-10 & -               & -          & TRB     & -                & CASSFLLRGAFFYEQYF & - & ⋯ & T   & 5'RACE       & Statistical analysis                   & 25 & Health & 15 & Stimulated with ESAT-6 or CFP-10 & Tuberculosis & 23845455 & 2\\\\\n",
       "\\end{tabular}\n"
      ],
      "text/markdown": [
       "\n",
       "A tibble: 6 × 30\n",
       "\n",
       "| ICDname &lt;chr&gt; | Disease.name &lt;chr&gt; | Category &lt;chr&gt; | Antigen &lt;chr&gt; | Antigen.sequence &lt;chr&gt; | HLA &lt;chr&gt; | Locus &lt;chr&gt; | CDR3.alpha.aa &lt;chr&gt; | CDR3.beta.aa &lt;chr&gt; | CDR3.alpha.nt &lt;chr&gt; | ⋯ ⋯ | Cell.subtype &lt;chr&gt; | Prepare.method &lt;chr&gt; | Evaluate.method &lt;chr&gt; | Case.num &lt;chr&gt; | Control.type &lt;chr&gt; | Control.num &lt;chr&gt; | Filteration &lt;chr&gt; | Journal &lt;chr&gt; | Pubmed.id &lt;dbl&gt; | Grade &lt;dbl&gt; |\n",
       "|---|---|---|---|---|---|---|---|---|---|---|---|---|---|---|---|---|---|---|---|---|\n",
       "| A15 | Tuberculosis | Pathogen | CFP10         | TAAQAAVVRFQEAAN | DRB1*15:03 | TRA-TRB | CIEHTNSGGSNYKLTF | CASSLEETQYF       | - | ⋯ | CD4 | Multiple PCR | Antigen-specific ex vivo proliferation | 22 | -      | -  | -                                | Nature       | 28636589 | 5 |\n",
       "| A15 | Tuberculosis | Pathogen | CFP10         | TAAQAAVVRFQEAAN | DRB1*15:03 | TRA-TRB | CIVHTNSGGSNYKLTF | CASSPEETQYF       | - | ⋯ | CD4 | Multiple PCR | Antigen-specific ex vivo proliferation | 22 | -      | -  | -                                | Nature       | 28636589 | 5 |\n",
       "| A15 | Tuberculosis | Pathogen | CFP10         | TAAQAAVVRFQEAAN | DRB1*15:03 | TRA-TRB | CIVKTNSGGSNYKLTF | CASSFEETQYF       | - | ⋯ | CD4 | Multiple PCR | Antigen-specific ex vivo proliferation | 22 | -      | -  | -                                | Nature       | 28636589 | 5 |\n",
       "| A15 | Tuberculosis | Pathogen | ESAT-6;CFP-10 | -               | -          | TRB     | -                | CASGRPYEQYF       | - | ⋯ | T   | 5'RACE       | Statistical analysis                   | 25 | Health | 15 | Stimulated with ESAT-6 or CFP-10 | Tuberculosis | 23845455 | 2 |\n",
       "| A15 | Tuberculosis | Pathogen | ESAT-6;CFP-10 | -               | -          | TRB     | -                | CASSFLERGLFFYEQYF | - | ⋯ | T   | 5'RACE       | Statistical analysis                   | 25 | -      | 15 | Stimulated with ESAT-6 or CFP-10 | Tuberculosis | 23845455 | 2 |\n",
       "| A15 | Tuberculosis | Pathogen | ESAT-6;CFP-10 | -               | -          | TRB     | -                | CASSFLLRGAFFYEQYF | - | ⋯ | T   | 5'RACE       | Statistical analysis                   | 25 | Health | 15 | Stimulated with ESAT-6 or CFP-10 | Tuberculosis | 23845455 | 2 |\n",
       "\n"
      ],
      "text/plain": [
       "  ICDname Disease.name Category Antigen       Antigen.sequence HLA       \n",
       "1 A15     Tuberculosis Pathogen CFP10         TAAQAAVVRFQEAAN  DRB1*15:03\n",
       "2 A15     Tuberculosis Pathogen CFP10         TAAQAAVVRFQEAAN  DRB1*15:03\n",
       "3 A15     Tuberculosis Pathogen CFP10         TAAQAAVVRFQEAAN  DRB1*15:03\n",
       "4 A15     Tuberculosis Pathogen ESAT-6;CFP-10 -                -         \n",
       "5 A15     Tuberculosis Pathogen ESAT-6;CFP-10 -                -         \n",
       "6 A15     Tuberculosis Pathogen ESAT-6;CFP-10 -                -         \n",
       "  Locus   CDR3.alpha.aa    CDR3.beta.aa      CDR3.alpha.nt ⋯ Cell.subtype\n",
       "1 TRA-TRB CIEHTNSGGSNYKLTF CASSLEETQYF       -             ⋯ CD4         \n",
       "2 TRA-TRB CIVHTNSGGSNYKLTF CASSPEETQYF       -             ⋯ CD4         \n",
       "3 TRA-TRB CIVKTNSGGSNYKLTF CASSFEETQYF       -             ⋯ CD4         \n",
       "4 TRB     -                CASGRPYEQYF       -             ⋯ T           \n",
       "5 TRB     -                CASSFLERGLFFYEQYF -             ⋯ T           \n",
       "6 TRB     -                CASSFLLRGAFFYEQYF -             ⋯ T           \n",
       "  Prepare.method Evaluate.method                        Case.num Control.type\n",
       "1 Multiple PCR   Antigen-specific ex vivo proliferation 22       -           \n",
       "2 Multiple PCR   Antigen-specific ex vivo proliferation 22       -           \n",
       "3 Multiple PCR   Antigen-specific ex vivo proliferation 22       -           \n",
       "4 5'RACE         Statistical analysis                   25       Health      \n",
       "5 5'RACE         Statistical analysis                   25       -           \n",
       "6 5'RACE         Statistical analysis                   25       Health      \n",
       "  Control.num Filteration                      Journal      Pubmed.id Grade\n",
       "1 -           -                                Nature       28636589  5    \n",
       "2 -           -                                Nature       28636589  5    \n",
       "3 -           -                                Nature       28636589  5    \n",
       "4 15          Stimulated with ESAT-6 or CFP-10 Tuberculosis 23845455  2    \n",
       "5 15          Stimulated with ESAT-6 or CFP-10 Tuberculosis 23845455  2    \n",
       "6 15          Stimulated with ESAT-6 or CFP-10 Tuberculosis 23845455  2    "
      ]
     },
     "metadata": {},
     "output_type": "display_data"
    }
   ],
   "source": [
    "dat <- read_excel('TBAdb.xlsx')\n",
    "dim(dat)\n",
    "head(dat)"
   ]
  },
  {
   "cell_type": "code",
   "execution_count": 3,
   "id": "475afe9f",
   "metadata": {},
   "outputs": [],
   "source": [
    "dat$CDR3.beta.aa <- gsub('^C', '', dat$CDR3.beta.aa)\n",
    "dat$CDR3.beta.aa <- gsub('F$', '', dat$CDR3.beta.aa)"
   ]
  },
  {
   "cell_type": "code",
   "execution_count": 4,
   "id": "228109f5",
   "metadata": {},
   "outputs": [
    {
     "data": {
      "text/html": [
       "FALSE"
      ],
      "text/latex": [
       "FALSE"
      ],
      "text/markdown": [
       "FALSE"
      ],
      "text/plain": [
       "[1] FALSE"
      ]
     },
     "metadata": {},
     "output_type": "display_data"
    }
   ],
   "source": [
    "any(is.na(dat))"
   ]
  },
  {
   "cell_type": "code",
   "execution_count": 5,
   "id": "546f002a",
   "metadata": {
    "scrolled": true
   },
   "outputs": [
    {
     "data": {
      "text/html": [
       "TRUE"
      ],
      "text/latex": [
       "TRUE"
      ],
      "text/markdown": [
       "TRUE"
      ],
      "text/plain": [
       "[1] TRUE"
      ]
     },
     "metadata": {},
     "output_type": "display_data"
    },
    {
     "data": {
      "text/html": [
       "TRUE"
      ],
      "text/latex": [
       "TRUE"
      ],
      "text/markdown": [
       "TRUE"
      ],
      "text/plain": [
       "[1] TRUE"
      ]
     },
     "metadata": {},
     "output_type": "display_data"
    }
   ],
   "source": [
    "# check for special characters in CDR3 and epitope sequences\n",
    "any(grepl(\"[[:punct:]]\", dat$CDR3.beta.aa))\n",
    "any(grepl(\"[[:punct:]]\", dat$Antigen.sequence))"
   ]
  },
  {
   "cell_type": "code",
   "execution_count": 6,
   "id": "1ffe1f24",
   "metadata": {},
   "outputs": [
    {
     "data": {
      "text/html": [
       "FALSE"
      ],
      "text/latex": [
       "FALSE"
      ],
      "text/markdown": [
       "FALSE"
      ],
      "text/plain": [
       "[1] FALSE"
      ]
     },
     "metadata": {},
     "output_type": "display_data"
    },
    {
     "data": {
      "text/html": [
       "FALSE"
      ],
      "text/latex": [
       "FALSE"
      ],
      "text/markdown": [
       "FALSE"
      ],
      "text/plain": [
       "[1] FALSE"
      ]
     },
     "metadata": {},
     "output_type": "display_data"
    }
   ],
   "source": [
    "# check for special characters in CDR3 and epitope sequences\n",
    "any(grepl(\" \", dat$CDR3.beta.aa))\n",
    "any(grepl(\" \", dat$Antigen.sequence))"
   ]
  },
  {
   "cell_type": "code",
   "execution_count": 7,
   "id": "041c92bf",
   "metadata": {},
   "outputs": [
    {
     "data": {
      "text/html": [
       "<style>\n",
       ".list-inline {list-style: none; margin:0; padding: 0}\n",
       ".list-inline>li {display: inline-block}\n",
       ".list-inline>li:not(:last-child)::after {content: \"\\00b7\"; padding: 0 .5ex}\n",
       "</style>\n",
       "<ol class=list-inline><li>47113</li><li>30</li></ol>\n"
      ],
      "text/latex": [
       "\\begin{enumerate*}\n",
       "\\item 47113\n",
       "\\item 30\n",
       "\\end{enumerate*}\n"
      ],
      "text/markdown": [
       "1. 47113\n",
       "2. 30\n",
       "\n",
       "\n"
      ],
      "text/plain": [
       "[1] 47113    30"
      ]
     },
     "metadata": {},
     "output_type": "display_data"
    }
   ],
   "source": [
    "# remove unclear CDR3\n",
    "dat <- dat[!grepl(\"[[:punct:]]\", dat$CDR3.beta.aa),]\n",
    "dim(dat)"
   ]
  },
  {
   "cell_type": "code",
   "execution_count": 8,
   "id": "8ff03234",
   "metadata": {},
   "outputs": [
    {
     "data": {
      "text/html": [
       "<style>\n",
       ".list-inline {list-style: none; margin:0; padding: 0}\n",
       ".list-inline>li {display: inline-block}\n",
       ".list-inline>li:not(:last-child)::after {content: \"\\00b7\"; padding: 0 .5ex}\n",
       "</style>\n",
       "<ol class=list-inline><li>6254</li><li>30</li></ol>\n"
      ],
      "text/latex": [
       "\\begin{enumerate*}\n",
       "\\item 6254\n",
       "\\item 30\n",
       "\\end{enumerate*}\n"
      ],
      "text/markdown": [
       "1. 6254\n",
       "2. 30\n",
       "\n",
       "\n"
      ],
      "text/plain": [
       "[1] 6254   30"
      ]
     },
     "metadata": {},
     "output_type": "display_data"
    }
   ],
   "source": [
    "# remove unclear epitope\n",
    "dat <- dat[!grepl(\"[[:punct:]]\", dat$Antigen.sequence),]\n",
    "dim(dat)"
   ]
  },
  {
   "cell_type": "code",
   "execution_count": 9,
   "id": "6b3ab5e2",
   "metadata": {},
   "outputs": [
    {
     "data": {
      "text/html": [
       "<style>\n",
       ".list-inline {list-style: none; margin:0; padding: 0}\n",
       ".list-inline>li {display: inline-block}\n",
       ".list-inline>li:not(:last-child)::after {content: \"\\00b7\"; padding: 0 .5ex}\n",
       "</style>\n",
       "<ol class=list-inline><li>5955</li><li>6</li></ol>\n"
      ],
      "text/latex": [
       "\\begin{enumerate*}\n",
       "\\item 5955\n",
       "\\item 6\n",
       "\\end{enumerate*}\n"
      ],
      "text/markdown": [
       "1. 5955\n",
       "2. 6\n",
       "\n",
       "\n"
      ],
      "text/plain": [
       "[1] 5955    6"
      ]
     },
     "metadata": {},
     "output_type": "display_data"
    }
   ],
   "source": [
    "dat <- unique(dat[, c('Disease.name', 'Category', 'Antigen', 'Antigen.sequence', 'HLA', 'CDR3.beta.aa')])\n",
    "dim(dat)"
   ]
  },
  {
   "cell_type": "code",
   "execution_count": 10,
   "id": "540238d7",
   "metadata": {},
   "outputs": [
    {
     "data": {
      "text/html": [
       "<table class=\"dataframe\">\n",
       "<caption>A tibble: 6 × 6</caption>\n",
       "<thead>\n",
       "\t<tr><th scope=col>Disease.name</th><th scope=col>Category</th><th scope=col>Antigen</th><th scope=col>Antigen.sequence</th><th scope=col>HLA</th><th scope=col>CDR3.beta.aa</th></tr>\n",
       "\t<tr><th scope=col>&lt;chr&gt;</th><th scope=col>&lt;chr&gt;</th><th scope=col>&lt;chr&gt;</th><th scope=col>&lt;chr&gt;</th><th scope=col>&lt;chr&gt;</th><th scope=col>&lt;chr&gt;</th></tr>\n",
       "</thead>\n",
       "<tbody>\n",
       "\t<tr><td>Tuberculosis</td><td>Pathogen</td><td>CFP10 </td><td>TAAQAAVVRFQEAAN</td><td>DRB1*15:03</td><td>ASSLEETQY     </td></tr>\n",
       "\t<tr><td>Tuberculosis</td><td>Pathogen</td><td>CFP10 </td><td>TAAQAAVVRFQEAAN</td><td>DRB1*15:03</td><td>ASSPEETQY     </td></tr>\n",
       "\t<tr><td>Tuberculosis</td><td>Pathogen</td><td>CFP10 </td><td>TAAQAAVVRFQEAAN</td><td>DRB1*15:03</td><td>ASSFEETQY     </td></tr>\n",
       "\t<tr><td>Tuberculosis</td><td>Pathogen</td><td>Rv1195</td><td>ADTLQSIGATTVASN</td><td>DRB1*15:03</td><td>ASSVALASGANVLT</td></tr>\n",
       "\t<tr><td>Tuberculosis</td><td>Pathogen</td><td>Rv1195</td><td>ADTLQSIGATTVASN</td><td>DRB1*15:03</td><td>ASSVALATGEQY  </td></tr>\n",
       "\t<tr><td>Tuberculosis</td><td>Pathogen</td><td>Rv1195</td><td>ADTLQSIGATTVASN</td><td>DRB1*15:03</td><td>ASSVALQGVHTQY </td></tr>\n",
       "</tbody>\n",
       "</table>\n"
      ],
      "text/latex": [
       "A tibble: 6 × 6\n",
       "\\begin{tabular}{llllll}\n",
       " Disease.name & Category & Antigen & Antigen.sequence & HLA & CDR3.beta.aa\\\\\n",
       " <chr> & <chr> & <chr> & <chr> & <chr> & <chr>\\\\\n",
       "\\hline\n",
       "\t Tuberculosis & Pathogen & CFP10  & TAAQAAVVRFQEAAN & DRB1*15:03 & ASSLEETQY     \\\\\n",
       "\t Tuberculosis & Pathogen & CFP10  & TAAQAAVVRFQEAAN & DRB1*15:03 & ASSPEETQY     \\\\\n",
       "\t Tuberculosis & Pathogen & CFP10  & TAAQAAVVRFQEAAN & DRB1*15:03 & ASSFEETQY     \\\\\n",
       "\t Tuberculosis & Pathogen & Rv1195 & ADTLQSIGATTVASN & DRB1*15:03 & ASSVALASGANVLT\\\\\n",
       "\t Tuberculosis & Pathogen & Rv1195 & ADTLQSIGATTVASN & DRB1*15:03 & ASSVALATGEQY  \\\\\n",
       "\t Tuberculosis & Pathogen & Rv1195 & ADTLQSIGATTVASN & DRB1*15:03 & ASSVALQGVHTQY \\\\\n",
       "\\end{tabular}\n"
      ],
      "text/markdown": [
       "\n",
       "A tibble: 6 × 6\n",
       "\n",
       "| Disease.name &lt;chr&gt; | Category &lt;chr&gt; | Antigen &lt;chr&gt; | Antigen.sequence &lt;chr&gt; | HLA &lt;chr&gt; | CDR3.beta.aa &lt;chr&gt; |\n",
       "|---|---|---|---|---|---|\n",
       "| Tuberculosis | Pathogen | CFP10  | TAAQAAVVRFQEAAN | DRB1*15:03 | ASSLEETQY      |\n",
       "| Tuberculosis | Pathogen | CFP10  | TAAQAAVVRFQEAAN | DRB1*15:03 | ASSPEETQY      |\n",
       "| Tuberculosis | Pathogen | CFP10  | TAAQAAVVRFQEAAN | DRB1*15:03 | ASSFEETQY      |\n",
       "| Tuberculosis | Pathogen | Rv1195 | ADTLQSIGATTVASN | DRB1*15:03 | ASSVALASGANVLT |\n",
       "| Tuberculosis | Pathogen | Rv1195 | ADTLQSIGATTVASN | DRB1*15:03 | ASSVALATGEQY   |\n",
       "| Tuberculosis | Pathogen | Rv1195 | ADTLQSIGATTVASN | DRB1*15:03 | ASSVALQGVHTQY  |\n",
       "\n"
      ],
      "text/plain": [
       "  Disease.name Category Antigen Antigen.sequence HLA        CDR3.beta.aa  \n",
       "1 Tuberculosis Pathogen CFP10   TAAQAAVVRFQEAAN  DRB1*15:03 ASSLEETQY     \n",
       "2 Tuberculosis Pathogen CFP10   TAAQAAVVRFQEAAN  DRB1*15:03 ASSPEETQY     \n",
       "3 Tuberculosis Pathogen CFP10   TAAQAAVVRFQEAAN  DRB1*15:03 ASSFEETQY     \n",
       "4 Tuberculosis Pathogen Rv1195  ADTLQSIGATTVASN  DRB1*15:03 ASSVALASGANVLT\n",
       "5 Tuberculosis Pathogen Rv1195  ADTLQSIGATTVASN  DRB1*15:03 ASSVALATGEQY  \n",
       "6 Tuberculosis Pathogen Rv1195  ADTLQSIGATTVASN  DRB1*15:03 ASSVALQGVHTQY "
      ]
     },
     "metadata": {},
     "output_type": "display_data"
    }
   ],
   "source": [
    "head(dat)"
   ]
  },
  {
   "cell_type": "code",
   "execution_count": 11,
   "id": "240e55f8",
   "metadata": {},
   "outputs": [],
   "source": [
    "# write loaded data\n",
    "write.table(dat, 'TBAdb-loaded.csv', quote = F, row.names = F, sep = ',', append = F)"
   ]
  },
  {
   "cell_type": "markdown",
   "id": "c497e10d",
   "metadata": {},
   "source": [
    "# Analysis"
   ]
  },
  {
   "cell_type": "code",
   "execution_count": 12,
   "id": "190e5d18",
   "metadata": {},
   "outputs": [
    {
     "data": {
      "text/html": [
       "<style>\n",
       ".list-inline {list-style: none; margin:0; padding: 0}\n",
       ".list-inline>li {display: inline-block}\n",
       ".list-inline>li:not(:last-child)::after {content: \"\\00b7\"; padding: 0 .5ex}\n",
       "</style>\n",
       "<ol class=list-inline><li>'CFP10'</li><li>'Rv1195'</li><li>'YFV-17D'</li><li>'HSV-2 VP22'</li><li>'Genome polyprotein'</li><li>'Gag p24'</li><li>'Gag polyprotein'</li><li>'HIV-1 nef epitope.  (FL8)'</li><li>'-'</li><li>'Nef138-10(2F)'</li><li>'Nef138-10(wt)'</li><li>'Nef138-11(wt)'</li><li>'Nef138-12(wt)'</li><li>'Nef138-13(wt)'</li><li>'Nef138-14(wt)'</li><li>'Nef138-15(wt)'</li><li>'Nef138-16(wt)'</li><li>'p24 KK10'</li><li>'Protein Nef'</li><li>'Protein Vpr'</li><li>'RF10'</li><li>'RW8'</li><li>'IE1'</li><li>'p65'</li><li>'pp50'</li><li>'NY-ESO-1f'</li><li>'UNC-CDK4-1'</li><li>'BMLF1'</li><li>'BRLF1'</li><li>'BZLF1'</li><li>'EBNA1'</li><li>'EBNA3A'</li><li>'EBNA3'</li><li>'EBNA4'</li><li>'GAD65'</li><li>'insulin precursor A1-15'</li><li>'Myelin basic protein'</li><li>'Matrix potein (M1)'</li><li>'glia-a2'</li><li>'Beryllium sulfate'</li></ol>\n"
      ],
      "text/latex": [
       "\\begin{enumerate*}\n",
       "\\item 'CFP10'\n",
       "\\item 'Rv1195'\n",
       "\\item 'YFV-17D'\n",
       "\\item 'HSV-2 VP22'\n",
       "\\item 'Genome polyprotein'\n",
       "\\item 'Gag p24'\n",
       "\\item 'Gag polyprotein'\n",
       "\\item 'HIV-1 nef epitope.  (FL8)'\n",
       "\\item '-'\n",
       "\\item 'Nef138-10(2F)'\n",
       "\\item 'Nef138-10(wt)'\n",
       "\\item 'Nef138-11(wt)'\n",
       "\\item 'Nef138-12(wt)'\n",
       "\\item 'Nef138-13(wt)'\n",
       "\\item 'Nef138-14(wt)'\n",
       "\\item 'Nef138-15(wt)'\n",
       "\\item 'Nef138-16(wt)'\n",
       "\\item 'p24 KK10'\n",
       "\\item 'Protein Nef'\n",
       "\\item 'Protein Vpr'\n",
       "\\item 'RF10'\n",
       "\\item 'RW8'\n",
       "\\item 'IE1'\n",
       "\\item 'p65'\n",
       "\\item 'pp50'\n",
       "\\item 'NY-ESO-1f'\n",
       "\\item 'UNC-CDK4-1'\n",
       "\\item 'BMLF1'\n",
       "\\item 'BRLF1'\n",
       "\\item 'BZLF1'\n",
       "\\item 'EBNA1'\n",
       "\\item 'EBNA3A'\n",
       "\\item 'EBNA3'\n",
       "\\item 'EBNA4'\n",
       "\\item 'GAD65'\n",
       "\\item 'insulin precursor A1-15'\n",
       "\\item 'Myelin basic protein'\n",
       "\\item 'Matrix potein (M1)'\n",
       "\\item 'glia-a2'\n",
       "\\item 'Beryllium sulfate'\n",
       "\\end{enumerate*}\n"
      ],
      "text/markdown": [
       "1. 'CFP10'\n",
       "2. 'Rv1195'\n",
       "3. 'YFV-17D'\n",
       "4. 'HSV-2 VP22'\n",
       "5. 'Genome polyprotein'\n",
       "6. 'Gag p24'\n",
       "7. 'Gag polyprotein'\n",
       "8. 'HIV-1 nef epitope.  (FL8)'\n",
       "9. '-'\n",
       "10. 'Nef138-10(2F)'\n",
       "11. 'Nef138-10(wt)'\n",
       "12. 'Nef138-11(wt)'\n",
       "13. 'Nef138-12(wt)'\n",
       "14. 'Nef138-13(wt)'\n",
       "15. 'Nef138-14(wt)'\n",
       "16. 'Nef138-15(wt)'\n",
       "17. 'Nef138-16(wt)'\n",
       "18. 'p24 KK10'\n",
       "19. 'Protein Nef'\n",
       "20. 'Protein Vpr'\n",
       "21. 'RF10'\n",
       "22. 'RW8'\n",
       "23. 'IE1'\n",
       "24. 'p65'\n",
       "25. 'pp50'\n",
       "26. 'NY-ESO-1f'\n",
       "27. 'UNC-CDK4-1'\n",
       "28. 'BMLF1'\n",
       "29. 'BRLF1'\n",
       "30. 'BZLF1'\n",
       "31. 'EBNA1'\n",
       "32. 'EBNA3A'\n",
       "33. 'EBNA3'\n",
       "34. 'EBNA4'\n",
       "35. 'GAD65'\n",
       "36. 'insulin precursor A1-15'\n",
       "37. 'Myelin basic protein'\n",
       "38. 'Matrix potein (M1)'\n",
       "39. 'glia-a2'\n",
       "40. 'Beryllium sulfate'\n",
       "\n",
       "\n"
      ],
      "text/plain": [
       " [1] \"CFP10\"                     \"Rv1195\"                   \n",
       " [3] \"YFV-17D\"                   \"HSV-2 VP22\"               \n",
       " [5] \"Genome polyprotein\"        \"Gag p24\"                  \n",
       " [7] \"Gag polyprotein\"           \"HIV-1 nef epitope.  (FL8)\"\n",
       " [9] \"-\"                         \"Nef138-10(2F)\"            \n",
       "[11] \"Nef138-10(wt)\"             \"Nef138-11(wt)\"            \n",
       "[13] \"Nef138-12(wt)\"             \"Nef138-13(wt)\"            \n",
       "[15] \"Nef138-14(wt)\"             \"Nef138-15(wt)\"            \n",
       "[17] \"Nef138-16(wt)\"             \"p24 KK10\"                 \n",
       "[19] \"Protein Nef\"               \"Protein Vpr\"              \n",
       "[21] \"RF10\"                      \"RW8\"                      \n",
       "[23] \"IE1\"                       \"p65\"                      \n",
       "[25] \"pp50\"                      \"NY-ESO-1f\"                \n",
       "[27] \"UNC-CDK4-1\"                \"BMLF1\"                    \n",
       "[29] \"BRLF1\"                     \"BZLF1\"                    \n",
       "[31] \"EBNA1\"                     \"EBNA3A\"                   \n",
       "[33] \"EBNA3\"                     \"EBNA4\"                    \n",
       "[35] \"GAD65\"                     \"insulin precursor A1-15\"  \n",
       "[37] \"Myelin basic protein\"      \"Matrix potein (M1)\"       \n",
       "[39] \"glia-a2\"                   \"Beryllium sulfate\"        "
      ]
     },
     "metadata": {},
     "output_type": "display_data"
    }
   ],
   "source": [
    "unique(dat$Antigen)"
   ]
  },
  {
   "cell_type": "code",
   "execution_count": 13,
   "id": "9104a26e",
   "metadata": {},
   "outputs": [
    {
     "data": {
      "text/html": [
       "<style>\n",
       ".list-inline {list-style: none; margin:0; padding: 0}\n",
       ".list-inline>li {display: inline-block}\n",
       ".list-inline>li:not(:last-child)::after {content: \"\\00b7\"; padding: 0 .5ex}\n",
       "</style>\n",
       "<ol class=list-inline><li>'Tuberculosis'</li><li>'YellowFeverVirus'</li><li>'Herpes simplex virus 2 (HSV2)'</li><li>'Hepatitis C virus'</li><li>'Human immunodeficiency virus (HIV)'</li><li>'CMV'</li><li>'Lung carcinomas'</li><li>'Acute myeloid leukaemia'</li><li>'EBV'</li><li>'Diabetes Type 1'</li><li>'Multiple sclerosis'</li><li>'InfluenzaA'</li><li>'Celiac disease'</li><li>'Allergy'</li></ol>\n"
      ],
      "text/latex": [
       "\\begin{enumerate*}\n",
       "\\item 'Tuberculosis'\n",
       "\\item 'YellowFeverVirus'\n",
       "\\item 'Herpes simplex virus 2 (HSV2)'\n",
       "\\item 'Hepatitis C virus'\n",
       "\\item 'Human immunodeficiency virus (HIV)'\n",
       "\\item 'CMV'\n",
       "\\item 'Lung carcinomas'\n",
       "\\item 'Acute myeloid leukaemia'\n",
       "\\item 'EBV'\n",
       "\\item 'Diabetes Type 1'\n",
       "\\item 'Multiple sclerosis'\n",
       "\\item 'InfluenzaA'\n",
       "\\item 'Celiac disease'\n",
       "\\item 'Allergy'\n",
       "\\end{enumerate*}\n"
      ],
      "text/markdown": [
       "1. 'Tuberculosis'\n",
       "2. 'YellowFeverVirus'\n",
       "3. 'Herpes simplex virus 2 (HSV2)'\n",
       "4. 'Hepatitis C virus'\n",
       "5. 'Human immunodeficiency virus (HIV)'\n",
       "6. 'CMV'\n",
       "7. 'Lung carcinomas'\n",
       "8. 'Acute myeloid leukaemia'\n",
       "9. 'EBV'\n",
       "10. 'Diabetes Type 1'\n",
       "11. 'Multiple sclerosis'\n",
       "12. 'InfluenzaA'\n",
       "13. 'Celiac disease'\n",
       "14. 'Allergy'\n",
       "\n",
       "\n"
      ],
      "text/plain": [
       " [1] \"Tuberculosis\"                       \"YellowFeverVirus\"                  \n",
       " [3] \"Herpes simplex virus 2 (HSV2)\"      \"Hepatitis C virus\"                 \n",
       " [5] \"Human immunodeficiency virus (HIV)\" \"CMV\"                               \n",
       " [7] \"Lung carcinomas\"                    \"Acute myeloid leukaemia\"           \n",
       " [9] \"EBV\"                                \"Diabetes Type 1\"                   \n",
       "[11] \"Multiple sclerosis\"                 \"InfluenzaA\"                        \n",
       "[13] \"Celiac disease\"                     \"Allergy\"                           "
      ]
     },
     "metadata": {},
     "output_type": "display_data"
    }
   ],
   "source": [
    "# check categories\n",
    "unique(dat$Disease.name)"
   ]
  },
  {
   "cell_type": "code",
   "execution_count": 14,
   "id": "841b91d7",
   "metadata": {},
   "outputs": [
    {
     "data": {
      "text/html": [
       "<style>\n",
       ".list-inline {list-style: none; margin:0; padding: 0}\n",
       ".list-inline>li {display: inline-block}\n",
       ".list-inline>li:not(:last-child)::after {content: \"\\00b7\"; padding: 0 .5ex}\n",
       "</style>\n",
       "<ol class=list-inline><li>'Pathogen'</li><li>'Cancer'</li><li>'Autoimmune'</li><li>'Allergy'</li></ol>\n"
      ],
      "text/latex": [
       "\\begin{enumerate*}\n",
       "\\item 'Pathogen'\n",
       "\\item 'Cancer'\n",
       "\\item 'Autoimmune'\n",
       "\\item 'Allergy'\n",
       "\\end{enumerate*}\n"
      ],
      "text/markdown": [
       "1. 'Pathogen'\n",
       "2. 'Cancer'\n",
       "3. 'Autoimmune'\n",
       "4. 'Allergy'\n",
       "\n",
       "\n"
      ],
      "text/plain": [
       "[1] \"Pathogen\"   \"Cancer\"     \"Autoimmune\" \"Allergy\"   "
      ]
     },
     "metadata": {},
     "output_type": "display_data"
    }
   ],
   "source": [
    "unique(dat$Category)"
   ]
  },
  {
   "cell_type": "code",
   "execution_count": 15,
   "id": "5b5eeff1",
   "metadata": {
    "scrolled": true
   },
   "outputs": [
    {
     "data": {
      "text/html": [
       "<table class=\"dataframe\">\n",
       "<caption>A tibble: 6 × 6</caption>\n",
       "<thead>\n",
       "\t<tr><th scope=col>Disease.name</th><th scope=col>Category</th><th scope=col>Antigen</th><th scope=col>Antigen.sequence</th><th scope=col>HLA</th><th scope=col>CDR3.beta.aa</th></tr>\n",
       "\t<tr><th scope=col>&lt;chr&gt;</th><th scope=col>&lt;chr&gt;</th><th scope=col>&lt;chr&gt;</th><th scope=col>&lt;chr&gt;</th><th scope=col>&lt;chr&gt;</th><th scope=col>&lt;chr&gt;</th></tr>\n",
       "</thead>\n",
       "<tbody>\n",
       "\t<tr><td>Tuberculosis</td><td>Pathogen</td><td>CFP10 </td><td>TAAQAAVVRFQEAAN</td><td>DRB1*15:03</td><td>ASSLEETQY     </td></tr>\n",
       "\t<tr><td>Tuberculosis</td><td>Pathogen</td><td>CFP10 </td><td>TAAQAAVVRFQEAAN</td><td>DRB1*15:03</td><td>ASSPEETQY     </td></tr>\n",
       "\t<tr><td>Tuberculosis</td><td>Pathogen</td><td>CFP10 </td><td>TAAQAAVVRFQEAAN</td><td>DRB1*15:03</td><td>ASSFEETQY     </td></tr>\n",
       "\t<tr><td>Tuberculosis</td><td>Pathogen</td><td>Rv1195</td><td>ADTLQSIGATTVASN</td><td>DRB1*15:03</td><td>ASSVALASGANVLT</td></tr>\n",
       "\t<tr><td>Tuberculosis</td><td>Pathogen</td><td>Rv1195</td><td>ADTLQSIGATTVASN</td><td>DRB1*15:03</td><td>ASSVALATGEQY  </td></tr>\n",
       "\t<tr><td>Tuberculosis</td><td>Pathogen</td><td>Rv1195</td><td>ADTLQSIGATTVASN</td><td>DRB1*15:03</td><td>ASSVALQGVHTQY </td></tr>\n",
       "</tbody>\n",
       "</table>\n"
      ],
      "text/latex": [
       "A tibble: 6 × 6\n",
       "\\begin{tabular}{llllll}\n",
       " Disease.name & Category & Antigen & Antigen.sequence & HLA & CDR3.beta.aa\\\\\n",
       " <chr> & <chr> & <chr> & <chr> & <chr> & <chr>\\\\\n",
       "\\hline\n",
       "\t Tuberculosis & Pathogen & CFP10  & TAAQAAVVRFQEAAN & DRB1*15:03 & ASSLEETQY     \\\\\n",
       "\t Tuberculosis & Pathogen & CFP10  & TAAQAAVVRFQEAAN & DRB1*15:03 & ASSPEETQY     \\\\\n",
       "\t Tuberculosis & Pathogen & CFP10  & TAAQAAVVRFQEAAN & DRB1*15:03 & ASSFEETQY     \\\\\n",
       "\t Tuberculosis & Pathogen & Rv1195 & ADTLQSIGATTVASN & DRB1*15:03 & ASSVALASGANVLT\\\\\n",
       "\t Tuberculosis & Pathogen & Rv1195 & ADTLQSIGATTVASN & DRB1*15:03 & ASSVALATGEQY  \\\\\n",
       "\t Tuberculosis & Pathogen & Rv1195 & ADTLQSIGATTVASN & DRB1*15:03 & ASSVALQGVHTQY \\\\\n",
       "\\end{tabular}\n"
      ],
      "text/markdown": [
       "\n",
       "A tibble: 6 × 6\n",
       "\n",
       "| Disease.name &lt;chr&gt; | Category &lt;chr&gt; | Antigen &lt;chr&gt; | Antigen.sequence &lt;chr&gt; | HLA &lt;chr&gt; | CDR3.beta.aa &lt;chr&gt; |\n",
       "|---|---|---|---|---|---|\n",
       "| Tuberculosis | Pathogen | CFP10  | TAAQAAVVRFQEAAN | DRB1*15:03 | ASSLEETQY      |\n",
       "| Tuberculosis | Pathogen | CFP10  | TAAQAAVVRFQEAAN | DRB1*15:03 | ASSPEETQY      |\n",
       "| Tuberculosis | Pathogen | CFP10  | TAAQAAVVRFQEAAN | DRB1*15:03 | ASSFEETQY      |\n",
       "| Tuberculosis | Pathogen | Rv1195 | ADTLQSIGATTVASN | DRB1*15:03 | ASSVALASGANVLT |\n",
       "| Tuberculosis | Pathogen | Rv1195 | ADTLQSIGATTVASN | DRB1*15:03 | ASSVALATGEQY   |\n",
       "| Tuberculosis | Pathogen | Rv1195 | ADTLQSIGATTVASN | DRB1*15:03 | ASSVALQGVHTQY  |\n",
       "\n"
      ],
      "text/plain": [
       "  Disease.name Category Antigen Antigen.sequence HLA        CDR3.beta.aa  \n",
       "1 Tuberculosis Pathogen CFP10   TAAQAAVVRFQEAAN  DRB1*15:03 ASSLEETQY     \n",
       "2 Tuberculosis Pathogen CFP10   TAAQAAVVRFQEAAN  DRB1*15:03 ASSPEETQY     \n",
       "3 Tuberculosis Pathogen CFP10   TAAQAAVVRFQEAAN  DRB1*15:03 ASSFEETQY     \n",
       "4 Tuberculosis Pathogen Rv1195  ADTLQSIGATTVASN  DRB1*15:03 ASSVALASGANVLT\n",
       "5 Tuberculosis Pathogen Rv1195  ADTLQSIGATTVASN  DRB1*15:03 ASSVALATGEQY  \n",
       "6 Tuberculosis Pathogen Rv1195  ADTLQSIGATTVASN  DRB1*15:03 ASSVALQGVHTQY "
      ]
     },
     "metadata": {},
     "output_type": "display_data"
    }
   ],
   "source": [
    "head(dat)"
   ]
  },
  {
   "cell_type": "code",
   "execution_count": 16,
   "id": "0dc5cda8",
   "metadata": {},
   "outputs": [
    {
     "data": {
      "text/html": [
       "<style>\n",
       ".list-inline {list-style: none; margin:0; padding: 0}\n",
       ".list-inline>li {display: inline-block}\n",
       ".list-inline>li:not(:last-child)::after {content: \"\\00b7\"; padding: 0 .5ex}\n",
       "</style>\n",
       "<ol class=list-inline><li>5953</li><li>4</li></ol>\n"
      ],
      "text/latex": [
       "\\begin{enumerate*}\n",
       "\\item 5953\n",
       "\\item 4\n",
       "\\end{enumerate*}\n"
      ],
      "text/markdown": [
       "1. 5953\n",
       "2. 4\n",
       "\n",
       "\n"
      ],
      "text/plain": [
       "[1] 5953    4"
      ]
     },
     "metadata": {},
     "output_type": "display_data"
    }
   ],
   "source": [
    "dat <- unique(dat[, c('Disease.name', 'Antigen.sequence', 'HLA', 'CDR3.beta.aa')])\n",
    "dim(dat)"
   ]
  },
  {
   "cell_type": "code",
   "execution_count": 17,
   "id": "75f6c6e4",
   "metadata": {
    "scrolled": true
   },
   "outputs": [
    {
     "data": {
      "text/html": [
       "32"
      ],
      "text/latex": [
       "32"
      ],
      "text/markdown": [
       "32"
      ],
      "text/plain": [
       "[1] 32"
      ]
     },
     "metadata": {},
     "output_type": "display_data"
    },
    {
     "data": {
      "text/html": [
       "<style>\n",
       ".list-inline {list-style: none; margin:0; padding: 0}\n",
       ".list-inline>li {display: inline-block}\n",
       ".list-inline>li:not(:last-child)::after {content: \"\\00b7\"; padding: 0 .5ex}\n",
       "</style>\n",
       "<ol class=list-inline><li>'-'</li><li>'A*01:01'</li><li>'A*01:01-A*02:01/B*08:01-B*57:01/Cw*06:02-Cw*07:01/DRB1*08:0321-DRB1*15:011'</li><li>'A*02'</li><li>'A*02:01'</li><li>'A*11'</li><li>'A*24:02'</li><li>'A-A*01:01'</li><li>'A-A*02:01'</li><li>'A-B*08'</li><li>'A-B*08:01'</li><li>'A-B*18'</li><li>'B*07'</li><li>'B*07:02'</li><li>'B*08'</li><li>'B*08:01'</li><li>'B*15'</li><li>'B*27'</li><li>'B*27:05'</li><li>'B*35:01'</li><li>'B*35:08'</li><li>'B*42'</li><li>'B*42:01'</li><li>'B*44:05'</li><li>'B*57'</li><li>'B*57:01'</li><li>'B*57:03'</li><li>'DPB1*02:01'</li><li>'DQ2'</li><li>'DR3*02:02'</li><li>'DRB1*04:01'</li><li>'DRB1*15:03'</li></ol>\n"
      ],
      "text/latex": [
       "\\begin{enumerate*}\n",
       "\\item '-'\n",
       "\\item 'A*01:01'\n",
       "\\item 'A*01:01-A*02:01/B*08:01-B*57:01/Cw*06:02-Cw*07:01/DRB1*08:0321-DRB1*15:011'\n",
       "\\item 'A*02'\n",
       "\\item 'A*02:01'\n",
       "\\item 'A*11'\n",
       "\\item 'A*24:02'\n",
       "\\item 'A-A*01:01'\n",
       "\\item 'A-A*02:01'\n",
       "\\item 'A-B*08'\n",
       "\\item 'A-B*08:01'\n",
       "\\item 'A-B*18'\n",
       "\\item 'B*07'\n",
       "\\item 'B*07:02'\n",
       "\\item 'B*08'\n",
       "\\item 'B*08:01'\n",
       "\\item 'B*15'\n",
       "\\item 'B*27'\n",
       "\\item 'B*27:05'\n",
       "\\item 'B*35:01'\n",
       "\\item 'B*35:08'\n",
       "\\item 'B*42'\n",
       "\\item 'B*42:01'\n",
       "\\item 'B*44:05'\n",
       "\\item 'B*57'\n",
       "\\item 'B*57:01'\n",
       "\\item 'B*57:03'\n",
       "\\item 'DPB1*02:01'\n",
       "\\item 'DQ2'\n",
       "\\item 'DR3*02:02'\n",
       "\\item 'DRB1*04:01'\n",
       "\\item 'DRB1*15:03'\n",
       "\\end{enumerate*}\n"
      ],
      "text/markdown": [
       "1. '-'\n",
       "2. 'A*01:01'\n",
       "3. 'A*01:01-A*02:01/B*08:01-B*57:01/Cw*06:02-Cw*07:01/DRB1*08:0321-DRB1*15:011'\n",
       "4. 'A*02'\n",
       "5. 'A*02:01'\n",
       "6. 'A*11'\n",
       "7. 'A*24:02'\n",
       "8. 'A-A*01:01'\n",
       "9. 'A-A*02:01'\n",
       "10. 'A-B*08'\n",
       "11. 'A-B*08:01'\n",
       "12. 'A-B*18'\n",
       "13. 'B*07'\n",
       "14. 'B*07:02'\n",
       "15. 'B*08'\n",
       "16. 'B*08:01'\n",
       "17. 'B*15'\n",
       "18. 'B*27'\n",
       "19. 'B*27:05'\n",
       "20. 'B*35:01'\n",
       "21. 'B*35:08'\n",
       "22. 'B*42'\n",
       "23. 'B*42:01'\n",
       "24. 'B*44:05'\n",
       "25. 'B*57'\n",
       "26. 'B*57:01'\n",
       "27. 'B*57:03'\n",
       "28. 'DPB1*02:01'\n",
       "29. 'DQ2'\n",
       "30. 'DR3*02:02'\n",
       "31. 'DRB1*04:01'\n",
       "32. 'DRB1*15:03'\n",
       "\n",
       "\n"
      ],
      "text/plain": [
       " [1] \"-\"                                                                         \n",
       " [2] \"A*01:01\"                                                                   \n",
       " [3] \"A*01:01-A*02:01/B*08:01-B*57:01/Cw*06:02-Cw*07:01/DRB1*08:0321-DRB1*15:011\"\n",
       " [4] \"A*02\"                                                                      \n",
       " [5] \"A*02:01\"                                                                   \n",
       " [6] \"A*11\"                                                                      \n",
       " [7] \"A*24:02\"                                                                   \n",
       " [8] \"A-A*01:01\"                                                                 \n",
       " [9] \"A-A*02:01\"                                                                 \n",
       "[10] \"A-B*08\"                                                                    \n",
       "[11] \"A-B*08:01\"                                                                 \n",
       "[12] \"A-B*18\"                                                                    \n",
       "[13] \"B*07\"                                                                      \n",
       "[14] \"B*07:02\"                                                                   \n",
       "[15] \"B*08\"                                                                      \n",
       "[16] \"B*08:01\"                                                                   \n",
       "[17] \"B*15\"                                                                      \n",
       "[18] \"B*27\"                                                                      \n",
       "[19] \"B*27:05\"                                                                   \n",
       "[20] \"B*35:01\"                                                                   \n",
       "[21] \"B*35:08\"                                                                   \n",
       "[22] \"B*42\"                                                                      \n",
       "[23] \"B*42:01\"                                                                   \n",
       "[24] \"B*44:05\"                                                                   \n",
       "[25] \"B*57\"                                                                      \n",
       "[26] \"B*57:01\"                                                                   \n",
       "[27] \"B*57:03\"                                                                   \n",
       "[28] \"DPB1*02:01\"                                                                \n",
       "[29] \"DQ2\"                                                                       \n",
       "[30] \"DR3*02:02\"                                                                 \n",
       "[31] \"DRB1*04:01\"                                                                \n",
       "[32] \"DRB1*15:03\"                                                                "
      ]
     },
     "metadata": {},
     "output_type": "display_data"
    }
   ],
   "source": [
    "length(unique(dat$HLA))\n",
    "sort(unique(dat$HLA))"
   ]
  },
  {
   "cell_type": "code",
   "execution_count": 18,
   "id": "990647f4",
   "metadata": {
    "scrolled": true
   },
   "outputs": [
    {
     "data": {
      "text/plain": [
       "\n",
       "                                                                         - \n",
       "                                                                         8 \n",
       "                                                                   A*01:01 \n",
       "                                                                        53 \n",
       "A*01:01-A*02:01/B*08:01-B*57:01/Cw*06:02-Cw*07:01/DRB1*08:0321-DRB1*15:011 \n",
       "                                                                         2 \n",
       "                                                                      A*02 \n",
       "                                                                      3923 \n",
       "                                                                   A*02:01 \n",
       "                                                                       626 \n",
       "                                                                      A*11 \n",
       "                                                                        16 \n",
       "                                                                   A*24:02 \n",
       "                                                                       106 \n",
       "                                                                 A-A*01:01 \n",
       "                                                                       199 \n",
       "                                                                 A-A*02:01 \n",
       "                                                                        14 \n",
       "                                                                    A-B*08 \n",
       "                                                                        20 \n",
       "                                                                 A-B*08:01 \n",
       "                                                                        34 \n",
       "                                                                    A-B*18 \n",
       "                                                                         8 \n",
       "                                                                      B*07 \n",
       "                                                                        14 \n",
       "                                                                   B*07:02 \n",
       "                                                                       108 \n",
       "                                                                      B*08 \n",
       "                                                                        46 \n",
       "                                                                   B*08:01 \n",
       "                                                                        99 \n",
       "                                                                      B*15 \n",
       "                                                                         5 \n",
       "                                                                      B*27 \n",
       "                                                                        16 \n",
       "                                                                   B*27:05 \n",
       "                                                                        92 \n",
       "                                                                   B*35:01 \n",
       "                                                                        55 \n",
       "                                                                   B*35:08 \n",
       "                                                                        34 \n",
       "                                                                      B*42 \n",
       "                                                                         1 \n",
       "                                                                   B*42:01 \n",
       "                                                                       306 \n",
       "                                                                   B*44:05 \n",
       "                                                                         1 \n",
       "                                                                      B*57 \n",
       "                                                                        33 \n",
       "                                                                   B*57:01 \n",
       "                                                                        31 \n",
       "                                                                   B*57:03 \n",
       "                                                                        49 \n",
       "                                                                DPB1*02:01 \n",
       "                                                                        14 \n",
       "                                                                       DQ2 \n",
       "                                                                        10 \n",
       "                                                                 DR3*02:02 \n",
       "                                                                         3 \n",
       "                                                                DRB1*04:01 \n",
       "                                                                        20 \n",
       "                                                                DRB1*15:03 \n",
       "                                                                         7 "
      ]
     },
     "metadata": {},
     "output_type": "display_data"
    }
   ],
   "source": [
    "table(dat$HLA)"
   ]
  },
  {
   "cell_type": "code",
   "execution_count": 19,
   "id": "6fbb8ef1",
   "metadata": {},
   "outputs": [
    {
     "data": {
      "text/html": [
       "<style>\n",
       ".list-inline {list-style: none; margin:0; padding: 0}\n",
       ".list-inline>li {display: inline-block}\n",
       ".list-inline>li:not(:last-child)::after {content: \"\\00b7\"; padding: 0 .5ex}\n",
       "</style>\n",
       "<ol class=list-inline><li>5933</li><li>2</li></ol>\n"
      ],
      "text/latex": [
       "\\begin{enumerate*}\n",
       "\\item 5933\n",
       "\\item 2\n",
       "\\end{enumerate*}\n"
      ],
      "text/markdown": [
       "1. 5933\n",
       "2. 2\n",
       "\n",
       "\n"
      ],
      "text/plain": [
       "[1] 5933    2"
      ]
     },
     "metadata": {},
     "output_type": "display_data"
    }
   ],
   "source": [
    "# In CDR3-epitope prediction, HLA alleles are not needed. Therefore, unclear epitopes are kept.\n",
    "dat_wohla <- unique(dat[, c('Antigen.sequence', 'CDR3.beta.aa')])\n",
    "dim(dat_wohla)"
   ]
  },
  {
   "cell_type": "code",
   "execution_count": 20,
   "id": "d32508f6",
   "metadata": {},
   "outputs": [
    {
     "data": {
      "text/html": [
       "<table class=\"dataframe\">\n",
       "<caption>A tibble: 6 × 2</caption>\n",
       "<thead>\n",
       "\t<tr><th scope=col>Antigen.sequence</th><th scope=col>CDR3.beta.aa</th></tr>\n",
       "\t<tr><th scope=col>&lt;chr&gt;</th><th scope=col>&lt;chr&gt;</th></tr>\n",
       "</thead>\n",
       "<tbody>\n",
       "\t<tr><td>TAAQAAVVRFQEAAN</td><td>ASSLEETQY     </td></tr>\n",
       "\t<tr><td>TAAQAAVVRFQEAAN</td><td>ASSPEETQY     </td></tr>\n",
       "\t<tr><td>TAAQAAVVRFQEAAN</td><td>ASSFEETQY     </td></tr>\n",
       "\t<tr><td>ADTLQSIGATTVASN</td><td>ASSVALASGANVLT</td></tr>\n",
       "\t<tr><td>ADTLQSIGATTVASN</td><td>ASSVALATGEQY  </td></tr>\n",
       "\t<tr><td>ADTLQSIGATTVASN</td><td>ASSVALQGVHTQY </td></tr>\n",
       "</tbody>\n",
       "</table>\n"
      ],
      "text/latex": [
       "A tibble: 6 × 2\n",
       "\\begin{tabular}{ll}\n",
       " Antigen.sequence & CDR3.beta.aa\\\\\n",
       " <chr> & <chr>\\\\\n",
       "\\hline\n",
       "\t TAAQAAVVRFQEAAN & ASSLEETQY     \\\\\n",
       "\t TAAQAAVVRFQEAAN & ASSPEETQY     \\\\\n",
       "\t TAAQAAVVRFQEAAN & ASSFEETQY     \\\\\n",
       "\t ADTLQSIGATTVASN & ASSVALASGANVLT\\\\\n",
       "\t ADTLQSIGATTVASN & ASSVALATGEQY  \\\\\n",
       "\t ADTLQSIGATTVASN & ASSVALQGVHTQY \\\\\n",
       "\\end{tabular}\n"
      ],
      "text/markdown": [
       "\n",
       "A tibble: 6 × 2\n",
       "\n",
       "| Antigen.sequence &lt;chr&gt; | CDR3.beta.aa &lt;chr&gt; |\n",
       "|---|---|\n",
       "| TAAQAAVVRFQEAAN | ASSLEETQY      |\n",
       "| TAAQAAVVRFQEAAN | ASSPEETQY      |\n",
       "| TAAQAAVVRFQEAAN | ASSFEETQY      |\n",
       "| ADTLQSIGATTVASN | ASSVALASGANVLT |\n",
       "| ADTLQSIGATTVASN | ASSVALATGEQY   |\n",
       "| ADTLQSIGATTVASN | ASSVALQGVHTQY  |\n",
       "\n"
      ],
      "text/plain": [
       "  Antigen.sequence CDR3.beta.aa  \n",
       "1 TAAQAAVVRFQEAAN  ASSLEETQY     \n",
       "2 TAAQAAVVRFQEAAN  ASSPEETQY     \n",
       "3 TAAQAAVVRFQEAAN  ASSFEETQY     \n",
       "4 ADTLQSIGATTVASN  ASSVALASGANVLT\n",
       "5 ADTLQSIGATTVASN  ASSVALATGEQY  \n",
       "6 ADTLQSIGATTVASN  ASSVALQGVHTQY "
      ]
     },
     "metadata": {},
     "output_type": "display_data"
    }
   ],
   "source": [
    "head(dat_wohla)\n",
    "write.table(dat_wohla, 'TBAdb-without-HLA.csv', quote = F, row.names = F, append = F, sep = ',')"
   ]
  },
  {
   "cell_type": "code",
   "execution_count": 21,
   "id": "e5974cd0",
   "metadata": {},
   "outputs": [
    {
     "data": {
      "text/plain": [
       "\n",
       "   A*01:01       A*02    A*02:01       A*11    A*24:02  A-A*01:01  A-A*02:01 \n",
       "        53       3923        626         16        106        199         14 \n",
       "    A-B*08  A-B*08:01     A-B*18       B*07    B*07:02       B*08    B*08:01 \n",
       "        20         34          8         14        108         46         99 \n",
       "      B*15       B*27    B*27:05    B*35:01    B*35:08       B*42    B*42:01 \n",
       "         5         16         92         55         34          1        306 \n",
       "   B*44:05       B*57    B*57:01    B*57:03 DPB1*02:01        DQ2  DR3*02:02 \n",
       "         1         33         31         49         14         10          3 \n",
       "DRB1*04:01 DRB1*15:03 \n",
       "        20          7 "
      ]
     },
     "metadata": {},
     "output_type": "display_data"
    }
   ],
   "source": [
    "dat <- dat[dat$HLA != '-' & !grepl('[/]', dat$HLA),]\n",
    "table(dat$HLA)"
   ]
  },
  {
   "cell_type": "code",
   "execution_count": 22,
   "id": "59b717d0",
   "metadata": {},
   "outputs": [],
   "source": [
    "dat$HLA <- gsub('A-', '', dat$HLA)\n",
    "dat$HLA <- paste0('HLA-', dat$HLA)"
   ]
  },
  {
   "cell_type": "code",
   "execution_count": 23,
   "id": "f61a9815",
   "metadata": {},
   "outputs": [
    {
     "data": {
      "text/plain": [
       "\n",
       "   HLA-A*01:01       HLA-A*02    HLA-A*02:01       HLA-A*11    HLA-A*24:02 \n",
       "           252           3923            640             16            106 \n",
       "      HLA-B*07    HLA-B*07:02       HLA-B*08    HLA-B*08:01       HLA-B*15 \n",
       "            14            108             66            133              5 \n",
       "      HLA-B*18       HLA-B*27    HLA-B*27:05    HLA-B*35:01    HLA-B*35:08 \n",
       "             8             16             92             55             34 \n",
       "      HLA-B*42    HLA-B*42:01    HLA-B*44:05       HLA-B*57    HLA-B*57:01 \n",
       "             1            306              1             33             31 \n",
       "   HLA-B*57:03 HLA-DPB1*02:01        HLA-DQ2  HLA-DR3*02:02 HLA-DRB1*04:01 \n",
       "            49             14             10              3             20 \n",
       "HLA-DRB1*15:03 \n",
       "             7 "
      ]
     },
     "metadata": {},
     "output_type": "display_data"
    }
   ],
   "source": [
    "table(dat$HLA)"
   ]
  },
  {
   "cell_type": "code",
   "execution_count": 24,
   "id": "f7b4fcfd",
   "metadata": {},
   "outputs": [],
   "source": [
    "# from https://www.ncbi.nlm.nih.gov/pmc/articles/PMC7204072/, filtering alleles having AF < 10\n",
    "viet_alleles <- c(\"HLA-A*02:03\", \"HLA-A*02:07\", \"HLA-A*11:01\", \"HLA-A*24:02\", \"HLA-A*29:01\", \"HLA-A*33:03\",\n",
    "                  \"HLA-B*07:05\", \"HLA-B*15:02\", \"HLA-B*15:25\", \"HLA-B*38:02\", \"HLA-B*40:01:02\", \"HLA-B*46:01\", \"HLA-B*58:01\",\n",
    "                  \"HLA-C*01:02\", \"HLA-C*03:02:02\", \"HLA-C*03:04\", \"HLA-C*04:01\", \"HLA-C*04:03\", \"HLA-C*07:02\", \"HLA-C*08:01\", \"HLA-C*15:05:02\",\n",
    "                  \"HLA-DRB1*03:01\", \"HLA-DRB1*04:05\", \"HLA-DRB1*08:03\", \"HLA-DRB1*09:01:02\", \"HLA-DRB1*10:01\", \"HLA-DRB1*12:02\", \"HLA-DRB1*15:02\",\n",
    "                  \"HLA-DQB1*02:01\", \"HLA-DQB1*03:01\", \"HLA-DQB1*03:03\", \"HLA-DQB1*04:01\", \"HLA-DQB1*05:01\", \"HLA-DQB1*05:02\", \"HLA-DQB1*06:01\"\n",
    "                 )"
   ]
  },
  {
   "cell_type": "code",
   "execution_count": 25,
   "id": "40bc7b67",
   "metadata": {},
   "outputs": [],
   "source": [
    "dat_alleles <- unique(dat$HLA)"
   ]
  },
  {
   "cell_type": "code",
   "execution_count": 26,
   "id": "adb82645",
   "metadata": {},
   "outputs": [
    {
     "data": {
      "text/html": [
       "<style>\n",
       ".list-inline {list-style: none; margin:0; padding: 0}\n",
       ".list-inline>li {display: inline-block}\n",
       ".list-inline>li:not(:last-child)::after {content: \"\\00b7\"; padding: 0 .5ex}\n",
       "</style>\n",
       "<ol class=list-inline><li>'HLA-DRB1*15:03'</li><li>'HLA-A*02:01'</li><li>'HLA-B*07:02'</li><li>'HLA-A*01:01'</li><li>'HLA-B*08:01'</li><li>'HLA-B*57:01'</li><li>'HLA-B*57:03'</li><li>'HLA-B*57'</li><li>'HLA-B*27:05'</li><li>'HLA-B*27'</li><li>'HLA-B*42'</li><li>'HLA-B*08'</li><li>'HLA-B*15'</li><li>'HLA-B*42:01'</li><li>'HLA-A*24:02'</li><li>'HLA-B*18'</li><li>'HLA-B*35:08'</li><li>'HLA-B*35:01'</li><li>'HLA-A*02'</li><li>'HLA-B*07'</li><li>'HLA-B*44:05'</li><li>'HLA-A*11'</li><li>'HLA-DRB1*04:01'</li><li>'HLA-DR3*02:02'</li><li>'HLA-DQ2'</li><li>'HLA-DPB1*02:01'</li></ol>\n"
      ],
      "text/latex": [
       "\\begin{enumerate*}\n",
       "\\item 'HLA-DRB1*15:03'\n",
       "\\item 'HLA-A*02:01'\n",
       "\\item 'HLA-B*07:02'\n",
       "\\item 'HLA-A*01:01'\n",
       "\\item 'HLA-B*08:01'\n",
       "\\item 'HLA-B*57:01'\n",
       "\\item 'HLA-B*57:03'\n",
       "\\item 'HLA-B*57'\n",
       "\\item 'HLA-B*27:05'\n",
       "\\item 'HLA-B*27'\n",
       "\\item 'HLA-B*42'\n",
       "\\item 'HLA-B*08'\n",
       "\\item 'HLA-B*15'\n",
       "\\item 'HLA-B*42:01'\n",
       "\\item 'HLA-A*24:02'\n",
       "\\item 'HLA-B*18'\n",
       "\\item 'HLA-B*35:08'\n",
       "\\item 'HLA-B*35:01'\n",
       "\\item 'HLA-A*02'\n",
       "\\item 'HLA-B*07'\n",
       "\\item 'HLA-B*44:05'\n",
       "\\item 'HLA-A*11'\n",
       "\\item 'HLA-DRB1*04:01'\n",
       "\\item 'HLA-DR3*02:02'\n",
       "\\item 'HLA-DQ2'\n",
       "\\item 'HLA-DPB1*02:01'\n",
       "\\end{enumerate*}\n"
      ],
      "text/markdown": [
       "1. 'HLA-DRB1*15:03'\n",
       "2. 'HLA-A*02:01'\n",
       "3. 'HLA-B*07:02'\n",
       "4. 'HLA-A*01:01'\n",
       "5. 'HLA-B*08:01'\n",
       "6. 'HLA-B*57:01'\n",
       "7. 'HLA-B*57:03'\n",
       "8. 'HLA-B*57'\n",
       "9. 'HLA-B*27:05'\n",
       "10. 'HLA-B*27'\n",
       "11. 'HLA-B*42'\n",
       "12. 'HLA-B*08'\n",
       "13. 'HLA-B*15'\n",
       "14. 'HLA-B*42:01'\n",
       "15. 'HLA-A*24:02'\n",
       "16. 'HLA-B*18'\n",
       "17. 'HLA-B*35:08'\n",
       "18. 'HLA-B*35:01'\n",
       "19. 'HLA-A*02'\n",
       "20. 'HLA-B*07'\n",
       "21. 'HLA-B*44:05'\n",
       "22. 'HLA-A*11'\n",
       "23. 'HLA-DRB1*04:01'\n",
       "24. 'HLA-DR3*02:02'\n",
       "25. 'HLA-DQ2'\n",
       "26. 'HLA-DPB1*02:01'\n",
       "\n",
       "\n"
      ],
      "text/plain": [
       " [1] \"HLA-DRB1*15:03\" \"HLA-A*02:01\"    \"HLA-B*07:02\"    \"HLA-A*01:01\"   \n",
       " [5] \"HLA-B*08:01\"    \"HLA-B*57:01\"    \"HLA-B*57:03\"    \"HLA-B*57\"      \n",
       " [9] \"HLA-B*27:05\"    \"HLA-B*27\"       \"HLA-B*42\"       \"HLA-B*08\"      \n",
       "[13] \"HLA-B*15\"       \"HLA-B*42:01\"    \"HLA-A*24:02\"    \"HLA-B*18\"      \n",
       "[17] \"HLA-B*35:08\"    \"HLA-B*35:01\"    \"HLA-A*02\"       \"HLA-B*07\"      \n",
       "[21] \"HLA-B*44:05\"    \"HLA-A*11\"       \"HLA-DRB1*04:01\" \"HLA-DR3*02:02\" \n",
       "[25] \"HLA-DQ2\"        \"HLA-DPB1*02:01\""
      ]
     },
     "metadata": {},
     "output_type": "display_data"
    }
   ],
   "source": [
    "dat_alleles"
   ]
  },
  {
   "cell_type": "code",
   "execution_count": 27,
   "id": "fc4c9954",
   "metadata": {},
   "outputs": [
    {
     "data": {
      "text/html": [
       "'HLA-A*24:02'"
      ],
      "text/latex": [
       "'HLA-A*24:02'"
      ],
      "text/markdown": [
       "'HLA-A*24:02'"
      ],
      "text/plain": [
       "[1] \"HLA-A*24:02\""
      ]
     },
     "metadata": {},
     "output_type": "display_data"
    },
    {
     "data": {
      "text/plain": [
       "HLA\n",
       "HLA-A*24:02 \n",
       "        106 "
      ]
     },
     "metadata": {},
     "output_type": "display_data"
    }
   ],
   "source": [
    "intersect(viet_alleles, dat_alleles)\n",
    "table(dat[dat$HLA %in% intersect(viet_alleles, dat_alleles), 'HLA'])"
   ]
  },
  {
   "cell_type": "code",
   "execution_count": 33,
   "id": "96242648",
   "metadata": {},
   "outputs": [
    {
     "name": "stderr",
     "output_type": "stream",
     "text": [
      "Remember to cat() to see result with single escapes.\n",
      "\n"
     ]
    },
    {
     "data": {
      "text/html": [
       "<style>\n",
       ".list-inline {list-style: none; margin:0; padding: 0}\n",
       ".list-inline>li {display: inline-block}\n",
       ".list-inline>li:not(:last-child)::after {content: \"\\00b7\"; padding: 0 .5ex}\n",
       "</style>\n",
       "<ol class=list-inline><li>'HLA-A*02:03'</li><li>'HLA-A*02:07'</li><li>'HLA-A*11:01'</li><li>'HLA-B*07:05'</li><li>'HLA-B*15:02'</li><li>'HLA-B*15:25'</li></ol>\n"
      ],
      "text/latex": [
       "\\begin{enumerate*}\n",
       "\\item 'HLA-A*02:03'\n",
       "\\item 'HLA-A*02:07'\n",
       "\\item 'HLA-A*11:01'\n",
       "\\item 'HLA-B*07:05'\n",
       "\\item 'HLA-B*15:02'\n",
       "\\item 'HLA-B*15:25'\n",
       "\\end{enumerate*}\n"
      ],
      "text/markdown": [
       "1. 'HLA-A*02:03'\n",
       "2. 'HLA-A*02:07'\n",
       "3. 'HLA-A*11:01'\n",
       "4. 'HLA-B*07:05'\n",
       "5. 'HLA-B*15:02'\n",
       "6. 'HLA-B*15:25'\n",
       "\n",
       "\n"
      ],
      "text/plain": [
       "[1] \"HLA-A*02:03\" \"HLA-A*02:07\" \"HLA-A*11:01\" \"HLA-B*07:05\" \"HLA-B*15:02\"\n",
       "[6] \"HLA-B*15:25\""
      ]
     },
     "metadata": {},
     "output_type": "display_data"
    },
    {
     "data": {
      "text/plain": [
       "HLA\n",
       "HLA-A*02 HLA-A*11 HLA-B*07 HLA-B*15 \n",
       "    3923       16       14        5 "
      ]
     },
     "metadata": {},
     "output_type": "display_data"
    },
    {
     "data": {
      "text/plain": [
       "          Disease.name\n",
       "HLA         CMV  EBV Human immunodeficiency virus (HIV)\n",
       "  HLA-A*02 3912   11                                  0\n",
       "  HLA-A*11    0   16                                  0\n",
       "  HLA-B*07   14    0                                  0\n",
       "  HLA-B*15    0    0                                  5"
      ]
     },
     "metadata": {},
     "output_type": "display_data"
    }
   ],
   "source": [
    "viet_over_dat_alleles <- viet_alleles[grepl(paste(str_escape(dat_alleles), collapse = \"|\"), viet_alleles) & !viet_alleles %in% dat_alleles]\n",
    "viet_over_dat_alleles\n",
    "table(dat[dat$HLA %in% gsub('[:]..$', '', viet_over_dat_alleles), 'HLA'])\n",
    "table(dat[dat$HLA %in% gsub('[:]..$', '', viet_over_dat_alleles), c('HLA', 'Disease.name')])"
   ]
  },
  {
   "cell_type": "code",
   "execution_count": 34,
   "id": "5652a58d",
   "metadata": {},
   "outputs": [
    {
     "name": "stderr",
     "output_type": "stream",
     "text": [
      "Remember to cat() to see result with single escapes.\n",
      "\n"
     ]
    },
    {
     "data": {
      "text/html": [],
      "text/latex": [],
      "text/markdown": [],
      "text/plain": [
       "character(0)"
      ]
     },
     "metadata": {},
     "output_type": "display_data"
    },
    {
     "data": {
      "text/plain": [
       "< table of extent 0 >"
      ]
     },
     "metadata": {},
     "output_type": "display_data"
    },
    {
     "data": {
      "text/plain": [
       "< table of extent 0 x 0 >"
      ]
     },
     "metadata": {},
     "output_type": "display_data"
    }
   ],
   "source": [
    "dat_over_viet_alleles <- dat_alleles[grepl(paste(str_escape(viet_alleles), collapse = \"|\"), dat_alleles) & !dat_alleles %in% viet_alleles]\n",
    "dat_over_viet_alleles\n",
    "table(dat[dat$HLA %in% gsub('[:]..$', '', dat_over_viet_alleles), 'HLA'])\n",
    "table(dat[dat$HLA %in% gsub('[:]..$', '', dat_over_viet_alleles), c('HLA', 'Disease.name')])"
   ]
  },
  {
   "cell_type": "code",
   "execution_count": 36,
   "id": "beedc7ba",
   "metadata": {},
   "outputs": [
    {
     "data": {
      "text/html": [
       "<style>\n",
       ".list-inline {list-style: none; margin:0; padding: 0}\n",
       ".list-inline>li {display: inline-block}\n",
       ".list-inline>li:not(:last-child)::after {content: \"\\00b7\"; padding: 0 .5ex}\n",
       "</style>\n",
       "<ol class=list-inline><li>5941</li><li>3</li></ol>\n"
      ],
      "text/latex": [
       "\\begin{enumerate*}\n",
       "\\item 5941\n",
       "\\item 3\n",
       "\\end{enumerate*}\n"
      ],
      "text/markdown": [
       "1. 5941\n",
       "2. 3\n",
       "\n",
       "\n"
      ],
      "text/plain": [
       "[1] 5941    3"
      ]
     },
     "metadata": {},
     "output_type": "display_data"
    }
   ],
   "source": [
    "dat <- unique(dat[, c('CDR3.beta.aa', 'HLA', 'Antigen.sequence')])\n",
    "dim(dat)"
   ]
  },
  {
   "cell_type": "code",
   "execution_count": 38,
   "id": "fdc838c0",
   "metadata": {},
   "outputs": [],
   "source": [
    "write.table(dat, 'TBAdb-analyzed.csv', quote = F, append = F, row.names = F, sep = ',')"
   ]
  },
  {
   "cell_type": "code",
   "execution_count": null,
   "id": "5df32864",
   "metadata": {},
   "outputs": [],
   "source": []
  }
 ],
 "metadata": {
  "kernelspec": {
   "display_name": "R",
   "language": "R",
   "name": "ir"
  },
  "language_info": {
   "codemirror_mode": "r",
   "file_extension": ".r",
   "mimetype": "text/x-r-source",
   "name": "R",
   "pygments_lexer": "r",
   "version": "4.2.0"
  }
 },
 "nbformat": 4,
 "nbformat_minor": 5
}
