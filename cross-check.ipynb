{
 "cells": [
  {
   "cell_type": "code",
   "execution_count": 1,
   "id": "ed45ea0f",
   "metadata": {},
   "outputs": [
    {
     "name": "stderr",
     "output_type": "stream",
     "text": [
      "── \u001b[1mAttaching packages\u001b[22m ─────────────────────────────────────── tidyverse 1.3.1 ──\n",
      "\n",
      "\u001b[32m✔\u001b[39m \u001b[34mggplot2\u001b[39m 3.3.6     \u001b[32m✔\u001b[39m \u001b[34mpurrr  \u001b[39m 0.3.4\n",
      "\u001b[32m✔\u001b[39m \u001b[34mtibble \u001b[39m 3.1.7     \u001b[32m✔\u001b[39m \u001b[34mdplyr  \u001b[39m 1.0.9\n",
      "\u001b[32m✔\u001b[39m \u001b[34mtidyr  \u001b[39m 1.2.0     \u001b[32m✔\u001b[39m \u001b[34mstringr\u001b[39m 1.4.0\n",
      "\u001b[32m✔\u001b[39m \u001b[34mreadr  \u001b[39m 2.1.2     \u001b[32m✔\u001b[39m \u001b[34mforcats\u001b[39m 0.5.1\n",
      "\n",
      "── \u001b[1mConflicts\u001b[22m ────────────────────────────────────────── tidyverse_conflicts() ──\n",
      "\u001b[31m✖\u001b[39m \u001b[34mdplyr\u001b[39m::\u001b[32mbetween()\u001b[39m   masks \u001b[34mdata.table\u001b[39m::between()\n",
      "\u001b[31m✖\u001b[39m \u001b[34mdplyr\u001b[39m::\u001b[32mfilter()\u001b[39m    masks \u001b[34mstats\u001b[39m::filter()\n",
      "\u001b[31m✖\u001b[39m \u001b[34mdplyr\u001b[39m::\u001b[32mfirst()\u001b[39m     masks \u001b[34mdata.table\u001b[39m::first()\n",
      "\u001b[31m✖\u001b[39m \u001b[34mdplyr\u001b[39m::\u001b[32mlag()\u001b[39m       masks \u001b[34mstats\u001b[39m::lag()\n",
      "\u001b[31m✖\u001b[39m \u001b[34mdplyr\u001b[39m::\u001b[32mlast()\u001b[39m      masks \u001b[34mdata.table\u001b[39m::last()\n",
      "\u001b[31m✖\u001b[39m \u001b[34mpurrr\u001b[39m::\u001b[32mtranspose()\u001b[39m masks \u001b[34mdata.table\u001b[39m::transpose()\n",
      "\n"
     ]
    }
   ],
   "source": [
    "library(data.table)\n",
    "library(tidyverse)"
   ]
  },
  {
   "cell_type": "markdown",
   "id": "a0881918",
   "metadata": {},
   "source": [
    "# Without MHC"
   ]
  },
  {
   "cell_type": "code",
   "execution_count": 216,
   "id": "fc388b01",
   "metadata": {},
   "outputs": [
    {
     "data": {
      "text/html": [
       "<style>\n",
       ".list-inline {list-style: none; margin:0; padding: 0}\n",
       ".list-inline>li {display: inline-block}\n",
       ".list-inline>li:not(:last-child)::after {content: \"\\00b7\"; padding: 0 .5ex}\n",
       "</style>\n",
       "<ol class=list-inline><li>5933</li><li>2</li></ol>\n"
      ],
      "text/latex": [
       "\\begin{enumerate*}\n",
       "\\item 5933\n",
       "\\item 2\n",
       "\\end{enumerate*}\n"
      ],
      "text/markdown": [
       "1. 5933\n",
       "2. 2\n",
       "\n",
       "\n"
      ],
      "text/plain": [
       "[1] 5933    2"
      ]
     },
     "metadata": {},
     "output_type": "display_data"
    }
   ],
   "source": [
    "# load positive data from TBA\n",
    "TBAdb <- fread('TBAdb/TBAdb-without-HLA.csv', data.table = F)\n",
    "dim(TBAdb)"
   ]
  },
  {
   "cell_type": "code",
   "execution_count": 3,
   "id": "c70039fa",
   "metadata": {},
   "outputs": [
    {
     "data": {
      "text/html": [
       "<table class=\"dataframe\">\n",
       "<caption>A data.frame: 6 × 5</caption>\n",
       "<thead>\n",
       "\t<tr><th></th><th scope=col>CDR3b</th><th scope=col>epitope</th><th scope=col>binder</th><th scope=col>dataset</th><th scope=col>order</th></tr>\n",
       "\t<tr><th></th><th scope=col>&lt;chr&gt;</th><th scope=col>&lt;chr&gt;</th><th scope=col>&lt;dbl&gt;</th><th scope=col>&lt;chr&gt;</th><th scope=col>&lt;dbl&gt;</th></tr>\n",
       "</thead>\n",
       "<tbody>\n",
       "\t<tr><th scope=row>1</th><td>ASSLEETQY     </td><td>TAAQAAVVRFQEAAN</td><td>1</td><td>TBAdb</td><td>1</td></tr>\n",
       "\t<tr><th scope=row>2</th><td>ASSPEETQY     </td><td>TAAQAAVVRFQEAAN</td><td>1</td><td>TBAdb</td><td>1</td></tr>\n",
       "\t<tr><th scope=row>3</th><td>ASSFEETQY     </td><td>TAAQAAVVRFQEAAN</td><td>1</td><td>TBAdb</td><td>1</td></tr>\n",
       "\t<tr><th scope=row>4</th><td>ASSVALASGANVLT</td><td>ADTLQSIGATTVASN</td><td>1</td><td>TBAdb</td><td>1</td></tr>\n",
       "\t<tr><th scope=row>5</th><td>ASSVALATGEQY  </td><td>ADTLQSIGATTVASN</td><td>1</td><td>TBAdb</td><td>1</td></tr>\n",
       "\t<tr><th scope=row>6</th><td>ASSVALQGVHTQY </td><td>ADTLQSIGATTVASN</td><td>1</td><td>TBAdb</td><td>1</td></tr>\n",
       "</tbody>\n",
       "</table>\n"
      ],
      "text/latex": [
       "A data.frame: 6 × 5\n",
       "\\begin{tabular}{r|lllll}\n",
       "  & CDR3b & epitope & binder & dataset & order\\\\\n",
       "  & <chr> & <chr> & <dbl> & <chr> & <dbl>\\\\\n",
       "\\hline\n",
       "\t1 & ASSLEETQY      & TAAQAAVVRFQEAAN & 1 & TBAdb & 1\\\\\n",
       "\t2 & ASSPEETQY      & TAAQAAVVRFQEAAN & 1 & TBAdb & 1\\\\\n",
       "\t3 & ASSFEETQY      & TAAQAAVVRFQEAAN & 1 & TBAdb & 1\\\\\n",
       "\t4 & ASSVALASGANVLT & ADTLQSIGATTVASN & 1 & TBAdb & 1\\\\\n",
       "\t5 & ASSVALATGEQY   & ADTLQSIGATTVASN & 1 & TBAdb & 1\\\\\n",
       "\t6 & ASSVALQGVHTQY  & ADTLQSIGATTVASN & 1 & TBAdb & 1\\\\\n",
       "\\end{tabular}\n"
      ],
      "text/markdown": [
       "\n",
       "A data.frame: 6 × 5\n",
       "\n",
       "| <!--/--> | CDR3b &lt;chr&gt; | epitope &lt;chr&gt; | binder &lt;dbl&gt; | dataset &lt;chr&gt; | order &lt;dbl&gt; |\n",
       "|---|---|---|---|---|---|\n",
       "| 1 | ASSLEETQY      | TAAQAAVVRFQEAAN | 1 | TBAdb | 1 |\n",
       "| 2 | ASSPEETQY      | TAAQAAVVRFQEAAN | 1 | TBAdb | 1 |\n",
       "| 3 | ASSFEETQY      | TAAQAAVVRFQEAAN | 1 | TBAdb | 1 |\n",
       "| 4 | ASSVALASGANVLT | ADTLQSIGATTVASN | 1 | TBAdb | 1 |\n",
       "| 5 | ASSVALATGEQY   | ADTLQSIGATTVASN | 1 | TBAdb | 1 |\n",
       "| 6 | ASSVALQGVHTQY  | ADTLQSIGATTVASN | 1 | TBAdb | 1 |\n",
       "\n"
      ],
      "text/plain": [
       "  CDR3b          epitope         binder dataset order\n",
       "1 ASSLEETQY      TAAQAAVVRFQEAAN 1      TBAdb   1    \n",
       "2 ASSPEETQY      TAAQAAVVRFQEAAN 1      TBAdb   1    \n",
       "3 ASSFEETQY      TAAQAAVVRFQEAAN 1      TBAdb   1    \n",
       "4 ASSVALASGANVLT ADTLQSIGATTVASN 1      TBAdb   1    \n",
       "5 ASSVALATGEQY   ADTLQSIGATTVASN 1      TBAdb   1    \n",
       "6 ASSVALQGVHTQY  ADTLQSIGATTVASN 1      TBAdb   1    "
      ]
     },
     "metadata": {},
     "output_type": "display_data"
    }
   ],
   "source": [
    "TBAdb <- TBAdb[, c(2:1)]\n",
    "colnames(TBAdb) <- c('CDR3b', 'epitope')\n",
    "TBAdb$binder <- 1\n",
    "TBAdb$dataset <- 'TBAdb'\n",
    "TBAdb$order <- 1\n",
    "head(TBAdb)"
   ]
  },
  {
   "cell_type": "code",
   "execution_count": 4,
   "id": "da846b70",
   "metadata": {},
   "outputs": [
    {
     "data": {
      "text/html": [
       "<table class=\"dataframe\">\n",
       "<caption>A data.table: 6 × 5</caption>\n",
       "<thead>\n",
       "\t<tr><th scope=col>CDR3b</th><th scope=col>epitope</th><th scope=col>binder</th><th scope=col>dataset</th><th scope=col>order</th></tr>\n",
       "\t<tr><th scope=col>&lt;chr&gt;</th><th scope=col>&lt;chr&gt;</th><th scope=col>&lt;dbl&gt;</th><th scope=col>&lt;chr&gt;</th><th scope=col>&lt;dbl&gt;</th></tr>\n",
       "</thead>\n",
       "<tbody>\n",
       "\t<tr><td>ASSYLPGQGDHYSNQPQH</td><td>FLKEKGGL</td><td>1</td><td>VDJdb</td><td>2</td></tr>\n",
       "\t<tr><td>ASSFEAGQGFFSNQPQH </td><td>FLKEKGGL</td><td>1</td><td>VDJdb</td><td>2</td></tr>\n",
       "\t<tr><td>ASSFEPGQGFYSNQPQH </td><td>FLKEKGGL</td><td>1</td><td>VDJdb</td><td>2</td></tr>\n",
       "\t<tr><td>ASSYEPGQVSHYSNQPQH</td><td>FLKEKGGL</td><td>1</td><td>VDJdb</td><td>2</td></tr>\n",
       "\t<tr><td>ASSALASLNEQF      </td><td>FLKEKGGL</td><td>1</td><td>VDJdb</td><td>2</td></tr>\n",
       "\t<tr><td>ASSYLPGQGDHYSNQPQH</td><td>FLKEQGGL</td><td>1</td><td>VDJdb</td><td>2</td></tr>\n",
       "</tbody>\n",
       "</table>\n"
      ],
      "text/latex": [
       "A data.table: 6 × 5\n",
       "\\begin{tabular}{lllll}\n",
       " CDR3b & epitope & binder & dataset & order\\\\\n",
       " <chr> & <chr> & <dbl> & <chr> & <dbl>\\\\\n",
       "\\hline\n",
       "\t ASSYLPGQGDHYSNQPQH & FLKEKGGL & 1 & VDJdb & 2\\\\\n",
       "\t ASSFEAGQGFFSNQPQH  & FLKEKGGL & 1 & VDJdb & 2\\\\\n",
       "\t ASSFEPGQGFYSNQPQH  & FLKEKGGL & 1 & VDJdb & 2\\\\\n",
       "\t ASSYEPGQVSHYSNQPQH & FLKEKGGL & 1 & VDJdb & 2\\\\\n",
       "\t ASSALASLNEQF       & FLKEKGGL & 1 & VDJdb & 2\\\\\n",
       "\t ASSYLPGQGDHYSNQPQH & FLKEQGGL & 1 & VDJdb & 2\\\\\n",
       "\\end{tabular}\n"
      ],
      "text/markdown": [
       "\n",
       "A data.table: 6 × 5\n",
       "\n",
       "| CDR3b &lt;chr&gt; | epitope &lt;chr&gt; | binder &lt;dbl&gt; | dataset &lt;chr&gt; | order &lt;dbl&gt; |\n",
       "|---|---|---|---|---|\n",
       "| ASSYLPGQGDHYSNQPQH | FLKEKGGL | 1 | VDJdb | 2 |\n",
       "| ASSFEAGQGFFSNQPQH  | FLKEKGGL | 1 | VDJdb | 2 |\n",
       "| ASSFEPGQGFYSNQPQH  | FLKEKGGL | 1 | VDJdb | 2 |\n",
       "| ASSYEPGQVSHYSNQPQH | FLKEKGGL | 1 | VDJdb | 2 |\n",
       "| ASSALASLNEQF       | FLKEKGGL | 1 | VDJdb | 2 |\n",
       "| ASSYLPGQGDHYSNQPQH | FLKEQGGL | 1 | VDJdb | 2 |\n",
       "\n"
      ],
      "text/plain": [
       "  CDR3b              epitope  binder dataset order\n",
       "1 ASSYLPGQGDHYSNQPQH FLKEKGGL 1      VDJdb   2    \n",
       "2 ASSFEAGQGFFSNQPQH  FLKEKGGL 1      VDJdb   2    \n",
       "3 ASSFEPGQGFYSNQPQH  FLKEKGGL 1      VDJdb   2    \n",
       "4 ASSYEPGQVSHYSNQPQH FLKEKGGL 1      VDJdb   2    \n",
       "5 ASSALASLNEQF       FLKEKGGL 1      VDJdb   2    \n",
       "6 ASSYLPGQGDHYSNQPQH FLKEQGGL 1      VDJdb   2    "
      ]
     },
     "metadata": {},
     "output_type": "display_data"
    }
   ],
   "source": [
    "VDJdb <- fread('VDJdb/VDJdb-without-HLA.csv')\n",
    "colnames(VDJdb) <- c('CDR3b', 'epitope')\n",
    "VDJdb$binder <- 1\n",
    "VDJdb$dataset <- 'VDJdb'\n",
    "VDJdb$order <- 2\n",
    "head(VDJdb)"
   ]
  },
  {
   "cell_type": "code",
   "execution_count": 5,
   "id": "03a02382",
   "metadata": {},
   "outputs": [
    {
     "data": {
      "text/html": [
       "<style>\n",
       ".list-inline {list-style: none; margin:0; padding: 0}\n",
       ".list-inline>li {display: inline-block}\n",
       ".list-inline>li:not(:last-child)::after {content: \"\\00b7\"; padding: 0 .5ex}\n",
       "</style>\n",
       "<ol class=list-inline><li>10256</li><li>2</li></ol>\n"
      ],
      "text/latex": [
       "\\begin{enumerate*}\n",
       "\\item 10256\n",
       "\\item 2\n",
       "\\end{enumerate*}\n"
      ],
      "text/markdown": [
       "1. 10256\n",
       "2. 2\n",
       "\n",
       "\n"
      ],
      "text/plain": [
       "[1] 10256     2"
      ]
     },
     "metadata": {},
     "output_type": "display_data"
    }
   ],
   "source": [
    "McPAS <- fread('McPAS/McPAS-without-HLA.csv', data.table = F)\n",
    "dim(McPAS)"
   ]
  },
  {
   "cell_type": "code",
   "execution_count": 6,
   "id": "b6c7b708",
   "metadata": {},
   "outputs": [
    {
     "data": {
      "text/html": [
       "<table class=\"dataframe\">\n",
       "<caption>A data.frame: 6 × 5</caption>\n",
       "<thead>\n",
       "\t<tr><th></th><th scope=col>CDR3b</th><th scope=col>epitope</th><th scope=col>binder</th><th scope=col>dataset</th><th scope=col>order</th></tr>\n",
       "\t<tr><th></th><th scope=col>&lt;chr&gt;</th><th scope=col>&lt;chr&gt;</th><th scope=col>&lt;dbl&gt;</th><th scope=col>&lt;chr&gt;</th><th scope=col>&lt;dbl&gt;</th></tr>\n",
       "</thead>\n",
       "<tbody>\n",
       "\t<tr><th scope=row>1</th><td>ASSLGNEQ        </td><td>EAAGIGILTV</td><td>1</td><td>McPAS</td><td>3</td></tr>\n",
       "\t<tr><th scope=row>2</th><td>ASSLGVATGEL     </td><td>EAAGIGILTV</td><td>1</td><td>McPAS</td><td>3</td></tr>\n",
       "\t<tr><th scope=row>3</th><td>ASSQEEGGGSWGNTIY</td><td>EAAGIGILTV</td><td>1</td><td>McPAS</td><td>3</td></tr>\n",
       "\t<tr><th scope=row>4</th><td>ASSQEGLAGASQY   </td><td>EAAGIGILTV</td><td>1</td><td>McPAS</td><td>3</td></tr>\n",
       "\t<tr><th scope=row>5</th><td>ASSQETDIVFNOPQH </td><td>EAAGIGILTV</td><td>1</td><td>McPAS</td><td>3</td></tr>\n",
       "\t<tr><th scope=row>6</th><td>ASSQGQLTDTQY    </td><td>EAAGIGILTV</td><td>1</td><td>McPAS</td><td>3</td></tr>\n",
       "</tbody>\n",
       "</table>\n"
      ],
      "text/latex": [
       "A data.frame: 6 × 5\n",
       "\\begin{tabular}{r|lllll}\n",
       "  & CDR3b & epitope & binder & dataset & order\\\\\n",
       "  & <chr> & <chr> & <dbl> & <chr> & <dbl>\\\\\n",
       "\\hline\n",
       "\t1 & ASSLGNEQ         & EAAGIGILTV & 1 & McPAS & 3\\\\\n",
       "\t2 & ASSLGVATGEL      & EAAGIGILTV & 1 & McPAS & 3\\\\\n",
       "\t3 & ASSQEEGGGSWGNTIY & EAAGIGILTV & 1 & McPAS & 3\\\\\n",
       "\t4 & ASSQEGLAGASQY    & EAAGIGILTV & 1 & McPAS & 3\\\\\n",
       "\t5 & ASSQETDIVFNOPQH  & EAAGIGILTV & 1 & McPAS & 3\\\\\n",
       "\t6 & ASSQGQLTDTQY     & EAAGIGILTV & 1 & McPAS & 3\\\\\n",
       "\\end{tabular}\n"
      ],
      "text/markdown": [
       "\n",
       "A data.frame: 6 × 5\n",
       "\n",
       "| <!--/--> | CDR3b &lt;chr&gt; | epitope &lt;chr&gt; | binder &lt;dbl&gt; | dataset &lt;chr&gt; | order &lt;dbl&gt; |\n",
       "|---|---|---|---|---|---|\n",
       "| 1 | ASSLGNEQ         | EAAGIGILTV | 1 | McPAS | 3 |\n",
       "| 2 | ASSLGVATGEL      | EAAGIGILTV | 1 | McPAS | 3 |\n",
       "| 3 | ASSQEEGGGSWGNTIY | EAAGIGILTV | 1 | McPAS | 3 |\n",
       "| 4 | ASSQEGLAGASQY    | EAAGIGILTV | 1 | McPAS | 3 |\n",
       "| 5 | ASSQETDIVFNOPQH  | EAAGIGILTV | 1 | McPAS | 3 |\n",
       "| 6 | ASSQGQLTDTQY     | EAAGIGILTV | 1 | McPAS | 3 |\n",
       "\n"
      ],
      "text/plain": [
       "  CDR3b            epitope    binder dataset order\n",
       "1 ASSLGNEQ         EAAGIGILTV 1      McPAS   3    \n",
       "2 ASSLGVATGEL      EAAGIGILTV 1      McPAS   3    \n",
       "3 ASSQEEGGGSWGNTIY EAAGIGILTV 1      McPAS   3    \n",
       "4 ASSQEGLAGASQY    EAAGIGILTV 1      McPAS   3    \n",
       "5 ASSQETDIVFNOPQH  EAAGIGILTV 1      McPAS   3    \n",
       "6 ASSQGQLTDTQY     EAAGIGILTV 1      McPAS   3    "
      ]
     },
     "metadata": {},
     "output_type": "display_data"
    }
   ],
   "source": [
    "colnames(McPAS) <- c('CDR3b', 'epitope')\n",
    "McPAS$binder <- 1\n",
    "McPAS$dataset <- 'McPAS'\n",
    "McPAS$order <- 3\n",
    "head(McPAS)"
   ]
  },
  {
   "cell_type": "code",
   "execution_count": 7,
   "id": "33ba0901",
   "metadata": {},
   "outputs": [
    {
     "data": {
      "text/html": [
       "<style>\n",
       ".list-inline {list-style: none; margin:0; padding: 0}\n",
       ".list-inline>li {display: inline-block}\n",
       ".list-inline>li:not(:last-child)::after {content: \"\\00b7\"; padding: 0 .5ex}\n",
       "</style>\n",
       "<ol class=list-inline><li>145626</li><li>2</li></ol>\n"
      ],
      "text/latex": [
       "\\begin{enumerate*}\n",
       "\\item 145626\n",
       "\\item 2\n",
       "\\end{enumerate*}\n"
      ],
      "text/markdown": [
       "1. 145626\n",
       "2. 2\n",
       "\n",
       "\n"
      ],
      "text/plain": [
       "[1] 145626      2"
      ]
     },
     "metadata": {},
     "output_type": "display_data"
    }
   ],
   "source": [
    "IEDB <- fread('IEDB/IEDB-without-HLA.csv', data.table = F)\n",
    "dim(IEDB)"
   ]
  },
  {
   "cell_type": "code",
   "execution_count": 8,
   "id": "7c5f65aa",
   "metadata": {},
   "outputs": [
    {
     "data": {
      "text/html": [
       "<table class=\"dataframe\">\n",
       "<caption>A data.frame: 6 × 5</caption>\n",
       "<thead>\n",
       "\t<tr><th></th><th scope=col>CDR3b</th><th scope=col>epitope</th><th scope=col>binder</th><th scope=col>dataset</th><th scope=col>order</th></tr>\n",
       "\t<tr><th></th><th scope=col>&lt;chr&gt;</th><th scope=col>&lt;chr&gt;</th><th scope=col>&lt;dbl&gt;</th><th scope=col>&lt;chr&gt;</th><th scope=col>&lt;dbl&gt;</th></tr>\n",
       "</thead>\n",
       "<tbody>\n",
       "\t<tr><th scope=row>1</th><td>ASSQDRDTQY   </td><td>VMAPRTLIL</td><td>1</td><td>IEDB</td><td>4</td></tr>\n",
       "\t<tr><th scope=row>2</th><td>ASSLGQAYEQY  </td><td>FLRGRAYGL</td><td>1</td><td>IEDB</td><td>4</td></tr>\n",
       "\t<tr><th scope=row>3</th><td>ASSLGQAYEQY  </td><td>FLRGRFYGL</td><td>1</td><td>IEDB</td><td>4</td></tr>\n",
       "\t<tr><th scope=row>4</th><td>ASSLGQAYEQY  </td><td>EEYLQAFTY</td><td>1</td><td>IEDB</td><td>4</td></tr>\n",
       "\t<tr><th scope=row>5</th><td>ASSLGQAYEQY  </td><td>EEYLKAWTF</td><td>1</td><td>IEDB</td><td>4</td></tr>\n",
       "\t<tr><th scope=row>6</th><td>ASSYPGGGFYEQY</td><td>LLFGYPVYV</td><td>1</td><td>IEDB</td><td>4</td></tr>\n",
       "</tbody>\n",
       "</table>\n"
      ],
      "text/latex": [
       "A data.frame: 6 × 5\n",
       "\\begin{tabular}{r|lllll}\n",
       "  & CDR3b & epitope & binder & dataset & order\\\\\n",
       "  & <chr> & <chr> & <dbl> & <chr> & <dbl>\\\\\n",
       "\\hline\n",
       "\t1 & ASSQDRDTQY    & VMAPRTLIL & 1 & IEDB & 4\\\\\n",
       "\t2 & ASSLGQAYEQY   & FLRGRAYGL & 1 & IEDB & 4\\\\\n",
       "\t3 & ASSLGQAYEQY   & FLRGRFYGL & 1 & IEDB & 4\\\\\n",
       "\t4 & ASSLGQAYEQY   & EEYLQAFTY & 1 & IEDB & 4\\\\\n",
       "\t5 & ASSLGQAYEQY   & EEYLKAWTF & 1 & IEDB & 4\\\\\n",
       "\t6 & ASSYPGGGFYEQY & LLFGYPVYV & 1 & IEDB & 4\\\\\n",
       "\\end{tabular}\n"
      ],
      "text/markdown": [
       "\n",
       "A data.frame: 6 × 5\n",
       "\n",
       "| <!--/--> | CDR3b &lt;chr&gt; | epitope &lt;chr&gt; | binder &lt;dbl&gt; | dataset &lt;chr&gt; | order &lt;dbl&gt; |\n",
       "|---|---|---|---|---|---|\n",
       "| 1 | ASSQDRDTQY    | VMAPRTLIL | 1 | IEDB | 4 |\n",
       "| 2 | ASSLGQAYEQY   | FLRGRAYGL | 1 | IEDB | 4 |\n",
       "| 3 | ASSLGQAYEQY   | FLRGRFYGL | 1 | IEDB | 4 |\n",
       "| 4 | ASSLGQAYEQY   | EEYLQAFTY | 1 | IEDB | 4 |\n",
       "| 5 | ASSLGQAYEQY   | EEYLKAWTF | 1 | IEDB | 4 |\n",
       "| 6 | ASSYPGGGFYEQY | LLFGYPVYV | 1 | IEDB | 4 |\n",
       "\n"
      ],
      "text/plain": [
       "  CDR3b         epitope   binder dataset order\n",
       "1 ASSQDRDTQY    VMAPRTLIL 1      IEDB    4    \n",
       "2 ASSLGQAYEQY   FLRGRAYGL 1      IEDB    4    \n",
       "3 ASSLGQAYEQY   FLRGRFYGL 1      IEDB    4    \n",
       "4 ASSLGQAYEQY   EEYLQAFTY 1      IEDB    4    \n",
       "5 ASSLGQAYEQY   EEYLKAWTF 1      IEDB    4    \n",
       "6 ASSYPGGGFYEQY LLFGYPVYV 1      IEDB    4    "
      ]
     },
     "metadata": {},
     "output_type": "display_data"
    }
   ],
   "source": [
    "IEDB <- IEDB[, c(2:1)]\n",
    "colnames(IEDB) <- c('CDR3b', 'epitope')\n",
    "IEDB$binder <- 1\n",
    "IEDB$dataset <- 'IEDB'\n",
    "IEDB$order <- 4\n",
    "head(IEDB)"
   ]
  },
  {
   "cell_type": "code",
   "execution_count": 9,
   "id": "88fb4a67",
   "metadata": {},
   "outputs": [
    {
     "data": {
      "text/html": [
       "<style>\n",
       ".list-inline {list-style: none; margin:0; padding: 0}\n",
       ".list-inline>li {display: inline-block}\n",
       ".list-inline>li:not(:last-child)::after {content: \"\\00b7\"; padding: 0 .5ex}\n",
       "</style>\n",
       "<ol class=list-inline><li>13167</li><li>2</li></ol>\n"
      ],
      "text/latex": [
       "\\begin{enumerate*}\n",
       "\\item 13167\n",
       "\\item 2\n",
       "\\end{enumerate*}\n"
      ],
      "text/markdown": [
       "1. 13167\n",
       "2. 2\n",
       "\n",
       "\n"
      ],
      "text/plain": [
       "[1] 13167     2"
      ]
     },
     "metadata": {},
     "output_type": "display_data"
    }
   ],
   "source": [
    "X10.pos <- fread('10X/10X-pos-without-HLA.csv', data.table = F)\n",
    "dim(X10.pos)"
   ]
  },
  {
   "cell_type": "code",
   "execution_count": 10,
   "id": "af899b6b",
   "metadata": {},
   "outputs": [
    {
     "data": {
      "text/html": [
       "<table class=\"dataframe\">\n",
       "<caption>A data.frame: 6 × 5</caption>\n",
       "<thead>\n",
       "\t<tr><th></th><th scope=col>CDR3b</th><th scope=col>epitope</th><th scope=col>binder</th><th scope=col>dataset</th><th scope=col>order</th></tr>\n",
       "\t<tr><th></th><th scope=col>&lt;chr&gt;</th><th scope=col>&lt;chr&gt;</th><th scope=col>&lt;dbl&gt;</th><th scope=col>&lt;chr&gt;</th><th scope=col>&lt;dbl&gt;</th></tr>\n",
       "</thead>\n",
       "<tbody>\n",
       "\t<tr><th scope=row>1</th><td>AAAETGSAGELF </td><td>KLGGALQAK </td><td>1</td><td>10X</td><td>5</td></tr>\n",
       "\t<tr><th scope=row>2</th><td>AAGEMFGLGETQY</td><td>AVFDRKSDAK</td><td>1</td><td>10X</td><td>5</td></tr>\n",
       "\t<tr><th scope=row>3</th><td>AAGGASYNEQF  </td><td>KLGGALQAK </td><td>1</td><td>10X</td><td>5</td></tr>\n",
       "\t<tr><th scope=row>4</th><td>AAGGGSEMNTEAF</td><td>KLGGALQAK </td><td>1</td><td>10X</td><td>5</td></tr>\n",
       "\t<tr><th scope=row>5</th><td>AAGLASNEQF   </td><td>KLGGALQAK </td><td>1</td><td>10X</td><td>5</td></tr>\n",
       "\t<tr><th scope=row>6</th><td>AAGSSGNQPQH  </td><td>RAKFKQLL  </td><td>1</td><td>10X</td><td>5</td></tr>\n",
       "</tbody>\n",
       "</table>\n"
      ],
      "text/latex": [
       "A data.frame: 6 × 5\n",
       "\\begin{tabular}{r|lllll}\n",
       "  & CDR3b & epitope & binder & dataset & order\\\\\n",
       "  & <chr> & <chr> & <dbl> & <chr> & <dbl>\\\\\n",
       "\\hline\n",
       "\t1 & AAAETGSAGELF  & KLGGALQAK  & 1 & 10X & 5\\\\\n",
       "\t2 & AAGEMFGLGETQY & AVFDRKSDAK & 1 & 10X & 5\\\\\n",
       "\t3 & AAGGASYNEQF   & KLGGALQAK  & 1 & 10X & 5\\\\\n",
       "\t4 & AAGGGSEMNTEAF & KLGGALQAK  & 1 & 10X & 5\\\\\n",
       "\t5 & AAGLASNEQF    & KLGGALQAK  & 1 & 10X & 5\\\\\n",
       "\t6 & AAGSSGNQPQH   & RAKFKQLL   & 1 & 10X & 5\\\\\n",
       "\\end{tabular}\n"
      ],
      "text/markdown": [
       "\n",
       "A data.frame: 6 × 5\n",
       "\n",
       "| <!--/--> | CDR3b &lt;chr&gt; | epitope &lt;chr&gt; | binder &lt;dbl&gt; | dataset &lt;chr&gt; | order &lt;dbl&gt; |\n",
       "|---|---|---|---|---|---|\n",
       "| 1 | AAAETGSAGELF  | KLGGALQAK  | 1 | 10X | 5 |\n",
       "| 2 | AAGEMFGLGETQY | AVFDRKSDAK | 1 | 10X | 5 |\n",
       "| 3 | AAGGASYNEQF   | KLGGALQAK  | 1 | 10X | 5 |\n",
       "| 4 | AAGGGSEMNTEAF | KLGGALQAK  | 1 | 10X | 5 |\n",
       "| 5 | AAGLASNEQF    | KLGGALQAK  | 1 | 10X | 5 |\n",
       "| 6 | AAGSSGNQPQH   | RAKFKQLL   | 1 | 10X | 5 |\n",
       "\n"
      ],
      "text/plain": [
       "  CDR3b         epitope    binder dataset order\n",
       "1 AAAETGSAGELF  KLGGALQAK  1      10X     5    \n",
       "2 AAGEMFGLGETQY AVFDRKSDAK 1      10X     5    \n",
       "3 AAGGASYNEQF   KLGGALQAK  1      10X     5    \n",
       "4 AAGGGSEMNTEAF KLGGALQAK  1      10X     5    \n",
       "5 AAGLASNEQF    KLGGALQAK  1      10X     5    \n",
       "6 AAGSSGNQPQH   RAKFKQLL   1      10X     5    "
      ]
     },
     "metadata": {},
     "output_type": "display_data"
    }
   ],
   "source": [
    "colnames(X10.pos) <- c('CDR3b', 'epitope')\n",
    "X10.pos$binder <- 1\n",
    "X10.pos$dataset <- '10X'\n",
    "X10.pos$order <- 5\n",
    "head(X10.pos)"
   ]
  },
  {
   "cell_type": "code",
   "execution_count": 18,
   "id": "f69e6369",
   "metadata": {},
   "outputs": [
    {
     "data": {
      "text/html": [
       "<table class=\"dataframe\">\n",
       "<caption>A data.frame: 6 × 5</caption>\n",
       "<thead>\n",
       "\t<tr><th></th><th scope=col>CDR3b</th><th scope=col>epitope</th><th scope=col>binder</th><th scope=col>dataset</th><th scope=col>order</th></tr>\n",
       "\t<tr><th></th><th scope=col>&lt;chr&gt;</th><th scope=col>&lt;chr&gt;</th><th scope=col>&lt;dbl&gt;</th><th scope=col>&lt;chr&gt;</th><th scope=col>&lt;dbl&gt;</th></tr>\n",
       "</thead>\n",
       "<tbody>\n",
       "\t<tr><th scope=row>1</th><td>AAAETGSAGELF</td><td>SLEGGGLGY </td><td>0</td><td>10X</td><td>6</td></tr>\n",
       "\t<tr><th scope=row>2</th><td>AAAETGSAGELF</td><td>STEGGGLAY </td><td>0</td><td>10X</td><td>6</td></tr>\n",
       "\t<tr><th scope=row>3</th><td>AAAETGSAGELF</td><td>VTEHDTLLY </td><td>0</td><td>10X</td><td>6</td></tr>\n",
       "\t<tr><th scope=row>4</th><td>AAAETGSAGELF</td><td>ALIAPVHAV </td><td>0</td><td>10X</td><td>6</td></tr>\n",
       "\t<tr><th scope=row>5</th><td>AAAETGSAGELF</td><td>CLGGLLTMV </td><td>0</td><td>10X</td><td>6</td></tr>\n",
       "\t<tr><th scope=row>6</th><td>AAAETGSAGELF</td><td>CLLGTYTQDV</td><td>0</td><td>10X</td><td>6</td></tr>\n",
       "</tbody>\n",
       "</table>\n"
      ],
      "text/latex": [
       "A data.frame: 6 × 5\n",
       "\\begin{tabular}{r|lllll}\n",
       "  & CDR3b & epitope & binder & dataset & order\\\\\n",
       "  & <chr> & <chr> & <dbl> & <chr> & <dbl>\\\\\n",
       "\\hline\n",
       "\t1 & AAAETGSAGELF & SLEGGGLGY  & 0 & 10X & 6\\\\\n",
       "\t2 & AAAETGSAGELF & STEGGGLAY  & 0 & 10X & 6\\\\\n",
       "\t3 & AAAETGSAGELF & VTEHDTLLY  & 0 & 10X & 6\\\\\n",
       "\t4 & AAAETGSAGELF & ALIAPVHAV  & 0 & 10X & 6\\\\\n",
       "\t5 & AAAETGSAGELF & CLGGLLTMV  & 0 & 10X & 6\\\\\n",
       "\t6 & AAAETGSAGELF & CLLGTYTQDV & 0 & 10X & 6\\\\\n",
       "\\end{tabular}\n"
      ],
      "text/markdown": [
       "\n",
       "A data.frame: 6 × 5\n",
       "\n",
       "| <!--/--> | CDR3b &lt;chr&gt; | epitope &lt;chr&gt; | binder &lt;dbl&gt; | dataset &lt;chr&gt; | order &lt;dbl&gt; |\n",
       "|---|---|---|---|---|---|\n",
       "| 1 | AAAETGSAGELF | SLEGGGLGY  | 0 | 10X | 6 |\n",
       "| 2 | AAAETGSAGELF | STEGGGLAY  | 0 | 10X | 6 |\n",
       "| 3 | AAAETGSAGELF | VTEHDTLLY  | 0 | 10X | 6 |\n",
       "| 4 | AAAETGSAGELF | ALIAPVHAV  | 0 | 10X | 6 |\n",
       "| 5 | AAAETGSAGELF | CLGGLLTMV  | 0 | 10X | 6 |\n",
       "| 6 | AAAETGSAGELF | CLLGTYTQDV | 0 | 10X | 6 |\n",
       "\n"
      ],
      "text/plain": [
       "  CDR3b        epitope    binder dataset order\n",
       "1 AAAETGSAGELF SLEGGGLGY  0      10X     6    \n",
       "2 AAAETGSAGELF STEGGGLAY  0      10X     6    \n",
       "3 AAAETGSAGELF VTEHDTLLY  0      10X     6    \n",
       "4 AAAETGSAGELF ALIAPVHAV  0      10X     6    \n",
       "5 AAAETGSAGELF CLGGLLTMV  0      10X     6    \n",
       "6 AAAETGSAGELF CLLGTYTQDV 0      10X     6    "
      ]
     },
     "metadata": {},
     "output_type": "display_data"
    }
   ],
   "source": [
    "X10.neg <- fread('10X/10X-neg-without-HLA.csv', data.table = F)\n",
    "colnames(X10.neg) <- c('CDR3b', 'epitope')\n",
    "X10.neg$binder <- 0\n",
    "X10.neg$dataset <- '10X'\n",
    "X10.neg$order <- 6\n",
    "head(X10.neg)"
   ]
  },
  {
   "cell_type": "code",
   "execution_count": 19,
   "id": "6ea01679",
   "metadata": {},
   "outputs": [
    {
     "data": {
      "text/html": [
       "<style>\n",
       ".list-inline {list-style: none; margin:0; padding: 0}\n",
       ".list-inline>li {display: inline-block}\n",
       ".list-inline>li:not(:last-child)::after {content: \"\\00b7\"; padding: 0 .5ex}\n",
       "</style>\n",
       "<ol class=list-inline><li>214221</li><li>5</li></ol>\n"
      ],
      "text/latex": [
       "\\begin{enumerate*}\n",
       "\\item 214221\n",
       "\\item 5\n",
       "\\end{enumerate*}\n"
      ],
      "text/markdown": [
       "1. 214221\n",
       "2. 5\n",
       "\n",
       "\n"
      ],
      "text/plain": [
       "[1] 214221      5"
      ]
     },
     "metadata": {},
     "output_type": "display_data"
    }
   ],
   "source": [
    "pos <- merge(merge(TBAdb, merge(VDJdb, McPAS, all = T), all = T), merge(IEDB, X10.pos, all = T), all = T)\n",
    "pos <- pos[order(pos$order),]\n",
    "dim(pos)"
   ]
  },
  {
   "cell_type": "code",
   "execution_count": 20,
   "id": "6f854333",
   "metadata": {},
   "outputs": [
    {
     "data": {
      "text/html": [
       "<style>\n",
       ".list-inline {list-style: none; margin:0; padding: 0}\n",
       ".list-inline>li {display: inline-block}\n",
       ".list-inline>li:not(:last-child)::after {content: \"\\00b7\"; padding: 0 .5ex}\n",
       "</style>\n",
       "<ol class=list-inline><li>162542</li><li>5</li></ol>\n"
      ],
      "text/latex": [
       "\\begin{enumerate*}\n",
       "\\item 162542\n",
       "\\item 5\n",
       "\\end{enumerate*}\n"
      ],
      "text/markdown": [
       "1. 162542\n",
       "2. 5\n",
       "\n",
       "\n"
      ],
      "text/plain": [
       "[1] 162542      5"
      ]
     },
     "metadata": {},
     "output_type": "display_data"
    }
   ],
   "source": [
    "pos <- pos[!duplicated(pos[, !colnames(pos) %in% c('dataset', 'order')]),] # remove dups across positive sets\n",
    "dim(pos)"
   ]
  },
  {
   "cell_type": "code",
   "execution_count": 22,
   "id": "3b261ff0",
   "metadata": {},
   "outputs": [
    {
     "data": {
      "text/plain": [
       "\n",
       "   10X   IEDB  McPAS  TBAdb  VDJdb \n",
       "   855 115270   6660   5933  33824 "
      ]
     },
     "metadata": {},
     "output_type": "display_data"
    }
   ],
   "source": [
    "table(pos$dataset)"
   ]
  },
  {
   "cell_type": "code",
   "execution_count": 25,
   "id": "3f40493a",
   "metadata": {},
   "outputs": [
    {
     "data": {
      "text/html": [
       "<style>\n",
       ".list-inline {list-style: none; margin:0; padding: 0}\n",
       ".list-inline>li {display: inline-block}\n",
       ".list-inline>li:not(:last-child)::after {content: \"\\00b7\"; padding: 0 .5ex}\n",
       "</style>\n",
       "<ol class=list-inline><li>3453336</li><li>4</li></ol>\n"
      ],
      "text/latex": [
       "\\begin{enumerate*}\n",
       "\\item 3453336\n",
       "\\item 4\n",
       "\\end{enumerate*}\n"
      ],
      "text/markdown": [
       "1. 3453336\n",
       "2. 4\n",
       "\n",
       "\n"
      ],
      "text/plain": [
       "[1] 3453336       4"
      ]
     },
     "metadata": {},
     "output_type": "display_data"
    }
   ],
   "source": [
    "# combine pos and neg\n",
    "dat <- merge(pos, X10.neg, all = T)\n",
    "dat <- dat[order(dat$order),]\n",
    "dat$order <- NULL\n",
    "dim(dat)"
   ]
  },
  {
   "cell_type": "code",
   "execution_count": 27,
   "id": "3e1fb947",
   "metadata": {},
   "outputs": [
    {
     "data": {
      "text/html": [
       "<style>\n",
       ".list-inline {list-style: none; margin:0; padding: 0}\n",
       ".list-inline>li {display: inline-block}\n",
       ".list-inline>li:not(:last-child)::after {content: \"\\00b7\"; padding: 0 .5ex}\n",
       "</style>\n",
       "<ol class=list-inline><li>3447950</li><li>4</li></ol>\n"
      ],
      "text/latex": [
       "\\begin{enumerate*}\n",
       "\\item 3447950\n",
       "\\item 4\n",
       "\\end{enumerate*}\n"
      ],
      "text/markdown": [
       "1. 3447950\n",
       "2. 4\n",
       "\n",
       "\n"
      ],
      "text/plain": [
       "[1] 3447950       4"
      ]
     },
     "metadata": {},
     "output_type": "display_data"
    }
   ],
   "source": [
    "# remove conflict labels\n",
    "dat <- dat %>%\n",
    "     group_by(CDR3b, epitope) %>% \n",
    "     filter(n_distinct(binder) == 1) %>%\n",
    "     ungroup\n",
    "dim(dat)"
   ]
  },
  {
   "cell_type": "code",
   "execution_count": 29,
   "id": "9a0b9533",
   "metadata": {},
   "outputs": [
    {
     "data": {
      "text/plain": [
       "\n",
       "      0       1 \n",
       "3288101  159849 "
      ]
     },
     "metadata": {},
     "output_type": "display_data"
    },
    {
     "data": {
      "text/plain": [
       "   \n",
       "        10X    IEDB   McPAS   TBAdb   VDJdb\n",
       "  0 3288101       0       0       0       0\n",
       "  1     855  114992    6614    5744   31644"
      ]
     },
     "metadata": {},
     "output_type": "display_data"
    }
   ],
   "source": [
    "table(dat$binder)\n",
    "table(dat$binder, dat$dataset)"
   ]
  },
  {
   "cell_type": "code",
   "execution_count": 38,
   "id": "f5cf1f15",
   "metadata": {},
   "outputs": [
    {
     "data": {
      "text/html": [
       "<table class=\"dataframe\">\n",
       "<caption>A tibble: 2 × 2</caption>\n",
       "<thead>\n",
       "\t<tr><th scope=col>binder</th><th scope=col>n</th></tr>\n",
       "\t<tr><th scope=col>&lt;fct&gt;</th><th scope=col>&lt;int&gt;</th></tr>\n",
       "</thead>\n",
       "<tbody>\n",
       "\t<tr><td>0</td><td>3288101</td></tr>\n",
       "\t<tr><td>1</td><td> 159849</td></tr>\n",
       "</tbody>\n",
       "</table>\n"
      ],
      "text/latex": [
       "A tibble: 2 × 2\n",
       "\\begin{tabular}{ll}\n",
       " binder & n\\\\\n",
       " <fct> & <int>\\\\\n",
       "\\hline\n",
       "\t 0 & 3288101\\\\\n",
       "\t 1 &  159849\\\\\n",
       "\\end{tabular}\n"
      ],
      "text/markdown": [
       "\n",
       "A tibble: 2 × 2\n",
       "\n",
       "| binder &lt;fct&gt; | n &lt;int&gt; |\n",
       "|---|---|\n",
       "| 0 | 3288101 |\n",
       "| 1 |  159849 |\n",
       "\n"
      ],
      "text/plain": [
       "  binder n      \n",
       "1 0      3288101\n",
       "2 1       159849"
      ]
     },
     "metadata": {},
     "output_type": "display_data"
    }
   ],
   "source": [
    "summarize <- dat %>% group_by(binder) %>% summarise(n = n())\n",
    "summarize$binder <- as.factor(summarize$binder)\n",
    "head(summarize)"
   ]
  },
  {
   "cell_type": "code",
   "execution_count": 74,
   "id": "f32935d4",
   "metadata": {},
   "outputs": [],
   "source": [
    "library(ggplot2)\n",
    "library(cowplot)\n",
    "library(ggrepel)"
   ]
  },
  {
   "cell_type": "code",
   "execution_count": 59,
   "id": "efad3b45",
   "metadata": {},
   "outputs": [
    {
     "data": {
      "image/png": "[encoded data removed]",
      "text/plain": [
       "plot without title"
      ]
     },
     "metadata": {
      "image/png": {
       "height": 420,
       "width": 420
      }
     },
     "output_type": "display_data"
    }
   ],
   "source": [
    "options(scipen=999)\n",
    "ggplot(summarize, aes(y=n, x=binder)) + \n",
    "  geom_bar(stat='identity', fill = \"#FF6666\", width = 0.7) + geom_text(aes(label=n), size = 5, vjust=-0.25) + theme_cowplot()"
   ]
  },
  {
   "cell_type": "code",
   "execution_count": 106,
   "id": "9ef91228",
   "metadata": {},
   "outputs": [],
   "source": [
    "pos <- dat[dat$binder == 1,]\n",
    "pos.sum <- pos %>% group_by(dataset) %>% summarise(n = n())"
   ]
  },
  {
   "cell_type": "code",
   "execution_count": 179,
   "id": "8a3f0a0f",
   "metadata": {},
   "outputs": [],
   "source": [
    "pos.sum <- pos.sum %>% \n",
    "  mutate(\n",
    "    cs = rev(cumsum(rev(n))), \n",
    "    pos = n/2 + lead(cs, 1),\n",
    "    pos = if_else(is.na(pos), n/2, pos))"
   ]
  },
  {
   "cell_type": "code",
   "execution_count": 210,
   "id": "f2bdc95c",
   "metadata": {},
   "outputs": [
    {
     "data": {
      "image/png": "[encoded data removed]",
      "text/plain": [
       "plot without title"
      ]
     },
     "metadata": {
      "image/png": {
       "height": 420,
       "width": 420
      }
     },
     "output_type": "display_data"
    }
   ],
   "source": [
    "ggplot(pos.sum, aes(x=\"\", y=n, fill=dataset)) +\n",
    "  geom_bar(stat = 'identity', width=1, color=\"white\") +\n",
    "  coord_polar(\"y\") + scale_fill_brewer(palette = \"Pastel1\") +\n",
    "  geom_label(aes(y = pos, label = paste0(n)), #hjust = 0,\n",
    "             size = 5, nudge_x = 0.6, show.legend = FALSE) +\n",
    "guides(fill = guide_legend(title = \"Datasets\", label.theme = element_text(\n",
    "      size = 15), title.theme = element_text(size = 15))) + theme_void()"
   ]
  },
  {
   "cell_type": "code",
   "execution_count": 212,
   "id": "90aad418",
   "metadata": {},
   "outputs": [],
   "source": [
    "dat$dataset <- NULL"
   ]
  },
  {
   "cell_type": "code",
   "execution_count": 213,
   "id": "68a29d47",
   "metadata": {},
   "outputs": [],
   "source": [
    "write.table(dat, 'final-without-HLA.csv', quote = F, append = F, row.names = F, sep = ',')"
   ]
  },
  {
   "cell_type": "markdown",
   "id": "a97963a8",
   "metadata": {},
   "source": [
    "# With MHC"
   ]
  },
  {
   "cell_type": "code",
   "execution_count": 2,
   "id": "f3af98e6",
   "metadata": {},
   "outputs": [
    {
     "data": {
      "text/html": [
       "<style>\n",
       ".list-inline {list-style: none; margin:0; padding: 0}\n",
       ".list-inline>li {display: inline-block}\n",
       ".list-inline>li:not(:last-child)::after {content: \"\\00b7\"; padding: 0 .5ex}\n",
       "</style>\n",
       "<ol class=list-inline><li>5941</li><li>3</li></ol>\n"
      ],
      "text/latex": [
       "\\begin{enumerate*}\n",
       "\\item 5941\n",
       "\\item 3\n",
       "\\end{enumerate*}\n"
      ],
      "text/markdown": [
       "1. 5941\n",
       "2. 3\n",
       "\n",
       "\n"
      ],
      "text/plain": [
       "[1] 5941    3"
      ]
     },
     "metadata": {},
     "output_type": "display_data"
    }
   ],
   "source": [
    "# load positive data from TBA\n",
    "TBAdb <- fread('TBAdb/TBAdb-analyzed.csv', data.table = F)\n",
    "dim(TBAdb)"
   ]
  },
  {
   "cell_type": "code",
   "execution_count": 3,
   "id": "876c7bbe",
   "metadata": {
    "scrolled": true
   },
   "outputs": [
    {
     "data": {
      "text/html": [
       "<table class=\"dataframe\">\n",
       "<caption>A data.frame: 6 × 6</caption>\n",
       "<thead>\n",
       "\t<tr><th></th><th scope=col>CDR3b</th><th scope=col>MHC</th><th scope=col>epitope</th><th scope=col>binder</th><th scope=col>dataset</th><th scope=col>order</th></tr>\n",
       "\t<tr><th></th><th scope=col>&lt;chr&gt;</th><th scope=col>&lt;chr&gt;</th><th scope=col>&lt;chr&gt;</th><th scope=col>&lt;dbl&gt;</th><th scope=col>&lt;chr&gt;</th><th scope=col>&lt;dbl&gt;</th></tr>\n",
       "</thead>\n",
       "<tbody>\n",
       "\t<tr><th scope=row>1</th><td>ASSLEETQY     </td><td>HLA-DRB1*15:03</td><td>TAAQAAVVRFQEAAN</td><td>1</td><td>TBAdb</td><td>1</td></tr>\n",
       "\t<tr><th scope=row>2</th><td>ASSPEETQY     </td><td>HLA-DRB1*15:03</td><td>TAAQAAVVRFQEAAN</td><td>1</td><td>TBAdb</td><td>1</td></tr>\n",
       "\t<tr><th scope=row>3</th><td>ASSFEETQY     </td><td>HLA-DRB1*15:03</td><td>TAAQAAVVRFQEAAN</td><td>1</td><td>TBAdb</td><td>1</td></tr>\n",
       "\t<tr><th scope=row>4</th><td>ASSVALASGANVLT</td><td>HLA-DRB1*15:03</td><td>ADTLQSIGATTVASN</td><td>1</td><td>TBAdb</td><td>1</td></tr>\n",
       "\t<tr><th scope=row>5</th><td>ASSVALATGEQY  </td><td>HLA-DRB1*15:03</td><td>ADTLQSIGATTVASN</td><td>1</td><td>TBAdb</td><td>1</td></tr>\n",
       "\t<tr><th scope=row>6</th><td>ASSVALQGVHTQY </td><td>HLA-DRB1*15:03</td><td>ADTLQSIGATTVASN</td><td>1</td><td>TBAdb</td><td>1</td></tr>\n",
       "</tbody>\n",
       "</table>\n"
      ],
      "text/latex": [
       "A data.frame: 6 × 6\n",
       "\\begin{tabular}{r|llllll}\n",
       "  & CDR3b & MHC & epitope & binder & dataset & order\\\\\n",
       "  & <chr> & <chr> & <chr> & <dbl> & <chr> & <dbl>\\\\\n",
       "\\hline\n",
       "\t1 & ASSLEETQY      & HLA-DRB1*15:03 & TAAQAAVVRFQEAAN & 1 & TBAdb & 1\\\\\n",
       "\t2 & ASSPEETQY      & HLA-DRB1*15:03 & TAAQAAVVRFQEAAN & 1 & TBAdb & 1\\\\\n",
       "\t3 & ASSFEETQY      & HLA-DRB1*15:03 & TAAQAAVVRFQEAAN & 1 & TBAdb & 1\\\\\n",
       "\t4 & ASSVALASGANVLT & HLA-DRB1*15:03 & ADTLQSIGATTVASN & 1 & TBAdb & 1\\\\\n",
       "\t5 & ASSVALATGEQY   & HLA-DRB1*15:03 & ADTLQSIGATTVASN & 1 & TBAdb & 1\\\\\n",
       "\t6 & ASSVALQGVHTQY  & HLA-DRB1*15:03 & ADTLQSIGATTVASN & 1 & TBAdb & 1\\\\\n",
       "\\end{tabular}\n"
      ],
      "text/markdown": [
       "\n",
       "A data.frame: 6 × 6\n",
       "\n",
       "| <!--/--> | CDR3b &lt;chr&gt; | MHC &lt;chr&gt; | epitope &lt;chr&gt; | binder &lt;dbl&gt; | dataset &lt;chr&gt; | order &lt;dbl&gt; |\n",
       "|---|---|---|---|---|---|---|\n",
       "| 1 | ASSLEETQY      | HLA-DRB1*15:03 | TAAQAAVVRFQEAAN | 1 | TBAdb | 1 |\n",
       "| 2 | ASSPEETQY      | HLA-DRB1*15:03 | TAAQAAVVRFQEAAN | 1 | TBAdb | 1 |\n",
       "| 3 | ASSFEETQY      | HLA-DRB1*15:03 | TAAQAAVVRFQEAAN | 1 | TBAdb | 1 |\n",
       "| 4 | ASSVALASGANVLT | HLA-DRB1*15:03 | ADTLQSIGATTVASN | 1 | TBAdb | 1 |\n",
       "| 5 | ASSVALATGEQY   | HLA-DRB1*15:03 | ADTLQSIGATTVASN | 1 | TBAdb | 1 |\n",
       "| 6 | ASSVALQGVHTQY  | HLA-DRB1*15:03 | ADTLQSIGATTVASN | 1 | TBAdb | 1 |\n",
       "\n"
      ],
      "text/plain": [
       "  CDR3b          MHC            epitope         binder dataset order\n",
       "1 ASSLEETQY      HLA-DRB1*15:03 TAAQAAVVRFQEAAN 1      TBAdb   1    \n",
       "2 ASSPEETQY      HLA-DRB1*15:03 TAAQAAVVRFQEAAN 1      TBAdb   1    \n",
       "3 ASSFEETQY      HLA-DRB1*15:03 TAAQAAVVRFQEAAN 1      TBAdb   1    \n",
       "4 ASSVALASGANVLT HLA-DRB1*15:03 ADTLQSIGATTVASN 1      TBAdb   1    \n",
       "5 ASSVALATGEQY   HLA-DRB1*15:03 ADTLQSIGATTVASN 1      TBAdb   1    \n",
       "6 ASSVALQGVHTQY  HLA-DRB1*15:03 ADTLQSIGATTVASN 1      TBAdb   1    "
      ]
     },
     "metadata": {},
     "output_type": "display_data"
    }
   ],
   "source": [
    "colnames(TBAdb) <- c('CDR3b', 'MHC', 'epitope')\n",
    "TBAdb$binder <- 1\n",
    "TBAdb$dataset <- 'TBAdb'\n",
    "TBAdb$order <- 1\n",
    "head(TBAdb)"
   ]
  },
  {
   "cell_type": "code",
   "execution_count": 4,
   "id": "ec2da547",
   "metadata": {},
   "outputs": [
    {
     "data": {
      "text/html": [
       "<table class=\"dataframe\">\n",
       "<caption>A data.table: 6 × 3</caption>\n",
       "<thead>\n",
       "\t<tr><th scope=col>CDR3</th><th scope=col>MHC A</th><th scope=col>Epitope</th></tr>\n",
       "\t<tr><th scope=col>&lt;chr&gt;</th><th scope=col>&lt;chr&gt;</th><th scope=col>&lt;chr&gt;</th></tr>\n",
       "</thead>\n",
       "<tbody>\n",
       "\t<tr><td>ASSYLPGQGDHYSNQPQH</td><td>HLA-B*08</td><td>FLKEKGGL</td></tr>\n",
       "\t<tr><td>ASSFEAGQGFFSNQPQH </td><td>HLA-B*08</td><td>FLKEKGGL</td></tr>\n",
       "\t<tr><td>ASSFEPGQGFYSNQPQH </td><td>HLA-B*08</td><td>FLKEKGGL</td></tr>\n",
       "\t<tr><td>ASSYEPGQVSHYSNQPQH</td><td>HLA-B*08</td><td>FLKEKGGL</td></tr>\n",
       "\t<tr><td>ASSALASLNEQF      </td><td>HLA-B*08</td><td>FLKEKGGL</td></tr>\n",
       "\t<tr><td>ASSYLPGQGDHYSNQPQH</td><td>HLA-B*08</td><td>FLKEQGGL</td></tr>\n",
       "</tbody>\n",
       "</table>\n"
      ],
      "text/latex": [
       "A data.table: 6 × 3\n",
       "\\begin{tabular}{lll}\n",
       " CDR3 & MHC A & Epitope\\\\\n",
       " <chr> & <chr> & <chr>\\\\\n",
       "\\hline\n",
       "\t ASSYLPGQGDHYSNQPQH & HLA-B*08 & FLKEKGGL\\\\\n",
       "\t ASSFEAGQGFFSNQPQH  & HLA-B*08 & FLKEKGGL\\\\\n",
       "\t ASSFEPGQGFYSNQPQH  & HLA-B*08 & FLKEKGGL\\\\\n",
       "\t ASSYEPGQVSHYSNQPQH & HLA-B*08 & FLKEKGGL\\\\\n",
       "\t ASSALASLNEQF       & HLA-B*08 & FLKEKGGL\\\\\n",
       "\t ASSYLPGQGDHYSNQPQH & HLA-B*08 & FLKEQGGL\\\\\n",
       "\\end{tabular}\n"
      ],
      "text/markdown": [
       "\n",
       "A data.table: 6 × 3\n",
       "\n",
       "| CDR3 &lt;chr&gt; | MHC A &lt;chr&gt; | Epitope &lt;chr&gt; |\n",
       "|---|---|---|\n",
       "| ASSYLPGQGDHYSNQPQH | HLA-B*08 | FLKEKGGL |\n",
       "| ASSFEAGQGFFSNQPQH  | HLA-B*08 | FLKEKGGL |\n",
       "| ASSFEPGQGFYSNQPQH  | HLA-B*08 | FLKEKGGL |\n",
       "| ASSYEPGQVSHYSNQPQH | HLA-B*08 | FLKEKGGL |\n",
       "| ASSALASLNEQF       | HLA-B*08 | FLKEKGGL |\n",
       "| ASSYLPGQGDHYSNQPQH | HLA-B*08 | FLKEQGGL |\n",
       "\n"
      ],
      "text/plain": [
       "  CDR3               MHC A    Epitope \n",
       "1 ASSYLPGQGDHYSNQPQH HLA-B*08 FLKEKGGL\n",
       "2 ASSFEAGQGFFSNQPQH  HLA-B*08 FLKEKGGL\n",
       "3 ASSFEPGQGFYSNQPQH  HLA-B*08 FLKEKGGL\n",
       "4 ASSYEPGQVSHYSNQPQH HLA-B*08 FLKEKGGL\n",
       "5 ASSALASLNEQF       HLA-B*08 FLKEKGGL\n",
       "6 ASSYLPGQGDHYSNQPQH HLA-B*08 FLKEQGGL"
      ]
     },
     "metadata": {},
     "output_type": "display_data"
    }
   ],
   "source": [
    "VDJdb <- fread('VDJdb/VDJdb-analyzed.csv')\n",
    "head(VDJdb)"
   ]
  },
  {
   "cell_type": "code",
   "execution_count": 5,
   "id": "4d94460d",
   "metadata": {},
   "outputs": [
    {
     "data": {
      "text/html": [
       "<table class=\"dataframe\">\n",
       "<caption>A data.table: 6 × 6</caption>\n",
       "<thead>\n",
       "\t<tr><th scope=col>CDR3b</th><th scope=col>MHC</th><th scope=col>epitope</th><th scope=col>binder</th><th scope=col>dataset</th><th scope=col>order</th></tr>\n",
       "\t<tr><th scope=col>&lt;chr&gt;</th><th scope=col>&lt;chr&gt;</th><th scope=col>&lt;chr&gt;</th><th scope=col>&lt;dbl&gt;</th><th scope=col>&lt;chr&gt;</th><th scope=col>&lt;dbl&gt;</th></tr>\n",
       "</thead>\n",
       "<tbody>\n",
       "\t<tr><td>ASSYLPGQGDHYSNQPQH</td><td>HLA-B*08</td><td>FLKEKGGL</td><td>1</td><td>VDJdb</td><td>2</td></tr>\n",
       "\t<tr><td>ASSFEAGQGFFSNQPQH </td><td>HLA-B*08</td><td>FLKEKGGL</td><td>1</td><td>VDJdb</td><td>2</td></tr>\n",
       "\t<tr><td>ASSFEPGQGFYSNQPQH </td><td>HLA-B*08</td><td>FLKEKGGL</td><td>1</td><td>VDJdb</td><td>2</td></tr>\n",
       "\t<tr><td>ASSYEPGQVSHYSNQPQH</td><td>HLA-B*08</td><td>FLKEKGGL</td><td>1</td><td>VDJdb</td><td>2</td></tr>\n",
       "\t<tr><td>ASSALASLNEQF      </td><td>HLA-B*08</td><td>FLKEKGGL</td><td>1</td><td>VDJdb</td><td>2</td></tr>\n",
       "\t<tr><td>ASSYLPGQGDHYSNQPQH</td><td>HLA-B*08</td><td>FLKEQGGL</td><td>1</td><td>VDJdb</td><td>2</td></tr>\n",
       "</tbody>\n",
       "</table>\n"
      ],
      "text/latex": [
       "A data.table: 6 × 6\n",
       "\\begin{tabular}{llllll}\n",
       " CDR3b & MHC & epitope & binder & dataset & order\\\\\n",
       " <chr> & <chr> & <chr> & <dbl> & <chr> & <dbl>\\\\\n",
       "\\hline\n",
       "\t ASSYLPGQGDHYSNQPQH & HLA-B*08 & FLKEKGGL & 1 & VDJdb & 2\\\\\n",
       "\t ASSFEAGQGFFSNQPQH  & HLA-B*08 & FLKEKGGL & 1 & VDJdb & 2\\\\\n",
       "\t ASSFEPGQGFYSNQPQH  & HLA-B*08 & FLKEKGGL & 1 & VDJdb & 2\\\\\n",
       "\t ASSYEPGQVSHYSNQPQH & HLA-B*08 & FLKEKGGL & 1 & VDJdb & 2\\\\\n",
       "\t ASSALASLNEQF       & HLA-B*08 & FLKEKGGL & 1 & VDJdb & 2\\\\\n",
       "\t ASSYLPGQGDHYSNQPQH & HLA-B*08 & FLKEQGGL & 1 & VDJdb & 2\\\\\n",
       "\\end{tabular}\n"
      ],
      "text/markdown": [
       "\n",
       "A data.table: 6 × 6\n",
       "\n",
       "| CDR3b &lt;chr&gt; | MHC &lt;chr&gt; | epitope &lt;chr&gt; | binder &lt;dbl&gt; | dataset &lt;chr&gt; | order &lt;dbl&gt; |\n",
       "|---|---|---|---|---|---|\n",
       "| ASSYLPGQGDHYSNQPQH | HLA-B*08 | FLKEKGGL | 1 | VDJdb | 2 |\n",
       "| ASSFEAGQGFFSNQPQH  | HLA-B*08 | FLKEKGGL | 1 | VDJdb | 2 |\n",
       "| ASSFEPGQGFYSNQPQH  | HLA-B*08 | FLKEKGGL | 1 | VDJdb | 2 |\n",
       "| ASSYEPGQVSHYSNQPQH | HLA-B*08 | FLKEKGGL | 1 | VDJdb | 2 |\n",
       "| ASSALASLNEQF       | HLA-B*08 | FLKEKGGL | 1 | VDJdb | 2 |\n",
       "| ASSYLPGQGDHYSNQPQH | HLA-B*08 | FLKEQGGL | 1 | VDJdb | 2 |\n",
       "\n"
      ],
      "text/plain": [
       "  CDR3b              MHC      epitope  binder dataset order\n",
       "1 ASSYLPGQGDHYSNQPQH HLA-B*08 FLKEKGGL 1      VDJdb   2    \n",
       "2 ASSFEAGQGFFSNQPQH  HLA-B*08 FLKEKGGL 1      VDJdb   2    \n",
       "3 ASSFEPGQGFYSNQPQH  HLA-B*08 FLKEKGGL 1      VDJdb   2    \n",
       "4 ASSYEPGQVSHYSNQPQH HLA-B*08 FLKEKGGL 1      VDJdb   2    \n",
       "5 ASSALASLNEQF       HLA-B*08 FLKEKGGL 1      VDJdb   2    \n",
       "6 ASSYLPGQGDHYSNQPQH HLA-B*08 FLKEQGGL 1      VDJdb   2    "
      ]
     },
     "metadata": {},
     "output_type": "display_data"
    }
   ],
   "source": [
    "colnames(VDJdb) <- c('CDR3b', 'MHC', 'epitope')\n",
    "VDJdb$binder <- 1\n",
    "VDJdb$dataset <- 'VDJdb'\n",
    "VDJdb$order <- 2\n",
    "head(VDJdb)"
   ]
  },
  {
   "cell_type": "code",
   "execution_count": 6,
   "id": "35aac638",
   "metadata": {},
   "outputs": [
    {
     "data": {
      "text/html": [
       "<table class=\"dataframe\">\n",
       "<caption>A data.frame: 6 × 3</caption>\n",
       "<thead>\n",
       "\t<tr><th></th><th scope=col>CDR3.beta.aa</th><th scope=col>MHC</th><th scope=col>Epitope.peptide</th></tr>\n",
       "\t<tr><th></th><th scope=col>&lt;chr&gt;</th><th scope=col>&lt;chr&gt;</th><th scope=col>&lt;chr&gt;</th></tr>\n",
       "</thead>\n",
       "<tbody>\n",
       "\t<tr><th scope=row>1</th><td>ASSLGNEQ        </td><td>HLA-A*02</td><td>EAAGIGILTV</td></tr>\n",
       "\t<tr><th scope=row>2</th><td>ASSLGVATGEL     </td><td>HLA-A*02</td><td>EAAGIGILTV</td></tr>\n",
       "\t<tr><th scope=row>3</th><td>ASSQEEGGGSWGNTIY</td><td>HLA-A*02</td><td>EAAGIGILTV</td></tr>\n",
       "\t<tr><th scope=row>4</th><td>ASSQEGLAGASQY   </td><td>HLA-A*02</td><td>EAAGIGILTV</td></tr>\n",
       "\t<tr><th scope=row>5</th><td>ASSQETDIVFNOPQH </td><td>HLA-A*02</td><td>EAAGIGILTV</td></tr>\n",
       "\t<tr><th scope=row>6</th><td>ASSQGQLTDTQY    </td><td>HLA-A*02</td><td>EAAGIGILTV</td></tr>\n",
       "</tbody>\n",
       "</table>\n"
      ],
      "text/latex": [
       "A data.frame: 6 × 3\n",
       "\\begin{tabular}{r|lll}\n",
       "  & CDR3.beta.aa & MHC & Epitope.peptide\\\\\n",
       "  & <chr> & <chr> & <chr>\\\\\n",
       "\\hline\n",
       "\t1 & ASSLGNEQ         & HLA-A*02 & EAAGIGILTV\\\\\n",
       "\t2 & ASSLGVATGEL      & HLA-A*02 & EAAGIGILTV\\\\\n",
       "\t3 & ASSQEEGGGSWGNTIY & HLA-A*02 & EAAGIGILTV\\\\\n",
       "\t4 & ASSQEGLAGASQY    & HLA-A*02 & EAAGIGILTV\\\\\n",
       "\t5 & ASSQETDIVFNOPQH  & HLA-A*02 & EAAGIGILTV\\\\\n",
       "\t6 & ASSQGQLTDTQY     & HLA-A*02 & EAAGIGILTV\\\\\n",
       "\\end{tabular}\n"
      ],
      "text/markdown": [
       "\n",
       "A data.frame: 6 × 3\n",
       "\n",
       "| <!--/--> | CDR3.beta.aa &lt;chr&gt; | MHC &lt;chr&gt; | Epitope.peptide &lt;chr&gt; |\n",
       "|---|---|---|---|\n",
       "| 1 | ASSLGNEQ         | HLA-A*02 | EAAGIGILTV |\n",
       "| 2 | ASSLGVATGEL      | HLA-A*02 | EAAGIGILTV |\n",
       "| 3 | ASSQEEGGGSWGNTIY | HLA-A*02 | EAAGIGILTV |\n",
       "| 4 | ASSQEGLAGASQY    | HLA-A*02 | EAAGIGILTV |\n",
       "| 5 | ASSQETDIVFNOPQH  | HLA-A*02 | EAAGIGILTV |\n",
       "| 6 | ASSQGQLTDTQY     | HLA-A*02 | EAAGIGILTV |\n",
       "\n"
      ],
      "text/plain": [
       "  CDR3.beta.aa     MHC      Epitope.peptide\n",
       "1 ASSLGNEQ         HLA-A*02 EAAGIGILTV     \n",
       "2 ASSLGVATGEL      HLA-A*02 EAAGIGILTV     \n",
       "3 ASSQEEGGGSWGNTIY HLA-A*02 EAAGIGILTV     \n",
       "4 ASSQEGLAGASQY    HLA-A*02 EAAGIGILTV     \n",
       "5 ASSQETDIVFNOPQH  HLA-A*02 EAAGIGILTV     \n",
       "6 ASSQGQLTDTQY     HLA-A*02 EAAGIGILTV     "
      ]
     },
     "metadata": {},
     "output_type": "display_data"
    }
   ],
   "source": [
    "McPAS <- fread('McPAS/McPAS-analyzed.csv', data.table = F)\n",
    "head(McPAS)"
   ]
  },
  {
   "cell_type": "code",
   "execution_count": 7,
   "id": "b200c13a",
   "metadata": {},
   "outputs": [
    {
     "data": {
      "text/html": [
       "<table class=\"dataframe\">\n",
       "<caption>A data.frame: 6 × 6</caption>\n",
       "<thead>\n",
       "\t<tr><th></th><th scope=col>CDR3b</th><th scope=col>MHC</th><th scope=col>epitope</th><th scope=col>binder</th><th scope=col>dataset</th><th scope=col>order</th></tr>\n",
       "\t<tr><th></th><th scope=col>&lt;chr&gt;</th><th scope=col>&lt;chr&gt;</th><th scope=col>&lt;chr&gt;</th><th scope=col>&lt;dbl&gt;</th><th scope=col>&lt;chr&gt;</th><th scope=col>&lt;dbl&gt;</th></tr>\n",
       "</thead>\n",
       "<tbody>\n",
       "\t<tr><th scope=row>1</th><td>ASSLGNEQ        </td><td>HLA-A*02</td><td>EAAGIGILTV</td><td>1</td><td>McPAS</td><td>3</td></tr>\n",
       "\t<tr><th scope=row>2</th><td>ASSLGVATGEL     </td><td>HLA-A*02</td><td>EAAGIGILTV</td><td>1</td><td>McPAS</td><td>3</td></tr>\n",
       "\t<tr><th scope=row>3</th><td>ASSQEEGGGSWGNTIY</td><td>HLA-A*02</td><td>EAAGIGILTV</td><td>1</td><td>McPAS</td><td>3</td></tr>\n",
       "\t<tr><th scope=row>4</th><td>ASSQEGLAGASQY   </td><td>HLA-A*02</td><td>EAAGIGILTV</td><td>1</td><td>McPAS</td><td>3</td></tr>\n",
       "\t<tr><th scope=row>5</th><td>ASSQETDIVFNOPQH </td><td>HLA-A*02</td><td>EAAGIGILTV</td><td>1</td><td>McPAS</td><td>3</td></tr>\n",
       "\t<tr><th scope=row>6</th><td>ASSQGQLTDTQY    </td><td>HLA-A*02</td><td>EAAGIGILTV</td><td>1</td><td>McPAS</td><td>3</td></tr>\n",
       "</tbody>\n",
       "</table>\n"
      ],
      "text/latex": [
       "A data.frame: 6 × 6\n",
       "\\begin{tabular}{r|llllll}\n",
       "  & CDR3b & MHC & epitope & binder & dataset & order\\\\\n",
       "  & <chr> & <chr> & <chr> & <dbl> & <chr> & <dbl>\\\\\n",
       "\\hline\n",
       "\t1 & ASSLGNEQ         & HLA-A*02 & EAAGIGILTV & 1 & McPAS & 3\\\\\n",
       "\t2 & ASSLGVATGEL      & HLA-A*02 & EAAGIGILTV & 1 & McPAS & 3\\\\\n",
       "\t3 & ASSQEEGGGSWGNTIY & HLA-A*02 & EAAGIGILTV & 1 & McPAS & 3\\\\\n",
       "\t4 & ASSQEGLAGASQY    & HLA-A*02 & EAAGIGILTV & 1 & McPAS & 3\\\\\n",
       "\t5 & ASSQETDIVFNOPQH  & HLA-A*02 & EAAGIGILTV & 1 & McPAS & 3\\\\\n",
       "\t6 & ASSQGQLTDTQY     & HLA-A*02 & EAAGIGILTV & 1 & McPAS & 3\\\\\n",
       "\\end{tabular}\n"
      ],
      "text/markdown": [
       "\n",
       "A data.frame: 6 × 6\n",
       "\n",
       "| <!--/--> | CDR3b &lt;chr&gt; | MHC &lt;chr&gt; | epitope &lt;chr&gt; | binder &lt;dbl&gt; | dataset &lt;chr&gt; | order &lt;dbl&gt; |\n",
       "|---|---|---|---|---|---|---|\n",
       "| 1 | ASSLGNEQ         | HLA-A*02 | EAAGIGILTV | 1 | McPAS | 3 |\n",
       "| 2 | ASSLGVATGEL      | HLA-A*02 | EAAGIGILTV | 1 | McPAS | 3 |\n",
       "| 3 | ASSQEEGGGSWGNTIY | HLA-A*02 | EAAGIGILTV | 1 | McPAS | 3 |\n",
       "| 4 | ASSQEGLAGASQY    | HLA-A*02 | EAAGIGILTV | 1 | McPAS | 3 |\n",
       "| 5 | ASSQETDIVFNOPQH  | HLA-A*02 | EAAGIGILTV | 1 | McPAS | 3 |\n",
       "| 6 | ASSQGQLTDTQY     | HLA-A*02 | EAAGIGILTV | 1 | McPAS | 3 |\n",
       "\n"
      ],
      "text/plain": [
       "  CDR3b            MHC      epitope    binder dataset order\n",
       "1 ASSLGNEQ         HLA-A*02 EAAGIGILTV 1      McPAS   3    \n",
       "2 ASSLGVATGEL      HLA-A*02 EAAGIGILTV 1      McPAS   3    \n",
       "3 ASSQEEGGGSWGNTIY HLA-A*02 EAAGIGILTV 1      McPAS   3    \n",
       "4 ASSQEGLAGASQY    HLA-A*02 EAAGIGILTV 1      McPAS   3    \n",
       "5 ASSQETDIVFNOPQH  HLA-A*02 EAAGIGILTV 1      McPAS   3    \n",
       "6 ASSQGQLTDTQY     HLA-A*02 EAAGIGILTV 1      McPAS   3    "
      ]
     },
     "metadata": {},
     "output_type": "display_data"
    }
   ],
   "source": [
    "colnames(McPAS) <- c('CDR3b', 'MHC', 'epitope')\n",
    "McPAS$binder <- 1\n",
    "McPAS$dataset <- 'McPAS'\n",
    "McPAS$order <- 3\n",
    "head(McPAS)"
   ]
  },
  {
   "cell_type": "code",
   "execution_count": 8,
   "id": "3cd61fbb",
   "metadata": {},
   "outputs": [
    {
     "data": {
      "text/html": [
       "<table class=\"dataframe\">\n",
       "<caption>A data.frame: 6 × 3</caption>\n",
       "<thead>\n",
       "\t<tr><th></th><th scope=col>Description</th><th scope=col>MHC Allele Names</th><th scope=col>CDR3b</th></tr>\n",
       "\t<tr><th></th><th scope=col>&lt;chr&gt;</th><th scope=col>&lt;chr&gt;</th><th scope=col>&lt;chr&gt;</th></tr>\n",
       "</thead>\n",
       "<tbody>\n",
       "\t<tr><th scope=row>1</th><td>VMAPRTLIL</td><td>HLA-E*01:03</td><td>ASSQDRDTQY </td></tr>\n",
       "\t<tr><th scope=row>2</th><td>FLRGRAYGL</td><td>HLA-B*08   </td><td>ASSLGQAYEQY</td></tr>\n",
       "\t<tr><th scope=row>3</th><td>FLRGRFYGL</td><td>HLA-B*08   </td><td>ASSLGQAYEQY</td></tr>\n",
       "\t<tr><th scope=row>4</th><td>EEYLQAFTY</td><td>HLA-B*44:05</td><td>ASSLGQAYEQY</td></tr>\n",
       "\t<tr><th scope=row>5</th><td>FLRGRAYGL</td><td>HLA-B*08:01</td><td>ASSLGQAYEQY</td></tr>\n",
       "\t<tr><th scope=row>6</th><td>EEYLKAWTF</td><td>HLA-B*44:05</td><td>ASSLGQAYEQY</td></tr>\n",
       "</tbody>\n",
       "</table>\n"
      ],
      "text/latex": [
       "A data.frame: 6 × 3\n",
       "\\begin{tabular}{r|lll}\n",
       "  & Description & MHC Allele Names & CDR3b\\\\\n",
       "  & <chr> & <chr> & <chr>\\\\\n",
       "\\hline\n",
       "\t1 & VMAPRTLIL & HLA-E*01:03 & ASSQDRDTQY \\\\\n",
       "\t2 & FLRGRAYGL & HLA-B*08    & ASSLGQAYEQY\\\\\n",
       "\t3 & FLRGRFYGL & HLA-B*08    & ASSLGQAYEQY\\\\\n",
       "\t4 & EEYLQAFTY & HLA-B*44:05 & ASSLGQAYEQY\\\\\n",
       "\t5 & FLRGRAYGL & HLA-B*08:01 & ASSLGQAYEQY\\\\\n",
       "\t6 & EEYLKAWTF & HLA-B*44:05 & ASSLGQAYEQY\\\\\n",
       "\\end{tabular}\n"
      ],
      "text/markdown": [
       "\n",
       "A data.frame: 6 × 3\n",
       "\n",
       "| <!--/--> | Description &lt;chr&gt; | MHC Allele Names &lt;chr&gt; | CDR3b &lt;chr&gt; |\n",
       "|---|---|---|---|\n",
       "| 1 | VMAPRTLIL | HLA-E*01:03 | ASSQDRDTQY  |\n",
       "| 2 | FLRGRAYGL | HLA-B*08    | ASSLGQAYEQY |\n",
       "| 3 | FLRGRFYGL | HLA-B*08    | ASSLGQAYEQY |\n",
       "| 4 | EEYLQAFTY | HLA-B*44:05 | ASSLGQAYEQY |\n",
       "| 5 | FLRGRAYGL | HLA-B*08:01 | ASSLGQAYEQY |\n",
       "| 6 | EEYLKAWTF | HLA-B*44:05 | ASSLGQAYEQY |\n",
       "\n"
      ],
      "text/plain": [
       "  Description MHC Allele Names CDR3b      \n",
       "1 VMAPRTLIL   HLA-E*01:03      ASSQDRDTQY \n",
       "2 FLRGRAYGL   HLA-B*08         ASSLGQAYEQY\n",
       "3 FLRGRFYGL   HLA-B*08         ASSLGQAYEQY\n",
       "4 EEYLQAFTY   HLA-B*44:05      ASSLGQAYEQY\n",
       "5 FLRGRAYGL   HLA-B*08:01      ASSLGQAYEQY\n",
       "6 EEYLKAWTF   HLA-B*44:05      ASSLGQAYEQY"
      ]
     },
     "metadata": {},
     "output_type": "display_data"
    }
   ],
   "source": [
    "IEDB <- fread('IEDB/IEDB-analyzed.csv', data.table = F)\n",
    "head(IEDB)"
   ]
  },
  {
   "cell_type": "code",
   "execution_count": 9,
   "id": "2edf8ddf",
   "metadata": {},
   "outputs": [
    {
     "data": {
      "text/html": [
       "<table class=\"dataframe\">\n",
       "<caption>A data.frame: 6 × 6</caption>\n",
       "<thead>\n",
       "\t<tr><th></th><th scope=col>CDR3b</th><th scope=col>MHC</th><th scope=col>epitope</th><th scope=col>binder</th><th scope=col>dataset</th><th scope=col>order</th></tr>\n",
       "\t<tr><th></th><th scope=col>&lt;chr&gt;</th><th scope=col>&lt;chr&gt;</th><th scope=col>&lt;chr&gt;</th><th scope=col>&lt;dbl&gt;</th><th scope=col>&lt;chr&gt;</th><th scope=col>&lt;dbl&gt;</th></tr>\n",
       "</thead>\n",
       "<tbody>\n",
       "\t<tr><th scope=row>1</th><td>ASSQDRDTQY </td><td>HLA-E*01:03</td><td>VMAPRTLIL</td><td>1</td><td>IEDB</td><td>4</td></tr>\n",
       "\t<tr><th scope=row>2</th><td>ASSLGQAYEQY</td><td>HLA-B*08   </td><td>FLRGRAYGL</td><td>1</td><td>IEDB</td><td>4</td></tr>\n",
       "\t<tr><th scope=row>3</th><td>ASSLGQAYEQY</td><td>HLA-B*08   </td><td>FLRGRFYGL</td><td>1</td><td>IEDB</td><td>4</td></tr>\n",
       "\t<tr><th scope=row>4</th><td>ASSLGQAYEQY</td><td>HLA-B*44:05</td><td>EEYLQAFTY</td><td>1</td><td>IEDB</td><td>4</td></tr>\n",
       "\t<tr><th scope=row>5</th><td>ASSLGQAYEQY</td><td>HLA-B*08:01</td><td>FLRGRAYGL</td><td>1</td><td>IEDB</td><td>4</td></tr>\n",
       "\t<tr><th scope=row>6</th><td>ASSLGQAYEQY</td><td>HLA-B*44:05</td><td>EEYLKAWTF</td><td>1</td><td>IEDB</td><td>4</td></tr>\n",
       "</tbody>\n",
       "</table>\n"
      ],
      "text/latex": [
       "A data.frame: 6 × 6\n",
       "\\begin{tabular}{r|llllll}\n",
       "  & CDR3b & MHC & epitope & binder & dataset & order\\\\\n",
       "  & <chr> & <chr> & <chr> & <dbl> & <chr> & <dbl>\\\\\n",
       "\\hline\n",
       "\t1 & ASSQDRDTQY  & HLA-E*01:03 & VMAPRTLIL & 1 & IEDB & 4\\\\\n",
       "\t2 & ASSLGQAYEQY & HLA-B*08    & FLRGRAYGL & 1 & IEDB & 4\\\\\n",
       "\t3 & ASSLGQAYEQY & HLA-B*08    & FLRGRFYGL & 1 & IEDB & 4\\\\\n",
       "\t4 & ASSLGQAYEQY & HLA-B*44:05 & EEYLQAFTY & 1 & IEDB & 4\\\\\n",
       "\t5 & ASSLGQAYEQY & HLA-B*08:01 & FLRGRAYGL & 1 & IEDB & 4\\\\\n",
       "\t6 & ASSLGQAYEQY & HLA-B*44:05 & EEYLKAWTF & 1 & IEDB & 4\\\\\n",
       "\\end{tabular}\n"
      ],
      "text/markdown": [
       "\n",
       "A data.frame: 6 × 6\n",
       "\n",
       "| <!--/--> | CDR3b &lt;chr&gt; | MHC &lt;chr&gt; | epitope &lt;chr&gt; | binder &lt;dbl&gt; | dataset &lt;chr&gt; | order &lt;dbl&gt; |\n",
       "|---|---|---|---|---|---|---|\n",
       "| 1 | ASSQDRDTQY  | HLA-E*01:03 | VMAPRTLIL | 1 | IEDB | 4 |\n",
       "| 2 | ASSLGQAYEQY | HLA-B*08    | FLRGRAYGL | 1 | IEDB | 4 |\n",
       "| 3 | ASSLGQAYEQY | HLA-B*08    | FLRGRFYGL | 1 | IEDB | 4 |\n",
       "| 4 | ASSLGQAYEQY | HLA-B*44:05 | EEYLQAFTY | 1 | IEDB | 4 |\n",
       "| 5 | ASSLGQAYEQY | HLA-B*08:01 | FLRGRAYGL | 1 | IEDB | 4 |\n",
       "| 6 | ASSLGQAYEQY | HLA-B*44:05 | EEYLKAWTF | 1 | IEDB | 4 |\n",
       "\n"
      ],
      "text/plain": [
       "  CDR3b       MHC         epitope   binder dataset order\n",
       "1 ASSQDRDTQY  HLA-E*01:03 VMAPRTLIL 1      IEDB    4    \n",
       "2 ASSLGQAYEQY HLA-B*08    FLRGRAYGL 1      IEDB    4    \n",
       "3 ASSLGQAYEQY HLA-B*08    FLRGRFYGL 1      IEDB    4    \n",
       "4 ASSLGQAYEQY HLA-B*44:05 EEYLQAFTY 1      IEDB    4    \n",
       "5 ASSLGQAYEQY HLA-B*08:01 FLRGRAYGL 1      IEDB    4    \n",
       "6 ASSLGQAYEQY HLA-B*44:05 EEYLKAWTF 1      IEDB    4    "
      ]
     },
     "metadata": {},
     "output_type": "display_data"
    }
   ],
   "source": [
    "IEDB <- IEDB[, c(3:1)]\n",
    "colnames(IEDB) <- c('CDR3b', 'MHC', 'epitope')\n",
    "IEDB$binder <- 1\n",
    "IEDB$dataset <- 'IEDB'\n",
    "IEDB$order <- 4\n",
    "head(IEDB)"
   ]
  },
  {
   "cell_type": "code",
   "execution_count": 10,
   "id": "a7856016",
   "metadata": {},
   "outputs": [
    {
     "data": {
      "text/html": [
       "<table class=\"dataframe\">\n",
       "<caption>A data.frame: 6 × 3</caption>\n",
       "<thead>\n",
       "\t<tr><th></th><th scope=col>cell_clono_cdr3_aa</th><th scope=col>HLA</th><th scope=col>Epitope</th></tr>\n",
       "\t<tr><th></th><th scope=col>&lt;chr&gt;</th><th scope=col>&lt;chr&gt;</th><th scope=col>&lt;chr&gt;</th></tr>\n",
       "</thead>\n",
       "<tbody>\n",
       "\t<tr><th scope=row>1</th><td>AAAETGSAGELF </td><td>HLA-A*03:01</td><td>KLGGALQAK </td></tr>\n",
       "\t<tr><th scope=row>2</th><td>AAGEMFGLGETQY</td><td>HLA-A*11:01</td><td>AVFDRKSDAK</td></tr>\n",
       "\t<tr><th scope=row>3</th><td>AAGGASYNEQF  </td><td>HLA-A*03:01</td><td>KLGGALQAK </td></tr>\n",
       "\t<tr><th scope=row>4</th><td>AAGGGSEMNTEAF</td><td>HLA-A*03:01</td><td>KLGGALQAK </td></tr>\n",
       "\t<tr><th scope=row>5</th><td>AAGLASNEQF   </td><td>HLA-A*03:01</td><td>KLGGALQAK </td></tr>\n",
       "\t<tr><th scope=row>6</th><td>AAGSSGNQPQH  </td><td>HLA-B*08:01</td><td>RAKFKQLL  </td></tr>\n",
       "</tbody>\n",
       "</table>\n"
      ],
      "text/latex": [
       "A data.frame: 6 × 3\n",
       "\\begin{tabular}{r|lll}\n",
       "  & cell\\_clono\\_cdr3\\_aa & HLA & Epitope\\\\\n",
       "  & <chr> & <chr> & <chr>\\\\\n",
       "\\hline\n",
       "\t1 & AAAETGSAGELF  & HLA-A*03:01 & KLGGALQAK \\\\\n",
       "\t2 & AAGEMFGLGETQY & HLA-A*11:01 & AVFDRKSDAK\\\\\n",
       "\t3 & AAGGASYNEQF   & HLA-A*03:01 & KLGGALQAK \\\\\n",
       "\t4 & AAGGGSEMNTEAF & HLA-A*03:01 & KLGGALQAK \\\\\n",
       "\t5 & AAGLASNEQF    & HLA-A*03:01 & KLGGALQAK \\\\\n",
       "\t6 & AAGSSGNQPQH   & HLA-B*08:01 & RAKFKQLL  \\\\\n",
       "\\end{tabular}\n"
      ],
      "text/markdown": [
       "\n",
       "A data.frame: 6 × 3\n",
       "\n",
       "| <!--/--> | cell_clono_cdr3_aa &lt;chr&gt; | HLA &lt;chr&gt; | Epitope &lt;chr&gt; |\n",
       "|---|---|---|---|\n",
       "| 1 | AAAETGSAGELF  | HLA-A*03:01 | KLGGALQAK  |\n",
       "| 2 | AAGEMFGLGETQY | HLA-A*11:01 | AVFDRKSDAK |\n",
       "| 3 | AAGGASYNEQF   | HLA-A*03:01 | KLGGALQAK  |\n",
       "| 4 | AAGGGSEMNTEAF | HLA-A*03:01 | KLGGALQAK  |\n",
       "| 5 | AAGLASNEQF    | HLA-A*03:01 | KLGGALQAK  |\n",
       "| 6 | AAGSSGNQPQH   | HLA-B*08:01 | RAKFKQLL   |\n",
       "\n"
      ],
      "text/plain": [
       "  cell_clono_cdr3_aa HLA         Epitope   \n",
       "1 AAAETGSAGELF       HLA-A*03:01 KLGGALQAK \n",
       "2 AAGEMFGLGETQY      HLA-A*11:01 AVFDRKSDAK\n",
       "3 AAGGASYNEQF        HLA-A*03:01 KLGGALQAK \n",
       "4 AAGGGSEMNTEAF      HLA-A*03:01 KLGGALQAK \n",
       "5 AAGLASNEQF         HLA-A*03:01 KLGGALQAK \n",
       "6 AAGSSGNQPQH        HLA-B*08:01 RAKFKQLL  "
      ]
     },
     "metadata": {},
     "output_type": "display_data"
    }
   ],
   "source": [
    "X10.pos <- fread('10X/10X-pos-analyzed.csv', data.table = F)\n",
    "head(X10.pos)"
   ]
  },
  {
   "cell_type": "code",
   "execution_count": 11,
   "id": "397c2560",
   "metadata": {},
   "outputs": [
    {
     "data": {
      "text/html": [
       "<table class=\"dataframe\">\n",
       "<caption>A data.frame: 6 × 6</caption>\n",
       "<thead>\n",
       "\t<tr><th></th><th scope=col>CDR3b</th><th scope=col>MHC</th><th scope=col>epitope</th><th scope=col>binder</th><th scope=col>dataset</th><th scope=col>order</th></tr>\n",
       "\t<tr><th></th><th scope=col>&lt;chr&gt;</th><th scope=col>&lt;chr&gt;</th><th scope=col>&lt;chr&gt;</th><th scope=col>&lt;dbl&gt;</th><th scope=col>&lt;chr&gt;</th><th scope=col>&lt;dbl&gt;</th></tr>\n",
       "</thead>\n",
       "<tbody>\n",
       "\t<tr><th scope=row>1</th><td>AAAETGSAGELF </td><td>HLA-A*03:01</td><td>KLGGALQAK </td><td>1</td><td>10X</td><td>5</td></tr>\n",
       "\t<tr><th scope=row>2</th><td>AAGEMFGLGETQY</td><td>HLA-A*11:01</td><td>AVFDRKSDAK</td><td>1</td><td>10X</td><td>5</td></tr>\n",
       "\t<tr><th scope=row>3</th><td>AAGGASYNEQF  </td><td>HLA-A*03:01</td><td>KLGGALQAK </td><td>1</td><td>10X</td><td>5</td></tr>\n",
       "\t<tr><th scope=row>4</th><td>AAGGGSEMNTEAF</td><td>HLA-A*03:01</td><td>KLGGALQAK </td><td>1</td><td>10X</td><td>5</td></tr>\n",
       "\t<tr><th scope=row>5</th><td>AAGLASNEQF   </td><td>HLA-A*03:01</td><td>KLGGALQAK </td><td>1</td><td>10X</td><td>5</td></tr>\n",
       "\t<tr><th scope=row>6</th><td>AAGSSGNQPQH  </td><td>HLA-B*08:01</td><td>RAKFKQLL  </td><td>1</td><td>10X</td><td>5</td></tr>\n",
       "</tbody>\n",
       "</table>\n"
      ],
      "text/latex": [
       "A data.frame: 6 × 6\n",
       "\\begin{tabular}{r|llllll}\n",
       "  & CDR3b & MHC & epitope & binder & dataset & order\\\\\n",
       "  & <chr> & <chr> & <chr> & <dbl> & <chr> & <dbl>\\\\\n",
       "\\hline\n",
       "\t1 & AAAETGSAGELF  & HLA-A*03:01 & KLGGALQAK  & 1 & 10X & 5\\\\\n",
       "\t2 & AAGEMFGLGETQY & HLA-A*11:01 & AVFDRKSDAK & 1 & 10X & 5\\\\\n",
       "\t3 & AAGGASYNEQF   & HLA-A*03:01 & KLGGALQAK  & 1 & 10X & 5\\\\\n",
       "\t4 & AAGGGSEMNTEAF & HLA-A*03:01 & KLGGALQAK  & 1 & 10X & 5\\\\\n",
       "\t5 & AAGLASNEQF    & HLA-A*03:01 & KLGGALQAK  & 1 & 10X & 5\\\\\n",
       "\t6 & AAGSSGNQPQH   & HLA-B*08:01 & RAKFKQLL   & 1 & 10X & 5\\\\\n",
       "\\end{tabular}\n"
      ],
      "text/markdown": [
       "\n",
       "A data.frame: 6 × 6\n",
       "\n",
       "| <!--/--> | CDR3b &lt;chr&gt; | MHC &lt;chr&gt; | epitope &lt;chr&gt; | binder &lt;dbl&gt; | dataset &lt;chr&gt; | order &lt;dbl&gt; |\n",
       "|---|---|---|---|---|---|---|\n",
       "| 1 | AAAETGSAGELF  | HLA-A*03:01 | KLGGALQAK  | 1 | 10X | 5 |\n",
       "| 2 | AAGEMFGLGETQY | HLA-A*11:01 | AVFDRKSDAK | 1 | 10X | 5 |\n",
       "| 3 | AAGGASYNEQF   | HLA-A*03:01 | KLGGALQAK  | 1 | 10X | 5 |\n",
       "| 4 | AAGGGSEMNTEAF | HLA-A*03:01 | KLGGALQAK  | 1 | 10X | 5 |\n",
       "| 5 | AAGLASNEQF    | HLA-A*03:01 | KLGGALQAK  | 1 | 10X | 5 |\n",
       "| 6 | AAGSSGNQPQH   | HLA-B*08:01 | RAKFKQLL   | 1 | 10X | 5 |\n",
       "\n"
      ],
      "text/plain": [
       "  CDR3b         MHC         epitope    binder dataset order\n",
       "1 AAAETGSAGELF  HLA-A*03:01 KLGGALQAK  1      10X     5    \n",
       "2 AAGEMFGLGETQY HLA-A*11:01 AVFDRKSDAK 1      10X     5    \n",
       "3 AAGGASYNEQF   HLA-A*03:01 KLGGALQAK  1      10X     5    \n",
       "4 AAGGGSEMNTEAF HLA-A*03:01 KLGGALQAK  1      10X     5    \n",
       "5 AAGLASNEQF    HLA-A*03:01 KLGGALQAK  1      10X     5    \n",
       "6 AAGSSGNQPQH   HLA-B*08:01 RAKFKQLL   1      10X     5    "
      ]
     },
     "metadata": {},
     "output_type": "display_data"
    }
   ],
   "source": [
    "colnames(X10.pos) <- c('CDR3b', 'MHC', 'epitope')\n",
    "X10.pos$binder <- 1\n",
    "X10.pos$dataset <- '10X'\n",
    "X10.pos$order <- 5\n",
    "head(X10.pos)"
   ]
  },
  {
   "cell_type": "code",
   "execution_count": 12,
   "id": "85462a7d",
   "metadata": {
    "scrolled": false
   },
   "outputs": [
    {
     "data": {
      "text/html": [
       "<table class=\"dataframe\">\n",
       "<caption>A data.frame: 6 × 6</caption>\n",
       "<thead>\n",
       "\t<tr><th></th><th scope=col>CDR3b</th><th scope=col>MHC</th><th scope=col>epitope</th><th scope=col>binder</th><th scope=col>dataset</th><th scope=col>order</th></tr>\n",
       "\t<tr><th></th><th scope=col>&lt;chr&gt;</th><th scope=col>&lt;chr&gt;</th><th scope=col>&lt;chr&gt;</th><th scope=col>&lt;dbl&gt;</th><th scope=col>&lt;chr&gt;</th><th scope=col>&lt;dbl&gt;</th></tr>\n",
       "</thead>\n",
       "<tbody>\n",
       "\t<tr><th scope=row>1</th><td>AAAETGSAGELF</td><td>HLA-A*01:01</td><td>SLEGGGLGY </td><td>0</td><td>10X</td><td>6</td></tr>\n",
       "\t<tr><th scope=row>2</th><td>AAAETGSAGELF</td><td>HLA-A*01:01</td><td>STEGGGLAY </td><td>0</td><td>10X</td><td>6</td></tr>\n",
       "\t<tr><th scope=row>3</th><td>AAAETGSAGELF</td><td>HLA-A*01:01</td><td>VTEHDTLLY </td><td>0</td><td>10X</td><td>6</td></tr>\n",
       "\t<tr><th scope=row>4</th><td>AAAETGSAGELF</td><td>HLA-A*02:01</td><td>ALIAPVHAV </td><td>0</td><td>10X</td><td>6</td></tr>\n",
       "\t<tr><th scope=row>5</th><td>AAAETGSAGELF</td><td>HLA-A*02:01</td><td>CLGGLLTMV </td><td>0</td><td>10X</td><td>6</td></tr>\n",
       "\t<tr><th scope=row>6</th><td>AAAETGSAGELF</td><td>HLA-A*02:01</td><td>CLLGTYTQDV</td><td>0</td><td>10X</td><td>6</td></tr>\n",
       "</tbody>\n",
       "</table>\n"
      ],
      "text/latex": [
       "A data.frame: 6 × 6\n",
       "\\begin{tabular}{r|llllll}\n",
       "  & CDR3b & MHC & epitope & binder & dataset & order\\\\\n",
       "  & <chr> & <chr> & <chr> & <dbl> & <chr> & <dbl>\\\\\n",
       "\\hline\n",
       "\t1 & AAAETGSAGELF & HLA-A*01:01 & SLEGGGLGY  & 0 & 10X & 6\\\\\n",
       "\t2 & AAAETGSAGELF & HLA-A*01:01 & STEGGGLAY  & 0 & 10X & 6\\\\\n",
       "\t3 & AAAETGSAGELF & HLA-A*01:01 & VTEHDTLLY  & 0 & 10X & 6\\\\\n",
       "\t4 & AAAETGSAGELF & HLA-A*02:01 & ALIAPVHAV  & 0 & 10X & 6\\\\\n",
       "\t5 & AAAETGSAGELF & HLA-A*02:01 & CLGGLLTMV  & 0 & 10X & 6\\\\\n",
       "\t6 & AAAETGSAGELF & HLA-A*02:01 & CLLGTYTQDV & 0 & 10X & 6\\\\\n",
       "\\end{tabular}\n"
      ],
      "text/markdown": [
       "\n",
       "A data.frame: 6 × 6\n",
       "\n",
       "| <!--/--> | CDR3b &lt;chr&gt; | MHC &lt;chr&gt; | epitope &lt;chr&gt; | binder &lt;dbl&gt; | dataset &lt;chr&gt; | order &lt;dbl&gt; |\n",
       "|---|---|---|---|---|---|---|\n",
       "| 1 | AAAETGSAGELF | HLA-A*01:01 | SLEGGGLGY  | 0 | 10X | 6 |\n",
       "| 2 | AAAETGSAGELF | HLA-A*01:01 | STEGGGLAY  | 0 | 10X | 6 |\n",
       "| 3 | AAAETGSAGELF | HLA-A*01:01 | VTEHDTLLY  | 0 | 10X | 6 |\n",
       "| 4 | AAAETGSAGELF | HLA-A*02:01 | ALIAPVHAV  | 0 | 10X | 6 |\n",
       "| 5 | AAAETGSAGELF | HLA-A*02:01 | CLGGLLTMV  | 0 | 10X | 6 |\n",
       "| 6 | AAAETGSAGELF | HLA-A*02:01 | CLLGTYTQDV | 0 | 10X | 6 |\n",
       "\n"
      ],
      "text/plain": [
       "  CDR3b        MHC         epitope    binder dataset order\n",
       "1 AAAETGSAGELF HLA-A*01:01 SLEGGGLGY  0      10X     6    \n",
       "2 AAAETGSAGELF HLA-A*01:01 STEGGGLAY  0      10X     6    \n",
       "3 AAAETGSAGELF HLA-A*01:01 VTEHDTLLY  0      10X     6    \n",
       "4 AAAETGSAGELF HLA-A*02:01 ALIAPVHAV  0      10X     6    \n",
       "5 AAAETGSAGELF HLA-A*02:01 CLGGLLTMV  0      10X     6    \n",
       "6 AAAETGSAGELF HLA-A*02:01 CLLGTYTQDV 0      10X     6    "
      ]
     },
     "metadata": {},
     "output_type": "display_data"
    }
   ],
   "source": [
    "X10.neg <- fread('10X/10X-neg-analyzed.csv', data.table = F)\n",
    "colnames(X10.neg) <- c('CDR3b', 'MHC', 'epitope')\n",
    "X10.neg$binder <- 0\n",
    "X10.neg$dataset <- '10X'\n",
    "X10.neg$order <- 6\n",
    "head(X10.neg)"
   ]
  },
  {
   "cell_type": "code",
   "execution_count": 13,
   "id": "235f7d5b",
   "metadata": {},
   "outputs": [
    {
     "data": {
      "text/html": [
       "<style>\n",
       ".list-inline {list-style: none; margin:0; padding: 0}\n",
       ".list-inline>li {display: inline-block}\n",
       ".list-inline>li:not(:last-child)::after {content: \"\\00b7\"; padding: 0 .5ex}\n",
       "</style>\n",
       "<ol class=list-inline><li>5941</li><li>6</li></ol>\n"
      ],
      "text/latex": [
       "\\begin{enumerate*}\n",
       "\\item 5941\n",
       "\\item 6\n",
       "\\end{enumerate*}\n"
      ],
      "text/markdown": [
       "1. 5941\n",
       "2. 6\n",
       "\n",
       "\n"
      ],
      "text/plain": [
       "[1] 5941    6"
      ]
     },
     "metadata": {},
     "output_type": "display_data"
    },
    {
     "data": {
      "text/html": [
       "<style>\n",
       ".list-inline {list-style: none; margin:0; padding: 0}\n",
       ".list-inline>li {display: inline-block}\n",
       ".list-inline>li:not(:last-child)::after {content: \"\\00b7\"; padding: 0 .5ex}\n",
       "</style>\n",
       "<ol class=list-inline><li>39634</li><li>6</li></ol>\n"
      ],
      "text/latex": [
       "\\begin{enumerate*}\n",
       "\\item 39634\n",
       "\\item 6\n",
       "\\end{enumerate*}\n"
      ],
      "text/markdown": [
       "1. 39634\n",
       "2. 6\n",
       "\n",
       "\n"
      ],
      "text/plain": [
       "[1] 39634     6"
      ]
     },
     "metadata": {},
     "output_type": "display_data"
    },
    {
     "data": {
      "text/html": [
       "<style>\n",
       ".list-inline {list-style: none; margin:0; padding: 0}\n",
       ".list-inline>li {display: inline-block}\n",
       ".list-inline>li:not(:last-child)::after {content: \"\\00b7\"; padding: 0 .5ex}\n",
       "</style>\n",
       "<ol class=list-inline><li>10359</li><li>6</li></ol>\n"
      ],
      "text/latex": [
       "\\begin{enumerate*}\n",
       "\\item 10359\n",
       "\\item 6\n",
       "\\end{enumerate*}\n"
      ],
      "text/markdown": [
       "1. 10359\n",
       "2. 6\n",
       "\n",
       "\n"
      ],
      "text/plain": [
       "[1] 10359     6"
      ]
     },
     "metadata": {},
     "output_type": "display_data"
    },
    {
     "data": {
      "text/html": [
       "<style>\n",
       ".list-inline {list-style: none; margin:0; padding: 0}\n",
       ".list-inline>li {display: inline-block}\n",
       ".list-inline>li:not(:last-child)::after {content: \"\\00b7\"; padding: 0 .5ex}\n",
       "</style>\n",
       "<ol class=list-inline><li>58560</li><li>6</li></ol>\n"
      ],
      "text/latex": [
       "\\begin{enumerate*}\n",
       "\\item 58560\n",
       "\\item 6\n",
       "\\end{enumerate*}\n"
      ],
      "text/markdown": [
       "1. 58560\n",
       "2. 6\n",
       "\n",
       "\n"
      ],
      "text/plain": [
       "[1] 58560     6"
      ]
     },
     "metadata": {},
     "output_type": "display_data"
    },
    {
     "data": {
      "text/html": [
       "<style>\n",
       ".list-inline {list-style: none; margin:0; padding: 0}\n",
       ".list-inline>li {display: inline-block}\n",
       ".list-inline>li:not(:last-child)::after {content: \"\\00b7\"; padding: 0 .5ex}\n",
       "</style>\n",
       "<ol class=list-inline><li>13167</li><li>6</li></ol>\n"
      ],
      "text/latex": [
       "\\begin{enumerate*}\n",
       "\\item 13167\n",
       "\\item 6\n",
       "\\end{enumerate*}\n"
      ],
      "text/markdown": [
       "1. 13167\n",
       "2. 6\n",
       "\n",
       "\n"
      ],
      "text/plain": [
       "[1] 13167     6"
      ]
     },
     "metadata": {},
     "output_type": "display_data"
    },
    {
     "data": {
      "text/html": [
       "<style>\n",
       ".list-inline {list-style: none; margin:0; padding: 0}\n",
       ".list-inline>li {display: inline-block}\n",
       ".list-inline>li:not(:last-child)::after {content: \"\\00b7\"; padding: 0 .5ex}\n",
       "</style>\n",
       "<ol class=list-inline><li>3290794</li><li>6</li></ol>\n"
      ],
      "text/latex": [
       "\\begin{enumerate*}\n",
       "\\item 3290794\n",
       "\\item 6\n",
       "\\end{enumerate*}\n"
      ],
      "text/markdown": [
       "1. 3290794\n",
       "2. 6\n",
       "\n",
       "\n"
      ],
      "text/plain": [
       "[1] 3290794       6"
      ]
     },
     "metadata": {},
     "output_type": "display_data"
    }
   ],
   "source": [
    "dim(TBAdb)\n",
    "dim(VDJdb)\n",
    "dim(McPAS)\n",
    "dim(IEDB)\n",
    "dim(X10.pos)\n",
    "dim(X10.neg)"
   ]
  },
  {
   "cell_type": "code",
   "execution_count": 14,
   "id": "6a081112",
   "metadata": {},
   "outputs": [
    {
     "data": {
      "text/html": [
       "<style>\n",
       ".list-inline {list-style: none; margin:0; padding: 0}\n",
       ".list-inline>li {display: inline-block}\n",
       ".list-inline>li:not(:last-child)::after {content: \"\\00b7\"; padding: 0 .5ex}\n",
       "</style>\n",
       "<ol class=list-inline><li>127661</li><li>6</li></ol>\n"
      ],
      "text/latex": [
       "\\begin{enumerate*}\n",
       "\\item 127661\n",
       "\\item 6\n",
       "\\end{enumerate*}\n"
      ],
      "text/markdown": [
       "1. 127661\n",
       "2. 6\n",
       "\n",
       "\n"
      ],
      "text/plain": [
       "[1] 127661      6"
      ]
     },
     "metadata": {},
     "output_type": "display_data"
    }
   ],
   "source": [
    "pos <- merge(merge(TBAdb, merge(VDJdb, McPAS, all = T), all = T), merge(IEDB, X10.pos, all = T), all = T)\n",
    "pos <- pos[order(pos$order),]\n",
    "dim(pos)"
   ]
  },
  {
   "cell_type": "code",
   "execution_count": 15,
   "id": "13eac32a",
   "metadata": {},
   "outputs": [
    {
     "data": {
      "text/html": [
       "<table class=\"dataframe\">\n",
       "<caption>A data.frame: 6 × 6</caption>\n",
       "<thead>\n",
       "\t<tr><th></th><th scope=col>CDR3b</th><th scope=col>MHC</th><th scope=col>epitope</th><th scope=col>binder</th><th scope=col>dataset</th><th scope=col>order</th></tr>\n",
       "\t<tr><th></th><th scope=col>&lt;chr&gt;</th><th scope=col>&lt;chr&gt;</th><th scope=col>&lt;chr&gt;</th><th scope=col>&lt;dbl&gt;</th><th scope=col>&lt;chr&gt;</th><th scope=col>&lt;dbl&gt;</th></tr>\n",
       "</thead>\n",
       "<tbody>\n",
       "\t<tr><th scope=row>3</th><td>AAADEEIGNQPQH</td><td>HLA-A*01:01</td><td>ATDALMTGY  </td><td>1</td><td>TBAdb</td><td>1</td></tr>\n",
       "\t<tr><th scope=row>23</th><td>AAGAGLSYEQY  </td><td>HLA-A*02   </td><td>NLVPMVATV  </td><td>1</td><td>TBAdb</td><td>1</td></tr>\n",
       "\t<tr><th scope=row>47</th><td>AAGGQFYGYT   </td><td>HLA-B*57:01</td><td>KAFSPEVIPMF</td><td>1</td><td>TBAdb</td><td>1</td></tr>\n",
       "\t<tr><th scope=row>79</th><td>AALAVDTQY    </td><td>HLA-A*02   </td><td>NLVPMVATV  </td><td>1</td><td>TBAdb</td><td>1</td></tr>\n",
       "\t<tr><th scope=row>135</th><td>AASREGPNQPQH </td><td>HLA-A*02:01</td><td>NLVPMVATV  </td><td>1</td><td>TBAdb</td><td>1</td></tr>\n",
       "\t<tr><th scope=row>140</th><td>AASSYGQNFV   </td><td>HLA-B*08   </td><td>QIKVRVDMV  </td><td>1</td><td>TBAdb</td><td>1</td></tr>\n",
       "</tbody>\n",
       "</table>\n"
      ],
      "text/latex": [
       "A data.frame: 6 × 6\n",
       "\\begin{tabular}{r|llllll}\n",
       "  & CDR3b & MHC & epitope & binder & dataset & order\\\\\n",
       "  & <chr> & <chr> & <chr> & <dbl> & <chr> & <dbl>\\\\\n",
       "\\hline\n",
       "\t3 & AAADEEIGNQPQH & HLA-A*01:01 & ATDALMTGY   & 1 & TBAdb & 1\\\\\n",
       "\t23 & AAGAGLSYEQY   & HLA-A*02    & NLVPMVATV   & 1 & TBAdb & 1\\\\\n",
       "\t47 & AAGGQFYGYT    & HLA-B*57:01 & KAFSPEVIPMF & 1 & TBAdb & 1\\\\\n",
       "\t79 & AALAVDTQY     & HLA-A*02    & NLVPMVATV   & 1 & TBAdb & 1\\\\\n",
       "\t135 & AASREGPNQPQH  & HLA-A*02:01 & NLVPMVATV   & 1 & TBAdb & 1\\\\\n",
       "\t140 & AASSYGQNFV    & HLA-B*08    & QIKVRVDMV   & 1 & TBAdb & 1\\\\\n",
       "\\end{tabular}\n"
      ],
      "text/markdown": [
       "\n",
       "A data.frame: 6 × 6\n",
       "\n",
       "| <!--/--> | CDR3b &lt;chr&gt; | MHC &lt;chr&gt; | epitope &lt;chr&gt; | binder &lt;dbl&gt; | dataset &lt;chr&gt; | order &lt;dbl&gt; |\n",
       "|---|---|---|---|---|---|---|\n",
       "| 3 | AAADEEIGNQPQH | HLA-A*01:01 | ATDALMTGY   | 1 | TBAdb | 1 |\n",
       "| 23 | AAGAGLSYEQY   | HLA-A*02    | NLVPMVATV   | 1 | TBAdb | 1 |\n",
       "| 47 | AAGGQFYGYT    | HLA-B*57:01 | KAFSPEVIPMF | 1 | TBAdb | 1 |\n",
       "| 79 | AALAVDTQY     | HLA-A*02    | NLVPMVATV   | 1 | TBAdb | 1 |\n",
       "| 135 | AASREGPNQPQH  | HLA-A*02:01 | NLVPMVATV   | 1 | TBAdb | 1 |\n",
       "| 140 | AASSYGQNFV    | HLA-B*08    | QIKVRVDMV   | 1 | TBAdb | 1 |\n",
       "\n"
      ],
      "text/plain": [
       "    CDR3b         MHC         epitope     binder dataset order\n",
       "3   AAADEEIGNQPQH HLA-A*01:01 ATDALMTGY   1      TBAdb   1    \n",
       "23  AAGAGLSYEQY   HLA-A*02    NLVPMVATV   1      TBAdb   1    \n",
       "47  AAGGQFYGYT    HLA-B*57:01 KAFSPEVIPMF 1      TBAdb   1    \n",
       "79  AALAVDTQY     HLA-A*02    NLVPMVATV   1      TBAdb   1    \n",
       "135 AASREGPNQPQH  HLA-A*02:01 NLVPMVATV   1      TBAdb   1    \n",
       "140 AASSYGQNFV    HLA-B*08    QIKVRVDMV   1      TBAdb   1    "
      ]
     },
     "metadata": {},
     "output_type": "display_data"
    }
   ],
   "source": [
    "head(pos)"
   ]
  },
  {
   "cell_type": "code",
   "execution_count": 18,
   "id": "9adc4c83",
   "metadata": {},
   "outputs": [
    {
     "data": {
      "text/html": [
       "<table class=\"dataframe\">\n",
       "<caption>A tibble: 6 × 3</caption>\n",
       "<thead>\n",
       "\t<tr><th scope=col>Original</th><th scope=col>HLA</th><th scope=col>Ref</th></tr>\n",
       "\t<tr><th scope=col>&lt;chr&gt;</th><th scope=col>&lt;chr&gt;</th><th scope=col>&lt;chr&gt;</th></tr>\n",
       "</thead>\n",
       "<tbody>\n",
       "\t<tr><td>HLA-A*01:01</td><td>HLA-A*01:01</td><td>NA</td></tr>\n",
       "\t<tr><td>HLA-A*02   </td><td>HLA-A*02:01</td><td>NA</td></tr>\n",
       "\t<tr><td>HLA-B*57:01</td><td>HLA-B*57:01</td><td>NA</td></tr>\n",
       "\t<tr><td>HLA-A*02:01</td><td>HLA-A*02:01</td><td>NA</td></tr>\n",
       "\t<tr><td>HLA-B*08   </td><td>HLA-B*08:01</td><td>NA</td></tr>\n",
       "\t<tr><td>HLA-B*57   </td><td>HLA-B*57:01</td><td>NA</td></tr>\n",
       "</tbody>\n",
       "</table>\n"
      ],
      "text/latex": [
       "A tibble: 6 × 3\n",
       "\\begin{tabular}{lll}\n",
       " Original & HLA & Ref\\\\\n",
       " <chr> & <chr> & <chr>\\\\\n",
       "\\hline\n",
       "\t HLA-A*01:01 & HLA-A*01:01 & NA\\\\\n",
       "\t HLA-A*02    & HLA-A*02:01 & NA\\\\\n",
       "\t HLA-B*57:01 & HLA-B*57:01 & NA\\\\\n",
       "\t HLA-A*02:01 & HLA-A*02:01 & NA\\\\\n",
       "\t HLA-B*08    & HLA-B*08:01 & NA\\\\\n",
       "\t HLA-B*57    & HLA-B*57:01 & NA\\\\\n",
       "\\end{tabular}\n"
      ],
      "text/markdown": [
       "\n",
       "A tibble: 6 × 3\n",
       "\n",
       "| Original &lt;chr&gt; | HLA &lt;chr&gt; | Ref &lt;chr&gt; |\n",
       "|---|---|---|\n",
       "| HLA-A*01:01 | HLA-A*01:01 | NA |\n",
       "| HLA-A*02    | HLA-A*02:01 | NA |\n",
       "| HLA-B*57:01 | HLA-B*57:01 | NA |\n",
       "| HLA-A*02:01 | HLA-A*02:01 | NA |\n",
       "| HLA-B*08    | HLA-B*08:01 | NA |\n",
       "| HLA-B*57    | HLA-B*57:01 | NA |\n",
       "\n"
      ],
      "text/plain": [
       "  Original    HLA         Ref\n",
       "1 HLA-A*01:01 HLA-A*01:01 NA \n",
       "2 HLA-A*02    HLA-A*02:01 NA \n",
       "3 HLA-B*57:01 HLA-B*57:01 NA \n",
       "4 HLA-A*02:01 HLA-A*02:01 NA \n",
       "5 HLA-B*08    HLA-B*08:01 NA \n",
       "6 HLA-B*57    HLA-B*57:01 NA "
      ]
     },
     "metadata": {},
     "output_type": "display_data"
    }
   ],
   "source": [
    "MHC_alias <- readxl::read_excel('HLA.xlsx', sheet = 'HLA-synonyms')\n",
    "head(MHC_alias)"
   ]
  },
  {
   "cell_type": "code",
   "execution_count": 22,
   "id": "be52df52",
   "metadata": {},
   "outputs": [
    {
     "data": {
      "text/html": [
       "<table class=\"dataframe\">\n",
       "<caption>A data.frame: 6 × 7</caption>\n",
       "<thead>\n",
       "\t<tr><th></th><th scope=col>CDR3b</th><th scope=col>MHC</th><th scope=col>epitope</th><th scope=col>binder</th><th scope=col>dataset</th><th scope=col>order</th><th scope=col>HLA</th></tr>\n",
       "\t<tr><th></th><th scope=col>&lt;chr&gt;</th><th scope=col>&lt;chr&gt;</th><th scope=col>&lt;chr&gt;</th><th scope=col>&lt;dbl&gt;</th><th scope=col>&lt;chr&gt;</th><th scope=col>&lt;dbl&gt;</th><th scope=col>&lt;chr&gt;</th></tr>\n",
       "</thead>\n",
       "<tbody>\n",
       "\t<tr><th scope=row>3</th><td>AAADEEIGNQPQH</td><td>HLA-A*01:01</td><td>ATDALMTGY  </td><td>1</td><td>TBAdb</td><td>1</td><td>HLA-A*01:01</td></tr>\n",
       "\t<tr><th scope=row>23</th><td>AAGAGLSYEQY  </td><td>HLA-A*02   </td><td>NLVPMVATV  </td><td>1</td><td>TBAdb</td><td>1</td><td>HLA-A*02:01</td></tr>\n",
       "\t<tr><th scope=row>47</th><td>AAGGQFYGYT   </td><td>HLA-B*57:01</td><td>KAFSPEVIPMF</td><td>1</td><td>TBAdb</td><td>1</td><td>HLA-B*57:01</td></tr>\n",
       "\t<tr><th scope=row>79</th><td>AALAVDTQY    </td><td>HLA-A*02   </td><td>NLVPMVATV  </td><td>1</td><td>TBAdb</td><td>1</td><td>HLA-A*02:01</td></tr>\n",
       "\t<tr><th scope=row>135</th><td>AASREGPNQPQH </td><td>HLA-A*02:01</td><td>NLVPMVATV  </td><td>1</td><td>TBAdb</td><td>1</td><td>HLA-A*02:01</td></tr>\n",
       "\t<tr><th scope=row>140</th><td>AASSYGQNFV   </td><td>HLA-B*08   </td><td>QIKVRVDMV  </td><td>1</td><td>TBAdb</td><td>1</td><td>HLA-B*08:01</td></tr>\n",
       "</tbody>\n",
       "</table>\n"
      ],
      "text/latex": [
       "A data.frame: 6 × 7\n",
       "\\begin{tabular}{r|lllllll}\n",
       "  & CDR3b & MHC & epitope & binder & dataset & order & HLA\\\\\n",
       "  & <chr> & <chr> & <chr> & <dbl> & <chr> & <dbl> & <chr>\\\\\n",
       "\\hline\n",
       "\t3 & AAADEEIGNQPQH & HLA-A*01:01 & ATDALMTGY   & 1 & TBAdb & 1 & HLA-A*01:01\\\\\n",
       "\t23 & AAGAGLSYEQY   & HLA-A*02    & NLVPMVATV   & 1 & TBAdb & 1 & HLA-A*02:01\\\\\n",
       "\t47 & AAGGQFYGYT    & HLA-B*57:01 & KAFSPEVIPMF & 1 & TBAdb & 1 & HLA-B*57:01\\\\\n",
       "\t79 & AALAVDTQY     & HLA-A*02    & NLVPMVATV   & 1 & TBAdb & 1 & HLA-A*02:01\\\\\n",
       "\t135 & AASREGPNQPQH  & HLA-A*02:01 & NLVPMVATV   & 1 & TBAdb & 1 & HLA-A*02:01\\\\\n",
       "\t140 & AASSYGQNFV    & HLA-B*08    & QIKVRVDMV   & 1 & TBAdb & 1 & HLA-B*08:01\\\\\n",
       "\\end{tabular}\n"
      ],
      "text/markdown": [
       "\n",
       "A data.frame: 6 × 7\n",
       "\n",
       "| <!--/--> | CDR3b &lt;chr&gt; | MHC &lt;chr&gt; | epitope &lt;chr&gt; | binder &lt;dbl&gt; | dataset &lt;chr&gt; | order &lt;dbl&gt; | HLA &lt;chr&gt; |\n",
       "|---|---|---|---|---|---|---|---|\n",
       "| 3 | AAADEEIGNQPQH | HLA-A*01:01 | ATDALMTGY   | 1 | TBAdb | 1 | HLA-A*01:01 |\n",
       "| 23 | AAGAGLSYEQY   | HLA-A*02    | NLVPMVATV   | 1 | TBAdb | 1 | HLA-A*02:01 |\n",
       "| 47 | AAGGQFYGYT    | HLA-B*57:01 | KAFSPEVIPMF | 1 | TBAdb | 1 | HLA-B*57:01 |\n",
       "| 79 | AALAVDTQY     | HLA-A*02    | NLVPMVATV   | 1 | TBAdb | 1 | HLA-A*02:01 |\n",
       "| 135 | AASREGPNQPQH  | HLA-A*02:01 | NLVPMVATV   | 1 | TBAdb | 1 | HLA-A*02:01 |\n",
       "| 140 | AASSYGQNFV    | HLA-B*08    | QIKVRVDMV   | 1 | TBAdb | 1 | HLA-B*08:01 |\n",
       "\n"
      ],
      "text/plain": [
       "    CDR3b         MHC         epitope     binder dataset order HLA        \n",
       "3   AAADEEIGNQPQH HLA-A*01:01 ATDALMTGY   1      TBAdb   1     HLA-A*01:01\n",
       "23  AAGAGLSYEQY   HLA-A*02    NLVPMVATV   1      TBAdb   1     HLA-A*02:01\n",
       "47  AAGGQFYGYT    HLA-B*57:01 KAFSPEVIPMF 1      TBAdb   1     HLA-B*57:01\n",
       "79  AALAVDTQY     HLA-A*02    NLVPMVATV   1      TBAdb   1     HLA-A*02:01\n",
       "135 AASREGPNQPQH  HLA-A*02:01 NLVPMVATV   1      TBAdb   1     HLA-A*02:01\n",
       "140 AASSYGQNFV    HLA-B*08    QIKVRVDMV   1      TBAdb   1     HLA-B*08:01"
      ]
     },
     "metadata": {},
     "output_type": "display_data"
    }
   ],
   "source": [
    "pos$HLA <- plyr::mapvalues(pos$MHC, from = MHC_alias$Original, to = MHC_alias$HLA)\n",
    "head(pos)"
   ]
  },
  {
   "cell_type": "code",
   "execution_count": 24,
   "id": "76575e71",
   "metadata": {
    "scrolled": false
   },
   "outputs": [
    {
     "data": {
      "text/html": [
       "<table class=\"dataframe\">\n",
       "<caption>A data.frame: 6 × 7</caption>\n",
       "<thead>\n",
       "\t<tr><th></th><th scope=col>CDR3b</th><th scope=col>MHC</th><th scope=col>epitope</th><th scope=col>binder</th><th scope=col>dataset</th><th scope=col>order</th><th scope=col>HLA</th></tr>\n",
       "\t<tr><th></th><th scope=col>&lt;chr&gt;</th><th scope=col>&lt;chr&gt;</th><th scope=col>&lt;chr&gt;</th><th scope=col>&lt;dbl&gt;</th><th scope=col>&lt;chr&gt;</th><th scope=col>&lt;dbl&gt;</th><th scope=col>&lt;chr&gt;</th></tr>\n",
       "</thead>\n",
       "<tbody>\n",
       "\t<tr><th scope=row>1</th><td>AAAETGSAGELF</td><td>HLA-A*01:01</td><td>SLEGGGLGY </td><td>0</td><td>10X</td><td>6</td><td>HLA-A*01:01</td></tr>\n",
       "\t<tr><th scope=row>2</th><td>AAAETGSAGELF</td><td>HLA-A*01:01</td><td>STEGGGLAY </td><td>0</td><td>10X</td><td>6</td><td>HLA-A*01:01</td></tr>\n",
       "\t<tr><th scope=row>3</th><td>AAAETGSAGELF</td><td>HLA-A*01:01</td><td>VTEHDTLLY </td><td>0</td><td>10X</td><td>6</td><td>HLA-A*01:01</td></tr>\n",
       "\t<tr><th scope=row>4</th><td>AAAETGSAGELF</td><td>HLA-A*02:01</td><td>ALIAPVHAV </td><td>0</td><td>10X</td><td>6</td><td>HLA-A*02:01</td></tr>\n",
       "\t<tr><th scope=row>5</th><td>AAAETGSAGELF</td><td>HLA-A*02:01</td><td>CLGGLLTMV </td><td>0</td><td>10X</td><td>6</td><td>HLA-A*02:01</td></tr>\n",
       "\t<tr><th scope=row>6</th><td>AAAETGSAGELF</td><td>HLA-A*02:01</td><td>CLLGTYTQDV</td><td>0</td><td>10X</td><td>6</td><td>HLA-A*02:01</td></tr>\n",
       "</tbody>\n",
       "</table>\n"
      ],
      "text/latex": [
       "A data.frame: 6 × 7\n",
       "\\begin{tabular}{r|lllllll}\n",
       "  & CDR3b & MHC & epitope & binder & dataset & order & HLA\\\\\n",
       "  & <chr> & <chr> & <chr> & <dbl> & <chr> & <dbl> & <chr>\\\\\n",
       "\\hline\n",
       "\t1 & AAAETGSAGELF & HLA-A*01:01 & SLEGGGLGY  & 0 & 10X & 6 & HLA-A*01:01\\\\\n",
       "\t2 & AAAETGSAGELF & HLA-A*01:01 & STEGGGLAY  & 0 & 10X & 6 & HLA-A*01:01\\\\\n",
       "\t3 & AAAETGSAGELF & HLA-A*01:01 & VTEHDTLLY  & 0 & 10X & 6 & HLA-A*01:01\\\\\n",
       "\t4 & AAAETGSAGELF & HLA-A*02:01 & ALIAPVHAV  & 0 & 10X & 6 & HLA-A*02:01\\\\\n",
       "\t5 & AAAETGSAGELF & HLA-A*02:01 & CLGGLLTMV  & 0 & 10X & 6 & HLA-A*02:01\\\\\n",
       "\t6 & AAAETGSAGELF & HLA-A*02:01 & CLLGTYTQDV & 0 & 10X & 6 & HLA-A*02:01\\\\\n",
       "\\end{tabular}\n"
      ],
      "text/markdown": [
       "\n",
       "A data.frame: 6 × 7\n",
       "\n",
       "| <!--/--> | CDR3b &lt;chr&gt; | MHC &lt;chr&gt; | epitope &lt;chr&gt; | binder &lt;dbl&gt; | dataset &lt;chr&gt; | order &lt;dbl&gt; | HLA &lt;chr&gt; |\n",
       "|---|---|---|---|---|---|---|---|\n",
       "| 1 | AAAETGSAGELF | HLA-A*01:01 | SLEGGGLGY  | 0 | 10X | 6 | HLA-A*01:01 |\n",
       "| 2 | AAAETGSAGELF | HLA-A*01:01 | STEGGGLAY  | 0 | 10X | 6 | HLA-A*01:01 |\n",
       "| 3 | AAAETGSAGELF | HLA-A*01:01 | VTEHDTLLY  | 0 | 10X | 6 | HLA-A*01:01 |\n",
       "| 4 | AAAETGSAGELF | HLA-A*02:01 | ALIAPVHAV  | 0 | 10X | 6 | HLA-A*02:01 |\n",
       "| 5 | AAAETGSAGELF | HLA-A*02:01 | CLGGLLTMV  | 0 | 10X | 6 | HLA-A*02:01 |\n",
       "| 6 | AAAETGSAGELF | HLA-A*02:01 | CLLGTYTQDV | 0 | 10X | 6 | HLA-A*02:01 |\n",
       "\n"
      ],
      "text/plain": [
       "  CDR3b        MHC         epitope    binder dataset order HLA        \n",
       "1 AAAETGSAGELF HLA-A*01:01 SLEGGGLGY  0      10X     6     HLA-A*01:01\n",
       "2 AAAETGSAGELF HLA-A*01:01 STEGGGLAY  0      10X     6     HLA-A*01:01\n",
       "3 AAAETGSAGELF HLA-A*01:01 VTEHDTLLY  0      10X     6     HLA-A*01:01\n",
       "4 AAAETGSAGELF HLA-A*02:01 ALIAPVHAV  0      10X     6     HLA-A*02:01\n",
       "5 AAAETGSAGELF HLA-A*02:01 CLGGLLTMV  0      10X     6     HLA-A*02:01\n",
       "6 AAAETGSAGELF HLA-A*02:01 CLLGTYTQDV 0      10X     6     HLA-A*02:01"
      ]
     },
     "metadata": {},
     "output_type": "display_data"
    }
   ],
   "source": [
    "X10.neg$HLA <- plyr::mapvalues(X10.neg$MHC, from = MHC_alias$Original, to = MHC_alias$HLA, warn_missing = FALSE)\n",
    "head(X10.neg)"
   ]
  },
  {
   "cell_type": "code",
   "execution_count": 26,
   "id": "a47a4e15",
   "metadata": {},
   "outputs": [
    {
     "data": {
      "text/html": [
       "<style>\n",
       ".list-inline {list-style: none; margin:0; padding: 0}\n",
       ".list-inline>li {display: inline-block}\n",
       ".list-inline>li:not(:last-child)::after {content: \"\\00b7\"; padding: 0 .5ex}\n",
       "</style>\n",
       "<ol class=list-inline><li>3418455</li><li>6</li></ol>\n"
      ],
      "text/latex": [
       "\\begin{enumerate*}\n",
       "\\item 3418455\n",
       "\\item 6\n",
       "\\end{enumerate*}\n"
      ],
      "text/markdown": [
       "1. 3418455\n",
       "2. 6\n",
       "\n",
       "\n"
      ],
      "text/plain": [
       "[1] 3418455       6"
      ]
     },
     "metadata": {},
     "output_type": "display_data"
    }
   ],
   "source": [
    "# combine pos and neg\n",
    "dat <- merge(pos, X10.neg, all = T)\n",
    "dat <- dat[order(dat$order),]\n",
    "dat$order <- NULL\n",
    "dim(dat)"
   ]
  },
  {
   "cell_type": "code",
   "execution_count": 28,
   "id": "72a4b5bb",
   "metadata": {},
   "outputs": [
    {
     "data": {
      "text/html": [
       "<style>\n",
       ".list-inline {list-style: none; margin:0; padding: 0}\n",
       ".list-inline>li {display: inline-block}\n",
       ".list-inline>li:not(:last-child)::after {content: \"\\00b7\"; padding: 0 .5ex}\n",
       "</style>\n",
       "<ol class=list-inline><li>3411996</li><li>6</li></ol>\n"
      ],
      "text/latex": [
       "\\begin{enumerate*}\n",
       "\\item 3411996\n",
       "\\item 6\n",
       "\\end{enumerate*}\n"
      ],
      "text/markdown": [
       "1. 3411996\n",
       "2. 6\n",
       "\n",
       "\n"
      ],
      "text/plain": [
       "[1] 3411996       6"
      ]
     },
     "metadata": {},
     "output_type": "display_data"
    }
   ],
   "source": [
    "# remove conflict labels\n",
    "dat <- dat %>%\n",
    "     group_by(CDR3b, epitope, HLA) %>% \n",
    "     filter(n_distinct(binder) == 1) %>%\n",
    "     ungroup\n",
    "dim(dat)"
   ]
  },
  {
   "cell_type": "code",
   "execution_count": 39,
   "id": "e54fe899",
   "metadata": {
    "scrolled": true
   },
   "outputs": [
    {
     "data": {
      "text/html": [
       "<table class=\"dataframe\">\n",
       "<caption>A tibble: 6 × 4</caption>\n",
       "<thead>\n",
       "\t<tr><th scope=col>HLA</th><th scope=col>IMGT</th><th scope=col>Length</th><th scope=col>Link</th></tr>\n",
       "\t<tr><th scope=col>&lt;chr&gt;</th><th scope=col>&lt;chr&gt;</th><th scope=col>&lt;dbl&gt;</th><th scope=col>&lt;chr&gt;</th></tr>\n",
       "</thead>\n",
       "<tbody>\n",
       "\t<tr><td>HLA-A*01:01</td><td>MAVMAPRTLLLLLSGALALTQTWAGSHSMRYFFTSVSRPGRGEPRFIAVGYVDDTQFVRFDSDAASQKMEPRAPWIEQEGPEYWDQETRNMKAHSQTDRANLGTLRGYYNQSEDGSHTIQIMYGCDVGPDGRFLRGYRQDAYDGKDYIALNEDLRSWTAADMAAQITKRKWEAVHAAEQRRVYLEGRCVDGLRRYLENGKETLQRTDPPKTHMTHHPISDHEATLRCWALGFYPAEITLTWQRDGEDQTQDTELVETRPAGDGTFQKWAAVVVPSGEEQRYTCHVQHEGLPKPLTLRWELSSQPTIPIVGIIAGLVLLGAVITGAVVAAVMWRRKSSDRKGGSYTQAASSDSAQGSDVSLTACKV</td><td>365</td><td>https://www.ebi.ac.uk/ipd/imgt/hla/alleles/allele/?accession=HLA00001</td></tr>\n",
       "\t<tr><td>HLA-A*02:01</td><td>MAVMAPRTLVLLLSGALALTQTWAGSHSMRYFFTSVSRPGRGEPRFIAVGYVDDTQFVRFDSDAASQRMEPRAPWIEQEGPEYWDGETRKVKAHSQTHRVDLGTLRGYYNQSEAGSHTVQRMYGCDVGSDWRFLRGYHQYAYDGKDYIALKEDLRSWTAADMAAQTTKHKWEAAHVAEQLRAYLEGTCVEWLRRYLENGKETLQRTDAPKTHMTHHAVSDHEATLRCWALSFYPAEITLTWQRDGEDQTQDTELVETRPAGDGTFQKWAAVVVPSGQEQRYTCHVQHEGLPKPLTLRWEPSSQPTIPIVGIIAGLVLFGAVITGAVVAAVMWRRKSSDRKGGSYSQAASSDSAQGSDVSLTACKV</td><td>365</td><td>https://www.ebi.ac.uk/ipd/imgt/hla/alleles/allele/?accession=HLA00005</td></tr>\n",
       "\t<tr><td>HLA-B*57:01</td><td>MRVTAPRTVLLLLWGAVALTETWAGSHSMRYFYTAMSRPGRGEPRFIAVGYVDDTQFVRFDSDAASPRMAPRAPWIEQEGPEYWDGETRNMKASAQTYRENLRIALRYYNQSEAGSHIIQVMYGCDVGPDGRLLRGHDQSAYDGKDYIALNEDLSSWTAADTAAQITQRKWEAARVAEQLRAYLEGLCVEWLRRYLENGKETLQRADPPKTHVTHHPISDHEATLRCWALGFYPAEITLTWQRDGEDQTQDTELVETRPAGDRTFQKWAAVVVPSGEEQRYTCHVQHEGLPKPLTLRWEPSSQSTVPIVGIVAGLAVLAVVVIGAVVAAVMCRRKSSGGKGGSYSQAACSDSAQGSDVSLTA   </td><td>362</td><td>https://www.ebi.ac.uk/ipd/imgt/hla/alleles/allele/?accession=HLA00381</td></tr>\n",
       "\t<tr><td>HLA-B*08:01</td><td>MLVMAPRTVLLLLSAALALTETWAGSHSMRYFDTAMSRPGRGEPRFISVGYVDDTQFVRFDSDAASPREEPRAPWIEQEGPEYWDRNTQIFKTNTQTDRESLRNLRGYYNQSEAGSHTLQSMYGCDVGPDGRLLRGHNQYAYDGKDYIALNEDLRSWTAADTAAQITQRKWEAARVAEQDRAYLEGTCVEWLRRYLENGKDTLERADPPKTHVTHHPISDHEATLRCWALGFYPAEITLTWQRDGEDQTQDTELVETRPAGDRTFQKWAAVVVPSGEEQRYTCHVQHEGLPKPLTLRWEPSSQSTVPIVGIVAGLAVLAVVVIGAVVAAVMCRRKSSGGKGGSYSQAACSDSAQGSDVSLTA   </td><td>362</td><td>https://www.ebi.ac.uk/ipd/imgt/hla/alleles/allele/?accession=HLA00146</td></tr>\n",
       "\t<tr><td>HLA-B*42:01</td><td>MLVMAPRTVLLLLSAALALTETWAGSHSMRYFYTSVSRPGRGEPRFISVGYVDDTQFVRFDSDAASPREEPRAPWIEQEGPEYWDRNTQIYKAQAQTDRESLRNLRGYYNQSEAGSHTLQSMYGCDVGPDGRLLRGHNQYAYDGKDYIALNEDLRSWTAADTAAQITQRKWEAARVAEQDRAYLEGTCVEWLRRYLENGKDTLERADPPKTHVTHHPISDHEATLRCWALGFYPAEITLTWQRDGEDQTQDTELVETRPAGDRTFQKWAAVVVPSGEEQRYTCHVQHEGLPKPLTLRWEPSSQSTVPIVGIVAGLAVLAVVVIGAVVAAVMCRRKSSGGKGGSYSQAACSDSAQGSDVSLTA   </td><td>362</td><td>https://www.ebi.ac.uk/ipd/imgt/hla/alleles/allele/?accession=HLA00315</td></tr>\n",
       "\t<tr><td>HLA-B*57:03</td><td>MRVTAPRTVLLLLWGAVALTETWAGSHSMRYFYTAMSRPGRGEPRFIAVGYVDDTQFVRFDSDAASPRMAPRAPWIEQEGPEYWDGETRNMKASAQTYRENLRIALRYYNQSEAGSHIIQVMYGCDVGPDGRLLRGHNQYAYDGKDYIALNEDLSSWTAADTAAQITQRKWEAARVAEQLRAYLEGLCVEWLRRYLENGKETLQRADPPKTHVTHHPISDHEATLRCWALGFYPAEITLTWQRDGEDQTQDTELVETRPAGDRTFQKWAAVVVPSGEEQRYTCHVQHEGLPKPLTLRWEPSSQSTVPIVGIVAGLAVLAVVVIGAVVAAVMCRRKSSGGKGGSYSQAACSDSAQGSDVSLTA   </td><td>362</td><td>https://www.ebi.ac.uk/ipd/imgt/hla/alleles/allele/?accession=HLA00383</td></tr>\n",
       "</tbody>\n",
       "</table>\n"
      ],
      "text/latex": [
       "A tibble: 6 × 4\n",
       "\\begin{tabular}{llll}\n",
       " HLA & IMGT & Length & Link\\\\\n",
       " <chr> & <chr> & <dbl> & <chr>\\\\\n",
       "\\hline\n",
       "\t HLA-A*01:01 & MAVMAPRTLLLLLSGALALTQTWAGSHSMRYFFTSVSRPGRGEPRFIAVGYVDDTQFVRFDSDAASQKMEPRAPWIEQEGPEYWDQETRNMKAHSQTDRANLGTLRGYYNQSEDGSHTIQIMYGCDVGPDGRFLRGYRQDAYDGKDYIALNEDLRSWTAADMAAQITKRKWEAVHAAEQRRVYLEGRCVDGLRRYLENGKETLQRTDPPKTHMTHHPISDHEATLRCWALGFYPAEITLTWQRDGEDQTQDTELVETRPAGDGTFQKWAAVVVPSGEEQRYTCHVQHEGLPKPLTLRWELSSQPTIPIVGIIAGLVLLGAVITGAVVAAVMWRRKSSDRKGGSYTQAASSDSAQGSDVSLTACKV & 365 & https://www.ebi.ac.uk/ipd/imgt/hla/alleles/allele/?accession=HLA00001\\\\\n",
       "\t HLA-A*02:01 & MAVMAPRTLVLLLSGALALTQTWAGSHSMRYFFTSVSRPGRGEPRFIAVGYVDDTQFVRFDSDAASQRMEPRAPWIEQEGPEYWDGETRKVKAHSQTHRVDLGTLRGYYNQSEAGSHTVQRMYGCDVGSDWRFLRGYHQYAYDGKDYIALKEDLRSWTAADMAAQTTKHKWEAAHVAEQLRAYLEGTCVEWLRRYLENGKETLQRTDAPKTHMTHHAVSDHEATLRCWALSFYPAEITLTWQRDGEDQTQDTELVETRPAGDGTFQKWAAVVVPSGQEQRYTCHVQHEGLPKPLTLRWEPSSQPTIPIVGIIAGLVLFGAVITGAVVAAVMWRRKSSDRKGGSYSQAASSDSAQGSDVSLTACKV & 365 & https://www.ebi.ac.uk/ipd/imgt/hla/alleles/allele/?accession=HLA00005\\\\\n",
       "\t HLA-B*57:01 & MRVTAPRTVLLLLWGAVALTETWAGSHSMRYFYTAMSRPGRGEPRFIAVGYVDDTQFVRFDSDAASPRMAPRAPWIEQEGPEYWDGETRNMKASAQTYRENLRIALRYYNQSEAGSHIIQVMYGCDVGPDGRLLRGHDQSAYDGKDYIALNEDLSSWTAADTAAQITQRKWEAARVAEQLRAYLEGLCVEWLRRYLENGKETLQRADPPKTHVTHHPISDHEATLRCWALGFYPAEITLTWQRDGEDQTQDTELVETRPAGDRTFQKWAAVVVPSGEEQRYTCHVQHEGLPKPLTLRWEPSSQSTVPIVGIVAGLAVLAVVVIGAVVAAVMCRRKSSGGKGGSYSQAACSDSAQGSDVSLTA    & 362 & https://www.ebi.ac.uk/ipd/imgt/hla/alleles/allele/?accession=HLA00381\\\\\n",
       "\t HLA-B*08:01 & MLVMAPRTVLLLLSAALALTETWAGSHSMRYFDTAMSRPGRGEPRFISVGYVDDTQFVRFDSDAASPREEPRAPWIEQEGPEYWDRNTQIFKTNTQTDRESLRNLRGYYNQSEAGSHTLQSMYGCDVGPDGRLLRGHNQYAYDGKDYIALNEDLRSWTAADTAAQITQRKWEAARVAEQDRAYLEGTCVEWLRRYLENGKDTLERADPPKTHVTHHPISDHEATLRCWALGFYPAEITLTWQRDGEDQTQDTELVETRPAGDRTFQKWAAVVVPSGEEQRYTCHVQHEGLPKPLTLRWEPSSQSTVPIVGIVAGLAVLAVVVIGAVVAAVMCRRKSSGGKGGSYSQAACSDSAQGSDVSLTA    & 362 & https://www.ebi.ac.uk/ipd/imgt/hla/alleles/allele/?accession=HLA00146\\\\\n",
       "\t HLA-B*42:01 & MLVMAPRTVLLLLSAALALTETWAGSHSMRYFYTSVSRPGRGEPRFISVGYVDDTQFVRFDSDAASPREEPRAPWIEQEGPEYWDRNTQIYKAQAQTDRESLRNLRGYYNQSEAGSHTLQSMYGCDVGPDGRLLRGHNQYAYDGKDYIALNEDLRSWTAADTAAQITQRKWEAARVAEQDRAYLEGTCVEWLRRYLENGKDTLERADPPKTHVTHHPISDHEATLRCWALGFYPAEITLTWQRDGEDQTQDTELVETRPAGDRTFQKWAAVVVPSGEEQRYTCHVQHEGLPKPLTLRWEPSSQSTVPIVGIVAGLAVLAVVVIGAVVAAVMCRRKSSGGKGGSYSQAACSDSAQGSDVSLTA    & 362 & https://www.ebi.ac.uk/ipd/imgt/hla/alleles/allele/?accession=HLA00315\\\\\n",
       "\t HLA-B*57:03 & MRVTAPRTVLLLLWGAVALTETWAGSHSMRYFYTAMSRPGRGEPRFIAVGYVDDTQFVRFDSDAASPRMAPRAPWIEQEGPEYWDGETRNMKASAQTYRENLRIALRYYNQSEAGSHIIQVMYGCDVGPDGRLLRGHNQYAYDGKDYIALNEDLSSWTAADTAAQITQRKWEAARVAEQLRAYLEGLCVEWLRRYLENGKETLQRADPPKTHVTHHPISDHEATLRCWALGFYPAEITLTWQRDGEDQTQDTELVETRPAGDRTFQKWAAVVVPSGEEQRYTCHVQHEGLPKPLTLRWEPSSQSTVPIVGIVAGLAVLAVVVIGAVVAAVMCRRKSSGGKGGSYSQAACSDSAQGSDVSLTA    & 362 & https://www.ebi.ac.uk/ipd/imgt/hla/alleles/allele/?accession=HLA00383\\\\\n",
       "\\end{tabular}\n"
      ],
      "text/markdown": [
       "\n",
       "A tibble: 6 × 4\n",
       "\n",
       "| HLA &lt;chr&gt; | IMGT &lt;chr&gt; | Length &lt;dbl&gt; | Link &lt;chr&gt; |\n",
       "|---|---|---|---|\n",
       "| HLA-A*01:01 | MAVMAPRTLLLLLSGALALTQTWAGSHSMRYFFTSVSRPGRGEPRFIAVGYVDDTQFVRFDSDAASQKMEPRAPWIEQEGPEYWDQETRNMKAHSQTDRANLGTLRGYYNQSEDGSHTIQIMYGCDVGPDGRFLRGYRQDAYDGKDYIALNEDLRSWTAADMAAQITKRKWEAVHAAEQRRVYLEGRCVDGLRRYLENGKETLQRTDPPKTHMTHHPISDHEATLRCWALGFYPAEITLTWQRDGEDQTQDTELVETRPAGDGTFQKWAAVVVPSGEEQRYTCHVQHEGLPKPLTLRWELSSQPTIPIVGIIAGLVLLGAVITGAVVAAVMWRRKSSDRKGGSYTQAASSDSAQGSDVSLTACKV | 365 | https://www.ebi.ac.uk/ipd/imgt/hla/alleles/allele/?accession=HLA00001 |\n",
       "| HLA-A*02:01 | MAVMAPRTLVLLLSGALALTQTWAGSHSMRYFFTSVSRPGRGEPRFIAVGYVDDTQFVRFDSDAASQRMEPRAPWIEQEGPEYWDGETRKVKAHSQTHRVDLGTLRGYYNQSEAGSHTVQRMYGCDVGSDWRFLRGYHQYAYDGKDYIALKEDLRSWTAADMAAQTTKHKWEAAHVAEQLRAYLEGTCVEWLRRYLENGKETLQRTDAPKTHMTHHAVSDHEATLRCWALSFYPAEITLTWQRDGEDQTQDTELVETRPAGDGTFQKWAAVVVPSGQEQRYTCHVQHEGLPKPLTLRWEPSSQPTIPIVGIIAGLVLFGAVITGAVVAAVMWRRKSSDRKGGSYSQAASSDSAQGSDVSLTACKV | 365 | https://www.ebi.ac.uk/ipd/imgt/hla/alleles/allele/?accession=HLA00005 |\n",
       "| HLA-B*57:01 | MRVTAPRTVLLLLWGAVALTETWAGSHSMRYFYTAMSRPGRGEPRFIAVGYVDDTQFVRFDSDAASPRMAPRAPWIEQEGPEYWDGETRNMKASAQTYRENLRIALRYYNQSEAGSHIIQVMYGCDVGPDGRLLRGHDQSAYDGKDYIALNEDLSSWTAADTAAQITQRKWEAARVAEQLRAYLEGLCVEWLRRYLENGKETLQRADPPKTHVTHHPISDHEATLRCWALGFYPAEITLTWQRDGEDQTQDTELVETRPAGDRTFQKWAAVVVPSGEEQRYTCHVQHEGLPKPLTLRWEPSSQSTVPIVGIVAGLAVLAVVVIGAVVAAVMCRRKSSGGKGGSYSQAACSDSAQGSDVSLTA    | 362 | https://www.ebi.ac.uk/ipd/imgt/hla/alleles/allele/?accession=HLA00381 |\n",
       "| HLA-B*08:01 | MLVMAPRTVLLLLSAALALTETWAGSHSMRYFDTAMSRPGRGEPRFISVGYVDDTQFVRFDSDAASPREEPRAPWIEQEGPEYWDRNTQIFKTNTQTDRESLRNLRGYYNQSEAGSHTLQSMYGCDVGPDGRLLRGHNQYAYDGKDYIALNEDLRSWTAADTAAQITQRKWEAARVAEQDRAYLEGTCVEWLRRYLENGKDTLERADPPKTHVTHHPISDHEATLRCWALGFYPAEITLTWQRDGEDQTQDTELVETRPAGDRTFQKWAAVVVPSGEEQRYTCHVQHEGLPKPLTLRWEPSSQSTVPIVGIVAGLAVLAVVVIGAVVAAVMCRRKSSGGKGGSYSQAACSDSAQGSDVSLTA    | 362 | https://www.ebi.ac.uk/ipd/imgt/hla/alleles/allele/?accession=HLA00146 |\n",
       "| HLA-B*42:01 | MLVMAPRTVLLLLSAALALTETWAGSHSMRYFYTSVSRPGRGEPRFISVGYVDDTQFVRFDSDAASPREEPRAPWIEQEGPEYWDRNTQIYKAQAQTDRESLRNLRGYYNQSEAGSHTLQSMYGCDVGPDGRLLRGHNQYAYDGKDYIALNEDLRSWTAADTAAQITQRKWEAARVAEQDRAYLEGTCVEWLRRYLENGKDTLERADPPKTHVTHHPISDHEATLRCWALGFYPAEITLTWQRDGEDQTQDTELVETRPAGDRTFQKWAAVVVPSGEEQRYTCHVQHEGLPKPLTLRWEPSSQSTVPIVGIVAGLAVLAVVVIGAVVAAVMCRRKSSGGKGGSYSQAACSDSAQGSDVSLTA    | 362 | https://www.ebi.ac.uk/ipd/imgt/hla/alleles/allele/?accession=HLA00315 |\n",
       "| HLA-B*57:03 | MRVTAPRTVLLLLWGAVALTETWAGSHSMRYFYTAMSRPGRGEPRFIAVGYVDDTQFVRFDSDAASPRMAPRAPWIEQEGPEYWDGETRNMKASAQTYRENLRIALRYYNQSEAGSHIIQVMYGCDVGPDGRLLRGHNQYAYDGKDYIALNEDLSSWTAADTAAQITQRKWEAARVAEQLRAYLEGLCVEWLRRYLENGKETLQRADPPKTHVTHHPISDHEATLRCWALGFYPAEITLTWQRDGEDQTQDTELVETRPAGDRTFQKWAAVVVPSGEEQRYTCHVQHEGLPKPLTLRWEPSSQSTVPIVGIVAGLAVLAVVVIGAVVAAVMCRRKSSGGKGGSYSQAACSDSAQGSDVSLTA    | 362 | https://www.ebi.ac.uk/ipd/imgt/hla/alleles/allele/?accession=HLA00383 |\n",
       "\n"
      ],
      "text/plain": [
       "  HLA        \n",
       "1 HLA-A*01:01\n",
       "2 HLA-A*02:01\n",
       "3 HLA-B*57:01\n",
       "4 HLA-B*08:01\n",
       "5 HLA-B*42:01\n",
       "6 HLA-B*57:03\n",
       "  IMGT                                                                                                                                                                                                                                                                                                                                                                         \n",
       "1 MAVMAPRTLLLLLSGALALTQTWAGSHSMRYFFTSVSRPGRGEPRFIAVGYVDDTQFVRFDSDAASQKMEPRAPWIEQEGPEYWDQETRNMKAHSQTDRANLGTLRGYYNQSEDGSHTIQIMYGCDVGPDGRFLRGYRQDAYDGKDYIALNEDLRSWTAADMAAQITKRKWEAVHAAEQRRVYLEGRCVDGLRRYLENGKETLQRTDPPKTHMTHHPISDHEATLRCWALGFYPAEITLTWQRDGEDQTQDTELVETRPAGDGTFQKWAAVVVPSGEEQRYTCHVQHEGLPKPLTLRWELSSQPTIPIVGIIAGLVLLGAVITGAVVAAVMWRRKSSDRKGGSYTQAASSDSAQGSDVSLTACKV\n",
       "2 MAVMAPRTLVLLLSGALALTQTWAGSHSMRYFFTSVSRPGRGEPRFIAVGYVDDTQFVRFDSDAASQRMEPRAPWIEQEGPEYWDGETRKVKAHSQTHRVDLGTLRGYYNQSEAGSHTVQRMYGCDVGSDWRFLRGYHQYAYDGKDYIALKEDLRSWTAADMAAQTTKHKWEAAHVAEQLRAYLEGTCVEWLRRYLENGKETLQRTDAPKTHMTHHAVSDHEATLRCWALSFYPAEITLTWQRDGEDQTQDTELVETRPAGDGTFQKWAAVVVPSGQEQRYTCHVQHEGLPKPLTLRWEPSSQPTIPIVGIIAGLVLFGAVITGAVVAAVMWRRKSSDRKGGSYSQAASSDSAQGSDVSLTACKV\n",
       "3 MRVTAPRTVLLLLWGAVALTETWAGSHSMRYFYTAMSRPGRGEPRFIAVGYVDDTQFVRFDSDAASPRMAPRAPWIEQEGPEYWDGETRNMKASAQTYRENLRIALRYYNQSEAGSHIIQVMYGCDVGPDGRLLRGHDQSAYDGKDYIALNEDLSSWTAADTAAQITQRKWEAARVAEQLRAYLEGLCVEWLRRYLENGKETLQRADPPKTHVTHHPISDHEATLRCWALGFYPAEITLTWQRDGEDQTQDTELVETRPAGDRTFQKWAAVVVPSGEEQRYTCHVQHEGLPKPLTLRWEPSSQSTVPIVGIVAGLAVLAVVVIGAVVAAVMCRRKSSGGKGGSYSQAACSDSAQGSDVSLTA   \n",
       "4 MLVMAPRTVLLLLSAALALTETWAGSHSMRYFDTAMSRPGRGEPRFISVGYVDDTQFVRFDSDAASPREEPRAPWIEQEGPEYWDRNTQIFKTNTQTDRESLRNLRGYYNQSEAGSHTLQSMYGCDVGPDGRLLRGHNQYAYDGKDYIALNEDLRSWTAADTAAQITQRKWEAARVAEQDRAYLEGTCVEWLRRYLENGKDTLERADPPKTHVTHHPISDHEATLRCWALGFYPAEITLTWQRDGEDQTQDTELVETRPAGDRTFQKWAAVVVPSGEEQRYTCHVQHEGLPKPLTLRWEPSSQSTVPIVGIVAGLAVLAVVVIGAVVAAVMCRRKSSGGKGGSYSQAACSDSAQGSDVSLTA   \n",
       "5 MLVMAPRTVLLLLSAALALTETWAGSHSMRYFYTSVSRPGRGEPRFISVGYVDDTQFVRFDSDAASPREEPRAPWIEQEGPEYWDRNTQIYKAQAQTDRESLRNLRGYYNQSEAGSHTLQSMYGCDVGPDGRLLRGHNQYAYDGKDYIALNEDLRSWTAADTAAQITQRKWEAARVAEQDRAYLEGTCVEWLRRYLENGKDTLERADPPKTHVTHHPISDHEATLRCWALGFYPAEITLTWQRDGEDQTQDTELVETRPAGDRTFQKWAAVVVPSGEEQRYTCHVQHEGLPKPLTLRWEPSSQSTVPIVGIVAGLAVLAVVVIGAVVAAVMCRRKSSGGKGGSYSQAACSDSAQGSDVSLTA   \n",
       "6 MRVTAPRTVLLLLWGAVALTETWAGSHSMRYFYTAMSRPGRGEPRFIAVGYVDDTQFVRFDSDAASPRMAPRAPWIEQEGPEYWDGETRNMKASAQTYRENLRIALRYYNQSEAGSHIIQVMYGCDVGPDGRLLRGHNQYAYDGKDYIALNEDLSSWTAADTAAQITQRKWEAARVAEQLRAYLEGLCVEWLRRYLENGKETLQRADPPKTHVTHHPISDHEATLRCWALGFYPAEITLTWQRDGEDQTQDTELVETRPAGDRTFQKWAAVVVPSGEEQRYTCHVQHEGLPKPLTLRWEPSSQSTVPIVGIVAGLAVLAVVVIGAVVAAVMCRRKSSGGKGGSYSQAACSDSAQGSDVSLTA   \n",
       "  Length Link                                                                 \n",
       "1 365    https://www.ebi.ac.uk/ipd/imgt/hla/alleles/allele/?accession=HLA00001\n",
       "2 365    https://www.ebi.ac.uk/ipd/imgt/hla/alleles/allele/?accession=HLA00005\n",
       "3 362    https://www.ebi.ac.uk/ipd/imgt/hla/alleles/allele/?accession=HLA00381\n",
       "4 362    https://www.ebi.ac.uk/ipd/imgt/hla/alleles/allele/?accession=HLA00146\n",
       "5 362    https://www.ebi.ac.uk/ipd/imgt/hla/alleles/allele/?accession=HLA00315\n",
       "6 362    https://www.ebi.ac.uk/ipd/imgt/hla/alleles/allele/?accession=HLA00383"
      ]
     },
     "metadata": {},
     "output_type": "display_data"
    }
   ],
   "source": [
    "HLA_seq <- readxl::read_excel('HLA.xlsx', sheet = 'HLA-seq')\n",
    "head(HLA_seq)"
   ]
  },
  {
   "cell_type": "code",
   "execution_count": 40,
   "id": "dc823897",
   "metadata": {},
   "outputs": [
    {
     "data": {
      "text/html": [
       "<table class=\"dataframe\">\n",
       "<caption>A tibble: 6 × 6</caption>\n",
       "<thead>\n",
       "\t<tr><th scope=col>CDR3b</th><th scope=col>MHC</th><th scope=col>epitope</th><th scope=col>binder</th><th scope=col>dataset</th><th scope=col>HLA</th></tr>\n",
       "\t<tr><th scope=col>&lt;chr&gt;</th><th scope=col>&lt;chr&gt;</th><th scope=col>&lt;chr&gt;</th><th scope=col>&lt;dbl&gt;</th><th scope=col>&lt;chr&gt;</th><th scope=col>&lt;chr&gt;</th></tr>\n",
       "</thead>\n",
       "<tbody>\n",
       "\t<tr><td>AAADEEIGNQPQH</td><td>MAVMAPRTLLLLLSGALALTQTWAGSHSMRYFFTSVSRPGRGEPRFIAVGYVDDTQFVRFDSDAASQKMEPRAPWIEQEGPEYWDQETRNMKAHSQTDRANLGTLRGYYNQSEDGSHTIQIMYGCDVGPDGRFLRGYRQDAYDGKDYIALNEDLRSWTAADMAAQITKRKWEAVHAAEQRRVYLEGRCVDGLRRYLENGKETLQRTDPPKTHMTHHPISDHEATLRCWALGFYPAEITLTWQRDGEDQTQDTELVETRPAGDGTFQKWAAVVVPSGEEQRYTCHVQHEGLPKPLTLRWELSSQPTIPIVGIIAGLVLLGAVITGAVVAAVMWRRKSSDRKGGSYTQAASSDSAQGSDVSLTACKV</td><td>ATDALMTGY  </td><td>1</td><td>TBAdb</td><td>HLA-A*01:01</td></tr>\n",
       "\t<tr><td>AAGAGLSYEQY  </td><td>MAVMAPRTLVLLLSGALALTQTWAGSHSMRYFFTSVSRPGRGEPRFIAVGYVDDTQFVRFDSDAASQRMEPRAPWIEQEGPEYWDGETRKVKAHSQTHRVDLGTLRGYYNQSEAGSHTVQRMYGCDVGSDWRFLRGYHQYAYDGKDYIALKEDLRSWTAADMAAQTTKHKWEAAHVAEQLRAYLEGTCVEWLRRYLENGKETLQRTDAPKTHMTHHAVSDHEATLRCWALSFYPAEITLTWQRDGEDQTQDTELVETRPAGDGTFQKWAAVVVPSGQEQRYTCHVQHEGLPKPLTLRWEPSSQPTIPIVGIIAGLVLFGAVITGAVVAAVMWRRKSSDRKGGSYSQAASSDSAQGSDVSLTACKV</td><td>NLVPMVATV  </td><td>1</td><td>TBAdb</td><td>HLA-A*02:01</td></tr>\n",
       "\t<tr><td>AAGGQFYGYT   </td><td>MRVTAPRTVLLLLWGAVALTETWAGSHSMRYFYTAMSRPGRGEPRFIAVGYVDDTQFVRFDSDAASPRMAPRAPWIEQEGPEYWDGETRNMKASAQTYRENLRIALRYYNQSEAGSHIIQVMYGCDVGPDGRLLRGHDQSAYDGKDYIALNEDLSSWTAADTAAQITQRKWEAARVAEQLRAYLEGLCVEWLRRYLENGKETLQRADPPKTHVTHHPISDHEATLRCWALGFYPAEITLTWQRDGEDQTQDTELVETRPAGDRTFQKWAAVVVPSGEEQRYTCHVQHEGLPKPLTLRWEPSSQSTVPIVGIVAGLAVLAVVVIGAVVAAVMCRRKSSGGKGGSYSQAACSDSAQGSDVSLTA   </td><td>KAFSPEVIPMF</td><td>1</td><td>TBAdb</td><td>HLA-B*57:01</td></tr>\n",
       "\t<tr><td>AALAVDTQY    </td><td>MAVMAPRTLVLLLSGALALTQTWAGSHSMRYFFTSVSRPGRGEPRFIAVGYVDDTQFVRFDSDAASQRMEPRAPWIEQEGPEYWDGETRKVKAHSQTHRVDLGTLRGYYNQSEAGSHTVQRMYGCDVGSDWRFLRGYHQYAYDGKDYIALKEDLRSWTAADMAAQTTKHKWEAAHVAEQLRAYLEGTCVEWLRRYLENGKETLQRTDAPKTHMTHHAVSDHEATLRCWALSFYPAEITLTWQRDGEDQTQDTELVETRPAGDGTFQKWAAVVVPSGQEQRYTCHVQHEGLPKPLTLRWEPSSQPTIPIVGIIAGLVLFGAVITGAVVAAVMWRRKSSDRKGGSYSQAASSDSAQGSDVSLTACKV</td><td>NLVPMVATV  </td><td>1</td><td>TBAdb</td><td>HLA-A*02:01</td></tr>\n",
       "\t<tr><td>AASREGPNQPQH </td><td>MAVMAPRTLVLLLSGALALTQTWAGSHSMRYFFTSVSRPGRGEPRFIAVGYVDDTQFVRFDSDAASQRMEPRAPWIEQEGPEYWDGETRKVKAHSQTHRVDLGTLRGYYNQSEAGSHTVQRMYGCDVGSDWRFLRGYHQYAYDGKDYIALKEDLRSWTAADMAAQTTKHKWEAAHVAEQLRAYLEGTCVEWLRRYLENGKETLQRTDAPKTHMTHHAVSDHEATLRCWALSFYPAEITLTWQRDGEDQTQDTELVETRPAGDGTFQKWAAVVVPSGQEQRYTCHVQHEGLPKPLTLRWEPSSQPTIPIVGIIAGLVLFGAVITGAVVAAVMWRRKSSDRKGGSYSQAASSDSAQGSDVSLTACKV</td><td>NLVPMVATV  </td><td>1</td><td>TBAdb</td><td>HLA-A*02:01</td></tr>\n",
       "\t<tr><td>AASSYGQNFV   </td><td>MLVMAPRTVLLLLSAALALTETWAGSHSMRYFDTAMSRPGRGEPRFISVGYVDDTQFVRFDSDAASPREEPRAPWIEQEGPEYWDRNTQIFKTNTQTDRESLRNLRGYYNQSEAGSHTLQSMYGCDVGPDGRLLRGHNQYAYDGKDYIALNEDLRSWTAADTAAQITQRKWEAARVAEQDRAYLEGTCVEWLRRYLENGKDTLERADPPKTHVTHHPISDHEATLRCWALGFYPAEITLTWQRDGEDQTQDTELVETRPAGDRTFQKWAAVVVPSGEEQRYTCHVQHEGLPKPLTLRWEPSSQSTVPIVGIVAGLAVLAVVVIGAVVAAVMCRRKSSGGKGGSYSQAACSDSAQGSDVSLTA   </td><td>QIKVRVDMV  </td><td>1</td><td>TBAdb</td><td>HLA-B*08:01</td></tr>\n",
       "</tbody>\n",
       "</table>\n"
      ],
      "text/latex": [
       "A tibble: 6 × 6\n",
       "\\begin{tabular}{llllll}\n",
       " CDR3b & MHC & epitope & binder & dataset & HLA\\\\\n",
       " <chr> & <chr> & <chr> & <dbl> & <chr> & <chr>\\\\\n",
       "\\hline\n",
       "\t AAADEEIGNQPQH & MAVMAPRTLLLLLSGALALTQTWAGSHSMRYFFTSVSRPGRGEPRFIAVGYVDDTQFVRFDSDAASQKMEPRAPWIEQEGPEYWDQETRNMKAHSQTDRANLGTLRGYYNQSEDGSHTIQIMYGCDVGPDGRFLRGYRQDAYDGKDYIALNEDLRSWTAADMAAQITKRKWEAVHAAEQRRVYLEGRCVDGLRRYLENGKETLQRTDPPKTHMTHHPISDHEATLRCWALGFYPAEITLTWQRDGEDQTQDTELVETRPAGDGTFQKWAAVVVPSGEEQRYTCHVQHEGLPKPLTLRWELSSQPTIPIVGIIAGLVLLGAVITGAVVAAVMWRRKSSDRKGGSYTQAASSDSAQGSDVSLTACKV & ATDALMTGY   & 1 & TBAdb & HLA-A*01:01\\\\\n",
       "\t AAGAGLSYEQY   & MAVMAPRTLVLLLSGALALTQTWAGSHSMRYFFTSVSRPGRGEPRFIAVGYVDDTQFVRFDSDAASQRMEPRAPWIEQEGPEYWDGETRKVKAHSQTHRVDLGTLRGYYNQSEAGSHTVQRMYGCDVGSDWRFLRGYHQYAYDGKDYIALKEDLRSWTAADMAAQTTKHKWEAAHVAEQLRAYLEGTCVEWLRRYLENGKETLQRTDAPKTHMTHHAVSDHEATLRCWALSFYPAEITLTWQRDGEDQTQDTELVETRPAGDGTFQKWAAVVVPSGQEQRYTCHVQHEGLPKPLTLRWEPSSQPTIPIVGIIAGLVLFGAVITGAVVAAVMWRRKSSDRKGGSYSQAASSDSAQGSDVSLTACKV & NLVPMVATV   & 1 & TBAdb & HLA-A*02:01\\\\\n",
       "\t AAGGQFYGYT    & MRVTAPRTVLLLLWGAVALTETWAGSHSMRYFYTAMSRPGRGEPRFIAVGYVDDTQFVRFDSDAASPRMAPRAPWIEQEGPEYWDGETRNMKASAQTYRENLRIALRYYNQSEAGSHIIQVMYGCDVGPDGRLLRGHDQSAYDGKDYIALNEDLSSWTAADTAAQITQRKWEAARVAEQLRAYLEGLCVEWLRRYLENGKETLQRADPPKTHVTHHPISDHEATLRCWALGFYPAEITLTWQRDGEDQTQDTELVETRPAGDRTFQKWAAVVVPSGEEQRYTCHVQHEGLPKPLTLRWEPSSQSTVPIVGIVAGLAVLAVVVIGAVVAAVMCRRKSSGGKGGSYSQAACSDSAQGSDVSLTA    & KAFSPEVIPMF & 1 & TBAdb & HLA-B*57:01\\\\\n",
       "\t AALAVDTQY     & MAVMAPRTLVLLLSGALALTQTWAGSHSMRYFFTSVSRPGRGEPRFIAVGYVDDTQFVRFDSDAASQRMEPRAPWIEQEGPEYWDGETRKVKAHSQTHRVDLGTLRGYYNQSEAGSHTVQRMYGCDVGSDWRFLRGYHQYAYDGKDYIALKEDLRSWTAADMAAQTTKHKWEAAHVAEQLRAYLEGTCVEWLRRYLENGKETLQRTDAPKTHMTHHAVSDHEATLRCWALSFYPAEITLTWQRDGEDQTQDTELVETRPAGDGTFQKWAAVVVPSGQEQRYTCHVQHEGLPKPLTLRWEPSSQPTIPIVGIIAGLVLFGAVITGAVVAAVMWRRKSSDRKGGSYSQAASSDSAQGSDVSLTACKV & NLVPMVATV   & 1 & TBAdb & HLA-A*02:01\\\\\n",
       "\t AASREGPNQPQH  & MAVMAPRTLVLLLSGALALTQTWAGSHSMRYFFTSVSRPGRGEPRFIAVGYVDDTQFVRFDSDAASQRMEPRAPWIEQEGPEYWDGETRKVKAHSQTHRVDLGTLRGYYNQSEAGSHTVQRMYGCDVGSDWRFLRGYHQYAYDGKDYIALKEDLRSWTAADMAAQTTKHKWEAAHVAEQLRAYLEGTCVEWLRRYLENGKETLQRTDAPKTHMTHHAVSDHEATLRCWALSFYPAEITLTWQRDGEDQTQDTELVETRPAGDGTFQKWAAVVVPSGQEQRYTCHVQHEGLPKPLTLRWEPSSQPTIPIVGIIAGLVLFGAVITGAVVAAVMWRRKSSDRKGGSYSQAASSDSAQGSDVSLTACKV & NLVPMVATV   & 1 & TBAdb & HLA-A*02:01\\\\\n",
       "\t AASSYGQNFV    & MLVMAPRTVLLLLSAALALTETWAGSHSMRYFDTAMSRPGRGEPRFISVGYVDDTQFVRFDSDAASPREEPRAPWIEQEGPEYWDRNTQIFKTNTQTDRESLRNLRGYYNQSEAGSHTLQSMYGCDVGPDGRLLRGHNQYAYDGKDYIALNEDLRSWTAADTAAQITQRKWEAARVAEQDRAYLEGTCVEWLRRYLENGKDTLERADPPKTHVTHHPISDHEATLRCWALGFYPAEITLTWQRDGEDQTQDTELVETRPAGDRTFQKWAAVVVPSGEEQRYTCHVQHEGLPKPLTLRWEPSSQSTVPIVGIVAGLAVLAVVVIGAVVAAVMCRRKSSGGKGGSYSQAACSDSAQGSDVSLTA    & QIKVRVDMV   & 1 & TBAdb & HLA-B*08:01\\\\\n",
       "\\end{tabular}\n"
      ],
      "text/markdown": [
       "\n",
       "A tibble: 6 × 6\n",
       "\n",
       "| CDR3b &lt;chr&gt; | MHC &lt;chr&gt; | epitope &lt;chr&gt; | binder &lt;dbl&gt; | dataset &lt;chr&gt; | HLA &lt;chr&gt; |\n",
       "|---|---|---|---|---|---|\n",
       "| AAADEEIGNQPQH | MAVMAPRTLLLLLSGALALTQTWAGSHSMRYFFTSVSRPGRGEPRFIAVGYVDDTQFVRFDSDAASQKMEPRAPWIEQEGPEYWDQETRNMKAHSQTDRANLGTLRGYYNQSEDGSHTIQIMYGCDVGPDGRFLRGYRQDAYDGKDYIALNEDLRSWTAADMAAQITKRKWEAVHAAEQRRVYLEGRCVDGLRRYLENGKETLQRTDPPKTHMTHHPISDHEATLRCWALGFYPAEITLTWQRDGEDQTQDTELVETRPAGDGTFQKWAAVVVPSGEEQRYTCHVQHEGLPKPLTLRWELSSQPTIPIVGIIAGLVLLGAVITGAVVAAVMWRRKSSDRKGGSYTQAASSDSAQGSDVSLTACKV | ATDALMTGY   | 1 | TBAdb | HLA-A*01:01 |\n",
       "| AAGAGLSYEQY   | MAVMAPRTLVLLLSGALALTQTWAGSHSMRYFFTSVSRPGRGEPRFIAVGYVDDTQFVRFDSDAASQRMEPRAPWIEQEGPEYWDGETRKVKAHSQTHRVDLGTLRGYYNQSEAGSHTVQRMYGCDVGSDWRFLRGYHQYAYDGKDYIALKEDLRSWTAADMAAQTTKHKWEAAHVAEQLRAYLEGTCVEWLRRYLENGKETLQRTDAPKTHMTHHAVSDHEATLRCWALSFYPAEITLTWQRDGEDQTQDTELVETRPAGDGTFQKWAAVVVPSGQEQRYTCHVQHEGLPKPLTLRWEPSSQPTIPIVGIIAGLVLFGAVITGAVVAAVMWRRKSSDRKGGSYSQAASSDSAQGSDVSLTACKV | NLVPMVATV   | 1 | TBAdb | HLA-A*02:01 |\n",
       "| AAGGQFYGYT    | MRVTAPRTVLLLLWGAVALTETWAGSHSMRYFYTAMSRPGRGEPRFIAVGYVDDTQFVRFDSDAASPRMAPRAPWIEQEGPEYWDGETRNMKASAQTYRENLRIALRYYNQSEAGSHIIQVMYGCDVGPDGRLLRGHDQSAYDGKDYIALNEDLSSWTAADTAAQITQRKWEAARVAEQLRAYLEGLCVEWLRRYLENGKETLQRADPPKTHVTHHPISDHEATLRCWALGFYPAEITLTWQRDGEDQTQDTELVETRPAGDRTFQKWAAVVVPSGEEQRYTCHVQHEGLPKPLTLRWEPSSQSTVPIVGIVAGLAVLAVVVIGAVVAAVMCRRKSSGGKGGSYSQAACSDSAQGSDVSLTA    | KAFSPEVIPMF | 1 | TBAdb | HLA-B*57:01 |\n",
       "| AALAVDTQY     | MAVMAPRTLVLLLSGALALTQTWAGSHSMRYFFTSVSRPGRGEPRFIAVGYVDDTQFVRFDSDAASQRMEPRAPWIEQEGPEYWDGETRKVKAHSQTHRVDLGTLRGYYNQSEAGSHTVQRMYGCDVGSDWRFLRGYHQYAYDGKDYIALKEDLRSWTAADMAAQTTKHKWEAAHVAEQLRAYLEGTCVEWLRRYLENGKETLQRTDAPKTHMTHHAVSDHEATLRCWALSFYPAEITLTWQRDGEDQTQDTELVETRPAGDGTFQKWAAVVVPSGQEQRYTCHVQHEGLPKPLTLRWEPSSQPTIPIVGIIAGLVLFGAVITGAVVAAVMWRRKSSDRKGGSYSQAASSDSAQGSDVSLTACKV | NLVPMVATV   | 1 | TBAdb | HLA-A*02:01 |\n",
       "| AASREGPNQPQH  | MAVMAPRTLVLLLSGALALTQTWAGSHSMRYFFTSVSRPGRGEPRFIAVGYVDDTQFVRFDSDAASQRMEPRAPWIEQEGPEYWDGETRKVKAHSQTHRVDLGTLRGYYNQSEAGSHTVQRMYGCDVGSDWRFLRGYHQYAYDGKDYIALKEDLRSWTAADMAAQTTKHKWEAAHVAEQLRAYLEGTCVEWLRRYLENGKETLQRTDAPKTHMTHHAVSDHEATLRCWALSFYPAEITLTWQRDGEDQTQDTELVETRPAGDGTFQKWAAVVVPSGQEQRYTCHVQHEGLPKPLTLRWEPSSQPTIPIVGIIAGLVLFGAVITGAVVAAVMWRRKSSDRKGGSYSQAASSDSAQGSDVSLTACKV | NLVPMVATV   | 1 | TBAdb | HLA-A*02:01 |\n",
       "| AASSYGQNFV    | MLVMAPRTVLLLLSAALALTETWAGSHSMRYFDTAMSRPGRGEPRFISVGYVDDTQFVRFDSDAASPREEPRAPWIEQEGPEYWDRNTQIFKTNTQTDRESLRNLRGYYNQSEAGSHTLQSMYGCDVGPDGRLLRGHNQYAYDGKDYIALNEDLRSWTAADTAAQITQRKWEAARVAEQDRAYLEGTCVEWLRRYLENGKDTLERADPPKTHVTHHPISDHEATLRCWALGFYPAEITLTWQRDGEDQTQDTELVETRPAGDRTFQKWAAVVVPSGEEQRYTCHVQHEGLPKPLTLRWEPSSQSTVPIVGIVAGLAVLAVVVIGAVVAAVMCRRKSSGGKGGSYSQAACSDSAQGSDVSLTA    | QIKVRVDMV   | 1 | TBAdb | HLA-B*08:01 |\n",
       "\n"
      ],
      "text/plain": [
       "  CDR3b        \n",
       "1 AAADEEIGNQPQH\n",
       "2 AAGAGLSYEQY  \n",
       "3 AAGGQFYGYT   \n",
       "4 AALAVDTQY    \n",
       "5 AASREGPNQPQH \n",
       "6 AASSYGQNFV   \n",
       "  MHC                                                                                                                                                                                                                                                                                                                                                                          \n",
       "1 MAVMAPRTLLLLLSGALALTQTWAGSHSMRYFFTSVSRPGRGEPRFIAVGYVDDTQFVRFDSDAASQKMEPRAPWIEQEGPEYWDQETRNMKAHSQTDRANLGTLRGYYNQSEDGSHTIQIMYGCDVGPDGRFLRGYRQDAYDGKDYIALNEDLRSWTAADMAAQITKRKWEAVHAAEQRRVYLEGRCVDGLRRYLENGKETLQRTDPPKTHMTHHPISDHEATLRCWALGFYPAEITLTWQRDGEDQTQDTELVETRPAGDGTFQKWAAVVVPSGEEQRYTCHVQHEGLPKPLTLRWELSSQPTIPIVGIIAGLVLLGAVITGAVVAAVMWRRKSSDRKGGSYTQAASSDSAQGSDVSLTACKV\n",
       "2 MAVMAPRTLVLLLSGALALTQTWAGSHSMRYFFTSVSRPGRGEPRFIAVGYVDDTQFVRFDSDAASQRMEPRAPWIEQEGPEYWDGETRKVKAHSQTHRVDLGTLRGYYNQSEAGSHTVQRMYGCDVGSDWRFLRGYHQYAYDGKDYIALKEDLRSWTAADMAAQTTKHKWEAAHVAEQLRAYLEGTCVEWLRRYLENGKETLQRTDAPKTHMTHHAVSDHEATLRCWALSFYPAEITLTWQRDGEDQTQDTELVETRPAGDGTFQKWAAVVVPSGQEQRYTCHVQHEGLPKPLTLRWEPSSQPTIPIVGIIAGLVLFGAVITGAVVAAVMWRRKSSDRKGGSYSQAASSDSAQGSDVSLTACKV\n",
       "3 MRVTAPRTVLLLLWGAVALTETWAGSHSMRYFYTAMSRPGRGEPRFIAVGYVDDTQFVRFDSDAASPRMAPRAPWIEQEGPEYWDGETRNMKASAQTYRENLRIALRYYNQSEAGSHIIQVMYGCDVGPDGRLLRGHDQSAYDGKDYIALNEDLSSWTAADTAAQITQRKWEAARVAEQLRAYLEGLCVEWLRRYLENGKETLQRADPPKTHVTHHPISDHEATLRCWALGFYPAEITLTWQRDGEDQTQDTELVETRPAGDRTFQKWAAVVVPSGEEQRYTCHVQHEGLPKPLTLRWEPSSQSTVPIVGIVAGLAVLAVVVIGAVVAAVMCRRKSSGGKGGSYSQAACSDSAQGSDVSLTA   \n",
       "4 MAVMAPRTLVLLLSGALALTQTWAGSHSMRYFFTSVSRPGRGEPRFIAVGYVDDTQFVRFDSDAASQRMEPRAPWIEQEGPEYWDGETRKVKAHSQTHRVDLGTLRGYYNQSEAGSHTVQRMYGCDVGSDWRFLRGYHQYAYDGKDYIALKEDLRSWTAADMAAQTTKHKWEAAHVAEQLRAYLEGTCVEWLRRYLENGKETLQRTDAPKTHMTHHAVSDHEATLRCWALSFYPAEITLTWQRDGEDQTQDTELVETRPAGDGTFQKWAAVVVPSGQEQRYTCHVQHEGLPKPLTLRWEPSSQPTIPIVGIIAGLVLFGAVITGAVVAAVMWRRKSSDRKGGSYSQAASSDSAQGSDVSLTACKV\n",
       "5 MAVMAPRTLVLLLSGALALTQTWAGSHSMRYFFTSVSRPGRGEPRFIAVGYVDDTQFVRFDSDAASQRMEPRAPWIEQEGPEYWDGETRKVKAHSQTHRVDLGTLRGYYNQSEAGSHTVQRMYGCDVGSDWRFLRGYHQYAYDGKDYIALKEDLRSWTAADMAAQTTKHKWEAAHVAEQLRAYLEGTCVEWLRRYLENGKETLQRTDAPKTHMTHHAVSDHEATLRCWALSFYPAEITLTWQRDGEDQTQDTELVETRPAGDGTFQKWAAVVVPSGQEQRYTCHVQHEGLPKPLTLRWEPSSQPTIPIVGIIAGLVLFGAVITGAVVAAVMWRRKSSDRKGGSYSQAASSDSAQGSDVSLTACKV\n",
       "6 MLVMAPRTVLLLLSAALALTETWAGSHSMRYFDTAMSRPGRGEPRFISVGYVDDTQFVRFDSDAASPREEPRAPWIEQEGPEYWDRNTQIFKTNTQTDRESLRNLRGYYNQSEAGSHTLQSMYGCDVGPDGRLLRGHNQYAYDGKDYIALNEDLRSWTAADTAAQITQRKWEAARVAEQDRAYLEGTCVEWLRRYLENGKDTLERADPPKTHVTHHPISDHEATLRCWALGFYPAEITLTWQRDGEDQTQDTELVETRPAGDRTFQKWAAVVVPSGEEQRYTCHVQHEGLPKPLTLRWEPSSQSTVPIVGIVAGLAVLAVVVIGAVVAAVMCRRKSSGGKGGSYSQAACSDSAQGSDVSLTA   \n",
       "  epitope     binder dataset HLA        \n",
       "1 ATDALMTGY   1      TBAdb   HLA-A*01:01\n",
       "2 NLVPMVATV   1      TBAdb   HLA-A*02:01\n",
       "3 KAFSPEVIPMF 1      TBAdb   HLA-B*57:01\n",
       "4 NLVPMVATV   1      TBAdb   HLA-A*02:01\n",
       "5 NLVPMVATV   1      TBAdb   HLA-A*02:01\n",
       "6 QIKVRVDMV   1      TBAdb   HLA-B*08:01"
      ]
     },
     "metadata": {},
     "output_type": "display_data"
    }
   ],
   "source": [
    "dat$MHC <- plyr::mapvalues(dat$HLA, from = HLA_seq$HLA, to = HLA_seq$IMGT)\n",
    "head(dat)"
   ]
  },
  {
   "cell_type": "code",
   "execution_count": 42,
   "id": "09cd0332",
   "metadata": {},
   "outputs": [
    {
     "data": {
      "text/html": [
       "<style>\n",
       ".list-inline {list-style: none; margin:0; padding: 0}\n",
       ".list-inline>li {display: inline-block}\n",
       ".list-inline>li:not(:last-child)::after {content: \"\\00b7\"; padding: 0 .5ex}\n",
       "</style>\n",
       "<ol class=list-inline><li>3405334</li><li>6</li></ol>\n"
      ],
      "text/latex": [
       "\\begin{enumerate*}\n",
       "\\item 3405334\n",
       "\\item 6\n",
       "\\end{enumerate*}\n"
      ],
      "text/markdown": [
       "1. 3405334\n",
       "2. 6\n",
       "\n",
       "\n"
      ],
      "text/plain": [
       "[1] 3405334       6"
      ]
     },
     "metadata": {},
     "output_type": "display_data"
    }
   ],
   "source": [
    "dat <- dat[!is.na(dat$MHC),]\n",
    "dim(dat) # decrease 6662 obs, in which around 5000 obs were from positive set"
   ]
  },
  {
   "cell_type": "code",
   "execution_count": 44,
   "id": "85138863",
   "metadata": {},
   "outputs": [
    {
     "data": {
      "text/plain": [
       "\n",
       "      0       1 \n",
       "3288103  117231 "
      ]
     },
     "metadata": {},
     "output_type": "display_data"
    },
    {
     "data": {
      "text/plain": [
       "   \n",
       "        10X    IEDB   McPAS   TBAdb   VDJdb\n",
       "  0 3288103       0       0       0       0\n",
       "  1   13167   55461    6467    5647   36489"
      ]
     },
     "metadata": {},
     "output_type": "display_data"
    }
   ],
   "source": [
    "table(dat$binder)\n",
    "table(dat$binder, dat$dataset)"
   ]
  },
  {
   "cell_type": "code",
   "execution_count": 45,
   "id": "9f0fb9b8",
   "metadata": {},
   "outputs": [
    {
     "data": {
      "text/html": [
       "<table class=\"dataframe\">\n",
       "<caption>A tibble: 2 × 2</caption>\n",
       "<thead>\n",
       "\t<tr><th scope=col>binder</th><th scope=col>n</th></tr>\n",
       "\t<tr><th scope=col>&lt;fct&gt;</th><th scope=col>&lt;int&gt;</th></tr>\n",
       "</thead>\n",
       "<tbody>\n",
       "\t<tr><td>0</td><td>3288103</td></tr>\n",
       "\t<tr><td>1</td><td> 117231</td></tr>\n",
       "</tbody>\n",
       "</table>\n"
      ],
      "text/latex": [
       "A tibble: 2 × 2\n",
       "\\begin{tabular}{ll}\n",
       " binder & n\\\\\n",
       " <fct> & <int>\\\\\n",
       "\\hline\n",
       "\t 0 & 3288103\\\\\n",
       "\t 1 &  117231\\\\\n",
       "\\end{tabular}\n"
      ],
      "text/markdown": [
       "\n",
       "A tibble: 2 × 2\n",
       "\n",
       "| binder &lt;fct&gt; | n &lt;int&gt; |\n",
       "|---|---|\n",
       "| 0 | 3288103 |\n",
       "| 1 |  117231 |\n",
       "\n"
      ],
      "text/plain": [
       "  binder n      \n",
       "1 0      3288103\n",
       "2 1       117231"
      ]
     },
     "metadata": {},
     "output_type": "display_data"
    }
   ],
   "source": [
    "summarize <- dat %>% group_by(binder) %>% summarise(n = n())\n",
    "summarize$binder <- as.factor(summarize$binder)\n",
    "head(summarize)"
   ]
  },
  {
   "cell_type": "code",
   "execution_count": 31,
   "id": "fdf7d0e7",
   "metadata": {},
   "outputs": [],
   "source": [
    "library(ggplot2)\n",
    "library(cowplot)\n",
    "library(ggrepel)"
   ]
  },
  {
   "cell_type": "code",
   "execution_count": 46,
   "id": "f33f0a31",
   "metadata": {},
   "outputs": [
    {
     "data": {
      "image/png": "[encoded data removed]",
      "text/plain": [
       "plot without title"
      ]
     },
     "metadata": {
      "image/png": {
       "height": 420,
       "width": 420
      }
     },
     "output_type": "display_data"
    }
   ],
   "source": [
    "options(scipen=999)\n",
    "ggplot(summarize, aes(y=n, x=binder)) + \n",
    "  geom_bar(stat='identity', fill = \"#FF6666\", width = 0.7) + geom_text(aes(label=n), size = 5, vjust=-0.25) + theme_cowplot()"
   ]
  },
  {
   "cell_type": "code",
   "execution_count": 47,
   "id": "a42f9510",
   "metadata": {},
   "outputs": [],
   "source": [
    "pos <- dat[dat$binder == 1,]\n",
    "pos.sum <- pos %>% group_by(dataset) %>% summarise(n = n())"
   ]
  },
  {
   "cell_type": "code",
   "execution_count": 48,
   "id": "dbc98dae",
   "metadata": {},
   "outputs": [],
   "source": [
    "pos.sum <- pos.sum %>% \n",
    "  mutate(\n",
    "    cs = rev(cumsum(rev(n))), \n",
    "    pos = n/2 + lead(cs, 1),\n",
    "    pos = if_else(is.na(pos), n/2, pos))"
   ]
  },
  {
   "cell_type": "code",
   "execution_count": 49,
   "id": "a2de1ecc",
   "metadata": {},
   "outputs": [
    {
     "data": {
      "image/png": "[encoded data removed]",
      "text/plain": [
       "plot without title"
      ]
     },
     "metadata": {
      "image/png": {
       "height": 420,
       "width": 420
      }
     },
     "output_type": "display_data"
    }
   ],
   "source": [
    "ggplot(pos.sum, aes(x=\"\", y=n, fill=dataset)) +\n",
    "  geom_bar(stat = 'identity', width=1, color=\"white\") +\n",
    "  coord_polar(\"y\") + scale_fill_brewer(palette = \"Pastel1\") +\n",
    "  geom_label(aes(y = pos, label = paste0(n)), #hjust = 0,\n",
    "             size = 5, nudge_x = 0.6, show.legend = FALSE) +\n",
    "guides(fill = guide_legend(title = \"Datasets\", label.theme = element_text(\n",
    "      size = 15), title.theme = element_text(size = 15))) + theme_void()"
   ]
  },
  {
   "cell_type": "code",
   "execution_count": 51,
   "id": "356b2bc1",
   "metadata": {},
   "outputs": [],
   "source": [
    "dat$dataset <- dat$HLA <- NULL"
   ]
  },
  {
   "cell_type": "code",
   "execution_count": 52,
   "id": "9c983d74",
   "metadata": {},
   "outputs": [],
   "source": [
    "write.table(dat, 'final-with-HLA.csv', quote = F, append = F, row.names = F, sep = ',')"
   ]
  }
 ],
 "metadata": {
  "kernelspec": {
   "display_name": "R",
   "language": "R",
   "name": "ir"
  },
  "language_info": {
   "codemirror_mode": "r",
   "file_extension": ".r",
   "mimetype": "text/x-r-source",
   "name": "R",
   "pygments_lexer": "r",
   "version": "4.2.0"
  }
 },
 "nbformat": 4,
 "nbformat_minor": 5
}
