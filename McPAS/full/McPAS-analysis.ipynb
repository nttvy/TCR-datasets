{
 "cells": [
  {
   "cell_type": "code",
   "execution_count": 1,
   "id": "241132a3",
   "metadata": {
    "scrolled": true
   },
   "outputs": [
    {
     "name": "stderr",
     "output_type": "stream",
     "text": [
      "Loading required package: ggplot2\n",
      "\n"
     ]
    },
    {
     "name": "stdout",
     "output_type": "stream",
     "text": [
      "|Function                      |Shortcut         |\n",
      "|:-----------------------------|:----------------|\n",
      "|alignAssign                   |Ctrl+Q           |\n",
      "|alignCursor                   |Ctrl+Shift+Q     |\n",
      "|toggle_subsection             |Ctrl+Y           |\n",
      "|toggle_subsubsection          |Ctrl+Shift+Y     |\n",
      "|insertFormals                 |Ctrl+Shift+Alt+I |\n",
      "|assignFormals                 |Ctrl+Shift+Alt+O |\n",
      "|fixCommas                     |Ctrl+Alt+Z       |\n",
      "|exposeAsArgument              |Ctrl+Alt+C       |\n",
      "|toggle_mclapply               |Ctrl+Shift+G     |\n",
      "|insert_debugonce              |Ctrl+Shift+Alt+G |\n",
      "|transform_subsection          |Ctrl+J           |\n",
      "|initiate_or_delete_subsection |Ctrl+Shift+J     |\n",
      "|renumber_sections             |Ctrl+Shift+R     |\n",
      "|insert_loopdebugger           |Ctrl+Shift+I     |\n",
      "|toggle_blabla                 |Ctrl+Alt+O       |\n",
      "|extract_importFrom            |Ctrl+Alt+I       |\n",
      "|refactor_functionCall         |Ctrl+Alt+U       |\n",
      "|insertHistory                 |Ctrl+Alt+H       |\n",
      "|insertDput                    |Ctrl+Shift+Alt+H |\n",
      "|clipr::clipr_result           |Ctrl+Shift+Alt+E |\n",
      "|asSnippet                     |Ctrl+Shift+Alt+S |\n",
      "|duplicateArgumments           |Ctrl+O           |\n",
      "|------------------------------|-----------------|\n",
      "|                        Lvl=22|           Lvl=22|\n",
      "Error in getSnippetPath() : Snippet file cannot be found\n"
     ]
    },
    {
     "name": "stderr",
     "output_type": "stream",
     "text": [
      "Loading required package: grid\n",
      "\n",
      "Loading required package: futile.logger\n",
      "\n"
     ]
    }
   ],
   "source": [
    "library(data.table)\n",
    "library(conveniencefunctions)\n",
    "library(VennDiagram)"
   ]
  },
  {
   "cell_type": "markdown",
   "id": "7e61b956",
   "metadata": {},
   "source": [
    "# Load data and check for exceptions"
   ]
  },
  {
   "cell_type": "code",
   "execution_count": 2,
   "id": "a79c25a8",
   "metadata": {
    "scrolled": true
   },
   "outputs": [
    {
     "data": {
      "text/html": [
       "<style>\n",
       ".list-inline {list-style: none; margin:0; padding: 0}\n",
       ".list-inline>li {display: inline-block}\n",
       ".list-inline>li:not(:last-child)::after {content: \"\\00b7\"; padding: 0 .5ex}\n",
       "</style>\n",
       "<ol class=list-inline><li>39664</li><li>29</li></ol>\n"
      ],
      "text/latex": [
       "\\begin{enumerate*}\n",
       "\\item 39664\n",
       "\\item 29\n",
       "\\end{enumerate*}\n"
      ],
      "text/markdown": [
       "1. 39664\n",
       "2. 29\n",
       "\n",
       "\n"
      ],
      "text/plain": [
       "[1] 39664    29"
      ]
     },
     "metadata": {},
     "output_type": "display_data"
    },
    {
     "data": {
      "text/html": [
       "<table class=\"dataframe\">\n",
       "<caption>A data.frame: 6 × 29</caption>\n",
       "<thead>\n",
       "\t<tr><th></th><th scope=col>CDR3.alpha.aa</th><th scope=col>CDR3.beta.aa</th><th scope=col>Species</th><th scope=col>Category</th><th scope=col>Pathology</th><th scope=col>Pathology.Mesh.ID</th><th scope=col>Additional.study.details</th><th scope=col>Antigen.identification.method</th><th scope=col>Single.cell</th><th scope=col>NGS</th><th scope=col>⋯</th><th scope=col>TRAV</th><th scope=col>TRAJ</th><th scope=col>TRBV</th><th scope=col>TRBD</th><th scope=col>TRBJ</th><th scope=col>Reconstructed.J.annotation</th><th scope=col>CDR3.beta.nt</th><th scope=col>Mouse.strain</th><th scope=col>PubMed.ID</th><th scope=col>Remarks</th></tr>\n",
       "\t<tr><th></th><th scope=col>&lt;chr&gt;</th><th scope=col>&lt;chr&gt;</th><th scope=col>&lt;chr&gt;</th><th scope=col>&lt;chr&gt;</th><th scope=col>&lt;chr&gt;</th><th scope=col>&lt;chr&gt;</th><th scope=col>&lt;chr&gt;</th><th scope=col>&lt;dbl&gt;</th><th scope=col>&lt;chr&gt;</th><th scope=col>&lt;chr&gt;</th><th scope=col>⋯</th><th scope=col>&lt;chr&gt;</th><th scope=col>&lt;chr&gt;</th><th scope=col>&lt;chr&gt;</th><th scope=col>&lt;chr&gt;</th><th scope=col>&lt;chr&gt;</th><th scope=col>&lt;chr&gt;</th><th scope=col>&lt;chr&gt;</th><th scope=col>&lt;chr&gt;</th><th scope=col>&lt;int&gt;</th><th scope=col>&lt;chr&gt;</th></tr>\n",
       "</thead>\n",
       "<tbody>\n",
       "\t<tr><th scope=row>1</th><td>NA</td><td>CASSDAGANTEVF </td><td>Mouse</td><td>Pathogens</td><td>Lymphocytic choriomeningitis virus (LCMV)</td><td>D008217</td><td>NA</td><td>2.1</td><td>No</td><td>No</td><td>⋯</td><td>NA</td><td>NA</td><td>TRBV8-1</td><td>NA</td><td>TRBJ1-1</td><td>No</td><td>NA</td><td>P14</td><td>1716213</td><td>NA</td></tr>\n",
       "\t<tr><th scope=row>2</th><td>NA</td><td>CASSDAGAYAEQF </td><td>Mouse</td><td>Pathogens</td><td>Lymphocytic choriomeningitis virus (LCMV)</td><td>D008217</td><td>NA</td><td>2.1</td><td>No</td><td>No</td><td>⋯</td><td>NA</td><td>NA</td><td>TRBV8-1</td><td>NA</td><td>TRBJ2-1</td><td>No</td><td>NA</td><td>P14</td><td>1716213</td><td>NA</td></tr>\n",
       "\t<tr><th scope=row>3</th><td>NA</td><td>CASSDAGGAAEVF </td><td>Mouse</td><td>Pathogens</td><td>Lymphocytic choriomeningitis virus (LCMV)</td><td>D008217</td><td>NA</td><td>2.1</td><td>No</td><td>No</td><td>⋯</td><td>NA</td><td>NA</td><td>TRBV8-3</td><td>NA</td><td>TRBJ1-1</td><td>No</td><td>NA</td><td>P14</td><td>1716213</td><td>NA</td></tr>\n",
       "\t<tr><th scope=row>4</th><td>NA</td><td>CASSDAGHSPLYF </td><td>Mouse</td><td>Pathogens</td><td>Lymphocytic choriomeningitis virus (LCMV)</td><td>D008217</td><td>NA</td><td>2.1</td><td>No</td><td>No</td><td>⋯</td><td>NA</td><td>NA</td><td>TRBV8-1</td><td>NA</td><td>TRBJ1-6</td><td>No</td><td>NA</td><td>P14</td><td>1716213</td><td>NA</td></tr>\n",
       "\t<tr><th scope=row>5</th><td>NA</td><td>CASSDAWGGAEQYF</td><td>Mouse</td><td>Pathogens</td><td>Lymphocytic choriomeningitis virus (LCMV)</td><td>D008217</td><td>NA</td><td>2.1</td><td>No</td><td>No</td><td>⋯</td><td>NA</td><td>NA</td><td>TRBV8-3</td><td>NA</td><td>TRBJ2-6</td><td>No</td><td>NA</td><td>P14</td><td>1716213</td><td>NA</td></tr>\n",
       "\t<tr><th scope=row>6</th><td>NA</td><td>CASSDGANTEVF  </td><td>Mouse</td><td>Pathogens</td><td>Lymphocytic choriomeningitis virus (LCMV)</td><td>D008217</td><td>NA</td><td>2.1</td><td>No</td><td>No</td><td>⋯</td><td>NA</td><td>NA</td><td>TRBV8-1</td><td>NA</td><td>TRBJ1-1</td><td>No</td><td>NA</td><td>P14</td><td>1716213</td><td>NA</td></tr>\n",
       "</tbody>\n",
       "</table>\n"
      ],
      "text/latex": [
       "A data.frame: 6 × 29\n",
       "\\begin{tabular}{r|lllllllllllllllllllll}\n",
       "  & CDR3.alpha.aa & CDR3.beta.aa & Species & Category & Pathology & Pathology.Mesh.ID & Additional.study.details & Antigen.identification.method & Single.cell & NGS & ⋯ & TRAV & TRAJ & TRBV & TRBD & TRBJ & Reconstructed.J.annotation & CDR3.beta.nt & Mouse.strain & PubMed.ID & Remarks\\\\\n",
       "  & <chr> & <chr> & <chr> & <chr> & <chr> & <chr> & <chr> & <dbl> & <chr> & <chr> & ⋯ & <chr> & <chr> & <chr> & <chr> & <chr> & <chr> & <chr> & <chr> & <int> & <chr>\\\\\n",
       "\\hline\n",
       "\t1 & NA & CASSDAGANTEVF  & Mouse & Pathogens & Lymphocytic choriomeningitis virus (LCMV) & D008217 & NA & 2.1 & No & No & ⋯ & NA & NA & TRBV8-1 & NA & TRBJ1-1 & No & NA & P14 & 1716213 & NA\\\\\n",
       "\t2 & NA & CASSDAGAYAEQF  & Mouse & Pathogens & Lymphocytic choriomeningitis virus (LCMV) & D008217 & NA & 2.1 & No & No & ⋯ & NA & NA & TRBV8-1 & NA & TRBJ2-1 & No & NA & P14 & 1716213 & NA\\\\\n",
       "\t3 & NA & CASSDAGGAAEVF  & Mouse & Pathogens & Lymphocytic choriomeningitis virus (LCMV) & D008217 & NA & 2.1 & No & No & ⋯ & NA & NA & TRBV8-3 & NA & TRBJ1-1 & No & NA & P14 & 1716213 & NA\\\\\n",
       "\t4 & NA & CASSDAGHSPLYF  & Mouse & Pathogens & Lymphocytic choriomeningitis virus (LCMV) & D008217 & NA & 2.1 & No & No & ⋯ & NA & NA & TRBV8-1 & NA & TRBJ1-6 & No & NA & P14 & 1716213 & NA\\\\\n",
       "\t5 & NA & CASSDAWGGAEQYF & Mouse & Pathogens & Lymphocytic choriomeningitis virus (LCMV) & D008217 & NA & 2.1 & No & No & ⋯ & NA & NA & TRBV8-3 & NA & TRBJ2-6 & No & NA & P14 & 1716213 & NA\\\\\n",
       "\t6 & NA & CASSDGANTEVF   & Mouse & Pathogens & Lymphocytic choriomeningitis virus (LCMV) & D008217 & NA & 2.1 & No & No & ⋯ & NA & NA & TRBV8-1 & NA & TRBJ1-1 & No & NA & P14 & 1716213 & NA\\\\\n",
       "\\end{tabular}\n"
      ],
      "text/markdown": [
       "\n",
       "A data.frame: 6 × 29\n",
       "\n",
       "| <!--/--> | CDR3.alpha.aa &lt;chr&gt; | CDR3.beta.aa &lt;chr&gt; | Species &lt;chr&gt; | Category &lt;chr&gt; | Pathology &lt;chr&gt; | Pathology.Mesh.ID &lt;chr&gt; | Additional.study.details &lt;chr&gt; | Antigen.identification.method &lt;dbl&gt; | Single.cell &lt;chr&gt; | NGS &lt;chr&gt; | ⋯ ⋯ | TRAV &lt;chr&gt; | TRAJ &lt;chr&gt; | TRBV &lt;chr&gt; | TRBD &lt;chr&gt; | TRBJ &lt;chr&gt; | Reconstructed.J.annotation &lt;chr&gt; | CDR3.beta.nt &lt;chr&gt; | Mouse.strain &lt;chr&gt; | PubMed.ID &lt;int&gt; | Remarks &lt;chr&gt; |\n",
       "|---|---|---|---|---|---|---|---|---|---|---|---|---|---|---|---|---|---|---|---|---|---|\n",
       "| 1 | NA | CASSDAGANTEVF  | Mouse | Pathogens | Lymphocytic choriomeningitis virus (LCMV) | D008217 | NA | 2.1 | No | No | ⋯ | NA | NA | TRBV8-1 | NA | TRBJ1-1 | No | NA | P14 | 1716213 | NA |\n",
       "| 2 | NA | CASSDAGAYAEQF  | Mouse | Pathogens | Lymphocytic choriomeningitis virus (LCMV) | D008217 | NA | 2.1 | No | No | ⋯ | NA | NA | TRBV8-1 | NA | TRBJ2-1 | No | NA | P14 | 1716213 | NA |\n",
       "| 3 | NA | CASSDAGGAAEVF  | Mouse | Pathogens | Lymphocytic choriomeningitis virus (LCMV) | D008217 | NA | 2.1 | No | No | ⋯ | NA | NA | TRBV8-3 | NA | TRBJ1-1 | No | NA | P14 | 1716213 | NA |\n",
       "| 4 | NA | CASSDAGHSPLYF  | Mouse | Pathogens | Lymphocytic choriomeningitis virus (LCMV) | D008217 | NA | 2.1 | No | No | ⋯ | NA | NA | TRBV8-1 | NA | TRBJ1-6 | No | NA | P14 | 1716213 | NA |\n",
       "| 5 | NA | CASSDAWGGAEQYF | Mouse | Pathogens | Lymphocytic choriomeningitis virus (LCMV) | D008217 | NA | 2.1 | No | No | ⋯ | NA | NA | TRBV8-3 | NA | TRBJ2-6 | No | NA | P14 | 1716213 | NA |\n",
       "| 6 | NA | CASSDGANTEVF   | Mouse | Pathogens | Lymphocytic choriomeningitis virus (LCMV) | D008217 | NA | 2.1 | No | No | ⋯ | NA | NA | TRBV8-1 | NA | TRBJ1-1 | No | NA | P14 | 1716213 | NA |\n",
       "\n"
      ],
      "text/plain": [
       "  CDR3.alpha.aa CDR3.beta.aa   Species Category \n",
       "1 NA            CASSDAGANTEVF  Mouse   Pathogens\n",
       "2 NA            CASSDAGAYAEQF  Mouse   Pathogens\n",
       "3 NA            CASSDAGGAAEVF  Mouse   Pathogens\n",
       "4 NA            CASSDAGHSPLYF  Mouse   Pathogens\n",
       "5 NA            CASSDAWGGAEQYF Mouse   Pathogens\n",
       "6 NA            CASSDGANTEVF   Mouse   Pathogens\n",
       "  Pathology                                 Pathology.Mesh.ID\n",
       "1 Lymphocytic choriomeningitis virus (LCMV) D008217          \n",
       "2 Lymphocytic choriomeningitis virus (LCMV) D008217          \n",
       "3 Lymphocytic choriomeningitis virus (LCMV) D008217          \n",
       "4 Lymphocytic choriomeningitis virus (LCMV) D008217          \n",
       "5 Lymphocytic choriomeningitis virus (LCMV) D008217          \n",
       "6 Lymphocytic choriomeningitis virus (LCMV) D008217          \n",
       "  Additional.study.details Antigen.identification.method Single.cell NGS ⋯ TRAV\n",
       "1 NA                       2.1                           No          No  ⋯ NA  \n",
       "2 NA                       2.1                           No          No  ⋯ NA  \n",
       "3 NA                       2.1                           No          No  ⋯ NA  \n",
       "4 NA                       2.1                           No          No  ⋯ NA  \n",
       "5 NA                       2.1                           No          No  ⋯ NA  \n",
       "6 NA                       2.1                           No          No  ⋯ NA  \n",
       "  TRAJ TRBV    TRBD TRBJ    Reconstructed.J.annotation CDR3.beta.nt\n",
       "1 NA   TRBV8-1 NA   TRBJ1-1 No                         NA          \n",
       "2 NA   TRBV8-1 NA   TRBJ2-1 No                         NA          \n",
       "3 NA   TRBV8-3 NA   TRBJ1-1 No                         NA          \n",
       "4 NA   TRBV8-1 NA   TRBJ1-6 No                         NA          \n",
       "5 NA   TRBV8-3 NA   TRBJ2-6 No                         NA          \n",
       "6 NA   TRBV8-1 NA   TRBJ1-1 No                         NA          \n",
       "  Mouse.strain PubMed.ID Remarks\n",
       "1 P14          1716213   NA     \n",
       "2 P14          1716213   NA     \n",
       "3 P14          1716213   NA     \n",
       "4 P14          1716213   NA     \n",
       "5 P14          1716213   NA     \n",
       "6 P14          1716213   NA     "
      ]
     },
     "metadata": {},
     "output_type": "display_data"
    }
   ],
   "source": [
    "dat <- fread('McPAS-TCR.csv', data.table = F)\n",
    "dim(dat)\n",
    "head(dat)"
   ]
  },
  {
   "cell_type": "code",
   "execution_count": 3,
   "id": "475afe9f",
   "metadata": {},
   "outputs": [],
   "source": [
    "dat$CDR3.beta.aa <- gsub('^C', '', dat$CDR3.beta.aa)\n",
    "dat$CDR3.beta.aa <- gsub('F$', '', dat$CDR3.beta.aa)"
   ]
  },
  {
   "cell_type": "code",
   "execution_count": 4,
   "id": "228109f5",
   "metadata": {},
   "outputs": [
    {
     "data": {
      "text/html": [
       "TRUE"
      ],
      "text/latex": [
       "TRUE"
      ],
      "text/markdown": [
       "TRUE"
      ],
      "text/plain": [
       "[1] TRUE"
      ]
     },
     "metadata": {},
     "output_type": "display_data"
    }
   ],
   "source": [
    "any(is.na(dat))"
   ]
  },
  {
   "cell_type": "code",
   "execution_count": 5,
   "id": "546f002a",
   "metadata": {
    "scrolled": true
   },
   "outputs": [
    {
     "data": {
      "text/html": [
       "TRUE"
      ],
      "text/latex": [
       "TRUE"
      ],
      "text/markdown": [
       "TRUE"
      ],
      "text/plain": [
       "[1] TRUE"
      ]
     },
     "metadata": {},
     "output_type": "display_data"
    },
    {
     "data": {
      "text/html": [
       "TRUE"
      ],
      "text/latex": [
       "TRUE"
      ],
      "text/markdown": [
       "TRUE"
      ],
      "text/plain": [
       "[1] TRUE"
      ]
     },
     "metadata": {},
     "output_type": "display_data"
    }
   ],
   "source": [
    "# check for special characters in CDR3 and epitope sequences\n",
    "any(grepl(\"[[:punct:]]\", dat$CDR3.beta.aa))\n",
    "any(grepl(\"[[:punct:]]\", dat$Epitope.peptide))"
   ]
  },
  {
   "cell_type": "code",
   "execution_count": 6,
   "id": "1ffe1f24",
   "metadata": {},
   "outputs": [
    {
     "data": {
      "text/html": [
       "FALSE"
      ],
      "text/latex": [
       "FALSE"
      ],
      "text/markdown": [
       "FALSE"
      ],
      "text/plain": [
       "[1] FALSE"
      ]
     },
     "metadata": {},
     "output_type": "display_data"
    },
    {
     "data": {
      "text/html": [
       "FALSE"
      ],
      "text/latex": [
       "FALSE"
      ],
      "text/markdown": [
       "FALSE"
      ],
      "text/plain": [
       "[1] FALSE"
      ]
     },
     "metadata": {},
     "output_type": "display_data"
    }
   ],
   "source": [
    "# check for special characters in CDR3 and epitope sequences\n",
    "any(grepl(\" \", dat$CDR3.beta.aa))\n",
    "any(grepl(\" \", dat$Epitope.peptide))"
   ]
  },
  {
   "cell_type": "code",
   "execution_count": 7,
   "id": "041c92bf",
   "metadata": {},
   "outputs": [
    {
     "data": {
      "text/html": [
       "<style>\n",
       ".list-inline {list-style: none; margin:0; padding: 0}\n",
       ".list-inline>li {display: inline-block}\n",
       ".list-inline>li:not(:last-child)::after {content: \"\\00b7\"; padding: 0 .5ex}\n",
       "</style>\n",
       "<ol class=list-inline><li>37132</li><li>29</li></ol>\n"
      ],
      "text/latex": [
       "\\begin{enumerate*}\n",
       "\\item 37132\n",
       "\\item 29\n",
       "\\end{enumerate*}\n"
      ],
      "text/markdown": [
       "1. 37132\n",
       "2. 29\n",
       "\n",
       "\n"
      ],
      "text/plain": [
       "[1] 37132    29"
      ]
     },
     "metadata": {},
     "output_type": "display_data"
    }
   ],
   "source": [
    "# remove unclear CDR3\n",
    "dat <- dat[!is.na(dat$CDR3.beta.aa) & !grepl(\"[[:punct:]]\", dat$CDR3.beta.aa),]\n",
    "dat <- dat[!grepl('[a-z]', dat$CDR3.beta.aa), ]\n",
    "dim(dat)"
   ]
  },
  {
   "cell_type": "code",
   "execution_count": 8,
   "id": "f14093f8",
   "metadata": {},
   "outputs": [
    {
     "data": {
      "text/html": [
       "<style>\n",
       ".list-inline {list-style: none; margin:0; padding: 0}\n",
       ".list-inline>li {display: inline-block}\n",
       ".list-inline>li:not(:last-child)::after {content: \"\\00b7\"; padding: 0 .5ex}\n",
       "</style>\n",
       "<ol class=list-inline><li>'Mouse'</li><li>'Human'</li><li>NA</li></ol>\n"
      ],
      "text/latex": [
       "\\begin{enumerate*}\n",
       "\\item 'Mouse'\n",
       "\\item 'Human'\n",
       "\\item NA\n",
       "\\end{enumerate*}\n"
      ],
      "text/markdown": [
       "1. 'Mouse'\n",
       "2. 'Human'\n",
       "3. NA\n",
       "\n",
       "\n"
      ],
      "text/plain": [
       "[1] \"Mouse\" \"Human\" NA     "
      ]
     },
     "metadata": {},
     "output_type": "display_data"
    }
   ],
   "source": [
    "unique(dat$Species)"
   ]
  },
  {
   "cell_type": "code",
   "execution_count": 9,
   "id": "11542055",
   "metadata": {},
   "outputs": [],
   "source": [
    "dat <- dat[!is.na(dat$Species) & dat$Species != 'Mouse', \n",
    "           c('CDR3.beta.aa', 'Species', 'Category', 'Pathology', 'Epitope.peptide', 'MHC')]"
   ]
  },
  {
   "cell_type": "code",
   "execution_count": 10,
   "id": "2512bcc4",
   "metadata": {},
   "outputs": [
    {
     "data": {
      "text/html": [
       "<style>\n",
       ".list-inline {list-style: none; margin:0; padding: 0}\n",
       ".list-inline>li {display: inline-block}\n",
       ".list-inline>li:not(:last-child)::after {content: \"\\00b7\"; padding: 0 .5ex}\n",
       "</style>\n",
       "<ol class=list-inline><li>33559</li><li>6</li></ol>\n"
      ],
      "text/latex": [
       "\\begin{enumerate*}\n",
       "\\item 33559\n",
       "\\item 6\n",
       "\\end{enumerate*}\n"
      ],
      "text/markdown": [
       "1. 33559\n",
       "2. 6\n",
       "\n",
       "\n"
      ],
      "text/plain": [
       "[1] 33559     6"
      ]
     },
     "metadata": {},
     "output_type": "display_data"
    }
   ],
   "source": [
    "dim(dat)"
   ]
  },
  {
   "cell_type": "code",
   "execution_count": 11,
   "id": "3714e2c1",
   "metadata": {},
   "outputs": [
    {
     "data": {
      "text/html": [
       "<table class=\"dataframe\">\n",
       "<caption>A data.frame: 6 × 6</caption>\n",
       "<thead>\n",
       "\t<tr><th></th><th scope=col>CDR3.beta.aa</th><th scope=col>Species</th><th scope=col>Category</th><th scope=col>Pathology</th><th scope=col>Epitope.peptide</th><th scope=col>MHC</th></tr>\n",
       "\t<tr><th></th><th scope=col>&lt;chr&gt;</th><th scope=col>&lt;chr&gt;</th><th scope=col>&lt;chr&gt;</th><th scope=col>&lt;chr&gt;</th><th scope=col>&lt;chr&gt;</th><th scope=col>&lt;chr&gt;</th></tr>\n",
       "</thead>\n",
       "<tbody>\n",
       "\t<tr><th scope=row>75</th><td>AAGETSGVSYNEQ   </td><td>Human</td><td>Cancer</td><td>Melanoma</td><td>NA        </td><td>HLA-A*02</td></tr>\n",
       "\t<tr><th scope=row>76</th><td>ASRPTITVPYSNQPQH</td><td>Human</td><td>Cancer</td><td>Melanoma</td><td>NA        </td><td>HLA-A*01</td></tr>\n",
       "\t<tr><th scope=row>77</th><td>ASRPTITVPYSNQPQH</td><td>Human</td><td>Cancer</td><td>Melanoma</td><td>NA        </td><td>HLA-A*01</td></tr>\n",
       "\t<tr><th scope=row>78</th><td>ASSLVVWDRGGNOPQH</td><td>Human</td><td>Cancer</td><td>Melanoma</td><td>NA        </td><td>HLA-A*02</td></tr>\n",
       "\t<tr><th scope=row>79</th><td>ASSQDLLSWDEQ    </td><td>Human</td><td>Cancer</td><td>Melanoma</td><td>NA        </td><td>HLA-A*02</td></tr>\n",
       "\t<tr><th scope=row>93</th><td>ASSLGNEQ        </td><td>Human</td><td>Cancer</td><td>Melanoma</td><td>EAAGIGILTV</td><td>HLA-A*02</td></tr>\n",
       "</tbody>\n",
       "</table>\n"
      ],
      "text/latex": [
       "A data.frame: 6 × 6\n",
       "\\begin{tabular}{r|llllll}\n",
       "  & CDR3.beta.aa & Species & Category & Pathology & Epitope.peptide & MHC\\\\\n",
       "  & <chr> & <chr> & <chr> & <chr> & <chr> & <chr>\\\\\n",
       "\\hline\n",
       "\t75 & AAGETSGVSYNEQ    & Human & Cancer & Melanoma & NA         & HLA-A*02\\\\\n",
       "\t76 & ASRPTITVPYSNQPQH & Human & Cancer & Melanoma & NA         & HLA-A*01\\\\\n",
       "\t77 & ASRPTITVPYSNQPQH & Human & Cancer & Melanoma & NA         & HLA-A*01\\\\\n",
       "\t78 & ASSLVVWDRGGNOPQH & Human & Cancer & Melanoma & NA         & HLA-A*02\\\\\n",
       "\t79 & ASSQDLLSWDEQ     & Human & Cancer & Melanoma & NA         & HLA-A*02\\\\\n",
       "\t93 & ASSLGNEQ         & Human & Cancer & Melanoma & EAAGIGILTV & HLA-A*02\\\\\n",
       "\\end{tabular}\n"
      ],
      "text/markdown": [
       "\n",
       "A data.frame: 6 × 6\n",
       "\n",
       "| <!--/--> | CDR3.beta.aa &lt;chr&gt; | Species &lt;chr&gt; | Category &lt;chr&gt; | Pathology &lt;chr&gt; | Epitope.peptide &lt;chr&gt; | MHC &lt;chr&gt; |\n",
       "|---|---|---|---|---|---|---|\n",
       "| 75 | AAGETSGVSYNEQ    | Human | Cancer | Melanoma | NA         | HLA-A*02 |\n",
       "| 76 | ASRPTITVPYSNQPQH | Human | Cancer | Melanoma | NA         | HLA-A*01 |\n",
       "| 77 | ASRPTITVPYSNQPQH | Human | Cancer | Melanoma | NA         | HLA-A*01 |\n",
       "| 78 | ASSLVVWDRGGNOPQH | Human | Cancer | Melanoma | NA         | HLA-A*02 |\n",
       "| 79 | ASSQDLLSWDEQ     | Human | Cancer | Melanoma | NA         | HLA-A*02 |\n",
       "| 93 | ASSLGNEQ         | Human | Cancer | Melanoma | EAAGIGILTV | HLA-A*02 |\n",
       "\n"
      ],
      "text/plain": [
       "   CDR3.beta.aa     Species Category Pathology Epitope.peptide MHC     \n",
       "75 AAGETSGVSYNEQ    Human   Cancer   Melanoma  NA              HLA-A*02\n",
       "76 ASRPTITVPYSNQPQH Human   Cancer   Melanoma  NA              HLA-A*01\n",
       "77 ASRPTITVPYSNQPQH Human   Cancer   Melanoma  NA              HLA-A*01\n",
       "78 ASSLVVWDRGGNOPQH Human   Cancer   Melanoma  NA              HLA-A*02\n",
       "79 ASSQDLLSWDEQ     Human   Cancer   Melanoma  NA              HLA-A*02\n",
       "93 ASSLGNEQ         Human   Cancer   Melanoma  EAAGIGILTV      HLA-A*02"
      ]
     },
     "metadata": {},
     "output_type": "display_data"
    }
   ],
   "source": [
    "head(dat)"
   ]
  },
  {
   "cell_type": "code",
   "execution_count": 12,
   "id": "8ff03234",
   "metadata": {},
   "outputs": [
    {
     "data": {
      "text/html": [
       "<style>\n",
       ".list-inline {list-style: none; margin:0; padding: 0}\n",
       ".list-inline>li {display: inline-block}\n",
       ".list-inline>li:not(:last-child)::after {content: \"\\00b7\"; padding: 0 .5ex}\n",
       "</style>\n",
       "<ol class=list-inline><li>10415</li><li>6</li></ol>\n"
      ],
      "text/latex": [
       "\\begin{enumerate*}\n",
       "\\item 10415\n",
       "\\item 6\n",
       "\\end{enumerate*}\n"
      ],
      "text/markdown": [
       "1. 10415\n",
       "2. 6\n",
       "\n",
       "\n"
      ],
      "text/plain": [
       "[1] 10415     6"
      ]
     },
     "metadata": {},
     "output_type": "display_data"
    }
   ],
   "source": [
    "# remove unclear epitope\n",
    "dat <- unique(dat[!is.na(dat$Epitope.peptide) & !grepl(\"[[:punct:]]\", dat$Epitope.peptide),])\n",
    "dim(dat)"
   ]
  },
  {
   "cell_type": "code",
   "execution_count": 13,
   "id": "540238d7",
   "metadata": {},
   "outputs": [
    {
     "data": {
      "text/html": [
       "<table class=\"dataframe\">\n",
       "<caption>A data.frame: 6 × 6</caption>\n",
       "<thead>\n",
       "\t<tr><th></th><th scope=col>CDR3.beta.aa</th><th scope=col>Species</th><th scope=col>Category</th><th scope=col>Pathology</th><th scope=col>Epitope.peptide</th><th scope=col>MHC</th></tr>\n",
       "\t<tr><th></th><th scope=col>&lt;chr&gt;</th><th scope=col>&lt;chr&gt;</th><th scope=col>&lt;chr&gt;</th><th scope=col>&lt;chr&gt;</th><th scope=col>&lt;chr&gt;</th><th scope=col>&lt;chr&gt;</th></tr>\n",
       "</thead>\n",
       "<tbody>\n",
       "\t<tr><th scope=row>93</th><td>ASSLGNEQ        </td><td>Human</td><td>Cancer</td><td>Melanoma</td><td>EAAGIGILTV</td><td>HLA-A*02</td></tr>\n",
       "\t<tr><th scope=row>94</th><td>ASSLGVATGEL     </td><td>Human</td><td>Cancer</td><td>Melanoma</td><td>EAAGIGILTV</td><td>HLA-A*02</td></tr>\n",
       "\t<tr><th scope=row>95</th><td>ASSQEEGGGSWGNTIY</td><td>Human</td><td>Cancer</td><td>Melanoma</td><td>EAAGIGILTV</td><td>HLA-A*02</td></tr>\n",
       "\t<tr><th scope=row>96</th><td>ASSQEGLAGASQY   </td><td>Human</td><td>Cancer</td><td>Melanoma</td><td>EAAGIGILTV</td><td>HLA-A*02</td></tr>\n",
       "\t<tr><th scope=row>97</th><td>ASSQETDIVFNOPQH </td><td>Human</td><td>Cancer</td><td>Melanoma</td><td>EAAGIGILTV</td><td>HLA-A*02</td></tr>\n",
       "\t<tr><th scope=row>98</th><td>ASSQGQLTDTQY    </td><td>Human</td><td>Cancer</td><td>Melanoma</td><td>EAAGIGILTV</td><td>HLA-A*02</td></tr>\n",
       "</tbody>\n",
       "</table>\n"
      ],
      "text/latex": [
       "A data.frame: 6 × 6\n",
       "\\begin{tabular}{r|llllll}\n",
       "  & CDR3.beta.aa & Species & Category & Pathology & Epitope.peptide & MHC\\\\\n",
       "  & <chr> & <chr> & <chr> & <chr> & <chr> & <chr>\\\\\n",
       "\\hline\n",
       "\t93 & ASSLGNEQ         & Human & Cancer & Melanoma & EAAGIGILTV & HLA-A*02\\\\\n",
       "\t94 & ASSLGVATGEL      & Human & Cancer & Melanoma & EAAGIGILTV & HLA-A*02\\\\\n",
       "\t95 & ASSQEEGGGSWGNTIY & Human & Cancer & Melanoma & EAAGIGILTV & HLA-A*02\\\\\n",
       "\t96 & ASSQEGLAGASQY    & Human & Cancer & Melanoma & EAAGIGILTV & HLA-A*02\\\\\n",
       "\t97 & ASSQETDIVFNOPQH  & Human & Cancer & Melanoma & EAAGIGILTV & HLA-A*02\\\\\n",
       "\t98 & ASSQGQLTDTQY     & Human & Cancer & Melanoma & EAAGIGILTV & HLA-A*02\\\\\n",
       "\\end{tabular}\n"
      ],
      "text/markdown": [
       "\n",
       "A data.frame: 6 × 6\n",
       "\n",
       "| <!--/--> | CDR3.beta.aa &lt;chr&gt; | Species &lt;chr&gt; | Category &lt;chr&gt; | Pathology &lt;chr&gt; | Epitope.peptide &lt;chr&gt; | MHC &lt;chr&gt; |\n",
       "|---|---|---|---|---|---|---|\n",
       "| 93 | ASSLGNEQ         | Human | Cancer | Melanoma | EAAGIGILTV | HLA-A*02 |\n",
       "| 94 | ASSLGVATGEL      | Human | Cancer | Melanoma | EAAGIGILTV | HLA-A*02 |\n",
       "| 95 | ASSQEEGGGSWGNTIY | Human | Cancer | Melanoma | EAAGIGILTV | HLA-A*02 |\n",
       "| 96 | ASSQEGLAGASQY    | Human | Cancer | Melanoma | EAAGIGILTV | HLA-A*02 |\n",
       "| 97 | ASSQETDIVFNOPQH  | Human | Cancer | Melanoma | EAAGIGILTV | HLA-A*02 |\n",
       "| 98 | ASSQGQLTDTQY     | Human | Cancer | Melanoma | EAAGIGILTV | HLA-A*02 |\n",
       "\n"
      ],
      "text/plain": [
       "   CDR3.beta.aa     Species Category Pathology Epitope.peptide MHC     \n",
       "93 ASSLGNEQ         Human   Cancer   Melanoma  EAAGIGILTV      HLA-A*02\n",
       "94 ASSLGVATGEL      Human   Cancer   Melanoma  EAAGIGILTV      HLA-A*02\n",
       "95 ASSQEEGGGSWGNTIY Human   Cancer   Melanoma  EAAGIGILTV      HLA-A*02\n",
       "96 ASSQEGLAGASQY    Human   Cancer   Melanoma  EAAGIGILTV      HLA-A*02\n",
       "97 ASSQETDIVFNOPQH  Human   Cancer   Melanoma  EAAGIGILTV      HLA-A*02\n",
       "98 ASSQGQLTDTQY     Human   Cancer   Melanoma  EAAGIGILTV      HLA-A*02"
      ]
     },
     "metadata": {},
     "output_type": "display_data"
    }
   ],
   "source": [
    "head(dat)"
   ]
  },
  {
   "cell_type": "code",
   "execution_count": 14,
   "id": "240e55f8",
   "metadata": {},
   "outputs": [],
   "source": [
    "# write loaded data\n",
    "write.table(dat, 'McPAS-loaded.csv', quote = F, row.names = F, sep = ',', append = F)"
   ]
  },
  {
   "cell_type": "markdown",
   "id": "c497e10d",
   "metadata": {},
   "source": [
    "# Analysis"
   ]
  },
  {
   "cell_type": "code",
   "execution_count": 15,
   "id": "744e8fa2",
   "metadata": {},
   "outputs": [
    {
     "data": {
      "text/html": [
       "<style>\n",
       ".list-inline {list-style: none; margin:0; padding: 0}\n",
       ".list-inline>li {display: inline-block}\n",
       ".list-inline>li:not(:last-child)::after {content: \"\\00b7\"; padding: 0 .5ex}\n",
       "</style>\n",
       "<ol class=list-inline><li>'Melanoma'</li><li>'Epstein Barr virus (EBV)'</li><li>'Multiple sclerosis (MS)'</li><li>'Cytomegalovirus (CMV)'</li><li>'Diabetes Type 1'</li><li>'Human immunodeficiency virus (HIV)'</li><li>'Herpes simplex virus 2 (HSV2)'</li><li>'Hepatitis C virus'</li><li>'Allergy'</li><li>'Influenza'</li><li>'Acute myeloid leukemia'</li><li>'Lung cancer'</li><li>'Celiac disease'</li><li>'Yellow fever virus'</li><li>'M. tuberculosis'</li><li>'Neoantigen'</li><li>'Hepatitis C virus (HCV)'</li><li>'Diabetes type 2'</li><li>'Lymphoma'</li><li>'Human herpes virus 1'</li><li>'Human papilloma virus'</li><li>'HTLV-1'</li><li>'pollen allergen'</li><li>'Merkel cell carcinoma'</li><li>'Epithelial ovarian cancer'</li><li>'Alzheimer\\'s disease'</li><li>'HTLV-1 (Chronic'</li><li>'Hepatitis E virus infection (cHEV)'</li><li>NA</li><li>'Tumor associated antigen (TAA)'</li></ol>\n"
      ],
      "text/latex": [
       "\\begin{enumerate*}\n",
       "\\item 'Melanoma'\n",
       "\\item 'Epstein Barr virus (EBV)'\n",
       "\\item 'Multiple sclerosis (MS)'\n",
       "\\item 'Cytomegalovirus (CMV)'\n",
       "\\item 'Diabetes Type 1'\n",
       "\\item 'Human immunodeficiency virus (HIV)'\n",
       "\\item 'Herpes simplex virus 2 (HSV2)'\n",
       "\\item 'Hepatitis C virus'\n",
       "\\item 'Allergy'\n",
       "\\item 'Influenza'\n",
       "\\item 'Acute myeloid leukemia'\n",
       "\\item 'Lung cancer'\n",
       "\\item 'Celiac disease'\n",
       "\\item 'Yellow fever virus'\n",
       "\\item 'M. tuberculosis'\n",
       "\\item 'Neoantigen'\n",
       "\\item 'Hepatitis C virus (HCV)'\n",
       "\\item 'Diabetes type 2'\n",
       "\\item 'Lymphoma'\n",
       "\\item 'Human herpes virus 1'\n",
       "\\item 'Human papilloma virus'\n",
       "\\item 'HTLV-1'\n",
       "\\item 'pollen allergen'\n",
       "\\item 'Merkel cell carcinoma'\n",
       "\\item 'Epithelial ovarian cancer'\n",
       "\\item 'Alzheimer\\textbackslash{}'s disease'\n",
       "\\item 'HTLV-1 (Chronic'\n",
       "\\item 'Hepatitis E virus infection (cHEV)'\n",
       "\\item NA\n",
       "\\item 'Tumor associated antigen (TAA)'\n",
       "\\end{enumerate*}\n"
      ],
      "text/markdown": [
       "1. 'Melanoma'\n",
       "2. 'Epstein Barr virus (EBV)'\n",
       "3. 'Multiple sclerosis (MS)'\n",
       "4. 'Cytomegalovirus (CMV)'\n",
       "5. 'Diabetes Type 1'\n",
       "6. 'Human immunodeficiency virus (HIV)'\n",
       "7. 'Herpes simplex virus 2 (HSV2)'\n",
       "8. 'Hepatitis C virus'\n",
       "9. 'Allergy'\n",
       "10. 'Influenza'\n",
       "11. 'Acute myeloid leukemia'\n",
       "12. 'Lung cancer'\n",
       "13. 'Celiac disease'\n",
       "14. 'Yellow fever virus'\n",
       "15. 'M. tuberculosis'\n",
       "16. 'Neoantigen'\n",
       "17. 'Hepatitis C virus (HCV)'\n",
       "18. 'Diabetes type 2'\n",
       "19. 'Lymphoma'\n",
       "20. 'Human herpes virus 1'\n",
       "21. 'Human papilloma virus'\n",
       "22. 'HTLV-1'\n",
       "23. 'pollen allergen'\n",
       "24. 'Merkel cell carcinoma'\n",
       "25. 'Epithelial ovarian cancer'\n",
       "26. 'Alzheimer\\'s disease'\n",
       "27. 'HTLV-1 (Chronic'\n",
       "28. 'Hepatitis E virus infection (cHEV)'\n",
       "29. NA\n",
       "30. 'Tumor associated antigen (TAA)'\n",
       "\n",
       "\n"
      ],
      "text/plain": [
       " [1] \"Melanoma\"                           \"Epstein Barr virus (EBV)\"          \n",
       " [3] \"Multiple sclerosis (MS)\"            \"Cytomegalovirus (CMV)\"             \n",
       " [5] \"Diabetes Type 1\"                    \"Human immunodeficiency virus (HIV)\"\n",
       " [7] \"Herpes simplex virus 2 (HSV2)\"      \"Hepatitis C virus\"                 \n",
       " [9] \"Allergy\"                            \"Influenza\"                         \n",
       "[11] \"Acute myeloid leukemia\"             \"Lung cancer\"                       \n",
       "[13] \"Celiac disease\"                     \"Yellow fever virus\"                \n",
       "[15] \"M. tuberculosis\"                    \"Neoantigen\"                        \n",
       "[17] \"Hepatitis C virus (HCV)\"            \"Diabetes type 2\"                   \n",
       "[19] \"Lymphoma\"                           \"Human herpes virus 1\"              \n",
       "[21] \"Human papilloma virus\"              \"HTLV-1\"                            \n",
       "[23] \"pollen allergen\"                    \"Merkel cell carcinoma\"             \n",
       "[25] \"Epithelial ovarian cancer\"          \"Alzheimer's disease\"               \n",
       "[27] \"HTLV-1 (Chronic\"                    \"Hepatitis E virus infection (cHEV)\"\n",
       "[29] NA                                   \"Tumor associated antigen (TAA)\"    "
      ]
     },
     "metadata": {},
     "output_type": "display_data"
    }
   ],
   "source": [
    "unique(dat$Pathology)"
   ]
  },
  {
   "cell_type": "code",
   "execution_count": 16,
   "id": "841b91d7",
   "metadata": {},
   "outputs": [
    {
     "data": {
      "text/html": [
       "<style>\n",
       ".list-inline {list-style: none; margin:0; padding: 0}\n",
       ".list-inline>li {display: inline-block}\n",
       ".list-inline>li:not(:last-child)::after {content: \"\\00b7\"; padding: 0 .5ex}\n",
       "</style>\n",
       "<ol class=list-inline><li>'Cancer'</li><li>'Pathogens'</li><li>'Autoimmune'</li><li>'Allergy'</li></ol>\n"
      ],
      "text/latex": [
       "\\begin{enumerate*}\n",
       "\\item 'Cancer'\n",
       "\\item 'Pathogens'\n",
       "\\item 'Autoimmune'\n",
       "\\item 'Allergy'\n",
       "\\end{enumerate*}\n"
      ],
      "text/markdown": [
       "1. 'Cancer'\n",
       "2. 'Pathogens'\n",
       "3. 'Autoimmune'\n",
       "4. 'Allergy'\n",
       "\n",
       "\n"
      ],
      "text/plain": [
       "[1] \"Cancer\"     \"Pathogens\"  \"Autoimmune\" \"Allergy\"   "
      ]
     },
     "metadata": {},
     "output_type": "display_data"
    }
   ],
   "source": [
    "unique(dat$Category)"
   ]
  },
  {
   "cell_type": "code",
   "execution_count": 17,
   "id": "5b5eeff1",
   "metadata": {
    "scrolled": true
   },
   "outputs": [
    {
     "data": {
      "text/html": [
       "<table class=\"dataframe\">\n",
       "<caption>A data.frame: 6 × 6</caption>\n",
       "<thead>\n",
       "\t<tr><th></th><th scope=col>CDR3.beta.aa</th><th scope=col>Species</th><th scope=col>Category</th><th scope=col>Pathology</th><th scope=col>Epitope.peptide</th><th scope=col>MHC</th></tr>\n",
       "\t<tr><th></th><th scope=col>&lt;chr&gt;</th><th scope=col>&lt;chr&gt;</th><th scope=col>&lt;chr&gt;</th><th scope=col>&lt;chr&gt;</th><th scope=col>&lt;chr&gt;</th><th scope=col>&lt;chr&gt;</th></tr>\n",
       "</thead>\n",
       "<tbody>\n",
       "\t<tr><th scope=row>93</th><td>ASSLGNEQ        </td><td>Human</td><td>Cancer</td><td>Melanoma</td><td>EAAGIGILTV</td><td>HLA-A*02</td></tr>\n",
       "\t<tr><th scope=row>94</th><td>ASSLGVATGEL     </td><td>Human</td><td>Cancer</td><td>Melanoma</td><td>EAAGIGILTV</td><td>HLA-A*02</td></tr>\n",
       "\t<tr><th scope=row>95</th><td>ASSQEEGGGSWGNTIY</td><td>Human</td><td>Cancer</td><td>Melanoma</td><td>EAAGIGILTV</td><td>HLA-A*02</td></tr>\n",
       "\t<tr><th scope=row>96</th><td>ASSQEGLAGASQY   </td><td>Human</td><td>Cancer</td><td>Melanoma</td><td>EAAGIGILTV</td><td>HLA-A*02</td></tr>\n",
       "\t<tr><th scope=row>97</th><td>ASSQETDIVFNOPQH </td><td>Human</td><td>Cancer</td><td>Melanoma</td><td>EAAGIGILTV</td><td>HLA-A*02</td></tr>\n",
       "\t<tr><th scope=row>98</th><td>ASSQGQLTDTQY    </td><td>Human</td><td>Cancer</td><td>Melanoma</td><td>EAAGIGILTV</td><td>HLA-A*02</td></tr>\n",
       "</tbody>\n",
       "</table>\n"
      ],
      "text/latex": [
       "A data.frame: 6 × 6\n",
       "\\begin{tabular}{r|llllll}\n",
       "  & CDR3.beta.aa & Species & Category & Pathology & Epitope.peptide & MHC\\\\\n",
       "  & <chr> & <chr> & <chr> & <chr> & <chr> & <chr>\\\\\n",
       "\\hline\n",
       "\t93 & ASSLGNEQ         & Human & Cancer & Melanoma & EAAGIGILTV & HLA-A*02\\\\\n",
       "\t94 & ASSLGVATGEL      & Human & Cancer & Melanoma & EAAGIGILTV & HLA-A*02\\\\\n",
       "\t95 & ASSQEEGGGSWGNTIY & Human & Cancer & Melanoma & EAAGIGILTV & HLA-A*02\\\\\n",
       "\t96 & ASSQEGLAGASQY    & Human & Cancer & Melanoma & EAAGIGILTV & HLA-A*02\\\\\n",
       "\t97 & ASSQETDIVFNOPQH  & Human & Cancer & Melanoma & EAAGIGILTV & HLA-A*02\\\\\n",
       "\t98 & ASSQGQLTDTQY     & Human & Cancer & Melanoma & EAAGIGILTV & HLA-A*02\\\\\n",
       "\\end{tabular}\n"
      ],
      "text/markdown": [
       "\n",
       "A data.frame: 6 × 6\n",
       "\n",
       "| <!--/--> | CDR3.beta.aa &lt;chr&gt; | Species &lt;chr&gt; | Category &lt;chr&gt; | Pathology &lt;chr&gt; | Epitope.peptide &lt;chr&gt; | MHC &lt;chr&gt; |\n",
       "|---|---|---|---|---|---|---|\n",
       "| 93 | ASSLGNEQ         | Human | Cancer | Melanoma | EAAGIGILTV | HLA-A*02 |\n",
       "| 94 | ASSLGVATGEL      | Human | Cancer | Melanoma | EAAGIGILTV | HLA-A*02 |\n",
       "| 95 | ASSQEEGGGSWGNTIY | Human | Cancer | Melanoma | EAAGIGILTV | HLA-A*02 |\n",
       "| 96 | ASSQEGLAGASQY    | Human | Cancer | Melanoma | EAAGIGILTV | HLA-A*02 |\n",
       "| 97 | ASSQETDIVFNOPQH  | Human | Cancer | Melanoma | EAAGIGILTV | HLA-A*02 |\n",
       "| 98 | ASSQGQLTDTQY     | Human | Cancer | Melanoma | EAAGIGILTV | HLA-A*02 |\n",
       "\n"
      ],
      "text/plain": [
       "   CDR3.beta.aa     Species Category Pathology Epitope.peptide MHC     \n",
       "93 ASSLGNEQ         Human   Cancer   Melanoma  EAAGIGILTV      HLA-A*02\n",
       "94 ASSLGVATGEL      Human   Cancer   Melanoma  EAAGIGILTV      HLA-A*02\n",
       "95 ASSQEEGGGSWGNTIY Human   Cancer   Melanoma  EAAGIGILTV      HLA-A*02\n",
       "96 ASSQEGLAGASQY    Human   Cancer   Melanoma  EAAGIGILTV      HLA-A*02\n",
       "97 ASSQETDIVFNOPQH  Human   Cancer   Melanoma  EAAGIGILTV      HLA-A*02\n",
       "98 ASSQGQLTDTQY     Human   Cancer   Melanoma  EAAGIGILTV      HLA-A*02"
      ]
     },
     "metadata": {},
     "output_type": "display_data"
    }
   ],
   "source": [
    "head(dat)"
   ]
  },
  {
   "cell_type": "code",
   "execution_count": 18,
   "id": "0dc5cda8",
   "metadata": {},
   "outputs": [
    {
     "data": {
      "text/html": [
       "<style>\n",
       ".list-inline {list-style: none; margin:0; padding: 0}\n",
       ".list-inline>li {display: inline-block}\n",
       ".list-inline>li:not(:last-child)::after {content: \"\\00b7\"; padding: 0 .5ex}\n",
       "</style>\n",
       "<ol class=list-inline><li>10415</li><li>4</li></ol>\n"
      ],
      "text/latex": [
       "\\begin{enumerate*}\n",
       "\\item 10415\n",
       "\\item 4\n",
       "\\end{enumerate*}\n"
      ],
      "text/markdown": [
       "1. 10415\n",
       "2. 4\n",
       "\n",
       "\n"
      ],
      "text/plain": [
       "[1] 10415     4"
      ]
     },
     "metadata": {},
     "output_type": "display_data"
    }
   ],
   "source": [
    "dat <- unique(dat[, c('CDR3.beta.aa', 'MHC', 'Epitope.peptide', 'Pathology')])\n",
    "dim(dat)"
   ]
  },
  {
   "cell_type": "code",
   "execution_count": 19,
   "id": "75f6c6e4",
   "metadata": {
    "scrolled": true
   },
   "outputs": [
    {
     "data": {
      "text/html": [
       "62"
      ],
      "text/latex": [
       "62"
      ],
      "text/markdown": [
       "62"
      ],
      "text/plain": [
       "[1] 62"
      ]
     },
     "metadata": {},
     "output_type": "display_data"
    },
    {
     "data": {
      "text/html": [
       "<style>\n",
       ".list-inline {list-style: none; margin:0; padding: 0}\n",
       ".list-inline>li {display: inline-block}\n",
       ".list-inline>li:not(:last-child)::after {content: \"\\00b7\"; padding: 0 .5ex}\n",
       "</style>\n",
       "<ol class=list-inline><li>'DQ8-trans'</li><li>'DR3*02:02'</li><li>'DRB1*04-01'</li><li>'DRB1*04:01'</li><li>'DRB1*15:03'</li><li>'H-2Kb'</li><li>'HLA-A*01'</li><li>'HLA-A*011'</li><li>'HLA-A*01:01'</li><li>'HLA-A*02'</li><li>'HLA-A*02:01'</li><li>'HLA-A*02:02'</li><li>'HLA-A*02:03'</li><li>'HLA-A*02:04'</li><li>'HLA-A*02:05'</li><li>'HLA-A*02:06'</li><li>'HLA-A*02:07'</li><li>'HLA-A*02:08'</li><li>'HLA-A*02:09'</li><li>'HLA-A*02:10'</li><li>'HLA-A*02:11'</li><li>'HLA-A*02:12'</li><li>'HLA-A*02:13'</li><li>'HLA-A*02:14'</li><li>'HLA-A*02:15'</li><li>'HLA-A*02:16'</li><li>'HLA-A*02:17'</li><li>'HLA-A*11:01'</li><li>'HLA-A*24:02'</li><li>'HLA-A*2:01'</li><li>'HLA-A1'</li><li>'HLA-A2'</li><li>'HLA-A2:01'</li><li>'HLA-B*07:02'</li><li>'HLA-B*08'</li><li>'HLA-B*08:01'</li><li>'HLA-B*15'</li><li>'HLA-B*27'</li><li>'HLA-B*27:05'</li><li>'HLA-B*35:01'</li><li>'HLA-B*35:02'</li><li>'HLA-B*42'</li><li>'HLA-B*42:01'</li><li>'HLA-B*44:05'</li><li>'HLA-B*57'</li><li>'HLA-B*57:01'</li><li>'HLA-B*57:03'</li><li>'HLA-B*8'</li><li>'HLA-B7'</li><li>'HLA-C*07:02'</li><li>'HLA-Cw* 16:01'</li><li>'HLA-DPB1*02:01'</li><li>'HLA-DQ2'</li><li>'HLA-DQ2.5'</li><li>'HLA-DQ8'</li><li>'HLA-DR1'</li><li>'HLA-DR11'</li><li>'HLA-DR15'</li><li>'HLA-DR5'</li><li>'HLA-DRB1'</li><li>'HLA-DRB1*04:01'</li></ol>\n"
      ],
      "text/latex": [
       "\\begin{enumerate*}\n",
       "\\item 'DQ8-trans'\n",
       "\\item 'DR3*02:02'\n",
       "\\item 'DRB1*04-01'\n",
       "\\item 'DRB1*04:01'\n",
       "\\item 'DRB1*15:03'\n",
       "\\item 'H-2Kb'\n",
       "\\item 'HLA-A*01'\n",
       "\\item 'HLA-A*011'\n",
       "\\item 'HLA-A*01:01'\n",
       "\\item 'HLA-A*02'\n",
       "\\item 'HLA-A*02:01'\n",
       "\\item 'HLA-A*02:02'\n",
       "\\item 'HLA-A*02:03'\n",
       "\\item 'HLA-A*02:04'\n",
       "\\item 'HLA-A*02:05'\n",
       "\\item 'HLA-A*02:06'\n",
       "\\item 'HLA-A*02:07'\n",
       "\\item 'HLA-A*02:08'\n",
       "\\item 'HLA-A*02:09'\n",
       "\\item 'HLA-A*02:10'\n",
       "\\item 'HLA-A*02:11'\n",
       "\\item 'HLA-A*02:12'\n",
       "\\item 'HLA-A*02:13'\n",
       "\\item 'HLA-A*02:14'\n",
       "\\item 'HLA-A*02:15'\n",
       "\\item 'HLA-A*02:16'\n",
       "\\item 'HLA-A*02:17'\n",
       "\\item 'HLA-A*11:01'\n",
       "\\item 'HLA-A*24:02'\n",
       "\\item 'HLA-A*2:01'\n",
       "\\item 'HLA-A1'\n",
       "\\item 'HLA-A2'\n",
       "\\item 'HLA-A2:01'\n",
       "\\item 'HLA-B*07:02'\n",
       "\\item 'HLA-B*08'\n",
       "\\item 'HLA-B*08:01'\n",
       "\\item 'HLA-B*15'\n",
       "\\item 'HLA-B*27'\n",
       "\\item 'HLA-B*27:05'\n",
       "\\item 'HLA-B*35:01'\n",
       "\\item 'HLA-B*35:02'\n",
       "\\item 'HLA-B*42'\n",
       "\\item 'HLA-B*42:01'\n",
       "\\item 'HLA-B*44:05'\n",
       "\\item 'HLA-B*57'\n",
       "\\item 'HLA-B*57:01'\n",
       "\\item 'HLA-B*57:03'\n",
       "\\item 'HLA-B*8'\n",
       "\\item 'HLA-B7'\n",
       "\\item 'HLA-C*07:02'\n",
       "\\item 'HLA-Cw* 16:01'\n",
       "\\item 'HLA-DPB1*02:01'\n",
       "\\item 'HLA-DQ2'\n",
       "\\item 'HLA-DQ2.5'\n",
       "\\item 'HLA-DQ8'\n",
       "\\item 'HLA-DR1'\n",
       "\\item 'HLA-DR11'\n",
       "\\item 'HLA-DR15'\n",
       "\\item 'HLA-DR5'\n",
       "\\item 'HLA-DRB1'\n",
       "\\item 'HLA-DRB1*04:01'\n",
       "\\end{enumerate*}\n"
      ],
      "text/markdown": [
       "1. 'DQ8-trans'\n",
       "2. 'DR3*02:02'\n",
       "3. 'DRB1*04-01'\n",
       "4. 'DRB1*04:01'\n",
       "5. 'DRB1*15:03'\n",
       "6. 'H-2Kb'\n",
       "7. 'HLA-A*01'\n",
       "8. 'HLA-A*011'\n",
       "9. 'HLA-A*01:01'\n",
       "10. 'HLA-A*02'\n",
       "11. 'HLA-A*02:01'\n",
       "12. 'HLA-A*02:02'\n",
       "13. 'HLA-A*02:03'\n",
       "14. 'HLA-A*02:04'\n",
       "15. 'HLA-A*02:05'\n",
       "16. 'HLA-A*02:06'\n",
       "17. 'HLA-A*02:07'\n",
       "18. 'HLA-A*02:08'\n",
       "19. 'HLA-A*02:09'\n",
       "20. 'HLA-A*02:10'\n",
       "21. 'HLA-A*02:11'\n",
       "22. 'HLA-A*02:12'\n",
       "23. 'HLA-A*02:13'\n",
       "24. 'HLA-A*02:14'\n",
       "25. 'HLA-A*02:15'\n",
       "26. 'HLA-A*02:16'\n",
       "27. 'HLA-A*02:17'\n",
       "28. 'HLA-A*11:01'\n",
       "29. 'HLA-A*24:02'\n",
       "30. 'HLA-A*2:01'\n",
       "31. 'HLA-A1'\n",
       "32. 'HLA-A2'\n",
       "33. 'HLA-A2:01'\n",
       "34. 'HLA-B*07:02'\n",
       "35. 'HLA-B*08'\n",
       "36. 'HLA-B*08:01'\n",
       "37. 'HLA-B*15'\n",
       "38. 'HLA-B*27'\n",
       "39. 'HLA-B*27:05'\n",
       "40. 'HLA-B*35:01'\n",
       "41. 'HLA-B*35:02'\n",
       "42. 'HLA-B*42'\n",
       "43. 'HLA-B*42:01'\n",
       "44. 'HLA-B*44:05'\n",
       "45. 'HLA-B*57'\n",
       "46. 'HLA-B*57:01'\n",
       "47. 'HLA-B*57:03'\n",
       "48. 'HLA-B*8'\n",
       "49. 'HLA-B7'\n",
       "50. 'HLA-C*07:02'\n",
       "51. 'HLA-Cw* 16:01'\n",
       "52. 'HLA-DPB1*02:01'\n",
       "53. 'HLA-DQ2'\n",
       "54. 'HLA-DQ2.5'\n",
       "55. 'HLA-DQ8'\n",
       "56. 'HLA-DR1'\n",
       "57. 'HLA-DR11'\n",
       "58. 'HLA-DR15'\n",
       "59. 'HLA-DR5'\n",
       "60. 'HLA-DRB1'\n",
       "61. 'HLA-DRB1*04:01'\n",
       "\n",
       "\n"
      ],
      "text/plain": [
       " [1] \"DQ8-trans\"      \"DR3*02:02\"      \"DRB1*04-01\"     \"DRB1*04:01\"    \n",
       " [5] \"DRB1*15:03\"     \"H-2Kb\"          \"HLA-A*01\"       \"HLA-A*011\"     \n",
       " [9] \"HLA-A*01:01\"    \"HLA-A*02\"       \"HLA-A*02:01\"    \"HLA-A*02:02\"   \n",
       "[13] \"HLA-A*02:03\"    \"HLA-A*02:04\"    \"HLA-A*02:05\"    \"HLA-A*02:06\"   \n",
       "[17] \"HLA-A*02:07\"    \"HLA-A*02:08\"    \"HLA-A*02:09\"    \"HLA-A*02:10\"   \n",
       "[21] \"HLA-A*02:11\"    \"HLA-A*02:12\"    \"HLA-A*02:13\"    \"HLA-A*02:14\"   \n",
       "[25] \"HLA-A*02:15\"    \"HLA-A*02:16\"    \"HLA-A*02:17\"    \"HLA-A*11:01\"   \n",
       "[29] \"HLA-A*24:02\"    \"HLA-A*2:01\"     \"HLA-A1\"         \"HLA-A2\"        \n",
       "[33] \"HLA-A2:01\"      \"HLA-B*07:02\"    \"HLA-B*08\"       \"HLA-B*08:01\"   \n",
       "[37] \"HLA-B*15\"       \"HLA-B*27\"       \"HLA-B*27:05\"    \"HLA-B*35:01\"   \n",
       "[41] \"HLA-B*35:02\"    \"HLA-B*42\"       \"HLA-B*42:01\"    \"HLA-B*44:05\"   \n",
       "[45] \"HLA-B*57\"       \"HLA-B*57:01\"    \"HLA-B*57:03\"    \"HLA-B*8\"       \n",
       "[49] \"HLA-B7\"         \"HLA-C*07:02\"    \"HLA-Cw* 16:01\"  \"HLA-DPB1*02:01\"\n",
       "[53] \"HLA-DQ2\"        \"HLA-DQ2.5\"      \"HLA-DQ8\"        \"HLA-DR1\"       \n",
       "[57] \"HLA-DR11\"       \"HLA-DR15\"       \"HLA-DR5\"        \"HLA-DRB1\"      \n",
       "[61] \"HLA-DRB1*04:01\""
      ]
     },
     "metadata": {},
     "output_type": "display_data"
    }
   ],
   "source": [
    "length(unique(dat$MHC))\n",
    "sort(unique(dat$MHC))"
   ]
  },
  {
   "cell_type": "code",
   "execution_count": 20,
   "id": "990647f4",
   "metadata": {
    "scrolled": true
   },
   "outputs": [
    {
     "data": {
      "text/plain": [
       "\n",
       "     DQ8-trans          H-2Kb    HLA-A*02:02    HLA-A*02:03    HLA-A*02:04 \n",
       "             1              1              1              1              1 \n",
       "   HLA-A*02:05    HLA-A*02:06    HLA-A*02:07    HLA-A*02:08    HLA-A*02:09 \n",
       "             1              1              1              1              1 \n",
       "   HLA-A*02:10    HLA-A*02:11    HLA-A*02:12    HLA-A*02:16    HLA-A*02:17 \n",
       "             1              1              1              1              1 \n",
       "      HLA-B*42       HLA-A*01    HLA-A*02:13    HLA-A*02:14    HLA-A*02:15 \n",
       "             1              2              2              2              2 \n",
       "   HLA-B*35:02    HLA-B*44:05      DR3*02:02        HLA-B*8  HLA-Cw* 16:01 \n",
       "             2              2              3              3              4 \n",
       "      HLA-B*15     DRB1*04:01     DRB1*15:03     HLA-A*2:01      HLA-DQ2.5 \n",
       "             5              7              7              7              7 \n",
       "       HLA-DQ8 HLA-DRB1*04:01 HLA-DPB1*02:01       HLA-DRB1      HLA-A*011 \n",
       "             7             13             14             14             15 \n",
       "   HLA-A*11:01       HLA-B*27       HLA-B*57        HLA-DR1       HLA-B*08 \n",
       "            15             15             26             32             46 \n",
       "   HLA-A*01:01    HLA-B*35:01    HLA-B*57:01    HLA-B*57:03       HLA-DR11 \n",
       "            52             52             61             74             80 \n",
       "       HLA-DR5    HLA-B*27:05       HLA-DR15        HLA-DQ2      HLA-A2:01 \n",
       "            82             93            115            134            191 \n",
       "   HLA-A*24:02    HLA-B*08:01    HLA-B*42:01         HLA-A1     DRB1*04-01 \n",
       "           203            208            292            297            364 \n",
       "      HLA-A*02    HLA-B*07:02    HLA-C*07:02    HLA-A*02:01         HLA-B7 \n",
       "           391            466            701           1284           2174 \n",
       "        HLA-A2 \n",
       "          2756 "
      ]
     },
     "metadata": {},
     "output_type": "display_data"
    }
   ],
   "source": [
    "sort(table(dat$MHC))"
   ]
  },
  {
   "cell_type": "code",
   "execution_count": 21,
   "id": "6fbb8ef1",
   "metadata": {},
   "outputs": [
    {
     "data": {
      "text/html": [
       "<style>\n",
       ".list-inline {list-style: none; margin:0; padding: 0}\n",
       ".list-inline>li {display: inline-block}\n",
       ".list-inline>li:not(:last-child)::after {content: \"\\00b7\"; padding: 0 .5ex}\n",
       "</style>\n",
       "<ol class=list-inline><li>10232</li><li>2</li></ol>\n"
      ],
      "text/latex": [
       "\\begin{enumerate*}\n",
       "\\item 10232\n",
       "\\item 2\n",
       "\\end{enumerate*}\n"
      ],
      "text/markdown": [
       "1. 10232\n",
       "2. 2\n",
       "\n",
       "\n"
      ],
      "text/plain": [
       "[1] 10232     2"
      ]
     },
     "metadata": {},
     "output_type": "display_data"
    }
   ],
   "source": [
    "# In CDR3-epitope prediction, HLA alleles are not needed. Therefore, unclear epitopes are kept.\n",
    "dat_wohla <- unique(dat[, c('CDR3.beta.aa', 'Epitope.peptide')])\n",
    "dim(dat_wohla)"
   ]
  },
  {
   "cell_type": "code",
   "execution_count": 22,
   "id": "d32508f6",
   "metadata": {
    "scrolled": true
   },
   "outputs": [
    {
     "data": {
      "text/html": [
       "<table class=\"dataframe\">\n",
       "<caption>A data.frame: 6 × 2</caption>\n",
       "<thead>\n",
       "\t<tr><th></th><th scope=col>CDR3.beta.aa</th><th scope=col>Epitope.peptide</th></tr>\n",
       "\t<tr><th></th><th scope=col>&lt;chr&gt;</th><th scope=col>&lt;chr&gt;</th></tr>\n",
       "</thead>\n",
       "<tbody>\n",
       "\t<tr><th scope=row>93</th><td>ASSLGNEQ        </td><td>EAAGIGILTV</td></tr>\n",
       "\t<tr><th scope=row>94</th><td>ASSLGVATGEL     </td><td>EAAGIGILTV</td></tr>\n",
       "\t<tr><th scope=row>95</th><td>ASSQEEGGGSWGNTIY</td><td>EAAGIGILTV</td></tr>\n",
       "\t<tr><th scope=row>96</th><td>ASSQEGLAGASQY   </td><td>EAAGIGILTV</td></tr>\n",
       "\t<tr><th scope=row>97</th><td>ASSQETDIVFNOPQH </td><td>EAAGIGILTV</td></tr>\n",
       "\t<tr><th scope=row>98</th><td>ASSQGQLTDTQY    </td><td>EAAGIGILTV</td></tr>\n",
       "</tbody>\n",
       "</table>\n"
      ],
      "text/latex": [
       "A data.frame: 6 × 2\n",
       "\\begin{tabular}{r|ll}\n",
       "  & CDR3.beta.aa & Epitope.peptide\\\\\n",
       "  & <chr> & <chr>\\\\\n",
       "\\hline\n",
       "\t93 & ASSLGNEQ         & EAAGIGILTV\\\\\n",
       "\t94 & ASSLGVATGEL      & EAAGIGILTV\\\\\n",
       "\t95 & ASSQEEGGGSWGNTIY & EAAGIGILTV\\\\\n",
       "\t96 & ASSQEGLAGASQY    & EAAGIGILTV\\\\\n",
       "\t97 & ASSQETDIVFNOPQH  & EAAGIGILTV\\\\\n",
       "\t98 & ASSQGQLTDTQY     & EAAGIGILTV\\\\\n",
       "\\end{tabular}\n"
      ],
      "text/markdown": [
       "\n",
       "A data.frame: 6 × 2\n",
       "\n",
       "| <!--/--> | CDR3.beta.aa &lt;chr&gt; | Epitope.peptide &lt;chr&gt; |\n",
       "|---|---|---|\n",
       "| 93 | ASSLGNEQ         | EAAGIGILTV |\n",
       "| 94 | ASSLGVATGEL      | EAAGIGILTV |\n",
       "| 95 | ASSQEEGGGSWGNTIY | EAAGIGILTV |\n",
       "| 96 | ASSQEGLAGASQY    | EAAGIGILTV |\n",
       "| 97 | ASSQETDIVFNOPQH  | EAAGIGILTV |\n",
       "| 98 | ASSQGQLTDTQY     | EAAGIGILTV |\n",
       "\n"
      ],
      "text/plain": [
       "   CDR3.beta.aa     Epitope.peptide\n",
       "93 ASSLGNEQ         EAAGIGILTV     \n",
       "94 ASSLGVATGEL      EAAGIGILTV     \n",
       "95 ASSQEEGGGSWGNTIY EAAGIGILTV     \n",
       "96 ASSQEGLAGASQY    EAAGIGILTV     \n",
       "97 ASSQETDIVFNOPQH  EAAGIGILTV     \n",
       "98 ASSQGQLTDTQY     EAAGIGILTV     "
      ]
     },
     "metadata": {},
     "output_type": "display_data"
    }
   ],
   "source": [
    "head(dat_wohla)\n",
    "write.table(dat_wohla, 'McPAS-without-HLA.csv', quote = F, row.names = F, append = F, sep = ',')"
   ]
  },
  {
   "cell_type": "code",
   "execution_count": 23,
   "id": "e5974cd0",
   "metadata": {},
   "outputs": [
    {
     "data": {
      "text/plain": [
       "\n",
       "     DQ8-trans      DR3*02:02     DRB1*04-01     DRB1*04:01     DRB1*15:03 \n",
       "             1              3            364              7              7 \n",
       "         H-2Kb       HLA-A*01      HLA-A*011    HLA-A*01:01       HLA-A*02 \n",
       "             1              2             15             52            391 \n",
       "   HLA-A*02:01    HLA-A*02:02    HLA-A*02:03    HLA-A*02:04    HLA-A*02:05 \n",
       "          1284              1              1              1              1 \n",
       "   HLA-A*02:06    HLA-A*02:07    HLA-A*02:08    HLA-A*02:09    HLA-A*02:10 \n",
       "             1              1              1              1              1 \n",
       "   HLA-A*02:11    HLA-A*02:12    HLA-A*02:13    HLA-A*02:14    HLA-A*02:15 \n",
       "             1              1              2              2              2 \n",
       "   HLA-A*02:16    HLA-A*02:17    HLA-A*11:01    HLA-A*24:02     HLA-A*2:01 \n",
       "             1              1             15            203              7 \n",
       "        HLA-A1         HLA-A2      HLA-A2:01    HLA-B*07:02       HLA-B*08 \n",
       "           297           2756            191            466             46 \n",
       "   HLA-B*08:01       HLA-B*15       HLA-B*27    HLA-B*27:05    HLA-B*35:01 \n",
       "           208              5             15             93             52 \n",
       "   HLA-B*35:02       HLA-B*42    HLA-B*42:01    HLA-B*44:05       HLA-B*57 \n",
       "             2              1            292              2             26 \n",
       "   HLA-B*57:01    HLA-B*57:03        HLA-B*8         HLA-B7    HLA-C*07:02 \n",
       "            61             74              3           2174            701 \n",
       " HLA-Cw* 16:01 HLA-DPB1*02:01        HLA-DQ2      HLA-DQ2.5        HLA-DQ8 \n",
       "             4             14            134              7              7 \n",
       "       HLA-DR1       HLA-DR11       HLA-DR15        HLA-DR5       HLA-DRB1 \n",
       "            32             80            115             82             14 \n",
       "HLA-DRB1*04:01 \n",
       "            13 "
      ]
     },
     "metadata": {},
     "output_type": "display_data"
    }
   ],
   "source": [
    "dat <- dat[!is.na(dat$MHC) & dat$MHC != '-' & !grepl('[/]', dat$MHC),]\n",
    "table(dat$MHC)"
   ]
  },
  {
   "cell_type": "code",
   "execution_count": 24,
   "id": "59b717d0",
   "metadata": {},
   "outputs": [],
   "source": [
    "dat$MHC <- gsub('HLA[-]', '', dat$MHC)\n",
    "dat$MHC <- paste0('HLA-', dat$MHC)"
   ]
  },
  {
   "cell_type": "code",
   "execution_count": 25,
   "id": "f61a9815",
   "metadata": {},
   "outputs": [
    {
     "data": {
      "text/plain": [
       "\n",
       "      HLA-A*01      HLA-A*011    HLA-A*01:01       HLA-A*02    HLA-A*02:01 \n",
       "             2             15             52            391           1284 \n",
       "   HLA-A*02:02    HLA-A*02:03    HLA-A*02:04    HLA-A*02:05    HLA-A*02:06 \n",
       "             1              1              1              1              1 \n",
       "   HLA-A*02:07    HLA-A*02:08    HLA-A*02:09    HLA-A*02:10    HLA-A*02:11 \n",
       "             1              1              1              1              1 \n",
       "   HLA-A*02:12    HLA-A*02:13    HLA-A*02:14    HLA-A*02:15    HLA-A*02:16 \n",
       "             1              2              2              2              1 \n",
       "   HLA-A*02:17    HLA-A*11:01    HLA-A*24:02     HLA-A*2:01         HLA-A1 \n",
       "             1             15            203              7            297 \n",
       "        HLA-A2      HLA-A2:01    HLA-B*07:02       HLA-B*08    HLA-B*08:01 \n",
       "          2756            191            466             46            208 \n",
       "      HLA-B*15       HLA-B*27    HLA-B*27:05    HLA-B*35:01    HLA-B*35:02 \n",
       "             5             15             93             52              2 \n",
       "      HLA-B*42    HLA-B*42:01    HLA-B*44:05       HLA-B*57    HLA-B*57:01 \n",
       "             1            292              2             26             61 \n",
       "   HLA-B*57:03        HLA-B*8         HLA-B7    HLA-C*07:02  HLA-Cw* 16:01 \n",
       "            74              3           2174            701              4 \n",
       "HLA-DPB1*02:01        HLA-DQ2      HLA-DQ2.5        HLA-DQ8  HLA-DQ8-trans \n",
       "            14            134              7              7              1 \n",
       "       HLA-DR1       HLA-DR11       HLA-DR15  HLA-DR3*02:02        HLA-DR5 \n",
       "            32             80            115              3             82 \n",
       "      HLA-DRB1 HLA-DRB1*04-01 HLA-DRB1*04:01 HLA-DRB1*15:03      HLA-H-2Kb \n",
       "            14            364             20              7              1 "
      ]
     },
     "metadata": {},
     "output_type": "display_data"
    }
   ],
   "source": [
    "table(dat$MHC)"
   ]
  },
  {
   "cell_type": "code",
   "execution_count": 32,
   "id": "beedc7ba",
   "metadata": {},
   "outputs": [
    {
     "data": {
      "text/html": [
       "<style>\n",
       ".list-inline {list-style: none; margin:0; padding: 0}\n",
       ".list-inline>li {display: inline-block}\n",
       ".list-inline>li:not(:last-child)::after {content: \"\\00b7\"; padding: 0 .5ex}\n",
       "</style>\n",
       "<ol class=list-inline><li>10335</li><li>3</li></ol>\n"
      ],
      "text/latex": [
       "\\begin{enumerate*}\n",
       "\\item 10335\n",
       "\\item 3\n",
       "\\end{enumerate*}\n"
      ],
      "text/markdown": [
       "1. 10335\n",
       "2. 3\n",
       "\n",
       "\n"
      ],
      "text/plain": [
       "[1] 10335     3"
      ]
     },
     "metadata": {},
     "output_type": "display_data"
    }
   ],
   "source": [
    "dat <- unique(dat[, c('CDR3.beta.aa', 'MHC', 'Epitope.peptide')])\n",
    "dim(dat)"
   ]
  },
  {
   "cell_type": "code",
   "execution_count": 33,
   "id": "fdc838c0",
   "metadata": {},
   "outputs": [],
   "source": [
    "write.table(dat, 'McPAS-analyzed.csv', quote = F, append = F, row.names = F, sep = ',')"
   ]
  },
  {
   "cell_type": "code",
   "execution_count": null,
   "id": "5df32864",
   "metadata": {},
   "outputs": [],
   "source": []
  }
 ],
 "metadata": {
  "kernelspec": {
   "display_name": "R",
   "language": "R",
   "name": "ir"
  },
  "language_info": {
   "codemirror_mode": "r",
   "file_extension": ".r",
   "mimetype": "text/x-r-source",
   "name": "R",
   "pygments_lexer": "r",
   "version": "4.2.0"
  }
 },
 "nbformat": 4,
 "nbformat_minor": 5
}
